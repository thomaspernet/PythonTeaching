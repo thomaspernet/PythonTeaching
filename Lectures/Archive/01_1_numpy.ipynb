{
  "cells": [
    {
      "cell_type": "markdown",
      "source": [
        "# What is numpy?\n",
        "\n",
        "\n",
        "Numpy is an open source library available in Python that aids in\n",
        "mathematical, scientific, engineering, and data science programming.\n",
        "Numpy is an incredible library to perform mathematical and statistical\n",
        "operations. It works perfectly well for multi-dimensional arrays and\n",
        "matrices multiplication\n",
        "\n",
        "For any scientific project, numpy is the tool to know. It has been built\n",
        "to work with the N-dimensional array, linear algebra, random number,\n",
        "Fourier transform, etc. It can be integrated to C/C++ and Fortran.\n",
        "\n",
        "Numpy is a programming language that deals with multi-dimensional arrays\n",
        "and matrices. On top of the arrays and matrices, Numpy supports a large\n",
        "number of mathematical operations. In this part, we will review the\n",
        "essential functions that you need to know for most of the data project.\n",
        "\n",
        "## Why use numpy?\n",
        "\n",
        "\n",
        "Numpy is memory efficiency, meaning it can handle the vast amount of\n",
        "data more accessible than any other library. Besides, numpy is very\n",
        "convenient to work with, especially for matrix multiplication and\n",
        "reshaping. On top of that, numpy is fast. In fact, TensorFlow and Scikit\n",
        "learn to use numpy array to compute the matrix multiplication in the\n",
        "back end."
      ],
      "metadata": {
        "Collapsed": "false"
      }
    },
    {
      "cell_type": "markdown",
      "source": [
        "### Import Numpy and Check Version\n",
        "\n",
        "The command to import numpy is"
      ],
      "metadata": {
        "Collapsed": "false"
      }
    },
    {
      "cell_type": "code",
      "source": [
        "import numpy as np"
      ],
      "outputs": [],
      "execution_count": null,
      "metadata": {
        "Collapsed": "false"
      }
    },
    {
      "cell_type": "markdown",
      "source": [
        "Above code renames the Numpy namespace to `np`. This permits us to prefix Numpy function, methods, and attributes with `np` instead of typing `numpy`. It is the standard shortcut you will find in the numpy literature\n",
        "\n",
        "To check your installed version of Numpy use the command"
      ],
      "metadata": {
        "Collapsed": "false"
      }
    },
    {
      "cell_type": "code",
      "source": [
        "print(np.__version__)"
      ],
      "outputs": [],
      "execution_count": null,
      "metadata": {
        "Collapsed": "false"
      }
    },
    {
      "cell_type": "markdown",
      "source": [
        "### Create a Numpy Array\n",
        "\n",
        "Simplest way to create an array in Numpy is to use Python List"
      ],
      "metadata": {
        "Collapsed": "false"
      }
    },
    {
      "cell_type": "code",
      "source": [
        "myPythonList = [1,9,8,3]\n",
        "myPythonList"
      ],
      "outputs": [],
      "execution_count": null,
      "metadata": {
        "Collapsed": "false"
      }
    },
    {
      "cell_type": "markdown",
      "source": [
        "To convert python list to a numpy array by using the object `np.array`."
      ],
      "metadata": {
        "Collapsed": "false"
      }
    },
    {
      "cell_type": "code",
      "source": [
        "numpy_array_from_list = np.array(myPythonList)"
      ],
      "outputs": [],
      "execution_count": null,
      "metadata": {
        "Collapsed": "false"
      }
    },
    {
      "cell_type": "markdown",
      "source": [
        "To display the contents of the list"
      ],
      "metadata": {
        "Collapsed": "false"
      }
    },
    {
      "cell_type": "code",
      "source": [
        "numpy_array_from_list"
      ],
      "outputs": [],
      "execution_count": null,
      "metadata": {
        "Collapsed": "false"
      }
    },
    {
      "cell_type": "markdown",
      "source": [
        "In practice, there is no need to declare a Python List. The operation\n",
        "can be combined."
      ],
      "metadata": {
        "Collapsed": "false"
      }
    },
    {
      "cell_type": "code",
      "source": [
        "a = np.array([1,9,8,3])\n",
        "a"
      ],
      "outputs": [],
      "execution_count": null,
      "metadata": {
        "Collapsed": "false"
      }
    },
    {
      "cell_type": "markdown",
      "source": [
        "**NOTE**: Numpy documentation states use of `np.ndarray` to create\n",
        "an array. However, this the recommended method\n",
        "\n",
        "You can also create a numpy array from a Tuple\n",
        "\n",
        "## Mathematical Operations on an Array\n",
        "\n",
        "You could perform mathematical operations like additions, subtraction,\n",
        "division and multiplication on an array. The syntax is the array name\n",
        "followed by the operation (+.-,*,/) followed by the operand\n",
        "\n",
        "Example:"
      ],
      "metadata": {
        "Collapsed": "false"
      }
    },
    {
      "cell_type": "code",
      "source": [
        "numpy_array_from_list + 10"
      ],
      "outputs": [],
      "execution_count": null,
      "metadata": {
        "Collapsed": "false"
      }
    },
    {
      "cell_type": "code",
      "source": [
        "numpy_array_from_list * 10"
      ],
      "outputs": [],
      "execution_count": null,
      "metadata": {
        "Collapsed": "false"
      }
    },
    {
      "cell_type": "code",
      "source": [
        "scalar = 15"
      ],
      "outputs": [],
      "execution_count": null,
      "metadata": {
        "Collapsed": "false"
      }
    },
    {
      "cell_type": "code",
      "source": [
        "for i in range(0, 2):\n",
        "    if i == 0:\n",
        "        print(numpy_array_from_list * scalar)\n",
        "    else:\n",
        "        print(numpy_array_from_list + scalar)"
      ],
      "outputs": [],
      "execution_count": null,
      "metadata": {
        "Collapsed": "false"
      }
    },
    {
      "cell_type": "code",
      "source": [
        "for i in range(0, 1):\n",
        "    if i == 0:\n",
        "        print(numpy_array_from_list * scalar)\n",
        "    print(numpy_array_from_list + scalar)"
      ],
      "outputs": [],
      "execution_count": null,
      "metadata": {
        "Collapsed": "false"
      }
    },
    {
      "cell_type": "markdown",
      "source": [
        "This operation adds 10 to each element of the numpy array.\n",
        "\n",
        "## Shape of Array\n",
        "\n",
        "\n",
        "You can check the shape of the array with the object `shape` preceded by\n",
        "the name of the array. In the same way, you can check the type with\n",
        "`dtypes`."
      ],
      "metadata": {
        "Collapsed": "false"
      }
    },
    {
      "cell_type": "code",
      "source": [
        "a  = np.array([1,2,3])\n"
      ],
      "outputs": [],
      "execution_count": null,
      "metadata": {
        "Collapsed": "false"
      }
    },
    {
      "cell_type": "code",
      "source": [
        "print(a.shape)"
      ],
      "outputs": [],
      "execution_count": null,
      "metadata": {
        "Collapsed": "false"
      }
    },
    {
      "cell_type": "code",
      "source": [
        "a.shape[0]"
      ],
      "outputs": [],
      "execution_count": null,
      "metadata": {
        "Collapsed": "false"
      }
    },
    {
      "cell_type": "code",
      "source": [
        "a.size"
      ],
      "outputs": [],
      "execution_count": null,
      "metadata": {
        "Collapsed": "false"
      }
    },
    {
      "cell_type": "code",
      "source": [
        "len(a)"
      ],
      "outputs": [],
      "execution_count": null,
      "metadata": {
        "Collapsed": "false"
      }
    },
    {
      "cell_type": "code",
      "source": [
        "print(a.dtype)"
      ],
      "outputs": [],
      "execution_count": null,
      "metadata": {
        "Collapsed": "false"
      }
    },
    {
      "cell_type": "code",
      "source": [
        "np.array([\"a\", \"b\", 1]).dtype"
      ],
      "outputs": [],
      "execution_count": null,
      "metadata": {
        "Collapsed": "false"
      }
    },
    {
      "cell_type": "markdown",
      "source": [
        "An integer is a value without decimal. If you create an array with\n",
        "decimal, then the type will change to float."
      ],
      "metadata": {
        "Collapsed": "false"
      }
    },
    {
      "cell_type": "code",
      "source": [
        "#### Different type\n",
        "b  = np.array([1.1,2.0,3.2])\n",
        "print(b.dtype)"
      ],
      "outputs": [],
      "execution_count": null,
      "metadata": {
        "Collapsed": "false"
      }
    },
    {
      "cell_type": "markdown",
      "source": [
        "### 2 Dimension Array\n",
        "\n",
        "You can add a dimension with a ',' coma\n",
        "\n",
        "Note that it has to be within the bracket `[]`"
      ],
      "metadata": {
        "Collapsed": "false"
      }
    },
    {
      "cell_type": "code",
      "source": [
        "# 2 dimension\n",
        "c = np.array([\n",
        "    (1, 2, 3),\n",
        "    (4, 5, 6)\n",
        "]\n",
        ")\n",
        "c"
      ],
      "outputs": [],
      "execution_count": null,
      "metadata": {
        "Collapsed": "false"
      }
    },
    {
      "cell_type": "code",
      "source": [
        "print(c.shape)"
      ],
      "outputs": [],
      "execution_count": null,
      "metadata": {
        "Collapsed": "false"
      }
    },
    {
      "cell_type": "markdown",
      "source": [
        "### 3 Dimension Array\n",
        "\n",
        "Higher dimension can be constructed as follow:"
      ],
      "metadata": {
        "Collapsed": "false"
      }
    },
    {
      "cell_type": "code",
      "source": [
        "# 3 dimension\n",
        "d = np.array([\n",
        "    \n",
        "    [\n",
        "        [1, 2, 3],\n",
        "        [4, 5, 6]\n",
        "    ],\n",
        "    \n",
        "    [\n",
        "        [7, 8, 9],\n",
        "        [10, 11, 12]\n",
        "    ]\n",
        "\n",
        "])\n",
        "print(d.shape)\n"
      ],
      "outputs": [],
      "execution_count": null,
      "metadata": {
        "Collapsed": "false"
      }
    },
    {
      "cell_type": "code",
      "source": [
        "d"
      ],
      "outputs": [],
      "execution_count": null,
      "metadata": {
        "Collapsed": "false"
      }
    },
    {
      "cell_type": "markdown",
      "source": [
        "### np.zeros and np.ones\n",
        "\n",
        "\n",
        "You can create matrix full of zeroes or ones. It can be used when you\n",
        "initialized the weights during the first iteration in TensorFlow.\n",
        "\n",
        "The syntax is\n",
        "\n",
        "```\n",
        "np.zeros(shape, dtype=float, order='C')\n",
        "np.ones(shape,dtype=float, order='C')\n",
        "```\n"
      ],
      "metadata": {
        "Collapsed": "false"
      }
    },
    {
      "cell_type": "markdown",
      "source": [
        "Here,\n",
        "\n",
        "**Shape**: is the shape of the array\n",
        "\n",
        "**Dtype***: is the datatype. It is optional. The default value is\n",
        "float64*\n",
        "\n",
        "**Order**: Default is C which is an essential row style.\n",
        "\n",
        "Example:"
      ],
      "metadata": {
        "Collapsed": "false"
      }
    },
    {
      "cell_type": "code",
      "source": [
        "np.zeros((2,2))"
      ],
      "outputs": [],
      "execution_count": null,
      "metadata": {
        "Collapsed": "false"
      }
    },
    {
      "cell_type": "code",
      "source": [
        "np.zeros(shape=[2,2])"
      ],
      "outputs": [],
      "execution_count": null,
      "metadata": {
        "Collapsed": "false"
      }
    },
    {
      "cell_type": "code",
      "source": [
        "np.zeros(shape=[3,3]) + 1"
      ],
      "outputs": [],
      "execution_count": null,
      "metadata": {
        "Collapsed": "false"
      }
    },
    {
      "cell_type": "code",
      "source": [
        "## Create 1\n",
        "np.ones((1,2,3), dtype=np.int16)"
      ],
      "outputs": [],
      "execution_count": null,
      "metadata": {
        "Collapsed": "false"
      }
    },
    {
      "cell_type": "code",
      "source": [
        "np.ones([1000, 1000]) * 50"
      ],
      "outputs": [],
      "execution_count": null,
      "metadata": {
        "Collapsed": "false"
      }
    },
    {
      "cell_type": "code",
      "source": [
        "np.ones([10,10]) * [0, 1, 2, 3, 4, 5, 6, 7, 8, 9]"
      ],
      "outputs": [],
      "execution_count": null,
      "metadata": {
        "Collapsed": "false"
      }
    },
    {
      "cell_type": "code",
      "source": [
        "np.ones([10,10]) * range(0, 10)"
      ],
      "outputs": [],
      "execution_count": null,
      "metadata": {
        "Collapsed": "false"
      }
    },
    {
      "cell_type": "markdown",
      "source": [
        "### Reshape and Flatten Data\n",
        "\n",
        "\n",
        "In some occasion, you need to reshape the data from wide to long."
      ],
      "metadata": {
        "Collapsed": "false"
      }
    },
    {
      "cell_type": "code",
      "source": [
        "e  = np.array([(1,2,3), (4,5,6)])\n",
        "e"
      ],
      "outputs": [],
      "execution_count": null,
      "metadata": {
        "Collapsed": "false"
      }
    },
    {
      "cell_type": "code",
      "source": [
        "e.T"
      ],
      "outputs": [],
      "execution_count": null,
      "metadata": {
        "Collapsed": "false"
      }
    },
    {
      "cell_type": "code",
      "source": [
        "np.ones([10,10]).T"
      ],
      "outputs": [],
      "execution_count": null,
      "metadata": {
        "Collapsed": "false"
      }
    },
    {
      "cell_type": "code",
      "source": [
        "e.reshape(3,2).shape"
      ],
      "outputs": [],
      "execution_count": null,
      "metadata": {
        "Collapsed": "false"
      }
    },
    {
      "cell_type": "markdown",
      "source": [
        "When you deal with some neural network like convnet, you need to flatten\n",
        "the array. You can use `flatten()`"
      ],
      "metadata": {
        "Collapsed": "false"
      }
    },
    {
      "cell_type": "code",
      "source": [
        "e.flatten()"
      ],
      "outputs": [],
      "execution_count": null,
      "metadata": {
        "Collapsed": "false"
      }
    },
    {
      "cell_type": "markdown",
      "source": [
        "### hstack and vstack\n",
        "\n",
        "\n",
        "Numpy library has also two convenient function to horizontally or\n",
        "vertically append the data. Lets study them with an example:"
      ],
      "metadata": {
        "Collapsed": "false"
      }
    },
    {
      "cell_type": "code",
      "source": [
        "## Stack\n",
        "f = np.array([1,2,3])\n",
        "g = np.array([4,5,6])\n",
        "\n",
        "\n",
        "f"
      ],
      "outputs": [],
      "execution_count": null,
      "metadata": {
        "Collapsed": "false"
      }
    },
    {
      "cell_type": "code",
      "source": [
        "g"
      ],
      "outputs": [],
      "execution_count": null,
      "metadata": {
        "Collapsed": "false"
      }
    },
    {
      "cell_type": "code",
      "source": [
        "print(\"f={}\\ng={}\".format(f,g ))"
      ],
      "outputs": [],
      "execution_count": null,
      "metadata": {
        "Collapsed": "false"
      }
    },
    {
      "cell_type": "code",
      "source": [
        "print('Horizontal Append:', np.hstack([f, g]))"
      ],
      "outputs": [],
      "execution_count": null,
      "metadata": {
        "Collapsed": "false"
      }
    },
    {
      "cell_type": "code",
      "source": [
        "np.hstack([f, g])"
      ],
      "outputs": [],
      "execution_count": null,
      "metadata": {
        "Collapsed": "false"
      }
    },
    {
      "cell_type": "code",
      "source": [
        "print('Vertical Append:', np.vstack((f, g)))"
      ],
      "outputs": [],
      "execution_count": null,
      "metadata": {
        "Collapsed": "false"
      }
    },
    {
      "cell_type": "code",
      "source": [
        "np.hstack([a, [[8.],[9.]]])"
      ],
      "outputs": [],
      "execution_count": null,
      "metadata": {
        "Collapsed": "false"
      }
    },
    {
      "cell_type": "code",
      "source": [
        "a = np.array([[1., 2.], [3., 4.]])\n",
        "np.linalg.inv(a)"
      ],
      "outputs": [],
      "execution_count": null,
      "metadata": {
        "Collapsed": "false"
      }
    },
    {
      "cell_type": "markdown",
      "source": [
        "### Generate Random Numbers\n",
        "\n",
        "\n",
        "To generate random numbers for Gaussian distribution use\n",
        "\n",
        "numpy .random.normal(loc, scale, size)\n",
        "\n",
        "Here\n",
        "\n",
        "-   Loc: the `mea``n. The center of distribution`\n",
        "\n",
        "-   `scale: ``standard deviation`.\n",
        "\n",
        "-   Size: number of returns"
      ],
      "metadata": {
        "Collapsed": "false"
      }
    },
    {
      "cell_type": "code",
      "source": [
        "## Generate random nmber from normal distribution\n",
        "normal_array = np.random.normal(5, 0.5, 10)\n",
        "normal_array"
      ],
      "outputs": [],
      "execution_count": null,
      "metadata": {
        "Collapsed": "false"
      }
    },
    {
      "cell_type": "markdown",
      "source": [
        "### Asarray\n",
        "\n",
        "Consider the following 2-D matrix with four rows and four columns filled\n",
        "by 1"
      ],
      "metadata": {
        "Collapsed": "false"
      }
    },
    {
      "cell_type": "code",
      "source": [
        "A = np.ones([1000, 1000]) * np.random.normal(5, 0.5, 1000)\n",
        "A.shape"
      ],
      "outputs": [],
      "execution_count": null,
      "metadata": {
        "Collapsed": "false"
      }
    },
    {
      "cell_type": "markdown",
      "source": [
        "If you want to change the value of the matrix, you cannot. The reason\n",
        "is, it is not possible to change a copy."
      ],
      "metadata": {
        "Collapsed": "false"
      }
    },
    {
      "cell_type": "code",
      "source": [
        "np.array(A)[2]=2\n",
        "print(A)"
      ],
      "outputs": [],
      "execution_count": null,
      "metadata": {
        "Collapsed": "false"
      }
    },
    {
      "cell_type": "markdown",
      "source": [
        "`Matrix is immutable`. You can use `asarray` if you want to add\n",
        "modification in the original array. let’s see if any change occurs when\n",
        "you want to change the value of the third rows with the value 2"
      ],
      "metadata": {
        "Collapsed": "false"
      }
    },
    {
      "cell_type": "code",
      "source": [
        "np.asarray(A)[2]=2\n",
        "print(A)"
      ],
      "outputs": [],
      "execution_count": null,
      "metadata": {
        "Collapsed": "false"
      }
    },
    {
      "cell_type": "markdown",
      "source": [
        "Code Explanation: \n",
        "`np.asarray(A)`: converts the matrix A to an array\n",
        "\n",
        "`[2]`: select the third rows\n",
        "\n",
        "### Arrange\n",
        "\n",
        "\n",
        "In some occasion, you want to create value evenly spaced within a given\n",
        "interval. For instance, you want to create values from 1 to 10; you can\n",
        "use `arrange`\n",
        "\n",
        "Syntax:\n",
        "\n",
        "numpy.arange(start, stop,step)\n",
        "\n",
        "-   Start: Start of interval\n",
        "\n",
        "-   Stop: End of interval\n",
        "\n",
        "-   Step: Spacing between values. Default step is 1\n",
        "\n",
        "Example:"
      ],
      "metadata": {
        "Collapsed": "false"
      }
    },
    {
      "cell_type": "code",
      "source": [
        "np.arange(1, 11)"
      ],
      "outputs": [],
      "execution_count": null,
      "metadata": {
        "Collapsed": "false"
      }
    },
    {
      "cell_type": "markdown",
      "source": [
        "If you want to change the step, you can add a third number in the\n",
        "parenthesis. It will change the step."
      ],
      "metadata": {
        "Collapsed": "false"
      }
    },
    {
      "cell_type": "code",
      "source": [
        "np.arange(1, 14, .5)"
      ],
      "outputs": [],
      "execution_count": null,
      "metadata": {
        "Collapsed": "false"
      }
    },
    {
      "cell_type": "markdown",
      "source": [
        "### Linspace\n",
        "\n",
        "\n",
        "Linspace gives evenly spaced samples.\n",
        "\n",
        "Syntax: numpy.linspace(start, stop, num, endpoint)\n",
        "\n",
        "Here,\n",
        "\n",
        "-   Start: Starting value of the sequence\n",
        "\n",
        "-   Stop: End value of the sequence\n",
        "\n",
        "-   Num: Number of samples to generate. Default is 50\n",
        "\n",
        "-   Endpoint: If True (default), stop is the last value. If False, stop\n",
        "    value is not included.\n",
        "\n",
        "For instance, it can be used to create 10 values from 1 to 5 evenly\n",
        "spaced."
      ],
      "metadata": {
        "Collapsed": "false"
      }
    },
    {
      "cell_type": "code",
      "source": [
        "np.linspace(1.0, 5.0, num=10)"
      ],
      "outputs": [],
      "execution_count": null,
      "metadata": {
        "Collapsed": "false"
      }
    },
    {
      "cell_type": "markdown",
      "source": [
        "If you do not want to include the last digit in the interval, you can\n",
        "set `endpoint` to false"
      ],
      "metadata": {
        "Collapsed": "false"
      }
    },
    {
      "cell_type": "code",
      "source": [
        "np.linspace(1.0, 5.0, num=5, endpoint=False)"
      ],
      "outputs": [],
      "execution_count": null,
      "metadata": {
        "Collapsed": "false"
      }
    },
    {
      "cell_type": "markdown",
      "source": [
        "### LogSpace\n",
        "\n",
        "LogSpace returns even spaced numbers on a log scale. Logspace has the\n",
        "same parameters as np.linspace."
      ],
      "metadata": {
        "Collapsed": "false"
      }
    },
    {
      "cell_type": "code",
      "source": [
        "np.logspace(3.0, 4.0, num=4)"
      ],
      "outputs": [],
      "execution_count": null,
      "metadata": {
        "Collapsed": "false"
      }
    },
    {
      "cell_type": "markdown",
      "source": [
        "Finaly, if you want to check the size of an array, you can use\n",
        "`itemsize`"
      ],
      "metadata": {
        "Collapsed": "false"
      }
    },
    {
      "cell_type": "code",
      "source": [
        "x = np.array([1,2,3], dtype=np.complex128)\n",
        "x.itemsize"
      ],
      "outputs": [],
      "execution_count": null,
      "metadata": {
        "Collapsed": "false"
      }
    },
    {
      "cell_type": "markdown",
      "source": [
        "The `x` element has 16 bytes.\n",
        "\n",
        "### Indexing and slicing\n",
        "\n",
        "Slicing data is trivial with numpy. We will slice the matrice\n",
        "`e``. ``Note that, in Python, you need to use the brackets to return the rows or columns`"
      ],
      "metadata": {
        "Collapsed": "false"
      }
    },
    {
      "cell_type": "code",
      "source": [
        "## Slice\n",
        "e  = np.array([(1,2,3), (4,5,6)])\n",
        "e.shape"
      ],
      "outputs": [],
      "execution_count": null,
      "metadata": {
        "Collapsed": "false"
      }
    },
    {
      "cell_type": "code",
      "source": [
        "e"
      ],
      "outputs": [],
      "execution_count": null,
      "metadata": {
        "Collapsed": "false"
      }
    },
    {
      "cell_type": "markdown",
      "source": [
        "Remember with numpy the first array/column starts at 0."
      ],
      "metadata": {
        "Collapsed": "false"
      }
    },
    {
      "cell_type": "code",
      "source": [
        "## First column\n",
        "print('First row:', e[0])"
      ],
      "outputs": [],
      "execution_count": null,
      "metadata": {
        "Collapsed": "false"
      }
    },
    {
      "cell_type": "code",
      "source": [
        "## Second col\n",
        "print('Second row:', e[1])"
      ],
      "outputs": [],
      "execution_count": null,
      "metadata": {
        "Collapsed": "false"
      }
    },
    {
      "cell_type": "markdown",
      "source": [
        "In Python, like many other languages,\n",
        "\n",
        "-   The values before the comma stand for the rows\n",
        "\n",
        "-   The value on the rights stands for the columns.\n",
        "\n",
        "-   If you want to select a column, you need to add `:` before the\n",
        "    column index.\n",
        "\n",
        "-   `:` means you want all the rows from the selected column."
      ],
      "metadata": {
        "Collapsed": "false"
      }
    },
    {
      "cell_type": "code",
      "source": [
        "print('Second column:', e[:,1])"
      ],
      "outputs": [],
      "execution_count": null,
      "metadata": {
        "Collapsed": "false"
      }
    },
    {
      "cell_type": "markdown",
      "source": [
        "To return the first two values of the second row. You use : to select\n",
        "all columns up to the second"
      ],
      "metadata": {
        "Collapsed": "false"
      }
    },
    {
      "cell_type": "code",
      "source": [
        "## \n",
        "print(e[1, :2])"
      ],
      "outputs": [],
      "execution_count": null,
      "metadata": {
        "Collapsed": "false"
      }
    },
    {
      "cell_type": "markdown",
      "source": [
        "### Statistical function\n",
        "\n",
        "Numpy is equipped with the robust statistical function as listed below\n",
        "\n",
        "| Function           | Numpy       |\n",
        "|--------------------|-------------|\n",
        "| Min                | np.min()    |\n",
        "| Max                | np.max()    |\n",
        "| Mean               | np.mean()   |\n",
        "| Median             | np.median() |\n",
        "| Standard deviation | np.stdt()   |"
      ],
      "metadata": {
        "Collapsed": "false"
      }
    },
    {
      "cell_type": "code",
      "source": [
        "## Statistical function\n",
        "### Min \n",
        "print(np.min(normal_array))\n",
        "\n",
        "### Max \n",
        "print(np.max(normal_array))\n",
        "### Mean \n",
        "print(np.mean(normal_array))\n",
        "### Median\n",
        "print(np.median(normal_array))\n",
        "### Sd\n",
        "print(np.std(normal_array))"
      ],
      "outputs": [],
      "execution_count": null,
      "metadata": {
        "Collapsed": "false"
      }
    },
    {
      "cell_type": "markdown",
      "source": [
        "### Dot Product\n",
        "\n",
        "Numpy is powerful library for matrices computation. For instance, you\n",
        "can compute the dot product with `np.dot`"
      ],
      "metadata": {
        "Collapsed": "false"
      }
    },
    {
      "cell_type": "code",
      "source": [
        "## Linear algebra\n",
        "### Dot product: product of two arrays\n",
        "f = np.array([1,2])\n",
        "g = np.array([4,5])\n",
        "### 1*4+2*5\n",
        "np.dot(f, g)"
      ],
      "outputs": [],
      "execution_count": null,
      "metadata": {
        "Collapsed": "false"
      }
    },
    {
      "cell_type": "markdown",
      "source": [
        "### Matrix Multiplication\n",
        "\n",
        "In the same way, you can compute matrices multiplication with\n",
        "`np.matmul`"
      ],
      "metadata": {
        "Collapsed": "false"
      }
    },
    {
      "cell_type": "code",
      "source": [
        "### Matmul: matruc product of two arrays\n",
        "h = [[1,2],[3,4]] \n",
        "i = [[5,6],[7,8]] \n",
        "### 1*5+2*7 = 19\n",
        "np.matmul(h, i)"
      ],
      "outputs": [],
      "execution_count": null,
      "metadata": {
        "Collapsed": "false"
      }
    },
    {
      "cell_type": "markdown",
      "source": [
        "### Determinant\n",
        "\n",
        "Last but not least, if you need to compute the determinant, you can use\n",
        "`np.linalg.det()`. Note that numpy takes care of the dimension."
      ],
      "metadata": {
        "Collapsed": "false"
      }
    },
    {
      "cell_type": "code",
      "source": [
        "## Determinant 2*2 matrix\n",
        "### 5*8-7*6\n",
        "np.linalg.det(i)"
      ],
      "outputs": [],
      "execution_count": null,
      "metadata": {
        "Collapsed": "false"
      }
    },
    {
      "cell_type": "markdown",
      "source": [
        "## Summary\n",
        "\n",
        "\n",
        "Below, a summary of the essential functions used with numpy\n",
        "\n",
        "| Objective             | Code             |\n",
        "|-----------------------|------------------|\n",
        "| Create array          | array([1,2,3])   |\n",
        "| print the shape       | array([.]).shape |\n",
        "| reshape               | reshape          |\n",
        "| flat an array         | flatten          |\n",
        "| append vertically     | vstack           |\n",
        "| append horizontally   | hstack           |\n",
        "| create a matrix       | matrix           |\n",
        "| create space          | arrange          |\n",
        "| Create a linear space | linspace         |\n",
        "| Create a log space    | logspace         |\n",
        "\n",
        "\n",
        "Below is a summary of basic statistical and arithmetical function\n",
        "\n",
        "| Objective          | Code     |\n",
        "|--------------------|----------|\n",
        "| min                | min()    |\n",
        "| max                | max()    |\n",
        "| mean               | mean()   |\n",
        "| median             | median() |\n",
        "| standard deviation | std()    |\n",
        "\n",
        "Code:\n",
        "\n",
        "import numpy as np\n",
        "\n",
        "\n",
        "\n",
        "##Create array\n",
        "\n",
        "### list"
      ],
      "metadata": {
        "Collapsed": "false"
      }
    },
    {
      "cell_type": "code",
      "source": [
        "myPythonList = [1,9,8,3]\n",
        "\n",
        "numpy_array_from_list = np.array(myPythonList)"
      ],
      "outputs": [],
      "execution_count": null,
      "metadata": {
        "Collapsed": "false"
      }
    },
    {
      "cell_type": "markdown",
      "source": [
        "### Directly in numpy"
      ],
      "metadata": {
        "Collapsed": "false"
      }
    },
    {
      "cell_type": "code",
      "source": [
        "np.array([1,9,8,3])"
      ],
      "outputs": [],
      "execution_count": null,
      "metadata": {
        "Collapsed": "false"
      }
    },
    {
      "cell_type": "markdown",
      "source": [
        "### Shape"
      ],
      "metadata": {
        "Collapsed": "false"
      }
    },
    {
      "cell_type": "code",
      "source": [
        "a = np.array([1,2,3])\n",
        "print(a.shape)"
      ],
      "outputs": [],
      "execution_count": null,
      "metadata": {
        "Collapsed": "false"
      }
    },
    {
      "cell_type": "markdown",
      "source": [
        "### Type"
      ],
      "metadata": {
        "Collapsed": "false"
      }
    },
    {
      "cell_type": "code",
      "source": [
        "print(a.dtype)"
      ],
      "outputs": [],
      "execution_count": null,
      "metadata": {
        "Collapsed": "false"
      }
    },
    {
      "cell_type": "markdown",
      "source": [
        "### 2D array"
      ],
      "metadata": {
        "Collapsed": "false"
      }
    },
    {
      "cell_type": "code",
      "source": [
        "c = np.array([(1,2,3), (4,5,6)])"
      ],
      "outputs": [],
      "execution_count": null,
      "metadata": {
        "Collapsed": "false"
      }
    },
    {
      "cell_type": "markdown",
      "source": [
        "### 3D array"
      ],
      "metadata": {
        "Collapsed": "false"
      }
    },
    {
      "cell_type": "code",
      "source": [
        "d = np.array([ \n",
        "[[1, 2,3],\n",
        "[4, 5, 6]],\n",
        "[[7, 8,9],\n",
        "[10, 11, 12]]\n",
        "])\n",
        "\n"
      ],
      "outputs": [],
      "execution_count": null,
      "metadata": {
        "Collapsed": "false"
      }
    },
    {
      "cell_type": "markdown",
      "source": [
        "### Reshape"
      ],
      "metadata": {
        "Collapsed": "false"
      }
    },
    {
      "cell_type": "code",
      "source": [
        "e = np.array([(1,2,3), (4,5,6)])\n",
        "\n",
        "print(e)\n",
        "\n",
        "e.reshape(3,2)\n",
        "\n"
      ],
      "outputs": [],
      "execution_count": null,
      "metadata": {
        "Collapsed": "false"
      }
    },
    {
      "cell_type": "markdown",
      "source": [
        "### Flatten"
      ],
      "metadata": {
        "Collapsed": "false"
      }
    },
    {
      "cell_type": "code",
      "source": [
        "e.flatten()\n",
        "\n"
      ],
      "outputs": [],
      "execution_count": null,
      "metadata": {
        "Collapsed": "false"
      }
    },
    {
      "cell_type": "markdown",
      "source": [
        "### hstack & vstack"
      ],
      "metadata": {
        "Collapsed": "false"
      }
    },
    {
      "cell_type": "code",
      "source": [
        "f = np.array([1,2,3])\n",
        "\n",
        "g = np.array([4,5,6])\n",
        "\n",
        "\n",
        "\n",
        "np.hstack((f, g))\n",
        "\n",
        "np.vstack((f, g))\n",
        "\n"
      ],
      "outputs": [],
      "execution_count": null,
      "metadata": {
        "Collapsed": "false"
      }
    },
    {
      "cell_type": "markdown",
      "source": [
        "### random number\n",
        "\n",
        "Set seed"
      ],
      "metadata": {
        "Collapsed": "false"
      }
    },
    {
      "cell_type": "code",
      "source": [],
      "outputs": [],
      "execution_count": null,
      "metadata": {
        "Collapsed": "false"
      }
    },
    {
      "cell_type": "code",
      "source": [
        "normal_array = np.random.normal(5, 0.5, 10)\n",
        "\n",
        "normal_array"
      ],
      "outputs": [],
      "execution_count": null,
      "metadata": {
        "Collapsed": "false"
      }
    },
    {
      "cell_type": "markdown",
      "source": [
        "### asarray"
      ],
      "metadata": {
        "Collapsed": "false"
      }
    },
    {
      "cell_type": "code",
      "source": [
        "A = np.matrix(np.ones((4,4)))\n",
        "\n",
        "np.asarray(A)\n",
        "\n"
      ],
      "outputs": [],
      "execution_count": null,
      "metadata": {
        "Collapsed": "false"
      }
    },
    {
      "cell_type": "markdown",
      "source": [
        "### Arrange"
      ],
      "metadata": {
        "Collapsed": "false"
      }
    },
    {
      "cell_type": "code",
      "source": [
        "np.arange(1, 11)\n",
        "\n"
      ],
      "outputs": [],
      "execution_count": null,
      "metadata": {
        "Collapsed": "false"
      }
    },
    {
      "cell_type": "markdown",
      "source": [
        "### linspace"
      ],
      "metadata": {
        "Collapsed": "false"
      }
    },
    {
      "cell_type": "code",
      "source": [
        "np.linspace(1.0, 5.0, num=10)"
      ],
      "outputs": [],
      "execution_count": null,
      "metadata": {
        "Collapsed": "false"
      }
    },
    {
      "cell_type": "markdown",
      "source": [
        "### logspace"
      ],
      "metadata": {
        "Collapsed": "false"
      }
    },
    {
      "cell_type": "code",
      "source": [
        "np.logspace(3.0, 4.0, num=4)\n",
        "\n"
      ],
      "outputs": [],
      "execution_count": null,
      "metadata": {
        "Collapsed": "false"
      }
    },
    {
      "cell_type": "markdown",
      "source": [
        "### Slicing\n",
        "\n",
        "#### rows"
      ],
      "metadata": {
        "Collapsed": "false"
      }
    },
    {
      "cell_type": "code",
      "source": [
        "e = np.array([(1,2,3), (4,5,6)])\n",
        "\n",
        "e[0]\n",
        "\n"
      ],
      "outputs": [],
      "execution_count": null,
      "metadata": {
        "Collapsed": "false"
      }
    },
    {
      "cell_type": "markdown",
      "source": [
        "#### columns"
      ],
      "metadata": {
        "Collapsed": "false"
      }
    },
    {
      "cell_type": "code",
      "source": [
        "e[:,1]\n",
        "\n"
      ],
      "outputs": [],
      "execution_count": null,
      "metadata": {
        "Collapsed": "false"
      }
    },
    {
      "cell_type": "markdown",
      "source": [
        "#### rows and columns"
      ],
      "metadata": {
        "Collapsed": "false"
      }
    },
    {
      "cell_type": "code",
      "source": [
        "e[1, :2]"
      ],
      "outputs": [],
      "execution_count": null,
      "metadata": {
        "Collapsed": "false"
      }
    }
  ],
  "metadata": {
    "kernelspec": {
      "name": "python3",
      "language": "python",
      "display_name": "Python 3"
    },
    "language_info": {
      "name": "python",
      "version": "3.7.4",
      "mimetype": "text/x-python",
      "codemirror_mode": {
        "name": "ipython",
        "version": 3
      },
      "pygments_lexer": "ipython3",
      "nbconvert_exporter": "python",
      "file_extension": ".py"
    },
    "kernel_info": {
      "name": "python3"
    },
    "nteract": {
      "version": "0.15.0"
    }
  },
  "nbformat": 4,
  "nbformat_minor": 4
}