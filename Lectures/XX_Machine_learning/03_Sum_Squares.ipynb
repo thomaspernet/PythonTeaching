{
 "cells": [
  {
   "cell_type": "markdown",
   "metadata": {
    "Collapsed": "false",
    "colab_type": "text",
    "id": "V5lIB3vzPkL5"
   },
   "source": [
    "# Sums of squares\n",
    "\n",
    "Source: [PennState Stat 501](https://newonlinecourses.science.psu.edu/stat501/node/263/)\n",
    "\n",
    "\"Is there a (linear) relationship between skin cancer mortality and latitude?\"\n",
    "\n",
    "Review the following scatter plot and estimated regression line. What does the plot suggest is the answer to the research question? The linear relationship looks fairly strong. The estimated slope is negative, not equal to 0"
   ]
  },
  {
   "cell_type": "markdown",
   "metadata": {
    "Collapsed": "false",
    "colab_type": "text",
    "id": "YEDKjsw7P1SY"
   },
   "source": [
    "## Upload data"
   ]
  },
  {
   "cell_type": "code",
   "execution_count": null,
   "metadata": {
    "Collapsed": "false",
    "colab": {
     "base_uri": "https://localhost:8080/",
     "height": 102
    },
    "colab_type": "code",
    "executionInfo": {
     "elapsed": 3719,
     "status": "ok",
     "timestamp": 1556359388172,
     "user": {
      "displayName": "Thomas Pernet",
      "photoUrl": "https://lh5.googleusercontent.com/-MpE5ChsC2J4/AAAAAAAAAAI/AAAAAAAABsw/7sBoF1HatSI/s64/photo.jpg",
      "userId": "12184844431429654860"
     },
     "user_tz": -120
    },
    "id": "p7ksZMTnPfs4",
    "outputId": "ca698179-f524-4a68-aadc-39394682bbbc"
   },
   "outputs": [
    {
     "name": "stdout",
     "output_type": "stream",
     "text": [
      "Service Google Drive and Docs, Sheet are now connected. \n",
      "Service Google Drive is stored as <googleapiclient.discovery.Resource object at 0x108258940> and accessible with \"drive\" \n",
      "Service Google Doc is stored as <googleapiclient.discovery.Resource object at 0x108292860> and accessible with \"doc\" \n",
      "Service Google Sheet is stored as <googleapiclient.discovery.Resource object at 0x1083955f8>and accessible with \"sheet\"\n"
     ]
    }
   ],
   "source": [
    "from GoogleDrivePy.google_authentification import connect_service_local\n",
    "from GoogleDrivePy.google_drive import connect_drive\n",
    "import pandas as pd\n",
    "import numpy as np\n",
    "import os\n",
    "import re\n",
    "pathcredential = '/Users/Thomas/Google Drive/Projects/Data_science/Google_code_n_Oauth/Client_Oauth/Google_auth/'\n",
    "scopes = ['https://www.googleapis.com/auth/documents.readonly',\n",
    "            'https://www.googleapis.com/auth/drive', \n",
    "         'https://www.googleapis.com/auth/spreadsheets.readonly']\n",
    "serviceaccount = '/Users/Thomas/Google Drive/Projects/Data_science/Google_code_n_Oauth/Client_Oauth/Google_auth/valid-pagoda-132423-c6ac84b41833.json'\n",
    "cs = connect_service_local.connect_service_local(path_json =pathcredential,\n",
    "                                                 path_service_account = serviceaccount,\n",
    "                                                 scope = scopes)\n",
    "service = cs.get_service()\n",
    "\n",
    "headers = ['State','Lat','Mort','Ocean','Long']\n",
    "range_name = 'skin_cancer!A2:E50'\n",
    "\n",
    "df = service['sheet'].spreadsheets().values().get(\n",
    "    spreadsheetId='1vbQsysJMSeizjUVu_GFoXamMu9Zn_i6JpJ-vll1AHPo',\n",
    "    range=range_name).execute()\n",
    "df = pd.DataFrame(df.get('values', []), columns=headers)\n",
    "df = df.apply(pd.to_numeric, errors='ignore')"
   ]
  },
  {
   "cell_type": "markdown",
   "metadata": {
    "Collapsed": "false",
    "colab_type": "text",
    "id": "7pkfv0G1P6kH"
   },
   "source": [
    "## Fitted values\n",
    "\n"
   ]
  },
  {
   "cell_type": "code",
   "execution_count": null,
   "metadata": {
    "Collapsed": "false",
    "colab": {
     "base_uri": "https://localhost:8080/",
     "height": 332
    },
    "colab_type": "code",
    "executionInfo": {
     "elapsed": 251,
     "status": "ok",
     "timestamp": 1556359607076,
     "user": {
      "displayName": "Thomas Pernet",
      "photoUrl": "https://lh5.googleusercontent.com/-MpE5ChsC2J4/AAAAAAAAAAI/AAAAAAAABsw/7sBoF1HatSI/s64/photo.jpg",
      "userId": "12184844431429654860"
     },
     "user_tz": -120
    },
    "id": "O8Q7LHroP-2x",
    "outputId": "b4971847-1515-46b8-8c81-ac1b7a183ac1"
   },
   "outputs": [
    {
     "name": "stdout",
     "output_type": "stream",
     "text": [
      "slope: -5.977636    intercept: 389.189351\n",
      "p-values: 0.000000\n",
      "r-squared: 0.679830\n"
     ]
    },
    {
     "data": {
      "image/png": "[encoded data removed]",
      "text/plain": [
       "<Figure size 432x288 with 1 Axes>"
      ]
     },
     "metadata": {
      "tags": []
     },
     "output_type": "display_data"
    }
   ],
   "source": [
    "from scipy import stats\n",
    "import matplotlib.pyplot as plt\n",
    "\n",
    "y = df['Mort']\n",
    "x = df['Lat']\n",
    "\n",
    "#data_x = [30, 35]\n",
    "#data_y = [209.86, 141]\n",
    "\n",
    "slope, intercept, r_value, p_value, std_err = stats.linregress(x, y)\n",
    "print(\"slope: %f    intercept: %f\" % (slope, intercept))\n",
    "print(\"p-values: %f\" % (p_value))\n",
    "print(\"r-squared: %f\" % r_value**2)\n",
    "  \n",
    "#### Plot with label\n",
    "labels = [r'$\\mu_{Y} = E(Y)=\\beta_{0}+\\beta_{1} X$',\n",
    "          r'$Y_{i}= \\beta_{0}+\\beta_{1} X+\\varepsilon_{i}$']\n",
    "\n",
    "plt.plot(x, y, 'o', label='original data')\n",
    "plt.plot(x, intercept + slope * x, 'r', label='fitted line')\n",
    "\n",
    "plt.legend()\n",
    "plt.xlabel('Latitude')\n",
    "plt.ylabel('Mortality')\n",
    "plt.show()"
   ]
  },
  {
   "cell_type": "markdown",
   "metadata": {
    "Collapsed": "false",
    "colab_type": "text",
    "id": "0n3StuZMQL6e"
   },
   "source": [
    "## Research Question\n",
    "\n",
    "We can answer the research question using the P-value of the t-test for testing:\n",
    "\n",
    "- the null hypothesis $H_{0} : \\beta_{1}=0$\n",
    "- against the alternative hypothesis $H_{\\mathrm{A}} : \\beta_{1} \\neq 0$\n",
    "\n",
    "the P-value of the t-test for \"Lat\" is less than 0.001. \n",
    "\n",
    "There is enough statistical evidence to conclude that the slope is not 0, that is, that there is a linear relationship between skin cancer mortality and latitude.\n",
    "\n",
    "There is an alternative method for answering the research question, which uses the analysis of variance F-test. Let's first look at what we are working towards understanding"
   ]
  },
  {
   "cell_type": "markdown",
   "metadata": {
    "Collapsed": "false",
    "colab_type": "text",
    "id": "R1N1BKmMQ8yN"
   },
   "source": [
    "## Analysis of Variance\n",
    "\n",
    "Below, there is a column labeled F, which contains the F-test statistic, and there is a column labeled P, which contains the P-value associated with the F-test\n",
    "\n",
    "Notice that the P-value, 0.000, appears to be the same as the P-value, 0.000, for the t-test for the slope.\n",
    "\n",
    "The F-test similarly tells us that there is enough statistical evidence to conclude that there is a linear relationship between skin cancer mortality and latitude."
   ]
  },
  {
   "cell_type": "code",
   "execution_count": null,
   "metadata": {
    "Collapsed": "false",
    "colab": {
     "base_uri": "https://localhost:8080/",
     "height": 382
    },
    "colab_type": "code",
    "executionInfo": {
     "elapsed": 108,
     "status": "ok",
     "timestamp": 1556359853146,
     "user": {
      "displayName": "Thomas Pernet",
      "photoUrl": "https://lh5.googleusercontent.com/-MpE5ChsC2J4/AAAAAAAAAAI/AAAAAAAABsw/7sBoF1HatSI/s64/photo.jpg",
      "userId": "12184844431429654860"
     },
     "user_tz": -120
    },
    "id": "mExhjtqQQCqC",
    "outputId": "2cb82b37-6cbe-43cf-bbba-65b384551c32"
   },
   "outputs": [
    {
     "data": {
      "text/html": [
       "<table class=\"simpletable\">\n",
       "<caption>OLS Regression Results</caption>\n",
       "<tr>\n",
       "  <th>Dep. Variable:</th>          <td>Mort</td>       <th>  R-squared:         </th> <td>   0.680</td>\n",
       "</tr>\n",
       "<tr>\n",
       "  <th>Model:</th>                   <td>OLS</td>       <th>  Adj. R-squared:    </th> <td>   0.673</td>\n",
       "</tr>\n",
       "<tr>\n",
       "  <th>Method:</th>             <td>Least Squares</td>  <th>  F-statistic:       </th> <td>   99.80</td>\n",
       "</tr>\n",
       "<tr>\n",
       "  <th>Date:</th>             <td>Sat, 27 Apr 2019</td> <th>  Prob (F-statistic):</th> <td>3.31e-13</td>\n",
       "</tr>\n",
       "<tr>\n",
       "  <th>Time:</th>                 <td>12:10:53</td>     <th>  Log-Likelihood:    </th> <td> -213.08</td>\n",
       "</tr>\n",
       "<tr>\n",
       "  <th>No. Observations:</th>      <td>    49</td>      <th>  AIC:               </th> <td>   430.2</td>\n",
       "</tr>\n",
       "<tr>\n",
       "  <th>Df Residuals:</th>          <td>    47</td>      <th>  BIC:               </th> <td>   433.9</td>\n",
       "</tr>\n",
       "<tr>\n",
       "  <th>Df Model:</th>              <td>     1</td>      <th>                     </th>     <td> </td>   \n",
       "</tr>\n",
       "<tr>\n",
       "  <th>Covariance Type:</th>      <td>nonrobust</td>    <th>                     </th>     <td> </td>   \n",
       "</tr>\n",
       "</table>\n",
       "<table class=\"simpletable\">\n",
       "<tr>\n",
       "      <td></td>         <th>coef</th>     <th>std err</th>      <th>t</th>      <th>P>|t|</th>  <th>[0.025</th>    <th>0.975]</th>  \n",
       "</tr>\n",
       "<tr>\n",
       "  <th>Intercept</th> <td>  389.1894</td> <td>   23.812</td> <td>   16.344</td> <td> 0.000</td> <td>  341.285</td> <td>  437.094</td>\n",
       "</tr>\n",
       "<tr>\n",
       "  <th>Lat</th>       <td>   -5.9776</td> <td>    0.598</td> <td>   -9.990</td> <td> 0.000</td> <td>   -7.181</td> <td>   -4.774</td>\n",
       "</tr>\n",
       "</table>\n",
       "<table class=\"simpletable\">\n",
       "<tr>\n",
       "  <th>Omnibus:</th>       <td> 0.740</td> <th>  Durbin-Watson:     </th> <td>   1.503</td>\n",
       "</tr>\n",
       "<tr>\n",
       "  <th>Prob(Omnibus):</th> <td> 0.691</td> <th>  Jarque-Bera (JB):  </th> <td>   0.773</td>\n",
       "</tr>\n",
       "<tr>\n",
       "  <th>Skew:</th>          <td> 0.094</td> <th>  Prob(JB):          </th> <td>   0.679</td>\n",
       "</tr>\n",
       "<tr>\n",
       "  <th>Kurtosis:</th>      <td> 2.414</td> <th>  Cond. No.          </th> <td>    347.</td>\n",
       "</tr>\n",
       "</table><br/><br/>Warnings:<br/>[1] Standard Errors assume that the covariance matrix of the errors is correctly specified."
      ],
      "text/plain": [
       "<class 'statsmodels.iolib.summary.Summary'>\n",
       "\"\"\"\n",
       "                            OLS Regression Results                            \n",
       "==============================================================================\n",
       "Dep. Variable:                   Mort   R-squared:                       0.680\n",
       "Model:                            OLS   Adj. R-squared:                  0.673\n",
       "Method:                 Least Squares   F-statistic:                     99.80\n",
       "Date:                Sat, 27 Apr 2019   Prob (F-statistic):           3.31e-13\n",
       "Time:                        12:10:53   Log-Likelihood:                -213.08\n",
       "No. Observations:                  49   AIC:                             430.2\n",
       "Df Residuals:                      47   BIC:                             433.9\n",
       "Df Model:                           1                                         \n",
       "Covariance Type:            nonrobust                                         \n",
       "==============================================================================\n",
       "                 coef    std err          t      P>|t|      [0.025      0.975]\n",
       "------------------------------------------------------------------------------\n",
       "Intercept    389.1894     23.812     16.344      0.000     341.285     437.094\n",
       "Lat           -5.9776      0.598     -9.990      0.000      -7.181      -4.774\n",
       "==============================================================================\n",
       "Omnibus:                        0.740   Durbin-Watson:                   1.503\n",
       "Prob(Omnibus):                  0.691   Jarque-Bera (JB):                0.773\n",
       "Skew:                           0.094   Prob(JB):                        0.679\n",
       "Kurtosis:                       2.414   Cond. No.                         347.\n",
       "==============================================================================\n",
       "\n",
       "Warnings:\n",
       "[1] Standard Errors assume that the covariance matrix of the errors is correctly specified.\n",
       "\"\"\""
      ]
     },
     "execution_count": 11,
     "metadata": {
      "tags": []
     },
     "output_type": "execute_result"
    }
   ],
   "source": [
    "import statsmodels.formula.api as smf\n",
    "mod = smf.ols(formula='Mort ~ Lat', data=df)\n",
    "res = mod.fit()\n",
    "res.summary()"
   ]
  },
  {
   "cell_type": "markdown",
   "metadata": {
    "Collapsed": "false",
    "colab_type": "text",
    "id": "4WKmVXj2SiPR"
   },
   "source": [
    "let's investigate the components of the Analysis of variance\n",
    "\n"
   ]
  },
  {
   "cell_type": "markdown",
   "metadata": {
    "Collapsed": "false",
    "colab_type": "text",
    "id": "Oinv4-dLSqd-"
   },
   "source": [
    "### Sums of Squares\n",
    "\n",
    "We considered sums of squares in lesson about [OLS](https://dynalist.io/d/Fm5tz2wS5-UilvDNXmLSOyv9) when we defined the coefficient of determination, \n",
    "r\n",
    "2\n",
    ", but now we consider them again in the context of the analysis of variance table."
   ]
  },
  {
   "cell_type": "code",
   "execution_count": null,
   "metadata": {
    "Collapsed": "false",
    "colab": {
     "base_uri": "https://localhost:8080/",
     "height": 283
    },
    "colab_type": "code",
    "executionInfo": {
     "elapsed": 388,
     "status": "ok",
     "timestamp": 1556360330280,
     "user": {
      "displayName": "Thomas Pernet",
      "photoUrl": "https://lh5.googleusercontent.com/-MpE5ChsC2J4/AAAAAAAAAAI/AAAAAAAABsw/7sBoF1HatSI/s64/photo.jpg",
      "userId": "12184844431429654860"
     },
     "user_tz": -120
    },
    "id": "xlq9Xx3JS78z",
    "outputId": "e9c0c35a-4185-4139-931e-846a8bb96f81"
   },
   "outputs": [
    {
     "data": {
      "image/png": "[encoded data removed]",
      "text/plain": [
       "<Figure size 432x288 with 1 Axes>"
      ]
     },
     "metadata": {
      "tags": []
     },
     "output_type": "display_data"
    }
   ],
   "source": [
    "interc = df['Mort'].mean()\n",
    "\n",
    "data_x = [30, 35, 30]\n",
    "data_y = [209.86, 141,interc\n",
    "         ]\n",
    "\n",
    "labels = [r'$\\hat{y}_{i}=389.19-5.98 x_{i}$',\n",
    "          r'$y_{i}$', r'$\\overline{y}=152.88$'\n",
    "         ]\n",
    "\n",
    "plt.plot(x, y, 'o', label='original data')\n",
    "plt.axhline(interc, label='Reducel model', color = 'g')\n",
    "plt.plot(x, intercept + slope * x, 'r', label='Full model')\n",
    "\n",
    "\n",
    "for label, x_1, y_2 in zip(labels, data_x, data_y):\n",
    "  plt.annotate(label,\n",
    "            xy=(x_1, y_2), xycoords='data',\n",
    "            xytext=(-45, -50),\n",
    "            textcoords='offset points',\n",
    "            arrowprops=dict(arrowstyle=\"->\"))\n",
    "\n",
    "plt.legend()\n",
    "plt.xlabel('Latitude')\n",
    "plt.ylabel('Mortality')\n",
    "plt.show()"
   ]
  },
  {
   "cell_type": "markdown",
   "metadata": {
    "Collapsed": "false",
    "colab_type": "text",
    "id": "AuplLABHTi8p"
   },
   "source": [
    "The scatter plot of mortality and latitude appears again below, but now it is adorned with three labels:\n",
    "\n",
    "- $y_{i}$ denotes the observed mortality for state i\n",
    "- $\\hat{y}_{i}$ is the estimated regression line (red line) and therefore denotes the estimated (or \"fitted\") mortality for the latitude of state i\n",
    "- $\\overline{y}$ represents what the line would look like if there were no relationship between mortality and latitude. That is, it denotes the \"no relationship\" line (green line). It is simply the average mortality of the sample.\n",
    "\n",
    "If there is a linear relationship between mortality and latitude, then the estimated regression line should be \"far\" from the no relationship line. \n",
    "\n",
    "We just need a way of quantifying \"far.\" The above three elements are useful in quantifying how far the estimated regression line is from the no relationship line. \n",
    "\n",
    "As illustrated by the plot, the two lines are quite far apart.\n",
    "\n",
    "The distance of each observed value $y_i$ from the no regression line $y_{i}-\\overline{y}$\n",
    ". If you determine this distance for each data point, square each distance, and add up all of the squared distances, you get:\n",
    "\n",
    "$$\\sum_{i=1}^{n}\\left(y_{i}-\\overline{y}\\right)^{2}=53637$$"
   ]
  },
  {
   "cell_type": "code",
   "execution_count": null,
   "metadata": {
    "Collapsed": "false",
    "colab": {
     "base_uri": "https://localhost:8080/",
     "height": 33
    },
    "colab_type": "code",
    "executionInfo": {
     "elapsed": 51,
     "status": "ok",
     "timestamp": 1556360645071,
     "user": {
      "displayName": "Thomas Pernet",
      "photoUrl": "https://lh5.googleusercontent.com/-MpE5ChsC2J4/AAAAAAAAAAI/AAAAAAAABsw/7sBoF1HatSI/s64/photo.jpg",
      "userId": "12184844431429654860"
     },
     "user_tz": -120
    },
    "id": "w7q9fF-3UJJr",
    "outputId": "b8feeb35-896e-427c-8855-e03a50466086"
   },
   "outputs": [
    {
     "data": {
      "text/plain": [
       "53637.265306122456"
      ]
     },
     "execution_count": 19,
     "metadata": {
      "tags": []
     },
     "output_type": "execute_result"
    }
   ],
   "source": [
    "TSS = np.sum(np.power((y - interc), 2))\n",
    "TSS"
   ]
  },
  {
   "cell_type": "markdown",
   "metadata": {
    "Collapsed": "false",
    "colab_type": "text",
    "id": "ycRm6ZR4UNY2"
   },
   "source": [
    "Called the \"total sum of squares,\" it quantifies how much the observed responses vary if you don't take into account their latitude.\n",
    "\n",
    "The distance of each fitted value $\\hat{y}_{i}$ from the no regression line $\\overline{y}$ is$\\hat{y}_{i}-\\overline{y}$. If you determine this distance for each data point, square each distance, and add up all of the squared distances, you get:\n",
    "\n",
    "$\\sum_{i=1}^{n}\\left(\\hat{y}_{i}-\\overline{y}\\right)^{2}=36464$"
   ]
  },
  {
   "cell_type": "code",
   "execution_count": null,
   "metadata": {
    "Collapsed": "false",
    "colab": {
     "base_uri": "https://localhost:8080/",
     "height": 33
    },
    "colab_type": "code",
    "executionInfo": {
     "elapsed": 40,
     "status": "ok",
     "timestamp": 1556360647263,
     "user": {
      "displayName": "Thomas Pernet",
      "photoUrl": "https://lh5.googleusercontent.com/-MpE5ChsC2J4/AAAAAAAAAAI/AAAAAAAABsw/7sBoF1HatSI/s64/photo.jpg",
      "userId": "12184844431429654860"
     },
     "user_tz": -120
    },
    "id": "Baa_vg_CUheN",
    "outputId": "6d8b50a7-4745-463a-9b09-a8a748ba24c6"
   },
   "outputs": [
    {
     "data": {
      "text/plain": [
       "36464.20020300047"
      ]
     },
     "execution_count": 20,
     "metadata": {
      "tags": []
     },
     "output_type": "execute_result"
    }
   ],
   "source": [
    "y_hat  = intercept + slope * x\n",
    "RSS = np.sum(np.power((y_hat - interc), 2))\n",
    "RSS"
   ]
  },
  {
   "cell_type": "markdown",
   "metadata": {
    "Collapsed": "false",
    "colab_type": "text",
    "id": "NQcWGMg2UtvU"
   },
   "source": [
    "Called the \"regression sum of squares,\" it quantifies how far the estimated regression line is from the no relationship line.\n",
    "\n",
    "The distance of each observed value $y_{i}$ from the estimated regression line $\\hat{y}_{i}$ is $y_{i}-\\hat{y}_{i}$ If you determine this distance for each data point, square each distance, and add up all of the squared distances, you get:\n",
    "\n",
    "$$\\sum_{i=1}^{n}\\left(y_{i}-\\hat{y}_{i}\\right)^{2}=17173$$"
   ]
  },
  {
   "cell_type": "code",
   "execution_count": null,
   "metadata": {
    "Collapsed": "false",
    "colab": {
     "base_uri": "https://localhost:8080/",
     "height": 33
    },
    "colab_type": "code",
    "executionInfo": {
     "elapsed": 46,
     "status": "ok",
     "timestamp": 1556360728277,
     "user": {
      "displayName": "Thomas Pernet",
      "photoUrl": "https://lh5.googleusercontent.com/-MpE5ChsC2J4/AAAAAAAAAAI/AAAAAAAABsw/7sBoF1HatSI/s64/photo.jpg",
      "userId": "12184844431429654860"
     },
     "user_tz": -120
    },
    "id": "TDPXbUKoU9Yt",
    "outputId": "892cc8a6-9dfb-47a0-b201-329570fb4b77"
   },
   "outputs": [
    {
     "data": {
      "text/plain": [
       "17173.065103121957"
      ]
     },
     "execution_count": 21,
     "metadata": {
      "tags": []
     },
     "output_type": "execute_result"
    }
   ],
   "source": [
    "y_hat  = intercept + slope * x\n",
    "ESS = np.sum(np.power((y - y_hat), 2))\n",
    "ESS"
   ]
  },
  {
   "cell_type": "markdown",
   "metadata": {
    "Collapsed": "false",
    "colab_type": "text",
    "id": "wxzrVQ4RVCzo"
   },
   "source": [
    "Called the \"error sum of squares,\" as you know, it quantifies how much the data points vary around the estimated regression line.\n",
    "\n",
    "In short, we have illustrated that the total variation in observed mortality y (53637) is the sum of two parts — variation \"due to\" latitude (36464) and variation just due to random error (17173). \n",
    "\n",
    "We are careful to put \"due to\" in quotes in order to emphasize that a change in latitude does not necessarily cause the change in mortality. All we could conclude is that latitude is \"associated with\" mortality."
   ]
  },
  {
   "cell_type": "markdown",
   "metadata": {
    "Collapsed": "false",
    "colab_type": "text",
    "id": "-YRIHLPNaIjY"
   },
   "source": [
    "## Interpretation\n",
    "\n",
    "Recall, we have 49 states in the data set:\n",
    "\n",
    "- The degrees of freedom associated with SSR will always be 1 for the simple linear regression model. \n",
    "- The degrees of freedom associated with SSTO is n-1 = 49-1 = 48. \n",
    "- The degrees of freedom associated with SSE is n-2 = 49-2 = 47. And the degrees of freedom add up: 1 + 47 = 48.\n",
    "- The sums of squares add up: SSTO = SSR + SSE. That is, here: 53637 = 36464 + 17173.\n",
    "\n",
    "Let's tackle a few more columns of the analysis of variance table, namely the \"mean square\" column, labled MS, and the F-statistic column, labeled F\n",
    "\n",
    "Although the derivation isn't as simple as it seems, the decomposition holds for the sum of the squared distances, too:\n",
    "$$\\sum_{i=1}^{n}\\left(y_{i}-\\overline{y}\\right)^{2}=\\sum_{i=1}^{n}\\left(\\hat{y}_{i}-\\overline{y}\\right)^{2}+\\sum_{i=1}^{n}\\left(y_{i}-\\hat{y}_{i}\\right)^{2}$$\n",
    "\n",
    "SSTO = SSE+ SSR\n",
    "\n",
    "![Variance_decomposition.png](https://dynalist.io/u/Ljf0NOwEdcOPrHaYUZ4KeLh9)"
   ]
  },
  {
   "cell_type": "markdown",
   "metadata": {
    "Collapsed": "false",
    "colab_type": "text",
    "id": "Nvrf2Cwja6cV"
   },
   "source": [
    "### Mean squares\n",
    "\n",
    "We already know the \"mean square error (MSE)\" is defined as:\n",
    "\n",
    "$$M S E=\\frac{\\sum\\left(y_{i}-\\hat{y}_{i}\\right)^{2}}{n-2}=\\frac{S S E}{n-2}$$\n",
    "\n",
    "That is, we obtain the mean square error by dividing the error sum of squares by its associated degrees of freedom n-2\n",
    "\n",
    "Similarly, we obtain the \"regression mean square (MSR)\" by dividing the regression sum of squares by its degrees of freedom 1:\n",
    "\n",
    "$$M S R=\\frac{\\sum\\left(\\hat{y}_{i}-\\overline{y}\\right)^{2}}{1}=\\frac{S S R}{1}$$\n",
    "\n",
    "Of course, that means the regression sum of squares (SSR) and the regression mean square (MSR) are always identical for the simple linear regression model\n",
    "\n",
    "Now, why do we care about mean squares? \n",
    "\n",
    "Because their expected values suggest how to test the null hypothesis $H_{0} : \\beta_{1}=0$ against the alternative hypothesis $H_{\\mathrm{A}} : \\beta_{1} \\neq 0$\n",
    "\n"
   ]
  },
  {
   "cell_type": "markdown",
   "metadata": {
    "Collapsed": "false",
    "colab_type": "text",
    "id": "B-g1gtMgbsCj"
   },
   "source": [
    "### Expected Mean Squares\n",
    "\n",
    "Imagine taking many, many random samples of size n from some population, and estimating the regression line and determining MSR and MSE for each data set obtained. It has been shown that the average (that is, the expected value) of all of the MSRs you can obtain equals\n",
    "\n",
    "$$E(M S R)=\\sigma^{2}+\\beta_{1}^{2} \\sum_{i=1}^{n}\\left(X_{i}-\\overline{X}\\right)^{2}$$\n",
    "\n",
    "Similarly, it has been shown that the average (that is, the expected value) of all of the MSEs you can obtain equals:\n",
    "\n",
    "$$E(M S E)=\\sigma^{2}$$\n",
    "\n",
    "  These expected values suggest how to test $$H_{0} : \\beta_{1}=0$$ versus $$H_{\\mathrm{A}} : \\beta_{1} \\neq $$\n",
    "  \n",
    "- If $\\beta_{1}=0$, then we'd expect the ratio MSR/MSE to equal 1.\n",
    "- If $\\beta_{1} \\neq 0$, then we'd expect the ratio MSR/MSE to be greater than 1\n",
    "\n",
    "These two facts suggest that we should use the ratio, MSR/MSE, to determine whether or not $\\beta_{1} = 0$\n",
    "\n",
    "Note that, because $\\beta_1$ is squared in E(MSR), we cannot use the ratio MSR/MSE:\n",
    "\n",
    "- to test $H_{0} : \\beta_{1}=0$ versus $H_{\\mathrm{A}} : \\beta_{1}<0$\n",
    "- or to test $\\mathrm{H}_{0} : \\beta_{1}=0$ versus $\\mathrm{H}_{\\mathrm{A}} : \\beta_{1}>0$\n",
    "\n",
    "We can only use MSR/MSE to test $H_{0} : \\beta_{1}=0$ versus $H_{\\mathrm{A}} : \\beta_{1} \\neq 0$\n",
    "\n",
    "We have now completed our investigation of all of the entries of a standard analysis of variance table. The formula for each entry is summarized for you in the following analysis of variance table:\n",
    "\n",
    "| Source of Variation | DF  | SS                                                              | MS                        | F                           |\n",
    "|---------------------|-----|-----------------------------------------------------------------|---------------------------|-----------------------------|\n",
    "| Regression          | 1   | $$S S R=\\sum_{i=1}^{n}\\left(\\hat{y}_{i}-\\overline{y}\\right)^{2}$$ | $$M S R=\\frac{S S R}{1}$$   | $$F^{*}=\\frac{M S R}{M S E}$$ |\n",
    "| Residual error      | n-2 | $$S S E=\\sum_{i=1}^{n}\\left(y_{i}-\\hat{y}_{i}\\right)^{2}$$        | $$M S E=\\frac{S S E}{n-2}$$ |                             |\n",
    "| Total               | n-1 | $$S S T O=\\sum_{i=1}^{n}\\left(y_{i}-\\overline{y}\\right)^{2}$$     |                           |                             |\n",
    "\n"
   ]
  },
  {
   "cell_type": "markdown",
   "metadata": {
    "Collapsed": "false",
    "colab_type": "text",
    "id": "_wRHjvBaeSzb"
   },
   "source": [
    "## The formal F-test for the slope parameter $\\beta_1$\n",
    "\n",
    "The null hypothesis is $H_{0} : \\beta_{1}=0$\n",
    "The alternative hypothesis is  $H_{\\mathrm{A}} : \\beta_{1} \\neq 0$\n",
    "The test statistic is  $F^{*}=\\frac{M S R}{M S E}$\n",
    "\n",
    "As always, the P-value is obtained by answering the question: \"What is the probability that we’d get an F* statistic as large as we did, if the null hypothesis is true?\n",
    "\n",
    "The P-value is determined by comparing F* to an F distribution with 1 numerator degree of freedom and n-2 denominator degrees of freedom"
   ]
  },
  {
   "cell_type": "markdown",
   "metadata": {
    "Collapsed": "false",
    "colab_type": "text",
    "id": "exBAZ7Dbew8-"
   },
   "source": [
    "## Example \n",
    "\n",
    "The following data set contains the winning times (in seconds) of the 22 men's 200 meter olympic sprints held between 1900 and 1996\n",
    "\n",
    "Is there a linear relationship between year and the winning times? The plot of the estimated regression line sure makes it look so!\n",
    "\n"
   ]
  },
  {
   "cell_type": "code",
   "execution_count": null,
   "metadata": {
    "Collapsed": "false",
    "colab": {},
    "colab_type": "code",
    "id": "vquPYQjOfYOI"
   },
   "outputs": [],
   "source": [
    "range_name = 'mens200m.csv!A2:B23'\n",
    "headers = ['Year', 'Men200']\n",
    "\n",
    "df = service['sheet'].spreadsheets().values().get(\n",
    "    spreadsheetId='1YVEf9PuU5NHcTqqF3qFrVXtmxWWnxuanmL2Xx9UQClo',\n",
    "    range=range_name).execute()\n",
    "df = pd.DataFrame(df.get('values', []), columns=headers)\n",
    "df = df.apply(pd.to_numeric, errors='ignore')"
   ]
  },
  {
   "cell_type": "code",
   "execution_count": null,
   "metadata": {
    "Collapsed": "false",
    "colab": {
     "base_uri": "https://localhost:8080/",
     "height": 332
    },
    "colab_type": "code",
    "executionInfo": {
     "elapsed": 221,
     "status": "ok",
     "timestamp": 1556363899431,
     "user": {
      "displayName": "Thomas Pernet",
      "photoUrl": "https://lh5.googleusercontent.com/-MpE5ChsC2J4/AAAAAAAAAAI/AAAAAAAABsw/7sBoF1HatSI/s64/photo.jpg",
      "userId": "12184844431429654860"
     },
     "user_tz": -120
    },
    "id": "4fXXlG7sfk6u",
    "outputId": "93d70e47-e794-4f06-d9b2-2bf439f0faf9"
   },
   "outputs": [
    {
     "name": "stdout",
     "output_type": "stream",
     "text": [
      "slope: -0.028383    intercept: 76.153369\n",
      "p-values: 0.000000\n",
      "r-squared: 0.898847\n"
     ]
    },
    {
     "data": {
      "image/png": "[encoded data removed]",
      "text/plain": [
       "<Figure size 432x288 with 1 Axes>"
      ]
     },
     "metadata": {
      "tags": []
     },
     "output_type": "display_data"
    }
   ],
   "source": [
    "y = df['Men200']\n",
    "x = df['Year']\n",
    "\n",
    "interc = df['Men200'].mean()\n",
    "\n",
    "#data_x = [30, 35]\n",
    "#data_y = [209.86, 141]\n",
    "\n",
    "slope, intercept, r_value, p_value, std_err = stats.linregress(x, y)\n",
    "print(\"slope: %f    intercept: %f\" % (slope, intercept))\n",
    "print(\"p-values: %f\" % (p_value))\n",
    "print(\"r-squared: %f\" % r_value**2)\n",
    "  \n",
    "#### Plot with label\n",
    "labels = [r'$\\mu_{Y} = E(Y)=\\beta_{0}+\\beta_{1} X$',\n",
    "          r'$Y_{i}= \\beta_{0}+\\beta_{1} X+\\varepsilon_{i}$']\n",
    "\n",
    "plt.plot(x, y, 'o', label='original data')\n",
    "plt.plot(x, intercept + slope * x, 'r', label='fitted line')\n",
    "\n",
    "plt.legend()\n",
    "plt.xlabel('Year')\n",
    "plt.ylabel('Mean 200')\n",
    "plt.show()"
   ]
  },
  {
   "cell_type": "markdown",
   "metadata": {
    "Collapsed": "false",
    "colab_type": "text",
    "id": "ZGj0stMPgMLi"
   },
   "source": [
    "To answer the research question, let's conduct the formal F-test of the null hypothesis $H_{0} : \\beta_{1}=0$ against the alternative hypothesis $H_{\\mathrm{A}} : \\beta_{1} \\neq 0$"
   ]
  },
  {
   "cell_type": "markdown",
   "metadata": {
    "Collapsed": "false",
    "colab_type": "text",
    "id": "iy3YXG7EgUhY"
   },
   "source": [
    "### Analyse of Variance\n",
    "\n",
    "From a scientific point of view, what we ultimately care about is the P-value.\n",
    "\n",
    "That is, the P-value is less than 0.001. The P-value is very small. It is unlikely that we would have obtained such a large F* statistic if the null hypothesis were true. \n",
    "\n",
    "Therefore, we reject the null hypothesis $H_{0} : \\beta_{1}=0$ in favor of the alternative hypothesis $H_{\\mathrm{A}} : \\beta_{1} \\neq 0$.\n",
    "\n",
    "There is sufficient evidence at the $\\alpha=0.05$ level to conclude that there is a linear relationship between year and winning time\n",
    "\n",
    "### Equivalence of the analysis of variance F-test and the t-test\n",
    "\n",
    "As we noted in the first two examples, the P-value associated with the t-test is the same as the P-value associated with the analysis of variance F-test.\n",
    "\n",
    "This will always be true for the simple linear regression model\n",
    "\n",
    "The F-test is more useful for the multiple regression model when we want to test that more than one slope parameter is 0"
   ]
  },
  {
   "cell_type": "code",
   "execution_count": null,
   "metadata": {
    "Collapsed": "false",
    "colab": {
     "base_uri": "https://localhost:8080/",
     "height": 133
    },
    "colab_type": "code",
    "executionInfo": {
     "elapsed": 64,
     "status": "ok",
     "timestamp": 1556364527127,
     "user": {
      "displayName": "Thomas Pernet",
      "photoUrl": "https://lh5.googleusercontent.com/-MpE5ChsC2J4/AAAAAAAAAAI/AAAAAAAABsw/7sBoF1HatSI/s64/photo.jpg",
      "userId": "12184844431429654860"
     },
     "user_tz": -120
    },
    "id": "61ebeIF9hRU-",
    "outputId": "1c7f1994-1532-4804-f1c0-0fb736f919ad"
   },
   "outputs": [
    {
     "data": {
      "text/html": [
       "<div>\n",
       "<style scoped>\n",
       "    .dataframe tbody tr th:only-of-type {\n",
       "        vertical-align: middle;\n",
       "    }\n",
       "\n",
       "    .dataframe tbody tr th {\n",
       "        vertical-align: top;\n",
       "    }\n",
       "\n",
       "    .dataframe thead th {\n",
       "        text-align: right;\n",
       "    }\n",
       "</style>\n",
       "<table border=\"1\" class=\"dataframe\">\n",
       "  <thead>\n",
       "    <tr style=\"text-align: right;\">\n",
       "      <th></th>\n",
       "      <th>DF</th>\n",
       "      <th>SS</th>\n",
       "      <th>MS</th>\n",
       "      <th>F</th>\n",
       "      <th>P</th>\n",
       "    </tr>\n",
       "  </thead>\n",
       "  <tbody>\n",
       "    <tr>\n",
       "      <th>Regression</th>\n",
       "      <td>1.0</td>\n",
       "      <td>15.796449</td>\n",
       "      <td>15.7964</td>\n",
       "      <td>177.72</td>\n",
       "      <td>0</td>\n",
       "    </tr>\n",
       "    <tr>\n",
       "      <th>Residual_error</th>\n",
       "      <td>20.0</td>\n",
       "      <td>1.777683</td>\n",
       "      <td>0.0888841</td>\n",
       "      <td></td>\n",
       "      <td></td>\n",
       "    </tr>\n",
       "    <tr>\n",
       "      <th>Total</th>\n",
       "      <td>21.0</td>\n",
       "      <td>17.574132</td>\n",
       "      <td></td>\n",
       "      <td></td>\n",
       "      <td></td>\n",
       "    </tr>\n",
       "  </tbody>\n",
       "</table>\n",
       "</div>"
      ],
      "text/plain": [
       "                  DF         SS         MS       F  P\n",
       "Regression       1.0  15.796449    15.7964  177.72  0\n",
       "Residual_error  20.0   1.777683  0.0888841           \n",
       "Total           21.0  17.574132                      "
      ]
     },
     "execution_count": 55,
     "metadata": {
      "tags": []
     },
     "output_type": "execute_result"
    }
   ],
   "source": [
    "TSS = np.sum(np.power((y - interc), 2))\n",
    "y_hat  = intercept + slope * x\n",
    "RSS = np.sum(np.power((y_hat - interc), 2))\n",
    "ESS = np.sum(np.power((y - y_hat), 2))\n",
    "n = len(df)\n",
    "\n",
    "ANOVA = {\n",
    "    'Regression':{\n",
    "        'DF': 1,\n",
    "        'SS': RSS,\n",
    "        'MS': RSS/1,\n",
    "        'F': RSS/ (ESS/(n - 2)),\n",
    "        'P': 0.000\n",
    "    },\n",
    "    'Residual_error':{\n",
    "        'DF': n - 2,\n",
    "        'SS': ESS,\n",
    "        'MS': ESS/(n - 2)\n",
    "    },\n",
    "    'Total':{\n",
    "        'DF': n - 1,\n",
    "        'SS': TSS\n",
    "    }\n",
    "}\n",
    "pd.DataFrame(ANOVA).T.fillna('')[['DF', 'SS', 'MS', 'F', 'P']]"
   ]
  }
 ],
 "metadata": {
  "colab": {
   "collapsed_sections": [
    "YEDKjsw7P1SY"
   ],
   "name": "03_Sum_Squares.ipynb",
   "provenance": [],
   "version": "0.3.2"
  },
  "kernelspec": {
   "display_name": "Python 3",
   "language": "python",
   "name": "python3"
  },
  "language_info": {
   "name": ""
  }
 },
 "nbformat": 4,
 "nbformat_minor": 4
}
