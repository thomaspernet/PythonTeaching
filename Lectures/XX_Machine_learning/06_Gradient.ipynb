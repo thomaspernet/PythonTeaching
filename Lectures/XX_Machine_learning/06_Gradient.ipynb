{
  "nbformat": 4,
  "nbformat_minor": 0,
  "metadata": {
    "colab": {
      "name": "06_Gradient.ipynb",
      "provenance": []
    },
    "kernelspec": {
      "name": "python3",
      "display_name": "Python 3"
    }
  },
  "cells": [
    {
      "cell_type": "markdown",
      "metadata": {
        "id": "nYZzKARhUnPZ",
        "colab_type": "text"
      },
      "source": [
        "# Gradient Descent\n",
        "\n",
        "From [The hundred-page machine learning book_full.pdf](https://web.kamihq.com/web/viewer.html?state=%7B%22ids%22:%5B%221ijJOtL-Ng_MSTW3TsEpcFg5C_MI_uHrg%22%5D,%22action%22:%22open%22,%22userId%22:%22100006339688710166679%22%7D)\n",
        "\n",
        "## Partial derivative\n",
        "\n",
        "Gradient is the generalization of derivative for functions that take several inputs (or one input in the form of a vector or some other complex structure).\n",
        "A gradient of a function is a vector of **partial derivatives**\n",
        "You can look at finding a partial derivative of a function as the process of finding the derivative by focusing on one of the function’s inputs and by considering all other inputs as constant values.\n",
        "For example, if our function is defined as $$f\\left(\\left[x^{(1)}, x^{(2)}\\right]\\right)=a x^{(1)}+b x^{(2)}+c$$\n",
        "then the partial derivative of function f with respect to x (1) , denoted as $$\\frac{\\partial f}{\\partial x(1)}$$ is\n",
        "$$\\frac{\\partial f}{\\partial x^{(1)}}=a+0+0=a$$\n",
        "where a is the derivative of the function ax (1)\n",
        "the two zeroes are respectively derivatives of bx (2) and c, because x (2) is considered constant when we compute the derivative with respect to x (1) , and the derivative of any constant is zero.\n",
        "Similarly, the partial derivative of function f with respect to $$x^{(2)}, \\frac{\\partial f}{\\partial x^{(2)}}$$ is\n",
        "$$\\frac{\\partial f}{\\partial x^{(2)}}=0+b+0=b$$\n",
        "The gradient of function f, denoted as $$\\nabla f$$\n",
        "is given by the vector $$\\left[\\frac{\\partial f}{\\partial x^{(1)}}, \\frac{\\partial f}{\\partial x^{(2)}}\\right]$$\n",
        "\n",
        "## Algorithm\n",
        "\n",
        "you often encounter references to gradient descent or stochastic gradient descent. These are two most frequently used optimization algorithms used in cases where the optimization criterion is differentiable.\n",
        "\n",
        "Gradient descent is an iterative optimization algorithm for finding the minimum of a function.\n",
        "To find a local minimum of a function using gradient descent, one starts at some random point and takes steps proportional to the negative of the gradient (or approximate gradient) of the function at the current point\n",
        "\n",
        "Gradient descent can be used to find optimal parameters for linear and logistic regression, SVM and also neural networks which we consider later. For many models, such as logistic regression or SVM, the optimization criterion is convex\n",
        "Convex functions have only one minimum, which is global. Optimization criteria for neural networks are not convex, but in practice even finding a local minimum suffices\n",
        "![Minima](https://upload.wikimedia.org/wikipedia/commons/thumb/6/68/Extrema_example_original.svg/1280px-Extrema_example_original.svg.png)\n"
      ]
    },
    {
      "cell_type": "markdown",
      "metadata": {
        "id": "z5A4TcVNVtB4",
        "colab_type": "text"
      },
      "source": [
        "## Prepare dataset\n",
        "\n",
        "Before we begin to train the model, let’s have look at what is a linear\n",
        "regression.\n",
        "\n",
        "Imagine you have two variables, $x$ and $y$ and your task is to predict\n",
        "the value of $y$ knowing the value of $x$. If you plot the data, you can\n",
        "see a positive relationship between your independent variable, $x$ and\n",
        "your dependent variable $y$."
      ]
    },
    {
      "cell_type": "code",
      "metadata": {
        "id": "C7Y0Cqx3W14n",
        "colab_type": "code",
        "colab": {}
      },
      "source": [
        "import numpy as np\n",
        "import pandas as pd\n",
        "import seaborn as sns; sns.set()\n",
        "import matplotlib.pyplot as plt"
      ],
      "execution_count": 0,
      "outputs": []
    },
    {
      "cell_type": "code",
      "metadata": {
        "id": "iLyb9UYyUKa1",
        "colab_type": "code",
        "outputId": "82669a39-b436-455f-ecfd-824859f50b55",
        "colab": {
          "base_uri": "https://localhost:8080/",
          "height": 307
        }
      },
      "source": [
        "np.random.seed(42)\n",
        "X = np.random.rand(50,1).flatten()\n",
        "Y = 2 + 3 * X + np.random.normal(np.mean(X), np.std(X), 50)\n",
        "\n",
        "df = pd.DataFrame({'X': X,\n",
        "                   'Y': Y})\n",
        "sns.scatterplot(x=\"X\", y=\"Y\", data=df)"
      ],
      "execution_count": 0,
      "outputs": [
        {
          "output_type": "execute_result",
          "data": {
            "text/plain": [
              "<matplotlib.axes._subplots.AxesSubplot at 0x7f9eaa9fd128>"
            ]
          },
          "metadata": {
            "tags": []
          },
          "execution_count": 28
        },
        {
          "output_type": "display_data",
          "data": {
            "image/png": "[encoded data removed]",
            "text/plain": [
              "<Figure size 432x288 with 1 Axes>"
            ]
          },
          "metadata": {
            "tags": []
          }
        }
      ]
    },
    {
      "cell_type": "markdown",
      "metadata": {
        "id": "EkIQBgAWbBFS",
        "colab_type": "text"
      },
      "source": [
        "You may observe, if $x = .6$, $y$ will roughly be equal to 4 and if\n",
        "$x = .2$, $y$ will be around 3.\n",
        "\n",
        "This is not a very accurate method and prone to error, especially with a\n",
        "dataset with hundreds of thousands of points.\n",
        "\n",
        "A linear regression is evaluated with an equation. The variable $y$ is\n",
        "explained by one or many covariates. In your example, there is only one\n",
        "dependent variable. If you have to write this equation, it will be:\n",
        "\n",
        "$$y = \\beta + \\alpha X + \\epsilon$$\n",
        "\n",
        "With:\n",
        "\n",
        "-   $\\beta$ is the bias. i.e. if $x = 0$, $y = \\beta$\n",
        "\n",
        "-   $\\alpha$ is the weight associated to $x$\n",
        "\n",
        "-   $\\epsilon$ is the residual or the error of the model. It includes\n",
        "    what the model cannot learn from the data\n",
        "\n",
        "Imagine you fit the model and you find the following solution for:\n",
        "\n",
        "-   $\\beta = 2.8$\n",
        "\n",
        "-   $\\alpha = X$\n",
        "\n",
        "You can substitute those numbers in the equation and it becomes:\n",
        "\n",
        "$$y = 2.2 + Xx$$\n",
        "\n",
        "You have now a better way to find the values for $y$. That is, you can\n",
        "replace $x$ with any value you want to predict $y$. In the image below,\n",
        "we have replace $x$ in the equation with all the values in the dataset\n",
        "and plot the result."
      ]
    },
    {
      "cell_type": "code",
      "metadata": {
        "id": "BnxWwtS-X9pl",
        "colab_type": "code",
        "outputId": "b24308cf-d808-4f70-8361-4e4d58d717db",
        "colab": {
          "base_uri": "https://localhost:8080/",
          "height": 307
        }
      },
      "source": [
        "sns.regplot(x=\"X\", y=\"Y\", data=df)"
      ],
      "execution_count": 0,
      "outputs": [
        {
          "output_type": "execute_result",
          "data": {
            "text/plain": [
              "<matplotlib.axes._subplots.AxesSubplot at 0x7f9eaaa20dd8>"
            ]
          },
          "metadata": {
            "tags": []
          },
          "execution_count": 30
        },
        {
          "output_type": "display_data",
          "data": {
            "image/png": "[encoded data removed]",
            "text/plain": [
              "<Figure size 432x288 with 1 Axes>"
            ]
          },
          "metadata": {
            "tags": []
          }
        }
      ]
    },
    {
      "cell_type": "markdown",
      "metadata": {
        "id": "qW__rOk0dCpf",
        "colab_type": "text"
      },
      "source": [
        "The blue line represents the fitted value, that is the values of $y$ for\n",
        "each value of $x$. You don’t need to see the value of $x$ to predict\n",
        "$y$, for each $x$ there is an$y$ which belongs to the red line. You can\n",
        "also predict for values of $x$ higher than 1!\n",
        "\n",
        "If you want to extend the linear regression to more covariates, you can\n",
        "by adding more variables to the model. The difference between\n",
        "traditional analysis and linear regression is the linear regression\n",
        "looks at how $y$ will react for each variable $X$ taken independently.\n",
        "\n",
        "Let’s see an example. Imagine you want to predict the sales of an ice\n",
        "cream shop. The dataset contains different information such as the\n",
        "weather (i.e rainy, sunny, cloudy), customer informations (i.e salary,\n",
        "gender, marital status).\n",
        "\n",
        "Traditional analysis will try to predict the sale by let’s say computing\n",
        "the average for each variable and try to estimate the sale for different\n",
        "scenarios. It will lead to poor predictions and restrict the analysis to\n",
        "the chosen scenario.\n",
        "\n",
        "If you use linear regression, you can write this equation:\n",
        "\n",
        "$$Sales  = \\beta + \\alpha_{1}X + \\epsilon$$\n",
        "\n",
        "The algorithm will find the best solution for the weights; it means it\n",
        "will try to minimize the cost (the difference between the fitted line\n",
        "and the data points).\n",
        "\n",
        "**How the algorithm works**\n",
        "\n",
        "![](https://www.guru99.com/images/1/080618_0520_LinearRegre3.png)\n",
        "\n",
        "The algorithm will choose a random number for each $\\beta$ and $\\alpha$\n",
        "and replace the value of $x$ to get the predicted value of $y$. If the\n",
        "dataset has 100 observations, the algorithm computes 100 predicted\n",
        "values.\n",
        "\n",
        "We can compute the error, noted $\\epsilon,\\ $ of the model, which is the\n",
        "difference between the predicted value and the real value. A positive\n",
        "error means the model underestimates the prediction of y, and a negative\n",
        "error means the model overestimates the prediction of y.\n",
        "\n",
        "$$\\epsilon = y - ypred$$\n",
        "\n",
        "Your goal is to minimize the square of the error. The algorithm computes\n",
        "the mean of the square error. This step is called minimization of the\n",
        "error. For linear regression is the **Mean Square Error**, also called\n",
        "MSE. Mathematically, it is:\n",
        "\n",
        "$$MSE(X) = \\frac{1}{m}\\sum_{i = 1}^{m}(\\alpha^{T}x^{i} - y^{i})^{2}$$\n",
        "\n",
        "Where:\n",
        "\n",
        "-   $\\alpha^{T}\\ $is the weights so $\\alpha^{T}x^{i}\\ $refers to the\n",
        "    predicted value\n",
        "\n",
        "-   y is the real values\n",
        "\n",
        "-   m is the number of observations\n",
        "\n",
        "Note that $\\alpha^{T}$ means it uses the transpose of the matrices. The\n",
        "$\\frac{1}{m}\\sum$ is the mathematical notation of the mean.\n",
        "\n",
        "The goal is to find the best $\\alpha$ that minimize the MSE\n",
        "\n",
        "If the average error is large, it means the model performs poorly and\n",
        "the weights are not chosen properly. To correct the weights, you need to\n",
        "use an optimizer. The traditional optimizer is called **Gradient Descent**.\n",
        "\n",
        "The gradient descent takes the derivative and decreases or increases the\n",
        "weight. If the derivative is positive, the weight is decreased. If the\n",
        "derivative is negative, the weight increases. The model will update the\n",
        "weights and recompute the error. This process is repeated until the\n",
        "error does not change anymore. Each process is called an **iteration**.\n",
        "Besides, the gradients are multiplied by a learning rate. It indicates\n",
        "the speed of the learning.\n",
        "\n",
        "If the learning rate is too small, it will take very long time for the\n",
        "algorithm to converge (i.e requires lots of iterations). If the learning\n",
        "rate is too high, the algorithm might never converge.\n",
        "\n",
        "![](https://github.com/thomaspernet/Tensorflow/blob/master/tensorflow/15_linear-regression_files/image60.png?raw=true)\n",
        "\n",
        "You can see from the picture above, the model repeats the process about\n",
        "20 times before to find a stable value for the weights, therefore\n",
        "reaching the lowest error.\n",
        "\n",
        "**Note that**, the error is not equal to zero but stabilizes around 5.\n",
        "It means, the model makes a typical error of 5. If you want to reduce\n",
        "the error, you need to add more information to the model such as more\n",
        "variables or use different estimators.\n",
        "\n",
        "You remember the first equation\n",
        "\n",
        "$$y = \\beta + \\alpha X + \\epsilon$$\n",
        "\n",
        "We don’t know what the optimal values for $\\beta$  and $\\alpha$ are and we want to learn them from data. To do that, we look for such values for $\\beta$ and $\\alpha$ that minimize the mean squared error:\n",
        "\n",
        "$$l \\stackrel{\\mathrm{def}}{=} \\frac{1}{N} \\sum_{i=1}^{N}\\left(y_{i}-\\left(\\alpha x_{i}+\\beta\\right)\\right)^{2}$$\n",
        "\n",
        "Gradient descent starts with calculating the partial derivative for every parameter: \n",
        "\n",
        "$$\\begin{aligned} \\frac{\\partial l}{\\partial \\beta} &=\\frac{1}{N} \\sum_{i=1}^{N}-2 x_{i}\\left(y_{i}-\\left(\\alpha x_{i}+\\beta\\right)\\right) \\\\ \\frac{\\partial l}{\\partial \\alpha} &=\\frac{1}{N} \\sum_{i=1}^{N}-2\\left(y_{i}-\\left(\\alpha x_{i}+\\beta\\right)\\right) \\end{aligned}$$\n",
        "\n",
        "To find the partial derivative of the term $(yi−(wx+b))^2$ with respect to w I applied the chain rule.\n",
        "\n",
        "Here, we have the chain $f = f_2(f_1)$ where $f_1 = yi −(wx+b)$ and $f_2 = f_1^2$ . To find a partial derivative of f with respect to w we have to first find the partial derivative of f with respect to $f_2$ which is equal to $2(yi −(wx+b))$ then we have to multiply it by the partial derivative of $yi −(wx+b)$ with respect to $\\beta$  which is equal to $ −x$\n",
        "\n",
        "Gradient descent proceeds in epochs. An epoch consists of using the training set entirely to update each parameter. In the beginning, the first epoch, we initialize $w \\leftarrow 0 \\text { and } b \\leftarrow 0$.\n",
        "\n",
        "The partial derivatives, $\\frac{\\partial l}{\\partial w} \\text { and } \\frac{\\partial l}{\\partial b}$ equal, respectively $\\frac{-2}{N} \\sum_{i=1}^{N} x_{i} y_{i}$ and $\\frac{-2}{N} \\sum_{i=1}^{N} y_{i}$ At each epoch, we update  $\\alpha$  and $\\beta$ using partial derivatives. The learning rate α controls the size of an update: \n",
        "\n",
        "$$\\begin{array}{c}{w \\leftarrow w-\\alpha \\frac{\\partial l}{\\partial w}} \\\\ {b \\leftarrow b-\\alpha \\frac{\\partial l}{\\partial b}}\\end{array}$$\n",
        "\n",
        "We subtract (as opposed to adding) partial derivatives from the values of parameters because derivatives are indicators of growth of a function.\n",
        "\n",
        "If a derivative is positive at some point , then the function grows at this point. Because we want to minimize the objective function, when the derivative is positive we know that we need to move our parameter in the opposite direction (to the left on the axis of coordinates).\n",
        "\n",
        "When the derivative is negative (function is decreasing), we need to move our parameter to the right to decrease the value of the function even more. Subtracting a negative value from a parameter moves it to the right.\n",
        "\n",
        "At the next epoch, we recalculate partial derivatives using eq. above with the updated values of w and b; we continue the process until convergence. Typically, we need many epochs until we start seeing that the values for $\\alpha$  and $\\beta$ don’t change much after each epoch; then we stop.\n",
        "\n"
      ]
    },
    {
      "cell_type": "code",
      "metadata": {
        "id": "yGs4hSOphCHZ",
        "colab_type": "code",
        "colab": {}
      },
      "source": [
        "def update_alpha_beta(X, Y, b, a, lr):\n",
        "  dl_db = 0.0\n",
        "  dl_da = 0.0\n",
        "  \n",
        "  N  = len(X)\n",
        "  \n",
        "  ## Compute derivative\n",
        "  dl_da = np.mean(-2 * X * (Y - (a * X + b)))\n",
        "  dl_db = np.mean(-2 * (Y - (a * X + b)))\n",
        "  \n",
        "  ## Update Beta and alpha\n",
        "  \n",
        "  b = b - lr * dl_db\n",
        "  a = a - lr * dl_da\n",
        "  \n",
        "  return b, a"
      ],
      "execution_count": 0,
      "outputs": []
    },
    {
      "cell_type": "markdown",
      "metadata": {
        "id": "V3Wds8mijdgx",
        "colab_type": "text"
      },
      "source": [
        "The functionthat loops over multiple epochs is shown below: "
      ]
    },
    {
      "cell_type": "code",
      "metadata": {
        "id": "PoXEGWdKjc6C",
        "colab_type": "code",
        "outputId": "03f44207-8d23-4b1d-b645-c67ff293528c",
        "colab": {
          "base_uri": "https://localhost:8080/",
          "height": 33
        }
      },
      "source": [
        "update_alpha_beta(X = df['X'],\n",
        "                  Y = df['Y'],\n",
        "                  b = 0,\n",
        "                  a = 0,\n",
        "                  lr = 0.01) "
      ],
      "execution_count": 0,
      "outputs": [
        {
          "output_type": "execute_result",
          "data": {
            "text/plain": [
              "(0.07565706650966983, 0.038539843928379294)"
            ]
          },
          "metadata": {
            "tags": []
          },
          "execution_count": 34
        }
      ]
    },
    {
      "cell_type": "markdown",
      "metadata": {
        "id": "ZtQoWKAJkUTm",
        "colab_type": "text"
      },
      "source": [
        "The function `MSE` in the below code snippet is a function that computes the mean squared error. It is defined as: \n",
        "\n",
        "$$MSE(X) = \\frac{1}{m}\\sum_{i = 1}^{m}((\\beta + \\alpha^{T}x^{i}) - y^{i})^{2}$$"
      ]
    },
    {
      "cell_type": "code",
      "metadata": {
        "id": "8WAG_88akDf2",
        "colab_type": "code",
        "colab": {}
      },
      "source": [
        "def MSE(X, Y, b, a):\n",
        "  \n",
        "  y_pred = b + a * X\n",
        "  total_error = np.mean((y_pred - Y)**2)\n",
        "  return total_error"
      ],
      "execution_count": 0,
      "outputs": []
    },
    {
      "cell_type": "code",
      "metadata": {
        "id": "drb98DaxltyU",
        "colab_type": "code",
        "outputId": "4f1b19f3-718e-4bd1-caff-d7b66c0e9c48",
        "colab": {
          "base_uri": "https://localhost:8080/",
          "height": 33
        }
      },
      "source": [
        "MSE(X = df['X'],\n",
        "    Y = df['Y'],\n",
        "    b = 0.07565706650966983,\n",
        "    a = 0.038539843928379294)"
      ],
      "execution_count": 0,
      "outputs": [
        {
          "output_type": "execute_result",
          "data": {
            "text/plain": [
              "14.370142687175758"
            ]
          },
          "metadata": {
            "tags": []
          },
          "execution_count": 39
        }
      ]
    },
    {
      "cell_type": "code",
      "metadata": {
        "id": "vxXzLF_hn1X1",
        "colab_type": "code",
        "colab": {}
      },
      "source": [
        "def train(X, Y, b, a, lr, epochs):\n",
        "  \n",
        "  for e in range(epochs):\n",
        "    b, a = update_alpha_beta(X = df['X'],\n",
        "                  Y = df['Y'],\n",
        "                  b = b,\n",
        "                  a = a,\n",
        "                  lr = 0.01) \n",
        "    \n",
        "    if e % 400 == 0:\n",
        "      print(\"epoch:\", e, \"loss: \", MSE(X, Y, b, a)) \n",
        "      plt.plot(X, Y, 'o', label='original data')\n",
        "      plt.plot(X, b + a * X, 'r', label='fitted line')\n",
        "      plt.legend()\n",
        "      plt.show()\n",
        "  \n",
        "  return b, a"
      ],
      "execution_count": 0,
      "outputs": []
    },
    {
      "cell_type": "code",
      "metadata": {
        "id": "RZ3raUM0oaQM",
        "colab_type": "code",
        "outputId": "d1df72c7-c6ab-4bd8-cc0b-05498f52cbe8",
        "colab": {
          "base_uri": "https://localhost:8080/",
          "height": 1402
        }
      },
      "source": [
        "train(X = df['X'],\n",
        "      Y = df['Y'],\n",
        "      b = 0,\n",
        "      a = 0,\n",
        "      lr = 0.001,\n",
        "      epochs = 2000)"
      ],
      "execution_count": 0,
      "outputs": [
        {
          "output_type": "stream",
          "text": [
            "epoch: 0 loss:  14.370142687175758\n"
          ],
          "name": "stdout"
        },
        {
          "output_type": "display_data",
          "data": {
            "image/png": "[encoded data removed]",
            "text/plain": [
              "<Figure size 432x288 with 1 Axes>"
            ]
          },
          "metadata": {
            "tags": []
          }
        },
        {
          "output_type": "stream",
          "text": [
            "epoch: 400 loss:  0.12448016935343074\n"
          ],
          "name": "stdout"
        },
        {
          "output_type": "display_data",
          "data": {
            "image/png": "[encoded data removed]",
            "text/plain": [
              "<Figure size 432x288 with 1 Axes>"
            ]
          },
          "metadata": {
            "tags": []
          }
        },
        {
          "output_type": "stream",
          "text": [
            "epoch: 800 loss:  0.08674116407751747\n"
          ],
          "name": "stdout"
        },
        {
          "output_type": "display_data",
          "data": {
            "image/png": "[encoded data removed]",
            "text/plain": [
              "<Figure size 432x288 with 1 Axes>"
            ]
          },
          "metadata": {
            "tags": []
          }
        },
        {
          "output_type": "stream",
          "text": [
            "epoch: 1200 loss:  0.07391624624742799\n"
          ],
          "name": "stdout"
        },
        {
          "output_type": "display_data",
          "data": {
            "image/png": "[encoded data removed]",
            "text/plain": [
              "<Figure size 432x288 with 1 Axes>"
            ]
          },
          "metadata": {
            "tags": []
          }
        },
        {
          "output_type": "stream",
          "text": [
            "epoch: 1600 loss:  0.06955792529639983\n"
          ],
          "name": "stdout"
        },
        {
          "output_type": "display_data",
          "data": {
            "image/png": "[encoded data removed]",
            "text/plain": [
              "<Figure size 432x288 with 1 Axes>"
            ]
          },
          "metadata": {
            "tags": []
          }
        },
        {
          "output_type": "execute_result",
          "data": {
            "text/plain": [
              "(2.5195135925077126, 2.840028264127747)"
            ]
          },
          "metadata": {
            "tags": []
          },
          "execution_count": 55
        }
      ]
    },
    {
      "cell_type": "code",
      "metadata": {
        "id": "u-iGT-lrotLM",
        "colab_type": "code",
        "outputId": "bfaa2fb9-cfee-47df-a7a1-dbe20120a055",
        "colab": {
          "base_uri": "https://localhost:8080/",
          "height": 33
        }
      },
      "source": [
        "from scipy import stats\n",
        "slope, intercept, r_value, p_value, std_err = stats.linregress(df['X'], df['Y'])\n",
        "print(\"slope: %f    intercept: %f MSE: %f\" % (slope, intercept, r_value**2))"
      ],
      "execution_count": 0,
      "outputs": [
        {
          "output_type": "stream",
          "text": [
            "slope: 2.936102    intercept: 2.473575 MSE: 0.912845\n"
          ],
          "name": "stdout"
        }
      ]
    },
    {
      "cell_type": "markdown",
      "metadata": {
        "id": "9r8VZ6oCqvuY",
        "colab_type": "text"
      },
      "source": [
        "Minibatch stochastic gradient descent (minibatch SGD) is a version of the algorithm that speeds up the computation by approximating the gradient using smaller batches (subsets) of the training data. SGD itself has various  \"upgrades\". \n",
        "\n",
        "Adagrad is a version of SGD that scales $lr$ for each parameter according to the history of gradients. As a result, $lr$ is reduced for very large gradients and vice-versa. \n",
        "\n",
        "Momentum is a method that helps accelerate SGD by orienting the gradient descent in the relevant direction and reducing oscillations. In neural network training, variants of SGD such as RMSprop and Adam, are very frequently used. \n",
        "\n",
        "Notice that gradient descent and its variants are not machine learning algorithms. They are solvers of minimization problems in which the function to minimize has a gradient (in most points of its domain)"
      ]
    }
  ]
}