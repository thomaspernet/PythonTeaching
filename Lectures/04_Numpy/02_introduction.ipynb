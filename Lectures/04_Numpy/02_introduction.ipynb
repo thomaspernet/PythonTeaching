{
 "cells": [
  {
   "cell_type": "markdown",
   "metadata": {
    "Collapsed": "false"
   },
   "source": [
    "# What is numpy?\n",
    "\n",
    "\n",
    "Numpy is an open source library available in Python that aids in\n",
    "mathematical, scientific, engineering, and data science programming.\n",
    "Numpy is an incredible library to perform mathematical and statistical\n",
    "operations. It works perfectly well for multi-dimensional arrays and\n",
    "matrices multiplication\n",
    "\n",
    "For any scientific project, numpy is the tool to know. It has been built\n",
    "to work with the N-dimensional array, linear algebra, random number,\n",
    "Fourier transform, etc. It can be integrated to C/C++ and Fortran.\n",
    "\n",
    "Numpy is a programming language that deals with multi-dimensional arrays\n",
    "and matrices. On top of the arrays and matrices, Numpy supports a large\n",
    "number of mathematical operations. In this part, we will review the\n",
    "essential functions that you need to know for the tutorial on\n",
    "'TensorFlow.'\n",
    "\n",
    "## Why use numpy?\n",
    "\n",
    "\n",
    "Numpy is memory efficiency, meaning it can handle the vast amount of\n",
    "data more accessible than any other library. Besides, numpy is very\n",
    "convenient to work with, especially for matrix multiplication and\n",
    "reshaping. On top of that, numpy is fast. In fact, TensorFlow and Scikit\n",
    "learn to use numpy array to compute the matrix multiplication in the\n",
    "back end.\n",
    "\n",
    "## How to install numpy?\n",
    "\n",
    "\n",
    "To install Pandas library, please refer our tutorial [How to install\n",
    "TensorFlow](https://www.guru99.com/download-install-tensorflow.html).\n",
    "Numpy is installed by default. In remote case, numpy not installed-\n",
    "\n",
    "You can install numpy using:\n",
    "\n",
    "-   Anaconda: `conda conda install -c anaconda numpy`\n",
    "\n",
    "-   In Jupyter Notebook :"
   ]
  },
  {
   "cell_type": "code",
   "execution_count": null,
   "metadata": {
    "Collapsed": "false"
   },
   "outputs": [],
   "source": [
    "import sys\n",
    "!conda install --yes --prefix {sys.prefix} numpy"
   ]
  },
  {
   "cell_type": "markdown",
   "metadata": {
    "Collapsed": "false"
   },
   "source": [
    "### Import Numpy and Check Version\n",
    "\n",
    "The command to import numpy is"
   ]
  },
  {
   "cell_type": "code",
   "execution_count": 2,
   "metadata": {
    "Collapsed": "false"
   },
   "outputs": [],
   "source": [
    "import numpy as np"
   ]
  },
  {
   "cell_type": "markdown",
   "metadata": {
    "Collapsed": "false"
   },
   "source": [
    "Above code renames the Numpy namespace to `np`. This permits us to prefix Numpy function, methods, and attributes with `np` instead of typing `numpy`. It is the standard shortcut you will find in the numpy literature\n",
    "\n",
    "To check your installed version of Numpy use the command"
   ]
  },
  {
   "cell_type": "code",
   "execution_count": 3,
   "metadata": {
    "Collapsed": "false"
   },
   "outputs": [
    {
     "name": "stdout",
     "output_type": "stream",
     "text": [
      "1.16.4\n"
     ]
    }
   ],
   "source": [
    "print (np.__version__)"
   ]
  },
  {
   "cell_type": "markdown",
   "metadata": {
    "Collapsed": "false"
   },
   "source": [
    "### Create a Numpy Array\n",
    "\n",
    "Simplest way to create an array in Numpy is to use Python List"
   ]
  },
  {
   "cell_type": "code",
   "execution_count": 4,
   "metadata": {
    "Collapsed": "false"
   },
   "outputs": [],
   "source": [
    "myPythonList = [1,9,8,3]"
   ]
  },
  {
   "cell_type": "markdown",
   "metadata": {
    "Collapsed": "false"
   },
   "source": [
    "To convert python list to a numpy array by using the object `np.array`."
   ]
  },
  {
   "cell_type": "code",
   "execution_count": 5,
   "metadata": {
    "Collapsed": "false"
   },
   "outputs": [],
   "source": [
    "numpy_array_from_list = np.array(myPythonList)"
   ]
  },
  {
   "cell_type": "markdown",
   "metadata": {
    "Collapsed": "false"
   },
   "source": [
    "To display the contents of the list"
   ]
  },
  {
   "cell_type": "code",
   "execution_count": 7,
   "metadata": {
    "Collapsed": "false"
   },
   "outputs": [
    {
     "data": {
      "text/plain": [
       "array([1, 9, 8, 3])"
      ]
     },
     "execution_count": 7,
     "metadata": {},
     "output_type": "execute_result"
    }
   ],
   "source": [
    "numpy_array_from_list"
   ]
  },
  {
   "cell_type": "markdown",
   "metadata": {
    "Collapsed": "false"
   },
   "source": [
    "In practice, there is no need to declare a Python List. The operation\n",
    "can be combined."
   ]
  },
  {
   "cell_type": "code",
   "execution_count": 8,
   "metadata": {
    "Collapsed": "false"
   },
   "outputs": [],
   "source": [
    "a = np.array([1,9,8,3])"
   ]
  },
  {
   "cell_type": "markdown",
   "metadata": {
    "Collapsed": "false"
   },
   "source": [
    "**NOTE**: Numpy documentation states use of `np.ndarray` to create\n",
    "an array. However, this the recommended method\n",
    "\n",
    "You can also create a numpy array from a Tuple\n",
    "\n",
    "## Mathematical Operations on an Array\n",
    "\n",
    "You could perform mathematical operations like additions, subtraction,\n",
    "division and multiplication on an array. The syntax is the array name\n",
    "followed by the operation (+.-,*,/) followed by the operand\n",
    "\n",
    "Example:"
   ]
  },
  {
   "cell_type": "code",
   "execution_count": 9,
   "metadata": {
    "Collapsed": "false"
   },
   "outputs": [
    {
     "data": {
      "text/plain": [
       "array([11, 19, 18, 13])"
      ]
     },
     "execution_count": 9,
     "metadata": {},
     "output_type": "execute_result"
    }
   ],
   "source": [
    "numpy_array_from_list + 10"
   ]
  },
  {
   "cell_type": "markdown",
   "metadata": {
    "Collapsed": "false"
   },
   "source": [
    "This operation adds 10 to each element of the numpy array.\n",
    "\n",
    "## Shape of Array\n",
    "\n",
    "\n",
    "You can check the shape of the array with the object `shape` preceded by\n",
    "the name of the array. In the same way, you can check the type with\n",
    "`dtypes`."
   ]
  },
  {
   "cell_type": "code",
   "execution_count": 10,
   "metadata": {
    "Collapsed": "false"
   },
   "outputs": [
    {
     "name": "stdout",
     "output_type": "stream",
     "text": [
      "(3,)\n",
      "int64\n"
     ]
    }
   ],
   "source": [
    "import numpy as np\n",
    "a  = np.array([1,2,3])\n",
    "print(a.shape)\n",
    "print(a.dtype)"
   ]
  },
  {
   "cell_type": "markdown",
   "metadata": {
    "Collapsed": "false"
   },
   "source": [
    "An integer is a value without decimal. If you create an array with\n",
    "decimal, then the type will change to float."
   ]
  },
  {
   "cell_type": "code",
   "execution_count": 11,
   "metadata": {
    "Collapsed": "false"
   },
   "outputs": [
    {
     "name": "stdout",
     "output_type": "stream",
     "text": [
      "float64\n"
     ]
    }
   ],
   "source": [
    "#### Different type\n",
    "b  = np.array([1.1,2.0,3.2])\n",
    "print(b.dtype)"
   ]
  },
  {
   "cell_type": "markdown",
   "metadata": {
    "Collapsed": "false"
   },
   "source": [
    "### 2 Dimension Array\n",
    "\n",
    "You can add a dimension with a ',' coma\n",
    "\n",
    "Note that it has to be within the bracket `[]`"
   ]
  },
  {
   "cell_type": "code",
   "execution_count": 12,
   "metadata": {
    "Collapsed": "false"
   },
   "outputs": [
    {
     "name": "stdout",
     "output_type": "stream",
     "text": [
      "(2, 3)\n"
     ]
    }
   ],
   "source": [
    "### 2 dimension\n",
    "c = np.array([(1,2,3),\n",
    "              (4,5,6)])\n",
    "print(c.shape)"
   ]
  },
  {
   "cell_type": "markdown",
   "metadata": {
    "Collapsed": "false"
   },
   "source": [
    "### 3 Dimension Array\n",
    "\n",
    "Higher dimension can be constructed as follow:"
   ]
  },
  {
   "cell_type": "code",
   "execution_count": 13,
   "metadata": {
    "Collapsed": "false"
   },
   "outputs": [
    {
     "name": "stdout",
     "output_type": "stream",
     "text": [
      "(2, 2, 3)\n"
     ]
    }
   ],
   "source": [
    "### 3 dimension\n",
    "d = np.array([\n",
    "    [[1, 2,3],\n",
    "        [4, 5, 6]],\n",
    "    [[7, 8,9],\n",
    "        [10, 11, 12]]\n",
    "])\n",
    "print(d.shape)"
   ]
  },
  {
   "cell_type": "markdown",
   "metadata": {
    "Collapsed": "false"
   },
   "source": [
    "### np.zeros and np.ones\n",
    "\n",
    "\n",
    "You can create matrix full of zeroes or ones. It can be used when you\n",
    "initialized the weights during the first iteration in TensorFlow.\n",
    "\n",
    "The syntax is\n",
    "\n",
    "```\n",
    "np.zeros(shape, dtype=float, order='C')\n",
    "np.ones(shape,dtype=float, order='C')\n",
    "```\n"
   ]
  },
  {
   "cell_type": "markdown",
   "metadata": {
    "Collapsed": "false"
   },
   "source": [
    "Here,\n",
    "\n",
    "**Shape**: is the shape of the array\n",
    "\n",
    "**Dtype***: is the datatype. It is optional. The default value is\n",
    "float64*\n",
    "\n",
    "**Order**: Default is C which is an essential row style.\n",
    "\n",
    "Example:"
   ]
  },
  {
   "cell_type": "code",
   "execution_count": 15,
   "metadata": {
    "Collapsed": "false"
   },
   "outputs": [
    {
     "data": {
      "text/plain": [
       "array([[0., 0.],\n",
       "       [0., 0.]])"
      ]
     },
     "execution_count": 15,
     "metadata": {},
     "output_type": "execute_result"
    }
   ],
   "source": [
    "np.zeros((2,2))"
   ]
  },
  {
   "cell_type": "code",
   "execution_count": 16,
   "metadata": {
    "Collapsed": "false"
   },
   "outputs": [
    {
     "data": {
      "text/plain": [
       "array([[[1, 1, 1],\n",
       "        [1, 1, 1]]], dtype=int16)"
      ]
     },
     "execution_count": 16,
     "metadata": {},
     "output_type": "execute_result"
    }
   ],
   "source": [
    "## Create 1\n",
    "np.ones((1,2,3), dtype=np.int16)"
   ]
  },
  {
   "cell_type": "markdown",
   "metadata": {
    "Collapsed": "false"
   },
   "source": [
    "### Reshape and Flatten Data\n",
    "\n",
    "\n",
    "In some occasion, you need to reshape the data from wide to long."
   ]
  },
  {
   "cell_type": "code",
   "execution_count": 17,
   "metadata": {
    "Collapsed": "false"
   },
   "outputs": [
    {
     "name": "stdout",
     "output_type": "stream",
     "text": [
      "[[1 2 3]\n",
      " [4 5 6]]\n"
     ]
    },
    {
     "data": {
      "text/plain": [
       "array([[1, 2],\n",
       "       [3, 4],\n",
       "       [5, 6]])"
      ]
     },
     "execution_count": 17,
     "metadata": {},
     "output_type": "execute_result"
    }
   ],
   "source": [
    "e  = np.array([(1,2,3), (4,5,6)])\n",
    "print(e)\n",
    "e.reshape(3,2)"
   ]
  },
  {
   "cell_type": "markdown",
   "metadata": {
    "Collapsed": "false"
   },
   "source": [
    "When you deal with some neural network like convnet, you need to flatten\n",
    "the array. You can use `flatten()`"
   ]
  },
  {
   "cell_type": "code",
   "execution_count": 18,
   "metadata": {
    "Collapsed": "false"
   },
   "outputs": [
    {
     "data": {
      "text/plain": [
       "array([1, 2, 3, 4, 5, 6])"
      ]
     },
     "execution_count": 18,
     "metadata": {},
     "output_type": "execute_result"
    }
   ],
   "source": [
    "e.flatten()"
   ]
  },
  {
   "cell_type": "markdown",
   "metadata": {
    "Collapsed": "false"
   },
   "source": [
    "### hstack and vstack\n",
    "\n",
    "\n",
    "Numpy library has also two convenient function to horizontally or\n",
    "vertically append the data. Lets study them with an example:"
   ]
  },
  {
   "cell_type": "code",
   "execution_count": 19,
   "metadata": {
    "Collapsed": "false"
   },
   "outputs": [
    {
     "name": "stdout",
     "output_type": "stream",
     "text": [
      "Horizontal Append: [1 2 3 4 5 6]\n",
      "Vertical Append: [[1 2 3]\n",
      " [4 5 6]]\n"
     ]
    }
   ],
   "source": [
    "## Stack\n",
    "f = np.array([1,2,3])\n",
    "g = np.array([4,5,6])\n",
    "\n",
    "print('Horizontal Append:', np.hstack((f, g)))\n",
    "print('Vertical Append:', np.vstack((f, g)))"
   ]
  },
  {
   "cell_type": "markdown",
   "metadata": {
    "Collapsed": "false"
   },
   "source": [
    "### Generate Random Numbers\n",
    "\n",
    "\n",
    "To generate random numbers for Gaussian distribution use\n",
    "\n",
    "numpy .random.normal(loc, scale, size)\n",
    "\n",
    "Here\n",
    "\n",
    "-   Loc: the `mea``n. The center of distribution`\n",
    "\n",
    "-   `scale: ``standard deviation`.\n",
    "\n",
    "-   Size: number of returns"
   ]
  },
  {
   "cell_type": "code",
   "execution_count": 20,
   "metadata": {
    "Collapsed": "false"
   },
   "outputs": [
    {
     "name": "stdout",
     "output_type": "stream",
     "text": [
      "[5.1180944  5.29687675 4.7846956  4.81685938 4.42818159 4.57754818\n",
      " 4.60475054 3.84228102 6.46745557 5.91474114]\n"
     ]
    }
   ],
   "source": [
    "## Generate random nmber from normal distribution\n",
    "normal_array = np.random.normal(5, 0.5, 10)\n",
    "print(normal_array)"
   ]
  },
  {
   "cell_type": "markdown",
   "metadata": {
    "Collapsed": "false"
   },
   "source": [
    "### Asarray\n",
    "\n",
    "Consider the following 2-D matrix with four rows and four columns filled\n",
    "by 1"
   ]
  },
  {
   "cell_type": "code",
   "execution_count": 21,
   "metadata": {
    "Collapsed": "false"
   },
   "outputs": [],
   "source": [
    "A = np.matrix(np.ones((4,4)))"
   ]
  },
  {
   "cell_type": "markdown",
   "metadata": {
    "Collapsed": "false"
   },
   "source": [
    "If you want to change the value of the matrix, you cannot. The reason\n",
    "is, it is not possible to change a copy."
   ]
  },
  {
   "cell_type": "code",
   "execution_count": 22,
   "metadata": {
    "Collapsed": "false"
   },
   "outputs": [
    {
     "name": "stdout",
     "output_type": "stream",
     "text": [
      "[[1. 1. 1. 1.]\n",
      " [1. 1. 1. 1.]\n",
      " [1. 1. 1. 1.]\n",
      " [1. 1. 1. 1.]]\n"
     ]
    }
   ],
   "source": [
    "np.array(A)[2]=2\n",
    "print(A)"
   ]
  },
  {
   "cell_type": "markdown",
   "metadata": {
    "Collapsed": "false"
   },
   "source": [
    "`Matrix is immutable`. You can use `asarray` if you want to add\n",
    "modification in the original array. let’s see if any change occurs when\n",
    "you want to change the value of the third rows with the value 2"
   ]
  },
  {
   "cell_type": "code",
   "execution_count": 23,
   "metadata": {
    "Collapsed": "false"
   },
   "outputs": [
    {
     "name": "stdout",
     "output_type": "stream",
     "text": [
      "[[1. 1. 1. 1.]\n",
      " [1. 1. 1. 1.]\n",
      " [2. 2. 2. 2.]\n",
      " [1. 1. 1. 1.]]\n"
     ]
    }
   ],
   "source": [
    "np.asarray(A)[2]=2\n",
    "print(A)"
   ]
  },
  {
   "cell_type": "markdown",
   "metadata": {
    "Collapsed": "false"
   },
   "source": [
    "Code Explanation: \n",
    "`np.asarray(A)`: converts the matrix A to an array\n",
    "\n",
    "`[2]`: select the third rows\n",
    "\n",
    "### Arrange\n",
    "\n",
    "\n",
    "In some occasion, you want to create value evenly spaced within a given\n",
    "interval. For instance, you want to create values from 1 to 10; you can\n",
    "use `arrange`\n",
    "\n",
    "Syntax:\n",
    "\n",
    "numpy.arange(start, stop,step)\n",
    "\n",
    "-   Start: Start of interval\n",
    "\n",
    "-   Stop: End of interval\n",
    "\n",
    "-   Step: Spacing between values. Default step is 1\n",
    "\n",
    "Example:"
   ]
  },
  {
   "cell_type": "code",
   "execution_count": 24,
   "metadata": {
    "Collapsed": "false"
   },
   "outputs": [
    {
     "data": {
      "text/plain": [
       "array([ 1,  2,  3,  4,  5,  6,  7,  8,  9, 10])"
      ]
     },
     "execution_count": 24,
     "metadata": {},
     "output_type": "execute_result"
    }
   ],
   "source": [
    "np.arange(1, 11)"
   ]
  },
  {
   "cell_type": "markdown",
   "metadata": {
    "Collapsed": "false"
   },
   "source": [
    "If you want to change the step, you can add a third number in the\n",
    "parenthesis. It will change the step."
   ]
  },
  {
   "cell_type": "code",
   "execution_count": 25,
   "metadata": {
    "Collapsed": "false"
   },
   "outputs": [
    {
     "data": {
      "text/plain": [
       "array([ 1,  5,  9, 13])"
      ]
     },
     "execution_count": 25,
     "metadata": {},
     "output_type": "execute_result"
    }
   ],
   "source": [
    "np.arange(1, 14, 4)"
   ]
  },
  {
   "cell_type": "markdown",
   "metadata": {
    "Collapsed": "false"
   },
   "source": [
    "### Linspace\n",
    "\n",
    "\n",
    "Linspace gives evenly spaced samples.\n",
    "\n",
    "Syntax: numpy.linspace(start, stop, num, endpoint)\n",
    "\n",
    "Here,\n",
    "\n",
    "-   Start: Starting value of the sequence\n",
    "\n",
    "-   Stop: End value of the sequence\n",
    "\n",
    "-   Num: Number of samples to generate. Default is 50\n",
    "\n",
    "-   Endpoint: If True (default), stop is the last value. If False, stop\n",
    "    value is not included.\n",
    "\n",
    "For instance, it can be used to create 10 values from 1 to 5 evenly\n",
    "spaced."
   ]
  },
  {
   "cell_type": "code",
   "execution_count": 26,
   "metadata": {
    "Collapsed": "false"
   },
   "outputs": [
    {
     "data": {
      "text/plain": [
       "array([1.        , 1.44444444, 1.88888889, 2.33333333, 2.77777778,\n",
       "       3.22222222, 3.66666667, 4.11111111, 4.55555556, 5.        ])"
      ]
     },
     "execution_count": 26,
     "metadata": {},
     "output_type": "execute_result"
    }
   ],
   "source": [
    "np.linspace(1.0, 5.0, num=10)"
   ]
  },
  {
   "cell_type": "markdown",
   "metadata": {
    "Collapsed": "false"
   },
   "source": [
    "If you do not want to include the last digit in the interval, you can\n",
    "set `endpoint` to false"
   ]
  },
  {
   "cell_type": "code",
   "execution_count": 27,
   "metadata": {
    "Collapsed": "false"
   },
   "outputs": [
    {
     "data": {
      "text/plain": [
       "array([1. , 1.8, 2.6, 3.4, 4.2])"
      ]
     },
     "execution_count": 27,
     "metadata": {},
     "output_type": "execute_result"
    }
   ],
   "source": [
    "np.linspace(1.0, 5.0, num=5, endpoint=False)"
   ]
  },
  {
   "cell_type": "markdown",
   "metadata": {
    "Collapsed": "false"
   },
   "source": [
    "### LogSpace\n",
    "\n",
    "LogSpace returns even spaced numbers on a log scale. Logspace has the\n",
    "same parameters as np.linspace."
   ]
  },
  {
   "cell_type": "code",
   "execution_count": 28,
   "metadata": {
    "Collapsed": "false"
   },
   "outputs": [
    {
     "data": {
      "text/plain": [
       "array([ 1000.        ,  2154.43469003,  4641.58883361, 10000.        ])"
      ]
     },
     "execution_count": 28,
     "metadata": {},
     "output_type": "execute_result"
    }
   ],
   "source": [
    "np.logspace(3.0, 4.0, num=4)"
   ]
  },
  {
   "cell_type": "markdown",
   "metadata": {
    "Collapsed": "false"
   },
   "source": [
    "Finaly, if you want to check the size of an array, you can use\n",
    "`itemsize`"
   ]
  },
  {
   "cell_type": "code",
   "execution_count": 29,
   "metadata": {
    "Collapsed": "false"
   },
   "outputs": [
    {
     "data": {
      "text/plain": [
       "16"
      ]
     },
     "execution_count": 29,
     "metadata": {},
     "output_type": "execute_result"
    }
   ],
   "source": [
    "x = np.array([1,2,3], dtype=np.complex128)\n",
    "x.itemsize"
   ]
  },
  {
   "cell_type": "markdown",
   "metadata": {
    "Collapsed": "false"
   },
   "source": [
    "The `x` element has 16 bytes.\n",
    "\n",
    "### Indexing and slicing\n",
    "\n",
    "Slicing data is trivial with numpy. We will slice the matrice\n",
    "`e``. ``Note that, in Python, you need to use the brackets to return the rows or columns`"
   ]
  },
  {
   "cell_type": "code",
   "execution_count": 30,
   "metadata": {
    "Collapsed": "false"
   },
   "outputs": [
    {
     "name": "stdout",
     "output_type": "stream",
     "text": [
      "[[1 2 3]\n",
      " [4 5 6]]\n"
     ]
    }
   ],
   "source": [
    "## Slice\n",
    "\n",
    "e  = np.array([(1,2,3), (4,5,6)])\n",
    "print(e)"
   ]
  },
  {
   "cell_type": "markdown",
   "metadata": {
    "Collapsed": "false"
   },
   "source": [
    "Remember with numpy the first array/column starts at 0."
   ]
  },
  {
   "cell_type": "code",
   "execution_count": 31,
   "metadata": {
    "Collapsed": "false"
   },
   "outputs": [
    {
     "name": "stdout",
     "output_type": "stream",
     "text": [
      "First row: [1 2 3]\n",
      "Second row: [4 5 6]\n"
     ]
    }
   ],
   "source": [
    "## First column\n",
    "print('First row:', e[0])\n",
    "\n",
    "## Second col\n",
    "print('Second row:', e[1])"
   ]
  },
  {
   "cell_type": "markdown",
   "metadata": {
    "Collapsed": "false"
   },
   "source": [
    "In Python, like many other languages,\n",
    "\n",
    "-   The values before the comma stand for the rows\n",
    "\n",
    "-   The value on the rights stands for the columns.\n",
    "\n",
    "-   If you want to select a column, you need to add `:` before the\n",
    "    column index.\n",
    "\n",
    "-   `:` means you want all the rows from the selected column."
   ]
  },
  {
   "cell_type": "code",
   "execution_count": 33,
   "metadata": {
    "Collapsed": "false"
   },
   "outputs": [
    {
     "name": "stdout",
     "output_type": "stream",
     "text": [
      "Second column: [2 5]\n"
     ]
    }
   ],
   "source": [
    "print('Second column:', e[:,1])"
   ]
  },
  {
   "cell_type": "markdown",
   "metadata": {
    "Collapsed": "false"
   },
   "source": [
    "To return the first two values of the second row. You use : to select\n",
    "all columns up to the second"
   ]
  },
  {
   "cell_type": "code",
   "execution_count": 34,
   "metadata": {
    "Collapsed": "false"
   },
   "outputs": [
    {
     "name": "stdout",
     "output_type": "stream",
     "text": [
      "[4 5]\n"
     ]
    }
   ],
   "source": [
    "## \n",
    "print(e[1, :2])"
   ]
  },
  {
   "cell_type": "markdown",
   "metadata": {
    "Collapsed": "false"
   },
   "source": [
    "### Statistical function\n",
    "\n",
    "Numpy is equipped with the robust statistical function as listed below\n",
    "\n",
    "| Function           | Numpy       |\n",
    "|--------------------|-------------|\n",
    "| Min                | np.min()    |\n",
    "| Max                | np.max()    |\n",
    "| Mean               | np.mean()   |\n",
    "| Median             | np.median() |\n",
    "| Standard deviation | np.stdt()   |"
   ]
  },
  {
   "cell_type": "code",
   "execution_count": 35,
   "metadata": {
    "Collapsed": "false"
   },
   "outputs": [
    {
     "name": "stdout",
     "output_type": "stream",
     "text": [
      "3.8422810247030874\n",
      "6.467455570625923\n",
      "4.985148417529681\n",
      "4.800777490510811\n",
      "0.7191611270447485\n"
     ]
    }
   ],
   "source": [
    "## Statistical function\n",
    "### Min \n",
    "print(np.min(normal_array))\n",
    "\n",
    "### Max \n",
    "print(np.max(normal_array))\n",
    "### Mean \n",
    "print(np.mean(normal_array))\n",
    "### Median\n",
    "print(np.median(normal_array))\n",
    "### Sd\n",
    "print(np.std(normal_array))"
   ]
  },
  {
   "cell_type": "markdown",
   "metadata": {
    "Collapsed": "false"
   },
   "source": [
    "### Dot Product\n",
    "\n",
    "Numpy is powerful library for matrices computation. For instance, you\n",
    "can compute the dot product with `np.dot`"
   ]
  },
  {
   "cell_type": "code",
   "execution_count": 36,
   "metadata": {
    "Collapsed": "false"
   },
   "outputs": [
    {
     "data": {
      "text/plain": [
       "14"
      ]
     },
     "execution_count": 36,
     "metadata": {},
     "output_type": "execute_result"
    }
   ],
   "source": [
    "## Linear algebra\n",
    "### Dot product: product of two arrays\n",
    "f = np.array([1,2])\n",
    "g = np.array([4,5])\n",
    "### 1*4+2*5\n",
    "np.dot(f, g)"
   ]
  },
  {
   "cell_type": "markdown",
   "metadata": {
    "Collapsed": "false"
   },
   "source": [
    "### Matrix Multiplication\n",
    "\n",
    "In the same way, you can compute matrices multiplication with\n",
    "`np.matmul`"
   ]
  },
  {
   "cell_type": "code",
   "execution_count": 37,
   "metadata": {
    "Collapsed": "false"
   },
   "outputs": [
    {
     "data": {
      "text/plain": [
       "array([[19, 22],\n",
       "       [43, 50]])"
      ]
     },
     "execution_count": 37,
     "metadata": {},
     "output_type": "execute_result"
    }
   ],
   "source": [
    "### Matmul: matruc product of two arrays\n",
    "h = [[1,2],[3,4]] \n",
    "i = [[5,6],[7,8]] \n",
    "### 1*5+2*7 = 19\n",
    "np.matmul(h, i)"
   ]
  },
  {
   "cell_type": "markdown",
   "metadata": {
    "Collapsed": "false"
   },
   "source": [
    "### Determinant\n",
    "\n",
    "Last but not least, if you need to compute the determinant, you can use\n",
    "`np.linalg.det()`. Note that numpy takes care of the dimension."
   ]
  },
  {
   "cell_type": "code",
   "execution_count": 38,
   "metadata": {
    "Collapsed": "false"
   },
   "outputs": [
    {
     "data": {
      "text/plain": [
       "-1.999999999999999"
      ]
     },
     "execution_count": 38,
     "metadata": {},
     "output_type": "execute_result"
    }
   ],
   "source": [
    "## Determinant 2*2 matrix\n",
    "### 5*8-7*6\n",
    "np.linalg.det(i)"
   ]
  },
  {
   "cell_type": "markdown",
   "metadata": {
    "Collapsed": "false"
   },
   "source": [
    "## Summary\n",
    "\n",
    "\n",
    "Below, a summary of the essential functions used with numpy\n",
    "\n",
    "| Objective             | Code             |\n",
    "|-----------------------|------------------|\n",
    "| Create array          | array([1,2,3])   |\n",
    "| print the shape       | array([.]).shape |\n",
    "| reshape               | reshape          |\n",
    "| flat an array         | flatten          |\n",
    "| append vertically     | vstack           |\n",
    "| append horizontally   | hstack           |\n",
    "| create a matrix       | matrix           |\n",
    "| create space          | arrange          |\n",
    "| Create a linear space | linspace         |\n",
    "| Create a log space    | logspace         |\n",
    "\n",
    "\n",
    "Below is a summary of basic statistical and arithmetical function\n",
    "\n",
    "| Objective          | Code     |\n",
    "|--------------------|----------|\n",
    "| min                | min()    |\n",
    "| max                | max()    |\n",
    "| mean               | mean()   |\n",
    "| median             | median() |\n",
    "| standard deviation | std()    |\n",
    "\n",
    "Code:\n",
    "\n",
    "import numpy as np\n",
    "\n",
    "\n",
    "\n",
    "##Create array\n",
    "\n",
    "### list"
   ]
  },
  {
   "cell_type": "code",
   "execution_count": 39,
   "metadata": {
    "Collapsed": "false"
   },
   "outputs": [],
   "source": [
    "myPythonList = [1,9,8,3]\n",
    "\n",
    "numpy_array_from_list = np.array(myPythonList)"
   ]
  },
  {
   "cell_type": "markdown",
   "metadata": {
    "Collapsed": "false"
   },
   "source": [
    "### Directly in numpy"
   ]
  },
  {
   "cell_type": "code",
   "execution_count": 40,
   "metadata": {
    "Collapsed": "false"
   },
   "outputs": [
    {
     "data": {
      "text/plain": [
       "array([1, 9, 8, 3])"
      ]
     },
     "execution_count": 40,
     "metadata": {},
     "output_type": "execute_result"
    }
   ],
   "source": [
    "np.array([1,9,8,3])"
   ]
  },
  {
   "cell_type": "markdown",
   "metadata": {
    "Collapsed": "false"
   },
   "source": [
    "### Shape"
   ]
  },
  {
   "cell_type": "code",
   "execution_count": 41,
   "metadata": {
    "Collapsed": "false"
   },
   "outputs": [
    {
     "name": "stdout",
     "output_type": "stream",
     "text": [
      "(3,)\n"
     ]
    }
   ],
   "source": [
    "a = np.array([1,2,3])\n",
    "print(a.shape)"
   ]
  },
  {
   "cell_type": "markdown",
   "metadata": {
    "Collapsed": "false"
   },
   "source": [
    "### Type"
   ]
  },
  {
   "cell_type": "code",
   "execution_count": 42,
   "metadata": {
    "Collapsed": "false"
   },
   "outputs": [
    {
     "name": "stdout",
     "output_type": "stream",
     "text": [
      "int64\n"
     ]
    }
   ],
   "source": [
    "print(a.dtype)"
   ]
  },
  {
   "cell_type": "markdown",
   "metadata": {
    "Collapsed": "false"
   },
   "source": [
    "### 2D array"
   ]
  },
  {
   "cell_type": "code",
   "execution_count": 43,
   "metadata": {
    "Collapsed": "false"
   },
   "outputs": [],
   "source": [
    "c = np.array([(1,2,3), (4,5,6)])"
   ]
  },
  {
   "cell_type": "markdown",
   "metadata": {
    "Collapsed": "false"
   },
   "source": [
    "### 3D array"
   ]
  },
  {
   "cell_type": "code",
   "execution_count": 44,
   "metadata": {
    "Collapsed": "false"
   },
   "outputs": [],
   "source": [
    "d = np.array([ \n",
    "[[1, 2,3],\n",
    "[4, 5, 6]],\n",
    "[[7, 8,9],\n",
    "[10, 11, 12]]\n",
    "])\n",
    "\n"
   ]
  },
  {
   "cell_type": "markdown",
   "metadata": {
    "Collapsed": "false"
   },
   "source": [
    "### Reshape"
   ]
  },
  {
   "cell_type": "code",
   "execution_count": 45,
   "metadata": {
    "Collapsed": "false"
   },
   "outputs": [
    {
     "name": "stdout",
     "output_type": "stream",
     "text": [
      "[[1 2 3]\n",
      " [4 5 6]]\n"
     ]
    },
    {
     "data": {
      "text/plain": [
       "array([[1, 2],\n",
       "       [3, 4],\n",
       "       [5, 6]])"
      ]
     },
     "execution_count": 45,
     "metadata": {},
     "output_type": "execute_result"
    }
   ],
   "source": [
    "e = np.array([(1,2,3), (4,5,6)])\n",
    "\n",
    "print(e)\n",
    "\n",
    "e.reshape(3,2)\n",
    "\n"
   ]
  },
  {
   "cell_type": "markdown",
   "metadata": {
    "Collapsed": "false"
   },
   "source": [
    "### Flatten"
   ]
  },
  {
   "cell_type": "code",
   "execution_count": 46,
   "metadata": {
    "Collapsed": "false"
   },
   "outputs": [
    {
     "data": {
      "text/plain": [
       "array([1, 2, 3, 4, 5, 6])"
      ]
     },
     "execution_count": 46,
     "metadata": {},
     "output_type": "execute_result"
    }
   ],
   "source": [
    "e.flatten()\n",
    "\n"
   ]
  },
  {
   "cell_type": "markdown",
   "metadata": {
    "Collapsed": "false"
   },
   "source": [
    "### hstack & vstack"
   ]
  },
  {
   "cell_type": "code",
   "execution_count": 47,
   "metadata": {
    "Collapsed": "false"
   },
   "outputs": [
    {
     "data": {
      "text/plain": [
       "array([[1, 2, 3],\n",
       "       [4, 5, 6]])"
      ]
     },
     "execution_count": 47,
     "metadata": {},
     "output_type": "execute_result"
    }
   ],
   "source": [
    "f = np.array([1,2,3])\n",
    "\n",
    "g = np.array([4,5,6])\n",
    "\n",
    "\n",
    "\n",
    "np.hstack((f, g))\n",
    "\n",
    "np.vstack((f, g))\n",
    "\n"
   ]
  },
  {
   "cell_type": "markdown",
   "metadata": {
    "Collapsed": "false"
   },
   "source": [
    "### random number\n",
    "\n",
    "Set seed"
   ]
  },
  {
   "cell_type": "code",
   "execution_count": null,
   "metadata": {
    "Collapsed": "false"
   },
   "outputs": [],
   "source": []
  },
  {
   "cell_type": "code",
   "execution_count": 48,
   "metadata": {
    "Collapsed": "false"
   },
   "outputs": [
    {
     "data": {
      "text/plain": [
       "array([4.83717788, 4.98953472, 4.10293351, 5.8041282 , 5.25870692,\n",
       "       5.0839897 , 4.40924748, 4.48955468, 4.97599562, 4.92598388])"
      ]
     },
     "execution_count": 48,
     "metadata": {},
     "output_type": "execute_result"
    }
   ],
   "source": [
    "normal_array = np.random.normal(5, 0.5, 10)\n",
    "\n",
    "normal_array"
   ]
  },
  {
   "cell_type": "markdown",
   "metadata": {
    "Collapsed": "false"
   },
   "source": [
    "### asarray"
   ]
  },
  {
   "cell_type": "code",
   "execution_count": 49,
   "metadata": {
    "Collapsed": "false"
   },
   "outputs": [
    {
     "data": {
      "text/plain": [
       "array([[1., 1., 1., 1.],\n",
       "       [1., 1., 1., 1.],\n",
       "       [1., 1., 1., 1.],\n",
       "       [1., 1., 1., 1.]])"
      ]
     },
     "execution_count": 49,
     "metadata": {},
     "output_type": "execute_result"
    }
   ],
   "source": [
    "A = np.matrix(np.ones((4,4)))\n",
    "\n",
    "np.asarray(A)\n",
    "\n"
   ]
  },
  {
   "cell_type": "markdown",
   "metadata": {
    "Collapsed": "false"
   },
   "source": [
    "### Arrange"
   ]
  },
  {
   "cell_type": "code",
   "execution_count": 50,
   "metadata": {
    "Collapsed": "false"
   },
   "outputs": [
    {
     "data": {
      "text/plain": [
       "array([ 1,  2,  3,  4,  5,  6,  7,  8,  9, 10])"
      ]
     },
     "execution_count": 50,
     "metadata": {},
     "output_type": "execute_result"
    }
   ],
   "source": [
    "np.arange(1, 11)\n",
    "\n"
   ]
  },
  {
   "cell_type": "markdown",
   "metadata": {
    "Collapsed": "false"
   },
   "source": [
    "### linspace"
   ]
  },
  {
   "cell_type": "code",
   "execution_count": 51,
   "metadata": {
    "Collapsed": "false"
   },
   "outputs": [
    {
     "data": {
      "text/plain": [
       "array([1.        , 1.44444444, 1.88888889, 2.33333333, 2.77777778,\n",
       "       3.22222222, 3.66666667, 4.11111111, 4.55555556, 5.        ])"
      ]
     },
     "execution_count": 51,
     "metadata": {},
     "output_type": "execute_result"
    }
   ],
   "source": [
    "np.linspace(1.0, 5.0, num=10)"
   ]
  },
  {
   "cell_type": "markdown",
   "metadata": {
    "Collapsed": "false"
   },
   "source": [
    "### logspace"
   ]
  },
  {
   "cell_type": "code",
   "execution_count": 52,
   "metadata": {
    "Collapsed": "false"
   },
   "outputs": [
    {
     "data": {
      "text/plain": [
       "array([ 1000.        ,  2154.43469003,  4641.58883361, 10000.        ])"
      ]
     },
     "execution_count": 52,
     "metadata": {},
     "output_type": "execute_result"
    }
   ],
   "source": [
    "np.logspace(3.0, 4.0, num=4)\n",
    "\n"
   ]
  },
  {
   "cell_type": "markdown",
   "metadata": {
    "Collapsed": "false"
   },
   "source": [
    "### Slicing\n",
    "\n",
    "#### rows"
   ]
  },
  {
   "cell_type": "code",
   "execution_count": 53,
   "metadata": {
    "Collapsed": "false"
   },
   "outputs": [
    {
     "data": {
      "text/plain": [
       "array([1, 2, 3])"
      ]
     },
     "execution_count": 53,
     "metadata": {},
     "output_type": "execute_result"
    }
   ],
   "source": [
    "e = np.array([(1,2,3), (4,5,6)])\n",
    "\n",
    "e[0]\n",
    "\n"
   ]
  },
  {
   "cell_type": "markdown",
   "metadata": {
    "Collapsed": "false"
   },
   "source": [
    "#### columns"
   ]
  },
  {
   "cell_type": "code",
   "execution_count": 54,
   "metadata": {
    "Collapsed": "false"
   },
   "outputs": [
    {
     "data": {
      "text/plain": [
       "array([2, 5])"
      ]
     },
     "execution_count": 54,
     "metadata": {},
     "output_type": "execute_result"
    }
   ],
   "source": [
    "e[:,1]\n",
    "\n"
   ]
  },
  {
   "cell_type": "markdown",
   "metadata": {
    "Collapsed": "false"
   },
   "source": [
    "#### rows and columns"
   ]
  },
  {
   "cell_type": "code",
   "execution_count": 55,
   "metadata": {
    "Collapsed": "false"
   },
   "outputs": [
    {
     "data": {
      "text/plain": [
       "array([4, 5])"
      ]
     },
     "execution_count": 55,
     "metadata": {},
     "output_type": "execute_result"
    }
   ],
   "source": [
    "e[1, :2]"
   ]
  }
 ],
 "metadata": {
  "kernelspec": {
   "display_name": "Python 3",
   "language": "python",
   "name": "python3"
  },
  "language_info": {
   "codemirror_mode": {
    "name": "ipython",
    "version": 3
   },
   "file_extension": ".py",
   "mimetype": "text/x-python",
   "name": "python",
   "nbconvert_exporter": "python",
   "pygments_lexer": "ipython3",
   "version": "3.7.3"
  }
 },
 "nbformat": 4,
 "nbformat_minor": 4
}
