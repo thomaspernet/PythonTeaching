{
 "cells": [
  {
   "cell_type": "markdown",
   "metadata": {},
   "source": [
    "# Introduction\n",
    "\n",
    "The NumPy package (forNumerical Python) is one of the most used packages for calculation in Python (and therefore in the development of pricers). NumPy results from the unification of the Numeric and Numarray libraries in the mid-2000s, and is the basis of SciPy, set of Python libraries oriented scientific computing (including iPython, Pandas, Matplotlib, Scipy ...).\n",
    "\n",
    "Indeed, NumPy offers many advantages:\n",
    "\n",
    "- The type of ndarray object making it possible to store in memory N-dimensional arrays ( with N = 1, matrices with N = 2 ...) efficiently (contiguous blocks of memory with homogeneous data type)\n",
    "\n",
    "- Algorithms and functions (many of which are written in C) to work quickly with\n",
    "\n",
    "whole arrays in a vectorial way (ie without using a loop)\n",
    "\n",
    "- the generation of random numbers\n",
    "\n",
    "This allows Python to compete with lower-level performance languages ​​-\n",
    "\n",
    "NumPy-based programs are typically 10 to 100 times faster than pure written equivalents\n",
    "\n",
    "Python. NumPy is therefore an essential tool for optimizing Python code.\n",
    "\n",
    "This module is based on Chapter 4 of ExcelPython for Data Analysis (2nd Ed., O'Reilly, 2017)\n",
    "\n",
    "Wes McKinney (who is none other than the creator of the Python Pandas package widely used in data\n",
    "science, especially for time-series). Notebook corresponding to the chapter in question is available on GitHub.\n",
    "\n",
    "As we have seen, it is necessary to import a package before you can use it. It is customary to import NumPy via:"
   ]
  },
  {
   "cell_type": "code",
   "execution_count": null,
   "metadata": {},
   "outputs": [],
   "source": [
    "import numpy as np"
   ]
  },
  {
   "cell_type": "markdown",
   "metadata": {},
   "source": [
    "To give you an idea of ​​the performance gain, let's take the example of an object containing a million whole and want to square:"
   ]
  },
  {
   "cell_type": "code",
   "execution_count": null,
   "metadata": {},
   "outputs": [],
   "source": [
    "%% timeit 2  pure Python # -> list 3  my_list = list ( Range ( 1000000 )) 4  my_list2 = [x ** 2 for x in my_list] 5 320 ms + - 2.59 ms per loop (mean + - std dev of 7 runs, 1 loop each)"
   ]
  },
  {
   "cell_type": "code",
   "execution_count": null,
   "metadata": {},
   "outputs": [],
   "source": [
    " %% timeit 2  # NumPy -> array 3  my_arr = np.arange ( 1000000 ) 4  my_arr2 = my_arr ** 2 5 2.87 ms + - 28.4 micros per loop (mean + - std dev of 7 runs, 100 loops each)\n",
    " ```\n",
    "\n",
    "# NumPy arrays\n",
    "\n",
    "An array is a type of multi-dimensional generic container for storing data\n",
    "\n",
    "homogeneous (ie of the same type).\n",
    "\n",
    "If it is possible to use strings in NumPy arrays, its strength is elsewhere and so it is rather recommend using the Pandas library for data structures that include non-numeric data.\n",
    "\n",
    "The main attributes of an array are:\n",
    "\n",
    "- its shape (oushape), a tuple indicating the size of each dimension \n",
    "- its number of dimensions (ndim)\n",
    "- its size (ousize), ie the total number of elements contained in the array (all dimensions combined)\n",
    "- its type, an object describing the data type of the array\n",
    "\n",
    "### Creating from a list\n",
    "\n",
    "A first way to create arrays is to convert a Python object, like a list, into an array:\n",
    "\n",
    "```python\n",
    " my_list = range ( 0 , 10 ) 2  my_arr = np.array (my_list) # or np.asarray () 3  my_arr 4 array ([ 0 , 1 , 2 , 3 , 4 , 5 , 6 , 7 , 8 , 9 ])"
   ]
  },
  {
   "cell_type": "code",
   "execution_count": null,
   "metadata": {},
   "outputs": [],
   "source": [
    " my_arr.shape # attention, no parentheses because shape, ndim, size\n",
    "and dtype are attributes of object"
   ]
  },
  {
   "cell_type": "code",
   "execution_count": null,
   "metadata": {},
   "outputs": [],
   "source": [
    " my_arr.ndim"
   ]
  },
  {
   "cell_type": "code",
   "execution_count": null,
   "metadata": {},
   "outputs": [],
   "source": [
    " my_arr.size # equivalent to np.product (my_arr.shape)"
   ]
  },
  {
   "cell_type": "code",
   "execution_count": null,
   "metadata": {},
   "outputs": [],
   "source": [
    " my_arr.dtype"
   ]
  },
  {
   "cell_type": "markdown",
   "metadata": {},
   "source": [
    "### Creating from a list of lists\n",
    "\n",
    "We can also convert a list of lists (of the same size) into a multidimensional array:"
   ]
  },
  {
   "cell_type": "code",
   "execution_count": null,
   "metadata": {},
   "outputs": [],
   "source": [
    " my_list2 = range ( 0 , 100 , 10 ) 2  my_arr = np.array ([my_list, my_list2])"
   ]
  },
  {
   "cell_type": "code",
   "execution_count": null,
   "metadata": {},
   "outputs": [],
   "source": [
    "# Creation of a function to display the shape, ndim, size and dtype of an array\n",
    "def summarray (arr):\n",
    "    shape = arr.shape\n",
    "    ndim = arr.indim\n",
    "    size = arr.size\n",
    "    dtype = arr. dtype\n",
    "    print (\"The array has {} dimension (s), its shape is {} , its size is{} (ie it contains { elements in total) and its dtype is {} .\".format (ndim, shape, size, size, dtype))\n",
    "summarray (my_arr)"
   ]
  },
  {
   "cell_type": "markdown",
   "metadata": {},
   "source": [
    "In the case of a matrix, the first number returned byshape (ie the first dimension) is the number of lines (ourows, axis = 0) and the second number (ie the second dimension) is the number of columns (columns, ieaxis = 1).\n",
    "\n",
    "### Creating from explicit values\n",
    "\n",
    "Let's now create an array from explicit values ​​- first a vector of 5 floats, then a matrix of 3 * 3 integers:"
   ]
  },
  {
   "cell_type": "code",
   "execution_count": null,
   "metadata": {},
   "outputs": [],
   "source": [
    " vec = np.array ([ 3.32 , 5.67 , 1.11 , 9.81 , 13.41 ])\n",
    "vec"
   ]
  },
  {
   "cell_type": "code",
   "execution_count": null,
   "metadata": {},
   "outputs": [],
   "source": [
    " summarray (ith)"
   ]
  },
  {
   "cell_type": "code",
   "execution_count": null,
   "metadata": {},
   "outputs": [],
   "source": [
    " my_arr = np.array ([[ 0 , 1 , 2 ], [ 3 , 4 , 5 ], [ 6 , 7 , 8 ]]) # each listprovided becomes a row of the matrix"
   ]
  },
  {
   "cell_type": "code",
   "execution_count": null,
   "metadata": {},
   "outputs": [],
   "source": [
    " summarray (my_arr)"
   ]
  },
  {
   "cell_type": "markdown",
   "metadata": {},
   "source": [
    "### Creating an array and adding vianumpy.append ().\n",
    "\n",
    "We can also start from an array, whether empty or not, and then add new ones elements via the use of the functionumpy.append ():"
   ]
  },
  {
   "cell_type": "code",
   "execution_count": null,
   "metadata": {},
   "outputs": [],
   "source": [
    " my_arr = np.array ([])\n",
    " my_arr\n",
    " ```\n",
    "\n",
    "```python\n",
    "for i in range ( 0 , 10 ): # upper bound excluded\n",
    "    my_arr = np.append (my_arr, i) \n",
    "    my_arr"
   ]
  },
  {
   "cell_type": "markdown",
   "metadata": {},
   "source": [
    "It is important to note that quenumpy.append () does not have a place-place- this means that the values provided are added to a copy of the initial array, and it is this enriched copy that returns the function.\n",
    "\n",
    "In the case of a multidimensional array, it is possible to use the optionnelaxelax arguments axis = None (which is the case by default, and so in the example above), numpy.append () returns a flattened array.\n",
    "\n",
    "### Creating an Array Using NumPy Functions\n",
    "\n",
    "Let's continue to create arrays but now using dedicated NumPy functions:"
   ]
  },
  {
   "cell_type": "code",
   "execution_count": null,
   "metadata": {},
   "outputs": [],
   "source": [
    " # Creation of vectors of 10 identical values, 0 or 1 2 \n",
    "np.ones ( 10 ) # with ones 3  \n",
    "np.zeros ( 10 ) # with zeros "
   ]
  },
  {
   "cell_type": "code",
   "execution_count": null,
   "metadata": {},
   "outputs": [],
   "source": [
    " # Creation of a vector of 10 ascending values 2  # np.arange is a vector version of range 3  \n",
    " np.arange ( 0 , 50 , 5 ) \n",
    " ```\n",
    "\n",
    "\n",
    "\n",
    "```python\n",
    " # Same as with floats 2  \n",
    " np.arange ( 0 , 50 , 5 , dtype = float ) "
   ]
  },
  {
   "cell_type": "code",
   "execution_count": null,
   "metadata": {},
   "outputs": [],
   "source": [
    " # Creation of a vector of 10 uniformly distributed values ​​between start and stop 2  \n",
    " np.linspace (start = 0. , stop = 1. , num = 10 , endpoint = False ) "
   ]
  },
  {
   "cell_type": "code",
   "execution_count": null,
   "metadata": {},
   "outputs": [],
   "source": [
    " # Creating a matrix of 10 by 10 values ​​(watch out for double parentheses) 2  \n",
    " my_mat_0 = np.zeros (( 10 , 10 )) # with zeros 3  \n",
    " my_mat_1 = np.ones ( ( 10 , 10 )) # with some 4  \n",
    " my_mat_1"
   ]
  },
  {
   "cell_type": "code",
   "execution_count": null,
   "metadata": {},
   "outputs": [],
   "source": [
    " # Let's check the form and type of my_mat_1   \n",
    " summarray (my_mat_1) \n",
    "``` \n",
    "\n",
    "\n",
    "```python\n",
    " # Warning, empty does not always return an array with values ​​initialized to zero \n",
    " np.empty ([ 10 ])\n",
    " ``` \n",
    "\n",
    "\n",
    "\n",
    "## Converting from one type to another\n",
    "\n",
    "Finally, let's see how to convert an array from undtypevers to another - in this case from int to float:\n",
    "\n",
    "```python\n",
    " my_arr\n",
    "``` \n",
    "\n",
    "```python\n",
    "my_arr_float = my_arr.astype (np.float64)\n",
    "my_arr_float \n",
    "``` \n",
    "\n",
    "```python\n",
    " summarray (my_arr), summarray (my_arr_float) \n",
    " ```\n",
    "\n",
    "# Arithmetic and comparisons with NumPy arrays\n",
    "\n",
    "## Vector operations\n",
    "\n",
    "As mentioned, one of the advantages of NumPy arrays is to allow operations to be performed\n",
    "\n",
    "and calculations enbatch in a vector way, and therefore without having to use a loop (which allows in\n",
    "\n",
    "general to shorten the calculation time).\n",
    "\n",
    "Any arithmetic operation on arrays of the same size is applied element by element\n",
    "\n",
    "(element-wise):\n",
    "\n",
    "```python\n",
    "my_arr = np.array ([[ 1. , 2. , 3. ], [ 4. , 5. , 6. ]])\n",
    "my_arr\n",
    "``` \n",
    "\n",
    "```python\n",
    " # Multiplication of the array by itself (ie squared) 2  \n",
    " my_arr * my_arr\n",
    " ``` \n",
    "\n",
    "```python\n",
    " # Subtraction 2  \n",
    " my_arr - my_arr\n",
    " ```\n",
    "\n",
    "##  Operations with scalars\n",
    "\n",
    "In the case of an arithmetic operation involving a number (English scalar), the so-called operation and number will be applied to each element composing the array:\n",
    "\n",
    "```python\n",
    " my_arr * 10\n",
    " ``` \n",
    "\n",
    "```python\n",
    " my_arr - 3\n",
    " ``` \n",
    "\n",
    "\n",
    "\n",
    "## Powers and square roots\n",
    "\n",
    "NumPy offers functions dedicated to powers (numpy.square () andnumpy.power ()) as well than square roots (numpy.sqrt ()):\n",
    "\n",
    "```python\n",
    " np.square (my_arr) # square - same as np.power (my_arr3, 2)\n",
    "``` \n",
    "\n",
    "```python\n",
    " np.power (my_arr, 3 ) \n",
    " ``` \n",
    "\n",
    "```python\n",
    " np.sqrt (my_arr) # returns the square root of each element of\n",
    "array\n",
    "``` \n",
    "\n",
    "# Generating random numbers with NumPy\n",
    "\n",
    "NumPy allows thanks to its modulenumpy.randomde generate arrays of random numbers of efficient way - several functions are available depending on the desired source distribution (see the [official documentation](https://docs.scipy.org/doc/numpy-1.15.1/reference/routines.random.html)).\n",
    "\n",
    "## Method\n",
    "\n",
    "For example, let's generate an array of 25 (5 * 5) samples from the standard normal distribution\n",
    "\n",
    "```python\n",
    " np.random.normal (size = ( 5 , 5 ))\n",
    "``` \n",
    "\n",
    "\n",
    "Re-executing the cell code above will result in 25 new samples, which\n",
    "confirms that this is a random draw - or rather pseudo-random to be more precise.\n",
    "\n",
    "Indeed, these so-calledaluminant numbers are generated by a deterministic algorithm.\n",
    "\n",
    "based on what is called a seed (English ouseeden). So, a random number generator\n",
    "\n",
    "can be made deterministic (and its reproducible prints) simply by defining the seed at, preliminary:\n",
    "\n",
    "```python\n",
    "np.random.seed ( 123 )\n",
    "np.random.normal (size = ( 5 , 5 )) "
   ]
  },
  {
   "cell_type": "markdown",
   "metadata": {},
   "source": [
    "Re-executing the cell code above will this time remove the same 25 samples,\n",
    "\n",
    "because we have defined the seed beforehand - try!\n",
    "\n",
    "If we generate 25 samples again, they will be different - let's do the 2 more times:"
   ]
  },
  {
   "cell_type": "code",
   "execution_count": null,
   "metadata": {},
   "outputs": [],
   "source": [
    "\n",
    " [np.random.normal (size = ( 5 , 5 )) for i in range ( 2 )] \n",
    " ``` \n",
    "\n",
    "On the other hand, if we redefine the seed and then re-generate 3 times 25 random numbers:\n",
    "\n",
    "```python\n",
    "np.random.seed ( 123 )\n",
    "[np.random.normal (size = ( 5 , 5 )) for i in range ( 3 )]"
   ]
  },
  {
   "cell_type": "markdown",
   "metadata": {},
   "source": [
    "We find our 3 prints made above - the behavior of the number generator\n",
    "\n",
    "pseudo-random is therefore very deterministic.\n",
    "\n",
    "Defining the seed allows us to have reproducible prints afterwards, much like\n",
    "\n",
    "if it repositioned us in the same place in a pre-determined sequence.\n",
    "\n",
    "## Method\n",
    "\n",
    "A second approach is to define the seed in isolation (and not globally).\n",
    "\n",
    "as is the case withrandom.seed ()), by instantiating aRandomState object:"
   ]
  },
  {
   "cell_type": "code",
   "execution_count": null,
   "metadata": {},
   "outputs": [],
   "source": [
    "rand_gen = np.random.RandomState (seed = 123 )\n",
    "rand_gen.normal (size = ( 5 , 5 )) "
   ]
  },
  {
   "cell_type": "markdown",
   "metadata": {},
   "source": [
    "As you can see, this 2nd method generates the same random numbers if it is\n",
    "\n",
    "provides the same seed. For confirmation re-generate 2 more times 25 normal samples:"
   ]
  },
  {
   "cell_type": "code",
   "execution_count": null,
   "metadata": {},
   "outputs": [],
   "source": [
    " [rand_gen.normal (size = ( 5 , 5 )) for i in range ( 2 )] \n",
    " ```\n",
    "\n",
    "We get the same sequence as before.\n",
    "\n",
    "# Indexing and assignment\n",
    "\n",
    "## Reminders\n",
    "\n",
    "To begin, let's remember how we index a Python list:\n",
    "\n",
    "```python\n",
    " my_list = [ 0 , 1 , 2 , 3 , 4 ]\n",
    "my_list 3 [ 0 , 1 , 2 , 3 , 4 ]"
   ]
  },
  {
   "cell_type": "code",
   "execution_count": null,
   "metadata": {},
   "outputs": [],
   "source": [
    " my_list [ 0 ] # returns the 1st value"
   ]
  },
  {
   "cell_type": "code",
   "execution_count": null,
   "metadata": {},
   "outputs": [],
   "source": [
    "\n",
    " my_list [ - 1 ] # returns the last value - identical to my_list [4]"
   ]
  },
  {
   "cell_type": "markdown",
   "metadata": {},
   "source": [
    "## Lists to vectors\n",
    "\n",
    "The assignment and indexing of NumPy arrays is based on similar - or even identical - principles\n",
    "\n",
    "in the case of vectors (ie one-dimensional arrays, like a Python list):"
   ]
  },
  {
   "cell_type": "code",
   "execution_count": null,
   "metadata": {},
   "outputs": [],
   "source": [
    " my_vec = np.linspace ( - 10 , 10 , 20 )\n",
    "my_vec "
   ]
  },
  {
   "cell_type": "code",
   "execution_count": null,
   "metadata": {},
   "outputs": [],
   "source": [
    " my_vec [ 3 ]"
   ]
  },
  {
   "cell_type": "code",
   "execution_count": null,
   "metadata": {},
   "outputs": [],
   "source": [
    " my_vec [ 0 : 2 ] # slicing (upper bound excluded)"
   ]
  },
  {
   "cell_type": "markdown",
   "metadata": {},
   "source": [
    "## Multidimensional generalization\n",
    "\n",
    "These same principles are generalized in NumPy to multidimensional data structures.\n",
    "\n",
    "A vector with 1 single dimension, a 2 dimensional matrix (lines, axis = 0 and columns, axis = 1) ...\n",
    "\n",
    "Thus, the basic principle of indexing and assignment is, for an array of n dimensions:\n",
    "\n",
    "array [idx dim 1, idx dim 2, ..., idx dim n]\n",
    "\n",
    "If we apply this generalized principle to the particular case of a matrix (ie 2 dimensions), this gives:\n",
    "\n",
    "array [idx lines idx column]\n",
    "\n",
    "In other words, the first dimension (axis = 0) always corresponds to lines and the second dimension (axis\n",
    "\n",
    "= 1) to the columns, cf. this illustration by Wes McKinney:\n",
    "\n",
    "Source: Python for Data Analysis (2nd Ed.), Chapter 4\n",
    "\n",
    "5.4 Examples of indexing and assignment\n",
    "\n",
    "FIGURE 6"
   ]
  },
  {
   "cell_type": "code",
   "execution_count": null,
   "metadata": {},
   "outputs": [],
   "source": [
    " # Example of a matrix 4 rows * 5 columns 2  \n",
    " my_arr = np.array ([np.arange ( 0 , 5 ), np.arange ( 5 , 10 ), np.arange ( 10 , 15 ), np.arange ( 15 , 20 )])\n",
    " my_arr \n",
    " ```\n",
    "\n",
    " # Indexing - recovering a particular value 2 \n",
    "\n",
    "```python\n",
    "my_arr [ 2 , 2 ] 3 12"
   ]
  },
  {
   "cell_type": "code",
   "execution_count": null,
   "metadata": {},
   "outputs": [],
   "source": [
    " # Indexing - recovery of the 3rd line 2 \n",
    "  my_arr [ 2 ]"
   ]
  },
  {
   "cell_type": "markdown",
   "metadata": {},
   "source": [
    "# Indexing - recovery of the 2nd column 2"
   ]
  },
  {
   "cell_type": "code",
   "execution_count": null,
   "metadata": {},
   "outputs": [],
   "source": [
    " my_arr [:, 1 ] "
   ]
  },
  {
   "cell_type": "markdown",
   "metadata": {},
   "source": [
    ": means \"all values\", more precisely here \"all lines\" because it is in first\n",
    "\n",
    "position (dimension 1, soaxis = 0).\n",
    "\n",
    " # Slicing - recovery of the first 2 lines 2"
   ]
  },
  {
   "cell_type": "code",
   "execution_count": null,
   "metadata": {},
   "outputs": [],
   "source": [
    " my_arr [: 2 ] # # line 2 excluded 3 \n",
    " ```\n",
    "\n",
    "\n",
    "```python\n",
    " my_arr [:] = 777 #: here allows to assign a value to all of the 'array 2  my_arr \n",
    " ```\n",
    "\n",
    "```python\n",
    " # Assignment of 0 to all the values ​​of the first line 2  \n",
    " my_arr [ 0 ] = 0 "
   ]
  },
  {
   "cell_type": "markdown",
   "metadata": {},
   "source": [
    "Here are some visual slicing examples of a 2D array (illustration by Wes McKinney)\n",
    "\n",
    ":\n",
    "\n",
    "Source: Python for Data Analysis (2nd Ed.), Chapter 4\n",
    "\n",
    "FIGURE 6\n",
    "\n",
    "You will notice above that NumPy differentiates a 1D (flatarray) array from shape (c,), ie a\n",
    "       \n",
    "\n",
    "# Point of attention\n",
    "\n",
    "An important distinction to keep in mind compared to Python lists is that extracts from arrays\n",
    "\n",
    "(we speak ofubsubsousousices) are (partial) views of the original array, in the sense of modifying the\n",
    "\n",
    "slice also modifies the original array. So :"
   ]
  },
  {
   "cell_type": "code",
   "execution_count": null,
   "metadata": {},
   "outputs": [],
   "source": [
    " arr_slice = my_arr [ 0 : 2 ] # extraction of the first 2 lines\n",
    "2  arr_slice"
   ]
  },
  {
   "cell_type": "code",
   "execution_count": null,
   "metadata": {},
   "outputs": [],
   "source": [
    " arr_slice [ 0 ] = 100 \n",
    "``` \n",
    "\n",
    "\n",
    "```python\n",
    " my_arr # the original array has also been modified"
   ]
  },
  {
   "cell_type": "markdown",
   "metadata": {},
   "source": [
    "You can make the slice really independent of the original array by copying it via the function\n",
    "\n",
    "numpy.copy ():"
   ]
  },
  {
   "cell_type": "code",
   "execution_count": null,
   "metadata": {},
   "outputs": [],
   "source": [
    " arr_slice_copy = np.copy (my_arr [ 0 : 2 ]) # or my_arr [0: 2] .copy ()\n",
    "arr_slice_copy [ 0 ] = 200\n",
    "arr_slice_copy "
   ]
  },
  {
   "cell_type": "code",
   "execution_count": null,
   "metadata": {},
   "outputs": [],
   "source": [
    " my_arr # the original array was not modified this time"
   ]
  },
  {
   "cell_type": "markdown",
   "metadata": {},
   "source": [
    "## Axes\n",
    "\n",
    "Finally, before switching to NumPy functions, it is important to return to the concept of axes (ie\n",
    "\n",
    "axis = 0, axis = 1 ...) - below applied to a matrix:\n",
    "\n",
    "FIGURE 7\n",
    "\n",
    "Source: StackOverflow\n",
    "\n",
    "-Axis = 0-> lines; think from top to bottom; calculating the sum (or average ...) the lines longdes\n",
    "\n",
    "(across / alongrows), ie by column.\n",
    "\n",
    "-Axis = 1-> columns; think from left to right; calculating the sum (or average ...) along\n",
    "\n",
    "columns (across / alongcolumns), ie per line.\n",
    "\n",
    "# Some functions to know\n",
    "\n",
    "## NumPy\n",
    "\n",
    "Let's start with some particularly useful NumPy features, some of which have already been\n",
    "\n",
    "discussed above concerning the creation of arrays:\n",
    "\n",
    "Click on the name of the function to consult the official documentation.\n",
    "\n",
    "### numpy.arange ()\n",
    "\n",
    "Returns an array of values ​​distributed within the intervallestart, stop (stop excluded),\n",
    "\n",
    "with the possibility of defining a step (step = 1 by default).\n",
    "\n",
    "numpy.arange (start, stop, step, dtype = None )\n",
    "\n",
    "Equivalent derange () in pure Python, but returns an array instead of a list."
   ]
  },
  {
   "cell_type": "code",
   "execution_count": null,
   "metadata": {},
   "outputs": [],
   "source": [
    " np.arange ( 0 , 10 , 2 )\n",
    "2 array ([ 0 , 2 , 4 , 6 , 8 ])"
   ]
  },
  {
   "cell_type": "markdown",
   "metadata": {},
   "source": [
    "### numpy.linspace ()\n",
    "\n",
    "Returns an array of uniformly distributed values ​​within the intervallestart, stop. The\n",
    "\n",
    "bornestopp can be excluded if needed (it is included by default)."
   ]
  },
  {
   "cell_type": "code",
   "execution_count": null,
   "metadata": {},
   "outputs": [],
   "source": [
    "numpy.linspace (start, stop, num = 50 , endpoint = True , dtype = None )\n",
    "\n",
    " # num = desired quantity of values ​​(50 by default); endpoint = True (included) by default 2  np.linspace ( - 1 , 1 , num = 10 , endpoint = True ) 3 array ([ - 1. , -0.77777778 , -0.55555556 , -0.33333333 , -0.11111111 , 4 0.11111111 , 0.33333333 , 0.55555556 , 0.77777778 , 1. ])"
   ]
  },
  {
   "cell_type": "markdown",
   "metadata": {},
   "source": [
    "### numpy.repeat ()\n",
    "\n",
    "Returns an array composed of two times.\n",
    "\n",
    "numpy.repeat (a, repeats, axis = None )\n",
    "\n",
    "The argumentaxisis optional and allows to specify on which axis to repeat the values. By default,\n",
    "\n",
    "axis = None, which flattens the input and output array."
   ]
  },
  {
   "cell_type": "code",
   "execution_count": null,
   "metadata": {},
   "outputs": [],
   "source": [
    " np.repeat ( 7 , 10 )\n",
    "two array ([ 7 , 7 , 7 , 7 , 7 , 7 , 7 , 7 , 7 , 7 ])\n",
    "\n",
    " vec = np.array ([ 1 , 2 , 3 ])\n",
    "2  np.repeat (vec, 10 ) 3 array ([ 1 , 1 , 1 , 1 , 1 , 1 , 1 , 1 , 1 , 1 , 2 , 2 , 2 , 2 , 2 , 2 , 2 , 2 , 2 , 2 , 3 , 3 , 4 3 , 3 , 3 , 3 , 3 , 3 , 3 , 3 ])"
   ]
  },
  {
   "cell_type": "markdown",
   "metadata": {},
   "source": [
    "### numpy.unique ()\n",
    "\n",
    "Returns the unique values ​​of the array (ie filters the redundant values).\n",
    "\n",
    "numpy.unique (ar, return_index = False , return_inverse = False ,\n",
    "return_counts = False , axis = None )\n",
    "\n",
    "Here again, the argument optionnelaxispermet to specify the axis on which to intervene. By default,\n",
    "\n",
    "axis = None, which flattens the arrayar.\n",
    "\n",
    "The other 3 arguments are optional and allow to return additional information.\n",
    "\n",
    "tary, as the indices of unique elements. See help for more details."
   ]
  },
  {
   "cell_type": "code",
   "execution_count": null,
   "metadata": {},
   "outputs": [],
   "source": [
    " vec = np.array ([ 1 , 2 , 3 , 1 , 2 , 3 , 1 ])\n",
    "2  np.unique (vec) 3 array ([ 1 , 2 , 3 ])"
   ]
  },
  {
   "cell_type": "markdown",
   "metadata": {},
   "source": [
    "### numpy.ravel ().\n",
    "\n",
    "Returns a copy of the reduced-size array (ie a vector)."
   ]
  },
  {
   "cell_type": "code",
   "execution_count": null,
   "metadata": {},
   "outputs": [],
   "source": [
    "numpy.ravel (a)\n",
    "\n",
    " my_arr = rand_gen.normal (size = ( 3 , 5 ))\n",
    "2  print (my_arr, \" \\ n \\ n Shape =\" , my_arr.shape) 3 [[ 1.03972709 -0.40336604 -0.12602959 -0.83751672 -1.60596276 ] 4 [ 1.25523737 -0.68886898 1.66095249 0.80730819 -0.31475815 ] 5 [ - 1.0859024 -0.73246199 -1.21252313 2.08711336 0.16444123 ]] 6 7 8 Shape = ( 3 , 5 )"
   ]
  },
  {
   "cell_type": "code",
   "execution_count": null,
   "metadata": {},
   "outputs": [],
   "source": [
    " my_arr2 = np.ravel (my_arr) # returns a vector\n",
    "\n",
    "2  print (my_arr2, \"\\ n \\ nShape =\", my_arr2.shape)\n",
    "3 [1.03972709 -0.40336604 -0.12602959 -0.83751672 -1.60596276\n",
    "1.25523737\n",
    "4 -0.68886898 1.66095249 0.80730819 -0.31475815 -1.0859024\n",
    "-0.73246199\n",
    "5 -1.21252313 2.08711336 0.16444123]\n",
    "6\n",
    "7 Shape = (15,)"
   ]
  },
  {
   "cell_type": "markdown",
   "metadata": {},
   "source": [
    "The flatten () method can also be used:"
   ]
  },
  {
   "cell_type": "code",
   "execution_count": null,
   "metadata": {},
   "outputs": [],
   "source": [
    " my_arr2 = my_arr.flatten () # also returns a vector\n",
    "2  print (my_arr2, \" \\ n \\ n Shape =\" , my_arr2.shape) 3 [ 1.03972709 -0.40336604 -0.12602959 -0.83751672 -1.60596276 1.25523737 4 - 0.68886898 1.66095249 0.80730819 -0.31475815 -1.0859024 -0.73246199 5 -1.21252313 2.08711336 0.16444123 ] 6 7 Shape = ( 15 ,)"
   ]
  },
  {
   "cell_type": "markdown",
   "metadata": {},
   "source": [
    "### numpy.sum ()\n",
    "\n",
    "Returns the sum of the elements of the array along a given axis (axis = 0 or 1 ...).\n",
    "\n",
    "numpy. sum (a, axis = None , dtype = None )\n",
    "\n",
    "By default, axis = None, which will calculate the sum of all the elements of the array (ie of the array\n",
    "\n",
    "\"Flattened\", ouflattened in English)."
   ]
  },
  {
   "cell_type": "code",
   "execution_count": null,
   "metadata": {},
   "outputs": [],
   "source": [
    " vec = np.array ([ 0 , 1 , 2 , 3 , 4 ])\n",
    "2  np. sum (vec) # sum of all the elements of the vector 3 10\n",
    "\n",
    " my_arr = np.array ([vec, 2 * vec, 3 * vec])\n",
    "2  my_arr 3 array ([[ 0 , 1 , 2 , 3 , 4 ], 4 [ 0 , 2 , 4 , 6 , 8 ], 5 [ 0 , 3 , 6 , 9 , 12 ]])\n"
   ]
  },
  {
   "cell_type": "code",
   "execution_count": null,
   "metadata": {},
   "outputs": [],
   "source": [
    "\n",
    " np. sum (my_arr) # axis = None -> sum of all elements of\n",
    "array\n",
    "2 60\n",
    "\n",
    " np. sum (my_arr [ 1 ]) # sum of the second line\n",
    "2 20\n",
    "\n",
    " np. sum (my_arr, axis = 0 ) # axis = 0 -> sum of lines (across rows)\n",
    "by column\n",
    "2 array ([ 0 , 6 , 12 , 18 , 24 ])\n",
    "\n",
    " np. sum (my_arr, axis = 1 ) # axis = 1 -> sum of columns (across\n",
    "columns) per line\n",
    "2 array ([ 10 , 20 , 30 ])\n",
    "\n",
    " np. sum ([]) # unsurprisingly, the sum of an empty array is 0.0\n",
    "2 0.0"
   ]
  },
  {
   "cell_type": "markdown",
   "metadata": {},
   "source": [
    "### numpy.dot ()\n",
    "\n",
    "Calculates Ledot productde 2 arrays.\n",
    "\n",
    "numpy.dot (a, b)\n",
    "\n",
    "The behavior denumpy.dot () depends on the form of the provided arrays, so refer to\n",
    "\n",
    "help for more information."
   ]
  },
  {
   "cell_type": "code",
   "execution_count": null,
   "metadata": {},
   "outputs": [],
   "source": [
    " my_arr1 = np.arange ( 0 , 5 )\n",
    "2  my_arr1 3 array ([ 0 , 1 , 2 , 3 , 4 ])\n",
    "\n",
    " my_arr2 = np.arange ( 5 , 10 )\n",
    "2  my_arr2 3 array ([ 5 , 6 , 7 , 8 , 9 ])\n",
    "\n",
    " np.dot (my_arr1, my_arr2)\n",
    "2 80\n",
    "\n",
    " my_arr3 = np.array ([[ 0 , 1 , 2 ], [ 3 , 4 , 5 ]])\n",
    "2  my_arr3 3 array ([[ 0 , 1 , 2 ], 4 [ 3 , 4 , 5 ]])\n",
    "\n",
    "\n",
    " my_arr4 = np.array ([[ 4 , 5 ], [ 6 , 7 ], [ 8 , 9 ]])\n",
    "2  my_arr4 3 array ([[ 4 , 5 ], 4 [ 6 , 7 ] , 5 [ 8 , 9 ]])\n",
    "\n",
    "\n",
    "\n",
    " np.dot (my_arr3, my_arr4)\n",
    "2 array ([[ 22 , 25 ],\n",
    "3 [ 76 , 88 ]])"
   ]
  },
  {
   "cell_type": "markdown",
   "metadata": {},
   "source": [
    "Note that since Python 3.5 it is possible to use the symbol @ to calculate the product of 2 matrices\n",
    "\n",
    "or a matrix and a vector:"
   ]
  },
  {
   "cell_type": "code",
   "execution_count": null,
   "metadata": {},
   "outputs": [],
   "source": [
    " my_arr3 @ my_arr4\n",
    "2 array ([[ 22 , 25 ],\n",
    "3 [ 76 , 88 ]])\n",
    "\n",
    " np.array ([ 1 , 2 , 3 ]) @ my_arr4\n",
    "2 array ([ 40 , 46 ])"
   ]
  },
  {
   "cell_type": "markdown",
   "metadata": {},
   "source": [
    "Remember: to multiply a matrix and a scalar use *\n",
    "\n",
    "### numpy.mean ().\n",
    "\n",
    "Calculates the average of the elements of the array along a given axis. By default, axis = None, which\n",
    "\n",
    "will calculate the average of all the elements of the array.\n",
    "\n",
    "numpy.mean (a, axis = None , dtype = None )\n",
    "\n",
    "As you can see below, numpy.mean () returns floats (float64 to be\n",
    "\n",
    "precise) when it is given integers input."
   ]
  },
  {
   "cell_type": "code",
   "execution_count": null,
   "metadata": {},
   "outputs": [],
   "source": [
    " np.mean (my_arr) # axis = none -> average of all the elements of the\n",
    "array\n",
    "2 4.0\n",
    "\n",
    " np.mean (my_arr [ 0 ]) # axis = None -> average of the first line\n",
    "2 2.0\n",
    "\n",
    " np.mean (my_arr, axis = 0 ) # axis = 0 -> average of lines (across\n",
    "rows) by column\n",
    "2 array ([ 0. , 2. , 4. , 6. , 8. ])\n",
    "\n",
    " np.mean (my_arr, axis = 1 ) # axis = 1 -> average of columns (across\n",
    "columns) by line\n",
    "2 array ([ 2. , 4. , 6. ])\n",
    "\n",
    "Likewise, NumPy proposenumpy.std () andnumpy.var () to calculate the standard deviation and the\n",
    "\n",
    "riance:\n",
    "\n",
    " print ( \"Std. dev. =\" , np.std (my_arr), \"Variance =\" , np.var (my_arr) ) 2 Std. dev. = 3.4641016151377544 ; Variance = 12.0"
   ]
  },
  {
   "cell_type": "markdown",
   "metadata": {},
   "source": [
    "### numpy.round ().\n",
    "\n",
    "Rounds an array or value to decimal digits after the decimal point.\n",
    "\n",
    "numpy. round (a, decimals = 0 )"
   ]
  },
  {
   "cell_type": "code",
   "execution_count": null,
   "metadata": {},
   "outputs": [],
   "source": [
    " np. round (np.pi, decimals = 2 ) # equivalent to np.around (np.pi,\n",
    "decimals = 2 )\n",
    "2 3.14"
   ]
  },
  {
   "cell_type": "markdown",
   "metadata": {},
   "source": [
    "π is available as a constant in NumPy (np.pi).\n",
    "\n",
    "### numpy.amin ().\n",
    "\n",
    "Returns the minimum or minimum of an array, globally (axis = None by default) or following a\n",
    "\n",
    "given axis.\n",
    "\n",
    "\n",
    "numpy.amin (a, axis = None )\n",
    "\n",
    "You can also simply use dumpy.min () which is unaliasdenumpy.amin ()."
   ]
  },
  {
   "cell_type": "code",
   "execution_count": null,
   "metadata": {},
   "outputs": [],
   "source": [
    " my_arr = rand_gen.normal (size = ( 3 , 5 ))\n",
    "2  my_arr 3 array ([[ 1.15020554 , -1.26735205 , 0.18103513 , 1.17786194 , -0.33501076 ], 4 [ 1.03111446 , -1.08456791 , -1.36347154 , 0.37940061 , -0.37917643 ], 5 [ 0.64205469 , -1.97788793 , 0.71226464 , 2.59830393 , -0.02462598 ]])"
   ]
  },
  {
   "cell_type": "code",
   "execution_count": null,
   "metadata": {},
   "outputs": [],
   "source": [
    " np. min (my_arr) # axis = None -> global minimum\n",
    "2 -1.977887931520449\n",
    "\n",
    " np. min (my_arr, axis = 0 ) # axis = 0 -> minimum rows (across rows)\n",
    "per column\n",
    "2 array ([ 0.64205469 , -1.97788793 , -1.36347154 , 0.37940061 ,\n",
    "-0.37917643 ])\n",
    "\n",
    " np. min (my_arr, axis = 1 ) # axis = 1 -> minimum columns (across\n",
    "columns) per line\n",
    "2 array ([ - 1.26735205 , -1.36347154 , -1.97788793 ])\n",
    "\n",
    "Likewise, NumPy proposenumpy.amax (), aliasnumpy.max (), to get the maximum or\n",
    "\n",
    "the maxima:\n",
    "\n",
    " np. max (my_arr) # axis = None -> global maximum\n",
    "2 2.5983039272693147"
   ]
  },
  {
   "cell_type": "markdown",
   "metadata": {},
   "source": [
    "### numpy.argmin ()\n",
    "\n",
    "Returns the subscript (s) corresponding to the minimum or minimum of an array, globally (axis =\n",
    "\n",
    "None by default) or along a given axis.\n",
    "\n",
    "numpy.argmin (a, axis = None )"
   ]
  },
  {
   "cell_type": "code",
   "execution_count": null,
   "metadata": {},
   "outputs": [],
   "source": [
    " np.argmin (my_arr) # axis = None -> global minimum (flattened array)"
   ]
  },
  {
   "cell_type": "markdown",
   "metadata": {},
   "source": [
    "# Check"
   ]
  },
  {
   "cell_type": "code",
   "execution_count": null,
   "metadata": {},
   "outputs": [],
   "source": [
    "2  my_arr.flatten () [ 11 ] 3 -1.977887931520449\n",
    "\n",
    " np.argmin (my_arr, axis = 0 ) # axis = 0 -> minimal indices lines (\n",
    "across rows) by column\n",
    "2 array ([ 2 , 2 , 1 , 1 , 1 ], dtype = int64)\n",
    "\n",
    " np.argmin (my_arr, axis = 1 ) # axis = 1 -> minimum columns (across\n",
    "columns) per line\n",
    "2 array ([ 1 , 2 , 1 ], dtype = int64)\n",
    "\n",
    "Similarly, NumPy proposenumpy.argmax () to obtain the index (s) corresponding to the\n",
    "\n",
    "maximum or maximum:\n",
    "\n",
    " np.argmax (my_arr) # axis = None -> global maximum (flattened array)"
   ]
  },
  {
   "cell_type": "markdown",
   "metadata": {},
   "source": [
    "# Verification 2  my_arr.flatten () [ 13 ] 3 2.5983039272693147\n",
    "\n",
    "\n",
    "### numpy.where ().\n",
    "\n",
    "Returns elements either dexuyed according to a givencondition:\n",
    "\n",
    "numpy.where (condition, x, y)\n",
    "\n",
    "In other words, numpy.where () is a vectorized version of the expressionx if condition\n",
    "\n",
    "else there."
   ]
  },
  {
   "cell_type": "code",
   "execution_count": null,
   "metadata": {},
   "outputs": [],
   "source": [
    "\n",
    "vec1 = np.arange ( 0 , 100 , 10 )\n",
    "2 vec1\n",
    "3 array ([ 0 , 10 , 20 , 30 , 40 , 50 , 60 , 70 , 80 , 90 ])\n",
    "\n",
    "np.where (vec1 > 40 , 1 , 0 )\n",
    "2 array ([ 0 , 0 , 0 , 0 , 0 , 1 , 1 , 1 , 1 , 1 ])"
   ]
  },
  {
   "cell_type": "markdown",
   "metadata": {},
   "source": [
    "If we use only the condition argument, then numpy.where () returns the corresponding indexes\n",
    "\n",
    "to the values ​​of the array satisfying the condition:\n",
    "\n",
    "np.where (vec1 > 40 )\n",
    "2 (array ([ 5 , 6 , 7 , 8 , 9 ], dtype = int64),)\n",
    "\n",
    "### numpy.concatenate ()\n",
    "\n",
    "Merges a sequence of arrays along a particular axis:\n",
    "\n",
    "numpy.concatenate ((a1, a2, ...), axis = 0 )\n",
    "\n",
    "Defaultaxis = 0; siaxis = None, then the arrays will be flattened beforehand and\n",
    "\n",
    "merged into a single vector (ie a dimension)."
   ]
  },
  {
   "cell_type": "code",
   "execution_count": null,
   "metadata": {},
   "outputs": [],
   "source": [
    "my_arr1 = np.array ([[ 0 , 0 , 0 ], [ 1 , 1 , 1 ]])\n",
    "2 my_arr1\n",
    "3 array ([[ 0 , 0 , 0 ],\n",
    "4 [ 1 , 1 , 1 ]])\n",
    "\n",
    "my_arr2 = np.array ([[ 2 , 2 , 2 ], [ 3 , 3 , 3 ]])\n",
    "2 my_arr2\n",
    "3 array ([[ 2 , 2 , 2 ],\n",
    "4 [ 3 , 3 , 3 ]])\n",
    "\n",
    "np.concatenate ((my_arr1, my_arr2), axis = 0 ) # axis = 0 ->\n",
    "vertical concatenation\n",
    "2 array ([[ 0 , 0 , 0 ],\n",
    "3 [ 1 , 1 , 1 ],\n",
    "4 [ 2 , 2 , 2 ],\n",
    "5 [ 3 , 3 , 3 ]])\n",
    "\n",
    "np.concatenate ((my_arr1, my_arr2), axis = 1 ) # axis = 1 ->\n",
    "horizontal concatenation\n",
    "2 array ([[ 0 , 0 , 0 , 2 , 2 , 2 ],\n",
    "3 [ 1 , 1 , 1 , 3 , 3 , 3 ]])\n",
    "\n",
    "np.concatenate ((my_arr1, my_arr2), axis = None ) # axis = None -> arrays\n",
    "merged into a single vector\n",
    "2 array ([ 0 , 0 , 0 , 1 , 1 , 1 , 2 , 2 , 2 , 3 , 3 , 3 ])"
   ]
  },
  {
   "cell_type": "markdown",
   "metadata": {},
   "source": [
    "NumPy also offers the functions numpy.vstack () and numpy.hstack () to assemble\n",
    "\n",
    "arrays vertically and horizontally (respectively).\n",
    "\n",
    "### numpy.reshape ()\n",
    "\n",
    "Modifies the shape of an array without changing the data it contains.\n",
    "\n",
    "numpy.reshape (a, newshape)"
   ]
  },
  {
   "cell_type": "code",
   "execution_count": null,
   "metadata": {},
   "outputs": [],
   "source": [
    " my_arr = np.arange ( 6 )\n",
    "2  my_arr 3 array ([ 0 , 1 , 2 , 3 , 4 , 5 ])\n",
    "\n",
    " np.reshape (my_arr, ( 3 , 2 )) # equivalent to my_arr.reshape ((3, 2))\n",
    "2 array ([[ 0 , 1 ],\n",
    "3 [ 2 , 3 ],\n",
    "4 [ 4 , 5 ]])\n",
    "\n",
    " np.reshape (my_arr, ( 2 , 3 )) # equivalent to my_arr.reshape ((2, 3))\n",
    "2 array ([[ 0 , 1 , 2 ],\n",
    "3 [ 3 , 4 , 5 ]])"
   ]
  },
  {
   "cell_type": "markdown",
   "metadata": {},
   "source": [
    "### numpy.transpose ().\n",
    "\n",
    "Swap the dimensions of an array.\n",
    "\n",
    "numpy.transpose (a, axes = None )\n",
    "\n",
    "Defaultaxes = Nonece that reverses the dimensions; otherwise the function swaps the axes\n",
    "\n",
    "according to the values ​​provided via this argument."
   ]
  },
  {
   "cell_type": "code",
   "execution_count": null,
   "metadata": {},
   "outputs": [],
   "source": [
    " my_arr = np.arange ( 8 ) .reshape (( 4 , 2 ))\n",
    "2  print (my_arr, \" \\ n \\ n Shape =\" , my_arr.shape) 3 [[ 0 1 ] 4 [ 2 3 ] 5 [ 4 5 ] 6 [ 6 7 ]] 7 8 Shape = ( 4 , 2 )\n",
    "\n",
    "\n",
    "\n",
    "\n",
    "\n",
    "\n",
    " my_arr = np.transpose (my_arr)\n",
    "2  print (my_arr, \" \\ n \\ n Shape =\" , my_arr.shape) 3 [[ 0 2 4 6 ] 4 [ 1 3 5 7 ]] 5 6 Shape = ( 2 , 4 )\n",
    "\n",
    "\n",
    "\n",
    "\n",
    " my_arr = np.transpose (my_arr, ( 1 , 0 ))\n",
    "2  print (my_arr, \" \\ n \\ n Shape =\" , my_arr.shape) 3 [[ 0 1 ] 4 [ 2 3 ] 5 [ 4 5 ] 6 [ 6 7 ]] 7 8 Shape = ( 4 , 2 )"
   ]
  }
 ],
 "metadata": {},
 "nbformat": 4,
 "nbformat_minor": 2
}
