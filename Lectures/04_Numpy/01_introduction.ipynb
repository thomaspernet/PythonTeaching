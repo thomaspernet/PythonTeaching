{
  "cells": [
    {
      "cell_type": "markdown",
      "source": [
        "# Introduction\n",
        "\n",
        "The NumPy package (forNumerical Python) is one of the most used packages for calculation in Python (and therefore in the development of pricers). NumPy results from the unification of the Numeric and Numarray libraries in the mid-2000s, and is the basis of SciPy, set of Python libraries oriented scientific computing (including iPython, Pandas, Matplotlib, Scipy ...).\n",
        "\n",
        "Indeed, NumPy offers many advantages:\n",
        "\n",
        "- The type of ndarray object making it possible to store in memory N-dimensional arrays ( with N = 1, matrices with N = 2 ...) efficiently (contiguous blocks of memory with homogeneous data type)\n",
        "\n",
        "- Algorithms and functions (many of which are written in C) to work quickly with\n",
        "\n",
        "whole arrays in a vectorial way (ie without using a loop)\n",
        "\n",
        "- the generation of random numbers\n",
        "\n",
        "This allows Python to compete with lower-level performance languages ​​-\n",
        "\n",
        "NumPy-based programs are typically 10 to 100 times faster than pure written equivalents\n",
        "\n",
        "Python. NumPy is therefore an essential tool for optimizing Python code.\n",
        "\n",
        "This module is based on Chapter 4 of ExcelPython for Data Analysis (2nd Ed., O'Reilly, 2017)\n",
        "\n",
        "Wes McKinney (who is none other than the creator of the Python Pandas package widely used in data\n",
        "science, especially for time-series). Notebook corresponding to the chapter in question is available on GitHub.\n",
        "\n",
        "As we have seen, it is necessary to import a package before you can use it. It is customary to import NumPy via:"
      ],
      "metadata": {
        "Collapsed": "false"
      }
    },
    {
      "cell_type": "code",
      "source": [
        "import numpy as np"
      ],
      "outputs": [],
      "execution_count": 6,
      "metadata": {
        "Collapsed": "false"
      }
    },
    {
      "cell_type": "markdown",
      "source": [
        "To give you an idea of ​​the performance gain, let's take the example of an object containing a million whole and want to square:"
      ],
      "metadata": {
        "Collapsed": "false"
      }
    },
    {
      "cell_type": "markdown",
      "source": [
        "# NumPy arrays\n",
        "\n",
        "An array is a type of multi-dimensional generic container for storing data\n",
        "\n",
        "homogeneous (ie of the same type).\n",
        "\n",
        "If it is possible to use strings in NumPy arrays, its strength is elsewhere and so it is rather recommend using the Pandas library for data structures that include non-numeric data.\n",
        "\n",
        "The main attributes of an array are:\n",
        "\n",
        "- its shape (oushape), a tuple indicating the size of each dimension \n",
        "- its number of dimensions (ndim)\n",
        "- its size (ousize), ie the total number of elements contained in the array (all dimensions combined)\n",
        "- its type, an object describing the data type of the array\n",
        "\n",
        "### Creating from a list\n",
        "\n",
        "A first way to create arrays is to convert a Python object, like a list, into an array:\n"
      ],
      "metadata": {
        "Collapsed": "false"
      }
    },
    {
      "cell_type": "code",
      "source": [
        "my_list = range ( 0 , 10 )\n",
        "my_list"
      ],
      "outputs": [
        {
          "output_type": "execute_result",
          "execution_count": 3,
          "data": {
            "text/plain": [
              "range(0, 10)"
            ]
          },
          "metadata": {}
        }
      ],
      "execution_count": 3,
      "metadata": {
        "Collapsed": "false"
      }
    },
    {
      "cell_type": "code",
      "source": [
        "my_arr = np.array(my_list)\n",
        "my_arr"
      ],
      "outputs": [
        {
          "output_type": "execute_result",
          "execution_count": 7,
          "data": {
            "text/plain": [
              "array([0, 1, 2, 3, 4, 5, 6, 7, 8, 9])"
            ]
          },
          "metadata": {}
        }
      ],
      "execution_count": 7,
      "metadata": {
        "Collapsed": "false"
      }
    },
    {
      "cell_type": "code",
      "source": [
        "my_arr.shape # attention, no parentheses because shape, ndim, size"
      ],
      "outputs": [
        {
          "output_type": "execute_result",
          "execution_count": 8,
          "data": {
            "text/plain": [
              "(10,)"
            ]
          },
          "metadata": {}
        }
      ],
      "execution_count": 8,
      "metadata": {
        "Collapsed": "false"
      }
    },
    {
      "cell_type": "code",
      "source": [
        " my_arr.ndim"
      ],
      "outputs": [
        {
          "output_type": "execute_result",
          "execution_count": 9,
          "data": {
            "text/plain": [
              "1"
            ]
          },
          "metadata": {}
        }
      ],
      "execution_count": 9,
      "metadata": {
        "Collapsed": "false"
      }
    },
    {
      "cell_type": "code",
      "source": [
        " my_arr.size # equivalent to np.product (my_arr.shape)"
      ],
      "outputs": [
        {
          "output_type": "execute_result",
          "execution_count": 10,
          "data": {
            "text/plain": [
              "10"
            ]
          },
          "metadata": {}
        }
      ],
      "execution_count": 10,
      "metadata": {
        "Collapsed": "false"
      }
    },
    {
      "cell_type": "code",
      "source": [
        " my_arr.dtype"
      ],
      "outputs": [
        {
          "output_type": "execute_result",
          "execution_count": 11,
          "data": {
            "text/plain": [
              "dtype('int64')"
            ]
          },
          "metadata": {}
        }
      ],
      "execution_count": 11,
      "metadata": {
        "Collapsed": "false"
      }
    },
    {
      "cell_type": "markdown",
      "source": [
        "### Creating from a list of lists\n",
        "\n",
        "We can also convert a list of lists (of the same size) into a multidimensional array:"
      ],
      "metadata": {
        "Collapsed": "false"
      }
    },
    {
      "cell_type": "code",
      "source": [
        "my_list2 = range ( 0 , 100 , 10 )\n",
        "my_arr = np.array ([my_list, my_list2])"
      ],
      "outputs": [],
      "execution_count": 12,
      "metadata": {
        "Collapsed": "false"
      }
    },
    {
      "cell_type": "code",
      "source": [
        "# Creation of a function to display the shape, ndim, size and dtype of an array\n",
        "def summarray (arr):\n",
        "    shape = arr.shape\n",
        "    ndim = arr.ndim\n",
        "    size = arr.size\n",
        "    dtype = arr.dtype\n",
        "    print (\"The array has {} dimension (s), its shape is {} ,\\n \\\n",
        "           its size is{} (ie it contains {} elements in total) and its \\n \\\n",
        "           dtype is {}.\".format (ndim, shape, size, size, dtype))\n",
        "summarray (my_arr)"
      ],
      "outputs": [
        {
          "output_type": "stream",
          "name": "stdout",
          "text": [
            "The array has 2 dimension (s), its shape is (3, 3) ,\n",
            "            its size is9 (ie it contains 9 elements in total) and its \n",
            "            dtype is int64.\n"
          ]
        }
      ],
      "execution_count": 22,
      "metadata": {
        "Collapsed": "false"
      }
    },
    {
      "cell_type": "markdown",
      "source": [
        "In the case of a matrix, the first number returned byshape (ie the first dimension) is the number of lines (ourows, axis = 0) and the second number (ie the second dimension) is the number of columns (columns, ieaxis = 1).\n",
        "\n",
        "### Creating from explicit values\n",
        "\n",
        "Let's now create an array from explicit values ​​- first a vector of 5 floats, then a matrix of 3 * 3 integers:"
      ],
      "metadata": {
        "Collapsed": "false"
      }
    },
    {
      "cell_type": "code",
      "source": [
        "vec = np.array ([ 3.32 , 5.67 , 1.11 , 9.81 , 13.41 ])\n",
        "vec"
      ],
      "outputs": [
        {
          "output_type": "execute_result",
          "execution_count": 18,
          "data": {
            "text/plain": [
              "array([ 3.32,  5.67,  1.11,  9.81, 13.41])"
            ]
          },
          "metadata": {}
        }
      ],
      "execution_count": 18,
      "metadata": {
        "Collapsed": "false"
      }
    },
    {
      "cell_type": "code",
      "source": [
        " my_arr = np.array ([[ 0 , 1 , 2 ], [ 3 , 4 , 5 ], [ 6 , 7 , 8 ]]) # each listprovided becomes a row of the matrix"
      ],
      "outputs": [],
      "execution_count": 19,
      "metadata": {
        "Collapsed": "false"
      }
    },
    {
      "cell_type": "code",
      "source": [
        "summarray(my_arr)"
      ],
      "outputs": [
        {
          "output_type": "stream",
          "name": "stdout",
          "text": [
            "The array has 2 dimension (s), its shape is (3, 3) ,            its size is9 (ie it contains 9 elements in total) and its            dtype is int64.\n"
          ]
        }
      ],
      "execution_count": 20,
      "metadata": {
        "Collapsed": "false"
      }
    },
    {
      "cell_type": "markdown",
      "source": [
        "### Creating an array and adding vianumpy.append ().\n",
        "\n",
        "We can also start from an array, whether empty or not, and then add new ones elements via the use of the functionumpy.append ():"
      ],
      "metadata": {
        "Collapsed": "false"
      }
    },
    {
      "cell_type": "code",
      "source": [
        " my_arr = np.array ([])\n",
        "for i in range ( 0 , 10 ): # upper bound excluded\n",
        "    my_arr = np.append (my_arr, i) \n",
        "    my_arr"
      ],
      "outputs": [],
      "execution_count": 23,
      "metadata": {
        "Collapsed": "false"
      }
    },
    {
      "cell_type": "code",
      "source": [
        "my_arr"
      ],
      "outputs": [
        {
          "output_type": "execute_result",
          "execution_count": 24,
          "data": {
            "text/plain": [
              "array([0., 1., 2., 3., 4., 5., 6., 7., 8., 9.])"
            ]
          },
          "metadata": {}
        }
      ],
      "execution_count": 24,
      "metadata": {
        "Collapsed": "false"
      }
    },
    {
      "cell_type": "markdown",
      "source": [
        "It is important to note that quenumpy.append () does not have a place-place- this means that the values provided are added to a copy of the initial array, and it is this enriched copy that returns the function.\n",
        "\n",
        "In the case of a multidimensional array, it is possible to use the optionnelaxelax arguments axis = None (which is the case by default, and so in the example above), numpy.append () returns a flattened array.\n",
        "\n",
        "### Creating an Array Using NumPy Functions\n",
        "\n",
        "Let's continue to create arrays but now using dedicated NumPy functions:"
      ],
      "metadata": {
        "Collapsed": "false"
      }
    },
    {
      "cell_type": "code",
      "source": [
        " # Creation of vectors of 10 identical values, 0 or 1 2 \n",
        "np.ones ( 10 ) # with ones 3  \n",
        "np.zeros ( 10 ) # with zeros "
      ],
      "outputs": [
        {
          "output_type": "execute_result",
          "execution_count": 25,
          "data": {
            "text/plain": [
              "array([0., 0., 0., 0., 0., 0., 0., 0., 0., 0.])"
            ]
          },
          "metadata": {}
        }
      ],
      "execution_count": 25,
      "metadata": {
        "Collapsed": "false"
      }
    },
    {
      "cell_type": "code",
      "source": [
        "np.arange ( 0 , 50 , 5 , dtype = float ) "
      ],
      "outputs": [
        {
          "output_type": "execute_result",
          "execution_count": 26,
          "data": {
            "text/plain": [
              "array([ 0.,  5., 10., 15., 20., 25., 30., 35., 40., 45.])"
            ]
          },
          "metadata": {}
        }
      ],
      "execution_count": 26,
      "metadata": {
        "Collapsed": "false"
      }
    },
    {
      "cell_type": "code",
      "source": [
        " # Creation of a vector of 10 uniformly distributed values ​​between start and stop 2  \n",
        "np.linspace (start = 0. , stop = 1. , num = 10 , endpoint = False ) "
      ],
      "outputs": [
        {
          "output_type": "execute_result",
          "execution_count": 27,
          "data": {
            "text/plain": [
              "array([0. , 0.1, 0.2, 0.3, 0.4, 0.5, 0.6, 0.7, 0.8, 0.9])"
            ]
          },
          "metadata": {}
        }
      ],
      "execution_count": 27,
      "metadata": {
        "Collapsed": "false"
      }
    },
    {
      "cell_type": "code",
      "source": [
        " # Creating a matrix of 10 by 10 values\n",
        "my_mat_0 = np.zeros (( 10 , 10 )) # with zeros 3  \n",
        "my_mat_0"
      ],
      "outputs": [
        {
          "output_type": "execute_result",
          "execution_count": 30,
          "data": {
            "text/plain": [
              "array([[0., 0., 0., 0., 0., 0., 0., 0., 0., 0.],\n",
              "       [0., 0., 0., 0., 0., 0., 0., 0., 0., 0.],\n",
              "       [0., 0., 0., 0., 0., 0., 0., 0., 0., 0.],\n",
              "       [0., 0., 0., 0., 0., 0., 0., 0., 0., 0.],\n",
              "       [0., 0., 0., 0., 0., 0., 0., 0., 0., 0.],\n",
              "       [0., 0., 0., 0., 0., 0., 0., 0., 0., 0.],\n",
              "       [0., 0., 0., 0., 0., 0., 0., 0., 0., 0.],\n",
              "       [0., 0., 0., 0., 0., 0., 0., 0., 0., 0.],\n",
              "       [0., 0., 0., 0., 0., 0., 0., 0., 0., 0.],\n",
              "       [0., 0., 0., 0., 0., 0., 0., 0., 0., 0.]])"
            ]
          },
          "metadata": {}
        }
      ],
      "execution_count": 30,
      "metadata": {
        "Collapsed": "false"
      }
    },
    {
      "cell_type": "code",
      "source": [
        "my_mat_1 = np.ones ( ( 10 , 10 )) # with some 4  \n",
        "my_mat_1"
      ],
      "outputs": [
        {
          "output_type": "execute_result",
          "execution_count": 31,
          "data": {
            "text/plain": [
              "array([[1., 1., 1., 1., 1., 1., 1., 1., 1., 1.],\n",
              "       [1., 1., 1., 1., 1., 1., 1., 1., 1., 1.],\n",
              "       [1., 1., 1., 1., 1., 1., 1., 1., 1., 1.],\n",
              "       [1., 1., 1., 1., 1., 1., 1., 1., 1., 1.],\n",
              "       [1., 1., 1., 1., 1., 1., 1., 1., 1., 1.],\n",
              "       [1., 1., 1., 1., 1., 1., 1., 1., 1., 1.],\n",
              "       [1., 1., 1., 1., 1., 1., 1., 1., 1., 1.],\n",
              "       [1., 1., 1., 1., 1., 1., 1., 1., 1., 1.],\n",
              "       [1., 1., 1., 1., 1., 1., 1., 1., 1., 1.],\n",
              "       [1., 1., 1., 1., 1., 1., 1., 1., 1., 1.]])"
            ]
          },
          "metadata": {}
        }
      ],
      "execution_count": 31,
      "metadata": {
        "Collapsed": "false"
      }
    },
    {
      "cell_type": "code",
      "source": [
        "# Let's check the form and type of my_mat_1   \n",
        "summarray (my_mat_1) "
      ],
      "outputs": [
        {
          "output_type": "stream",
          "name": "stdout",
          "text": [
            "The array has 2 dimension (s), its shape is (10, 10) ,\n",
            "            its size is100 (ie it contains 100 elements in total) and its \n",
            "            dtype is float64.\n"
          ]
        }
      ],
      "execution_count": 32,
      "metadata": {
        "Collapsed": "false"
      }
    },
    {
      "cell_type": "code",
      "source": [
        "# Warning, empty does not always return an array with values ​​initialized to zero \n",
        "np.empty ([ 10 ])"
      ],
      "outputs": [
        {
          "output_type": "execute_result",
          "execution_count": 34,
          "data": {
            "text/plain": [
              "array([0. , 0.1, 0.2, 0.3, 0.4, 0.5, 0.6, 0.7, 0.8, 0.9])"
            ]
          },
          "metadata": {}
        }
      ],
      "execution_count": 34,
      "metadata": {
        "Collapsed": "false"
      }
    },
    {
      "cell_type": "markdown",
      "source": [
        "## Converting from one type to another\n",
        "\n",
        "Finally, let's see how to convert an array from undtypevers to another - in this case from int to float:"
      ],
      "metadata": {
        "Collapsed": "false"
      }
    },
    {
      "cell_type": "code",
      "source": [
        "my_arr"
      ],
      "outputs": [
        {
          "output_type": "execute_result",
          "execution_count": 35,
          "data": {
            "text/plain": [
              "array([0., 1., 2., 3., 4., 5., 6., 7., 8., 9.])"
            ]
          },
          "metadata": {}
        }
      ],
      "execution_count": 35,
      "metadata": {
        "Collapsed": "false"
      }
    },
    {
      "cell_type": "code",
      "source": [
        "my_arr_float = my_arr.astype (np.float64)\n",
        "my_arr_float "
      ],
      "outputs": [
        {
          "output_type": "execute_result",
          "execution_count": 36,
          "data": {
            "text/plain": [
              "array([0., 1., 2., 3., 4., 5., 6., 7., 8., 9.])"
            ]
          },
          "metadata": {}
        }
      ],
      "execution_count": 36,
      "metadata": {
        "Collapsed": "false"
      }
    },
    {
      "cell_type": "code",
      "source": [
        "summarray (my_arr)"
      ],
      "outputs": [
        {
          "output_type": "stream",
          "name": "stdout",
          "text": [
            "The array has 1 dimension (s), its shape is (10,) ,\n",
            "            its size is10 (ie it contains 10 elements in total) and its \n",
            "            dtype is float64.\n"
          ]
        }
      ],
      "execution_count": 37,
      "metadata": {
        "Collapsed": "false"
      }
    },
    {
      "cell_type": "code",
      "source": [
        "summarray (my_arr_float) "
      ],
      "outputs": [
        {
          "output_type": "stream",
          "name": "stdout",
          "text": [
            "The array has 1 dimension (s), its shape is (10,) ,\n",
            "            its size is10 (ie it contains 10 elements in total) and its \n",
            "            dtype is float64.\n"
          ]
        }
      ],
      "execution_count": 38,
      "metadata": {
        "Collapsed": "false"
      }
    },
    {
      "cell_type": "markdown",
      "source": [
        "# Arithmetic and comparisons with NumPy arrays\n",
        "\n",
        "## Vector operations\n",
        "\n",
        "As mentioned, one of the advantages of NumPy arrays is to allow operations to be performed\n",
        "\n",
        "and calculations enbatch in a vector way, and therefore without having to use a loop (which allows in\n",
        "\n",
        "general to shorten the calculation time).\n",
        "\n",
        "Any arithmetic operation on arrays of the same size is applied element by element\n",
        "\n",
        "(element-wise):"
      ],
      "metadata": {
        "Collapsed": "false"
      }
    },
    {
      "cell_type": "code",
      "source": [
        "my_arr = np.array ([[ 1. , 2. , 3. ], [ 4. , 5. , 6. ]])\n",
        "my_arr"
      ],
      "outputs": [
        {
          "output_type": "execute_result",
          "execution_count": 39,
          "data": {
            "text/plain": [
              "array([[1., 2., 3.],\n",
              "       [4., 5., 6.]])"
            ]
          },
          "metadata": {}
        }
      ],
      "execution_count": 39,
      "metadata": {
        "Collapsed": "false"
      }
    },
    {
      "cell_type": "code",
      "source": [
        "# Multiplication of the array by itself (ie squared) 2  \n",
        "my_arr * my_arr"
      ],
      "outputs": [
        {
          "output_type": "execute_result",
          "execution_count": 40,
          "data": {
            "text/plain": [
              "array([[ 1.,  4.,  9.],\n",
              "       [16., 25., 36.]])"
            ]
          },
          "metadata": {}
        }
      ],
      "execution_count": 40,
      "metadata": {
        "Collapsed": "false"
      }
    },
    {
      "cell_type": "code",
      "source": [
        "# Subtraction 2  \n",
        "my_arr - my_arr"
      ],
      "outputs": [
        {
          "output_type": "execute_result",
          "execution_count": 42,
          "data": {
            "text/plain": [
              "array([[0., 0., 0.],\n",
              "       [0., 0., 0.]])"
            ]
          },
          "metadata": {}
        }
      ],
      "execution_count": 42,
      "metadata": {
        "Collapsed": "false"
      }
    },
    {
      "cell_type": "markdown",
      "source": [
        "##  Operations with scalars\n",
        "\n",
        "In the case of an arithmetic operation involving a number (English scalar), the so-called operation and number will be applied to each element composing the array:\n"
      ],
      "metadata": {
        "Collapsed": "false"
      }
    },
    {
      "cell_type": "code",
      "source": [
        "my_arr * 10"
      ],
      "outputs": [
        {
          "output_type": "execute_result",
          "execution_count": 43,
          "data": {
            "text/plain": [
              "array([[10., 20., 30.],\n",
              "       [40., 50., 60.]])"
            ]
          },
          "metadata": {}
        }
      ],
      "execution_count": 43,
      "metadata": {
        "Collapsed": "false"
      }
    },
    {
      "cell_type": "code",
      "source": [
        "my_arr - 3"
      ],
      "outputs": [
        {
          "output_type": "execute_result",
          "execution_count": 44,
          "data": {
            "text/plain": [
              "array([[-2., -1.,  0.],\n",
              "       [ 1.,  2.,  3.]])"
            ]
          },
          "metadata": {}
        }
      ],
      "execution_count": 44,
      "metadata": {
        "Collapsed": "false"
      }
    },
    {
      "cell_type": "markdown",
      "source": [
        "## Powers and square roots\n",
        "\n",
        "NumPy offers functions dedicated to powers (numpy.square () andnumpy.power ()) as well than square roots (numpy.sqrt ()):\n"
      ],
      "metadata": {
        "Collapsed": "false"
      }
    },
    {
      "cell_type": "code",
      "source": [
        "np.square (my_arr) #"
      ],
      "outputs": [
        {
          "output_type": "execute_result",
          "execution_count": 45,
          "data": {
            "text/plain": [
              "array([[ 1.,  4.,  9.],\n",
              "       [16., 25., 36.]])"
            ]
          },
          "metadata": {}
        }
      ],
      "execution_count": 45,
      "metadata": {
        "Collapsed": "false"
      }
    },
    {
      "cell_type": "code",
      "source": [
        "np.power (my_arr, 3 ) "
      ],
      "outputs": [
        {
          "output_type": "execute_result",
          "execution_count": 46,
          "data": {
            "text/plain": [
              "array([[  1.,   8.,  27.],\n",
              "       [ 64., 125., 216.]])"
            ]
          },
          "metadata": {}
        }
      ],
      "execution_count": 46,
      "metadata": {
        "Collapsed": "false"
      }
    },
    {
      "cell_type": "code",
      "source": [
        "np.sqrt (my_arr)"
      ],
      "outputs": [
        {
          "output_type": "execute_result",
          "execution_count": 47,
          "data": {
            "text/plain": [
              "array([[1.        , 1.41421356, 1.73205081],\n",
              "       [2.        , 2.23606798, 2.44948974]])"
            ]
          },
          "metadata": {}
        }
      ],
      "execution_count": 47,
      "metadata": {
        "Collapsed": "false"
      }
    },
    {
      "cell_type": "markdown",
      "source": [
        "# Generating random numbers with NumPy\n",
        "\n",
        "NumPy allows thanks to its modulenumpy.randomde generate arrays of random numbers of efficient way - several functions are available depending on the desired source distribution (see the [official documentation](https://docs.scipy.org/doc/numpy-1.15.1/reference/routines.random.html)).\n",
        "\n",
        "## Method\n",
        "\n",
        "For example, let's generate an array of 25 (5 * 5) samples from the standard normal distribution\n"
      ],
      "metadata": {
        "Collapsed": "false"
      }
    },
    {
      "cell_type": "code",
      "source": [
        "np.random.normal (size = ( 5 , 5 ))"
      ],
      "outputs": [
        {
          "output_type": "execute_result",
          "execution_count": 48,
          "data": {
            "text/plain": [
              "array([[-0.63183658,  0.78837298, -0.0457775 , -1.55442529,  0.69098968],\n",
              "       [ 0.90490992,  0.32619503, -1.7422548 ,  0.59160798,  1.27111669],\n",
              "       [-0.90369057,  0.59396487,  0.58079807,  0.65818372, -0.31137084],\n",
              "       [-0.04475622, -0.52835547, -1.74848785,  0.45994542,  0.96981571],\n",
              "       [ 0.59799273,  0.53475658, -0.57555766, -0.6658237 ,  0.56425924]])"
            ]
          },
          "metadata": {}
        }
      ],
      "execution_count": 48,
      "metadata": {
        "Collapsed": "false"
      }
    },
    {
      "cell_type": "markdown",
      "source": [
        "Re-executing the cell code above will result in 25 new samples, which\n",
        "confirms that this is a random draw - or rather pseudo-random to be more precise.\n",
        "\n",
        "Indeed, these so-calledaluminant numbers are generated by a deterministic algorithm.\n",
        "\n",
        "based on what is called a seed (English ouseeden). So, a random number generator\n",
        "\n",
        "can be made deterministic (and its reproducible prints) simply by defining the seed at, preliminary:"
      ],
      "metadata": {
        "Collapsed": "false"
      }
    },
    {
      "cell_type": "code",
      "source": [
        "np.random.seed ( 123 )\n",
        "np.random.normal (size = ( 5 , 5 )) "
      ],
      "outputs": [
        {
          "output_type": "execute_result",
          "execution_count": 49,
          "data": {
            "text/plain": [
              "array([[-1.0856306 ,  0.99734545,  0.2829785 , -1.50629471, -0.57860025],\n",
              "       [ 1.65143654, -2.42667924, -0.42891263,  1.26593626, -0.8667404 ],\n",
              "       [-0.67888615, -0.09470897,  1.49138963, -0.638902  , -0.44398196],\n",
              "       [-0.43435128,  2.20593008,  2.18678609,  1.0040539 ,  0.3861864 ],\n",
              "       [ 0.73736858,  1.49073203, -0.93583387,  1.17582904, -1.25388067]])"
            ]
          },
          "metadata": {}
        }
      ],
      "execution_count": 49,
      "metadata": {
        "Collapsed": "false"
      }
    },
    {
      "cell_type": "markdown",
      "source": [
        "Re-executing the cell code above will this time remove the same 25 samples,\n",
        "\n",
        "because we have defined the seed beforehand - try!\n",
        "\n",
        "If we generate 25 samples again, they will be different - let's do the 2 more times:"
      ],
      "metadata": {
        "Collapsed": "false"
      }
    },
    {
      "cell_type": "code",
      "source": [
        "[np.random.normal (size = ( 5 , 5 )) for i in range ( 2 )] "
      ],
      "outputs": [
        {
          "output_type": "execute_result",
          "execution_count": 50,
          "data": {
            "text/plain": [
              "[array([[-0.6377515 ,  0.9071052 , -1.4286807 , -0.14006872, -0.8617549 ],\n",
              "        [-0.25561937, -2.79858911, -1.7715331 , -0.69987723,  0.92746243],\n",
              "        [-0.17363568,  0.00284592,  0.68822271, -0.87953634,  0.28362732],\n",
              "        [-0.80536652, -1.72766949, -0.39089979,  0.57380586,  0.33858905],\n",
              "        [-0.01183049,  2.39236527,  0.41291216,  0.97873601,  2.23814334]]),\n",
              " array([[-1.29408532, -1.03878821,  1.74371223, -0.79806274,  0.02968323],\n",
              "        [ 1.06931597,  0.89070639,  1.75488618,  1.49564414,  1.06939267],\n",
              "        [-0.77270871,  0.79486267,  0.31427199, -1.32626546,  1.41729905],\n",
              "        [ 0.80723653,  0.04549008, -0.23309206, -1.19830114,  0.19952407],\n",
              "        [ 0.46843912, -0.83115498,  1.16220405, -1.09720305, -2.12310035]])]"
            ]
          },
          "metadata": {}
        }
      ],
      "execution_count": 50,
      "metadata": {
        "Collapsed": "false"
      }
    },
    {
      "cell_type": "markdown",
      "source": [
        "On the other hand, if we redefine the seed and then re-generate 3 times 25 random numbers:"
      ],
      "metadata": {
        "Collapsed": "false"
      }
    },
    {
      "cell_type": "code",
      "source": [
        "np.random.seed ( 123 )\n",
        "[np.random.normal (size = ( 5 , 5 )) for i in range ( 3 )]"
      ],
      "outputs": [
        {
          "output_type": "execute_result",
          "execution_count": 51,
          "data": {
            "text/plain": [
              "[array([[-1.0856306 ,  0.99734545,  0.2829785 , -1.50629471, -0.57860025],\n",
              "        [ 1.65143654, -2.42667924, -0.42891263,  1.26593626, -0.8667404 ],\n",
              "        [-0.67888615, -0.09470897,  1.49138963, -0.638902  , -0.44398196],\n",
              "        [-0.43435128,  2.20593008,  2.18678609,  1.0040539 ,  0.3861864 ],\n",
              "        [ 0.73736858,  1.49073203, -0.93583387,  1.17582904, -1.25388067]]),\n",
              " array([[-0.6377515 ,  0.9071052 , -1.4286807 , -0.14006872, -0.8617549 ],\n",
              "        [-0.25561937, -2.79858911, -1.7715331 , -0.69987723,  0.92746243],\n",
              "        [-0.17363568,  0.00284592,  0.68822271, -0.87953634,  0.28362732],\n",
              "        [-0.80536652, -1.72766949, -0.39089979,  0.57380586,  0.33858905],\n",
              "        [-0.01183049,  2.39236527,  0.41291216,  0.97873601,  2.23814334]]),\n",
              " array([[-1.29408532, -1.03878821,  1.74371223, -0.79806274,  0.02968323],\n",
              "        [ 1.06931597,  0.89070639,  1.75488618,  1.49564414,  1.06939267],\n",
              "        [-0.77270871,  0.79486267,  0.31427199, -1.32626546,  1.41729905],\n",
              "        [ 0.80723653,  0.04549008, -0.23309206, -1.19830114,  0.19952407],\n",
              "        [ 0.46843912, -0.83115498,  1.16220405, -1.09720305, -2.12310035]])]"
            ]
          },
          "metadata": {}
        }
      ],
      "execution_count": 51,
      "metadata": {
        "Collapsed": "false"
      }
    },
    {
      "cell_type": "markdown",
      "source": [
        "We find our 3 prints made above - the behavior of the number generator\n",
        "\n",
        "pseudo-random is therefore very deterministic.\n",
        "\n",
        "Defining the seed allows us to have reproducible prints afterwards, much like\n",
        "\n",
        "if it repositioned us in the same place in a pre-determined sequence.\n",
        "\n",
        "## Method\n",
        "\n",
        "A second approach is to define the seed in isolation (and not globally).\n",
        "\n",
        "as is the case withrandom.seed ()), by instantiating aRandomState object:"
      ],
      "metadata": {
        "Collapsed": "false"
      }
    },
    {
      "cell_type": "code",
      "source": [
        "rand_gen = np.random.RandomState (seed = 123 )\n",
        "rand_gen.normal (size = ( 5 , 5 )) "
      ],
      "outputs": [
        {
          "output_type": "execute_result",
          "execution_count": 52,
          "data": {
            "text/plain": [
              "array([[-1.0856306 ,  0.99734545,  0.2829785 , -1.50629471, -0.57860025],\n",
              "       [ 1.65143654, -2.42667924, -0.42891263,  1.26593626, -0.8667404 ],\n",
              "       [-0.67888615, -0.09470897,  1.49138963, -0.638902  , -0.44398196],\n",
              "       [-0.43435128,  2.20593008,  2.18678609,  1.0040539 ,  0.3861864 ],\n",
              "       [ 0.73736858,  1.49073203, -0.93583387,  1.17582904, -1.25388067]])"
            ]
          },
          "metadata": {}
        }
      ],
      "execution_count": 52,
      "metadata": {
        "Collapsed": "false"
      }
    },
    {
      "cell_type": "markdown",
      "source": [
        "As you can see, this 2nd method generates the same random numbers if it is\n",
        "\n",
        "provides the same seed. For confirmation re-generate 2 more times 25 normal samples:"
      ],
      "metadata": {
        "Collapsed": "false"
      }
    },
    {
      "cell_type": "code",
      "source": [
        "[rand_gen.normal (size = ( 5 , 5 )) for i in range ( 2 )] "
      ],
      "outputs": [
        {
          "output_type": "execute_result",
          "execution_count": 54,
          "data": {
            "text/plain": [
              "[array([[ 1.03972709, -0.40336604, -0.12602959, -0.83751672, -1.60596276],\n",
              "        [ 1.25523737, -0.68886898,  1.66095249,  0.80730819, -0.31475815],\n",
              "        [-1.0859024 , -0.73246199, -1.21252313,  2.08711336,  0.16444123],\n",
              "        [ 1.15020554, -1.26735205,  0.18103513,  1.17786194, -0.33501076],\n",
              "        [ 1.03111446, -1.08456791, -1.36347154,  0.37940061, -0.37917643]]),\n",
              " array([[ 0.64205469, -1.97788793,  0.71226464,  2.59830393, -0.02462598],\n",
              "        [ 0.03414213,  0.17954948, -1.86197571,  0.42614664, -1.60540974],\n",
              "        [-0.4276796 ,  1.24286955, -0.73521696,  0.50124899,  1.01273905],\n",
              "        [ 0.27874086, -1.37094847, -0.33247528,  1.95941134, -2.02504576],\n",
              "        [-0.27578601, -0.55210807,  0.12074736,  0.74821562,  1.60869097]])]"
            ]
          },
          "metadata": {}
        }
      ],
      "execution_count": 54,
      "metadata": {
        "Collapsed": "false"
      }
    },
    {
      "cell_type": "markdown",
      "source": [
        "We get the same sequence as before.\n",
        "\n",
        "# Indexing and assignment\n",
        "\n",
        "## Reminders\n",
        "\n",
        "To begin, let's remember how we index a Python list:"
      ],
      "metadata": {
        "Collapsed": "false"
      }
    },
    {
      "cell_type": "code",
      "source": [
        "my_list = [ 0 , 1 , 2 , 3 , 4 ]\n",
        "my_list"
      ],
      "outputs": [
        {
          "output_type": "execute_result",
          "execution_count": 56,
          "data": {
            "text/plain": [
              "[0, 1, 2, 3, 4]"
            ]
          },
          "metadata": {}
        }
      ],
      "execution_count": 56,
      "metadata": {
        "Collapsed": "false"
      }
    },
    {
      "cell_type": "code",
      "source": [
        "my_list [ 0 ] # returns the 1st value"
      ],
      "outputs": [
        {
          "output_type": "execute_result",
          "execution_count": 57,
          "data": {
            "text/plain": [
              "0"
            ]
          },
          "metadata": {}
        }
      ],
      "execution_count": 57,
      "metadata": {
        "Collapsed": "false"
      }
    },
    {
      "cell_type": "code",
      "source": [
        "my_list [ - 1 ] # returns the last value - identical to my_list [4]"
      ],
      "outputs": [
        {
          "output_type": "execute_result",
          "execution_count": 58,
          "data": {
            "text/plain": [
              "4"
            ]
          },
          "metadata": {}
        }
      ],
      "execution_count": 58,
      "metadata": {
        "Collapsed": "false"
      }
    },
    {
      "cell_type": "markdown",
      "source": [
        "## Lists to vectors\n",
        "\n",
        "The assignment and indexing of NumPy arrays is based on similar - or even identical - principles\n",
        "\n",
        "in the case of vectors (ie one-dimensional arrays, like a Python list):"
      ],
      "metadata": {
        "Collapsed": "false"
      }
    },
    {
      "cell_type": "code",
      "source": [
        "my_vec = np.linspace ( - 10 , 10 , 20 )\n",
        "my_vec "
      ],
      "outputs": [
        {
          "output_type": "execute_result",
          "execution_count": 59,
          "data": {
            "text/plain": [
              "array([-10.        ,  -8.94736842,  -7.89473684,  -6.84210526,\n",
              "        -5.78947368,  -4.73684211,  -3.68421053,  -2.63157895,\n",
              "        -1.57894737,  -0.52631579,   0.52631579,   1.57894737,\n",
              "         2.63157895,   3.68421053,   4.73684211,   5.78947368,\n",
              "         6.84210526,   7.89473684,   8.94736842,  10.        ])"
            ]
          },
          "metadata": {}
        }
      ],
      "execution_count": 59,
      "metadata": {
        "Collapsed": "false"
      }
    },
    {
      "cell_type": "code",
      "source": [
        "my_vec [ 3 ]"
      ],
      "outputs": [
        {
          "output_type": "execute_result",
          "execution_count": 60,
          "data": {
            "text/plain": [
              "-6.842105263157895"
            ]
          },
          "metadata": {}
        }
      ],
      "execution_count": 60,
      "metadata": {
        "Collapsed": "false"
      }
    },
    {
      "cell_type": "code",
      "source": [
        "my_vec [ 0 : 2 ] # slicing (upper bound excluded)"
      ],
      "outputs": [
        {
          "output_type": "execute_result",
          "execution_count": 61,
          "data": {
            "text/plain": [
              "array([-10.        ,  -8.94736842])"
            ]
          },
          "metadata": {}
        }
      ],
      "execution_count": 61,
      "metadata": {
        "Collapsed": "false"
      }
    },
    {
      "cell_type": "markdown",
      "source": [
        "## Multidimensional generalization\n",
        "\n",
        "These same principles are generalized in NumPy to multidimensional data structures.\n",
        "\n",
        "A vector with 1 single dimension, a 2 dimensional matrix (lines, axis = 0 and columns, axis = 1) ...\n",
        "\n",
        "Thus, the basic principle of indexing and assignment is, for an array of n dimensions:\n",
        "\n",
        "array [idx dim 1, idx dim 2, ..., idx dim n]\n",
        "\n",
        "If we apply this generalized principle to the particular case of a matrix (ie 2 dimensions), this gives:\n",
        "\n",
        "array [idx lines idx column]\n",
        "\n",
        "In other words, the first dimension (axis = 0) always corresponds to lines and the second dimension (axis\n",
        "\n",
        "= 1) to the columns, cf. this illustration by Wes McKinney:\n",
        "\n",
        "Source: Python for Data Analysis (2nd Ed.), Chapter 4\n",
        "\n",
        "5.4 Examples of indexing and assignment\n",
        "\n",
        "FIGURE 6"
      ],
      "metadata": {
        "Collapsed": "false"
      }
    },
    {
      "cell_type": "code",
      "source": [
        "my_arr = np.array ([np.arange ( 0 , 5 ),\n",
        "                     np.arange ( 5 , 10 ),\n",
        "                     np.arange ( 10 , 15 ),\n",
        "                     np.arange ( 15 , 20 )])\n",
        "my_arr "
      ],
      "outputs": [
        {
          "output_type": "execute_result",
          "execution_count": 62,
          "data": {
            "text/plain": [
              "array([[ 0,  1,  2,  3,  4],\n",
              "       [ 5,  6,  7,  8,  9],\n",
              "       [10, 11, 12, 13, 14],\n",
              "       [15, 16, 17, 18, 19]])"
            ]
          },
          "metadata": {}
        }
      ],
      "execution_count": 62,
      "metadata": {
        "Collapsed": "false"
      }
    },
    {
      "cell_type": "code",
      "source": [
        "my_arr [ 2 , 2 ]"
      ],
      "outputs": [
        {
          "output_type": "execute_result",
          "execution_count": 63,
          "data": {
            "text/plain": [
              "12"
            ]
          },
          "metadata": {}
        }
      ],
      "execution_count": 63,
      "metadata": {
        "Collapsed": "false"
      }
    },
    {
      "cell_type": "code",
      "source": [
        " # Indexing - recovery of the 3rd line 2 \n",
        "my_arr [ 2 ]"
      ],
      "outputs": [
        {
          "output_type": "execute_result",
          "execution_count": 64,
          "data": {
            "text/plain": [
              "array([10, 11, 12, 13, 14])"
            ]
          },
          "metadata": {}
        }
      ],
      "execution_count": 64,
      "metadata": {
        "Collapsed": "false"
      }
    },
    {
      "cell_type": "markdown",
      "source": [
        "# Indexing - recovery of the 2nd column 2"
      ],
      "metadata": {
        "Collapsed": "false"
      }
    },
    {
      "cell_type": "code",
      "source": [
        "my_arr [:, 1 ] "
      ],
      "outputs": [
        {
          "output_type": "execute_result",
          "execution_count": 65,
          "data": {
            "text/plain": [
              "array([ 1,  6, 11, 16])"
            ]
          },
          "metadata": {}
        }
      ],
      "execution_count": 65,
      "metadata": {
        "Collapsed": "false"
      }
    },
    {
      "cell_type": "markdown",
      "source": [
        ": means \"all values\", more precisely here \"all lines\" because it is in first\n",
        "\n",
        "position (dimension 1, soaxis = 0).\n",
        "\n",
        " # Slicing - recovery of the first 2 lines 2"
      ],
      "metadata": {
        "Collapsed": "false"
      }
    },
    {
      "cell_type": "code",
      "source": [
        "my_arr [: 2 ]"
      ],
      "outputs": [
        {
          "output_type": "execute_result",
          "execution_count": 66,
          "data": {
            "text/plain": [
              "array([[0, 1, 2, 3, 4],\n",
              "       [5, 6, 7, 8, 9]])"
            ]
          },
          "metadata": {}
        }
      ],
      "execution_count": 66,
      "metadata": {
        "Collapsed": "false"
      }
    },
    {
      "cell_type": "markdown",
      "source": [
        "## Axes\n",
        "\n",
        "Finally, before switching to NumPy functions, it is important to return to the concept of axes (ie\n",
        "\n",
        "axis = 0, axis = 1 ...) - below applied to a matrix:\n",
        "\n",
        "FIGURE 7\n",
        "\n",
        "Source: StackOverflow\n",
        "\n",
        "-Axis = 0-> lines; think from top to bottom; calculating the sum (or average ...) the lines longdes\n",
        "\n",
        "(across / alongrows), ie by column.\n",
        "\n",
        "-Axis = 1-> columns; think from left to right; calculating the sum (or average ...) along\n",
        "\n",
        "columns (across / alongcolumns), ie per line.\n",
        "\n",
        "# Some functions to know\n",
        "\n",
        "## NumPy\n",
        "\n",
        "Let's start with some particularly useful NumPy features, some of which have already been\n",
        "\n",
        "discussed above concerning the creation of arrays:\n",
        "\n",
        "Click on the name of the function to consult the official documentation.\n",
        "\n",
        "### numpy.arange ()\n",
        "\n",
        "Returns an array of values ​​distributed within the intervallestart, stop (stop excluded),\n",
        "\n",
        "with the possibility of defining a step (step = 1 by default).\n",
        "\n",
        "numpy.arange (start, stop, step, dtype = None )\n",
        "\n",
        "Equivalent derange () in pure Python, but returns an array instead of a list."
      ],
      "metadata": {
        "Collapsed": "false"
      }
    },
    {
      "cell_type": "code",
      "source": [
        "np.arange ( 0 , 10 , 2 )"
      ],
      "outputs": [
        {
          "output_type": "execute_result",
          "execution_count": 67,
          "data": {
            "text/plain": [
              "array([0, 2, 4, 6, 8])"
            ]
          },
          "metadata": {}
        }
      ],
      "execution_count": 67,
      "metadata": {
        "Collapsed": "false"
      }
    },
    {
      "cell_type": "markdown",
      "source": [
        "### numpy.linspace ()\n",
        "\n",
        "Returns an array of uniformly distributed values ​​within the intervallestart, stop. The\n",
        "\n",
        "bornestopp can be excluded if needed (it is included by default)."
      ],
      "metadata": {
        "Collapsed": "false"
      }
    },
    {
      "cell_type": "code",
      "source": [
        "np.linspace ( - 1 , 1 , num = 10 , endpoint = True )"
      ],
      "outputs": [
        {
          "output_type": "execute_result",
          "execution_count": 69,
          "data": {
            "text/plain": [
              "array([-1.        , -0.77777778, -0.55555556, -0.33333333, -0.11111111,\n",
              "        0.11111111,  0.33333333,  0.55555556,  0.77777778,  1.        ])"
            ]
          },
          "metadata": {}
        }
      ],
      "execution_count": 69,
      "metadata": {
        "Collapsed": "false"
      }
    },
    {
      "cell_type": "markdown",
      "source": [
        "### numpy.repeat ()\n",
        "\n",
        "Returns an array composed of two times.\n",
        "\n",
        "numpy.repeat (a, repeats, axis = None )\n",
        "\n",
        "The argumentaxisis optional and allows to specify on which axis to repeat the values. By default,\n",
        "\n",
        "axis = None, which flattens the input and output array."
      ],
      "metadata": {
        "Collapsed": "false"
      }
    },
    {
      "cell_type": "code",
      "source": [
        "np.repeat ( 7 , 10 )"
      ],
      "outputs": [
        {
          "output_type": "execute_result",
          "execution_count": 70,
          "data": {
            "text/plain": [
              "array([7, 7, 7, 7, 7, 7, 7, 7, 7, 7])"
            ]
          },
          "metadata": {}
        }
      ],
      "execution_count": 70,
      "metadata": {
        "Collapsed": "false"
      }
    },
    {
      "cell_type": "code",
      "source": [
        "vec = np.array ([ 1 , 2 , 3 ])\n",
        "np.repeat (vec, 10 )"
      ],
      "outputs": [
        {
          "output_type": "execute_result",
          "execution_count": 71,
          "data": {
            "text/plain": [
              "array([1, 1, 1, 1, 1, 1, 1, 1, 1, 1, 2, 2, 2, 2, 2, 2, 2, 2, 2, 2, 3, 3,\n",
              "       3, 3, 3, 3, 3, 3, 3, 3])"
            ]
          },
          "metadata": {}
        }
      ],
      "execution_count": 71,
      "metadata": {
        "Collapsed": "false"
      }
    },
    {
      "cell_type": "markdown",
      "source": [
        "### numpy.unique ()\n",
        "\n",
        "Returns the unique values ​​of the array (ie filters the redundant values).\n",
        "\n",
        "numpy.unique (ar, return_index = False , return_inverse = False ,\n",
        "return_counts = False , axis = None )\n",
        "\n",
        "Here again, the argument optionnelaxispermet to specify the axis on which to intervene. By default,\n",
        "\n",
        "axis = None, which flattens the arrayar.\n",
        "\n",
        "The other 3 arguments are optional and allow to return additional information.\n",
        "\n",
        "tary, as the indices of unique elements. See help for more details."
      ],
      "metadata": {
        "Collapsed": "false"
      }
    },
    {
      "cell_type": "code",
      "source": [
        "vec = np.array ([ 1 , 2 , 3 , 1 , 2 , 3 , 1 ])\n",
        "np.unique (vec)"
      ],
      "outputs": [
        {
          "output_type": "execute_result",
          "execution_count": 72,
          "data": {
            "text/plain": [
              "array([1, 2, 3])"
            ]
          },
          "metadata": {}
        }
      ],
      "execution_count": 72,
      "metadata": {
        "Collapsed": "false"
      }
    },
    {
      "cell_type": "markdown",
      "source": [
        "### numpy.ravel ().\n",
        "\n",
        "Returns a copy of the reduced-size array (ie a vector)."
      ],
      "metadata": {
        "Collapsed": "false"
      }
    },
    {
      "cell_type": "markdown",
      "source": [
        "The flatten () method can also be used:"
      ],
      "metadata": {
        "Collapsed": "false"
      }
    },
    {
      "cell_type": "code",
      "source": [
        "my_arr2"
      ],
      "outputs": [
        {
          "output_type": "execute_result",
          "execution_count": 75,
          "data": {
            "text/plain": [
              "array([ 0,  1,  2,  3,  4,  5,  6,  7,  8,  9, 10, 11, 12, 13, 14, 15, 16,\n",
              "       17, 18, 19])"
            ]
          },
          "metadata": {}
        }
      ],
      "execution_count": 75,
      "metadata": {
        "Collapsed": "false"
      }
    },
    {
      "cell_type": "code",
      "source": [
        "my_arr2 = my_arr.flatten () # also returns a vector"
      ],
      "outputs": [
        {
          "output_type": "stream",
          "name": "stdout",
          "text": [
            "[ 0  1  2  3  4  5  6  7  8  9 10 11 12 13 14 15 16 17 18 19]  \\ n \\ n Shape = (20,)\n"
          ]
        }
      ],
      "execution_count": 74,
      "metadata": {
        "Collapsed": "false"
      }
    },
    {
      "cell_type": "markdown",
      "source": [
        "### numpy.sum ()\n",
        "\n",
        "Returns the sum of the elements of the array along a given axis (axis = 0 or 1 ...).\n",
        "\n",
        "numpy. sum (a, axis = None , dtype = None )\n",
        "\n",
        "By default, axis = None, which will calculate the sum of all the elements of the array (ie of the array\n",
        "\n",
        "\"Flattened\", ouflattened in English)."
      ],
      "metadata": {
        "Collapsed": "false"
      }
    },
    {
      "cell_type": "code",
      "source": [
        " vec = np.array ([ 0 , 1 , 2 , 3 , 4 ])\n",
        "2  np. sum (vec) # sum of all the elements of the vector 3 10\n",
        "\n",
        " my_arr = np.array ([vec, 2 * vec, 3 * vec])\n",
        "2  my_arr 3 array ([[ 0 , 1 , 2 , 3 , 4 ], 4 [ 0 , 2 , 4 , 6 , 8 ], 5 [ 0 , 3 , 6 , 9 , 12 ]])\n"
      ],
      "outputs": [],
      "execution_count": null,
      "metadata": {
        "Collapsed": "false"
      }
    },
    {
      "cell_type": "code",
      "source": [
        "\n",
        " np. sum (my_arr) # axis = None -> sum of all elements of\n",
        "array\n",
        "2 60\n",
        "\n",
        " np. sum (my_arr [ 1 ]) # sum of the second line\n",
        "2 20\n",
        "\n",
        " np. sum (my_arr, axis = 0 ) # axis = 0 -> sum of lines (across rows)\n",
        "by column\n",
        "2 array ([ 0 , 6 , 12 , 18 , 24 ])\n",
        "\n",
        " np. sum (my_arr, axis = 1 ) # axis = 1 -> sum of columns (across\n",
        "columns) per line\n",
        "2 array ([ 10 , 20 , 30 ])\n",
        "\n",
        " np. sum ([]) # unsurprisingly, the sum of an empty array is 0.0\n",
        "2 0.0"
      ],
      "outputs": [],
      "execution_count": null,
      "metadata": {
        "Collapsed": "false"
      }
    },
    {
      "cell_type": "markdown",
      "source": [
        "### numpy.dot ()\n",
        "\n",
        "Calculates Ledot productde 2 arrays.\n",
        "\n",
        "numpy.dot (a, b)\n",
        "\n",
        "The behavior denumpy.dot () depends on the form of the provided arrays, so refer to\n",
        "\n",
        "help for more information."
      ],
      "metadata": {
        "Collapsed": "false"
      }
    },
    {
      "cell_type": "markdown",
      "source": [
        "Note that since Python 3.5 it is possible to use the symbol @ to calculate the product of 2 matrices\n",
        "\n",
        "or a matrix and a vector:"
      ],
      "metadata": {
        "Collapsed": "false"
      }
    },
    {
      "cell_type": "markdown",
      "source": [
        "# Check"
      ],
      "metadata": {
        "Collapsed": "false"
      }
    },
    {
      "cell_type": "markdown",
      "source": [
        "If we use only the condition argument, then numpy.where () returns the corresponding indexes\n",
        "\n",
        "to the values ​​of the array satisfying the condition:\n",
        "\n",
        "np.where (vec1 > 40 )\n",
        "2 (array ([ 5 , 6 , 7 , 8 , 9 ], dtype = int64),)\n",
        "\n",
        "### numpy.concatenate ()\n",
        "\n",
        "Merges a sequence of arrays along a particular axis:\n",
        "\n",
        "numpy.concatenate ((a1, a2, ...), axis = 0 )\n",
        "\n",
        "Defaultaxis = 0; siaxis = None, then the arrays will be flattened beforehand and\n",
        "\n",
        "merged into a single vector (ie a dimension)."
      ],
      "metadata": {
        "Collapsed": "false"
      }
    },
    {
      "cell_type": "code",
      "source": [
        "my_arr1 = np.array ([[ 0 , 0 , 0 ], [ 1 , 1 , 1 ]])\n",
        "my_arr1\n",
        "\n",
        "\n",
        "my_arr2 = np.array ([[ 2 , 2 , 2 ], [ 3 , 3 , 3 ]])\n",
        "my_arr2\n",
        "\n",
        "\n"
      ],
      "outputs": [
        {
          "output_type": "execute_result",
          "execution_count": 76,
          "data": {
            "text/plain": [
              "array([[2, 2, 2],\n",
              "       [3, 3, 3]])"
            ]
          },
          "metadata": {}
        }
      ],
      "execution_count": 76,
      "metadata": {
        "Collapsed": "false"
      }
    },
    {
      "cell_type": "code",
      "source": [
        "np.concatenate ((my_arr1, my_arr2), axis = 0 )\n",
        "\n",
        "\n"
      ],
      "outputs": [
        {
          "output_type": "execute_result",
          "execution_count": 77,
          "data": {
            "text/plain": [
              "array([[0, 0, 0],\n",
              "       [1, 1, 1],\n",
              "       [2, 2, 2],\n",
              "       [3, 3, 3]])"
            ]
          },
          "metadata": {}
        }
      ],
      "execution_count": 77,
      "metadata": {
        "Collapsed": "false"
      }
    },
    {
      "cell_type": "code",
      "source": [
        "np.concatenate ((my_arr1, my_arr2), axis = 1 ) # axis = 1 ->\n",
        "\n",
        "\n"
      ],
      "outputs": [
        {
          "output_type": "execute_result",
          "execution_count": 78,
          "data": {
            "text/plain": [
              "array([[0, 0, 0, 2, 2, 2],\n",
              "       [1, 1, 1, 3, 3, 3]])"
            ]
          },
          "metadata": {}
        }
      ],
      "execution_count": 78,
      "metadata": {
        "Collapsed": "false"
      }
    },
    {
      "cell_type": "code",
      "source": [
        "np.concatenate ((my_arr1, my_arr2), axis = None ) # axis = None -> arrays"
      ],
      "outputs": [
        {
          "output_type": "execute_result",
          "execution_count": 79,
          "data": {
            "text/plain": [
              "array([0, 0, 0, 1, 1, 1, 2, 2, 2, 3, 3, 3])"
            ]
          },
          "metadata": {}
        }
      ],
      "execution_count": 79,
      "metadata": {}
    },
    {
      "cell_type": "markdown",
      "source": [
        "NumPy also offers the functions numpy.vstack () and numpy.hstack () to assemble\n",
        "\n",
        "arrays vertically and horizontally (respectively).\n",
        "\n",
        "### numpy.reshape ()\n",
        "\n",
        "Modifies the shape of an array without changing the data it contains.\n",
        "\n",
        "numpy.reshape (a, newshape)"
      ],
      "metadata": {
        "Collapsed": "false"
      }
    },
    {
      "cell_type": "code",
      "source": [
        "my_arr = np.arange ( 6 )\n",
        "\n"
      ],
      "outputs": [],
      "execution_count": 80,
      "metadata": {
        "Collapsed": "false"
      }
    },
    {
      "cell_type": "code",
      "source": [
        "np.reshape (my_arr, ( 3 , 2 )) # equivalent to my_arr.reshape ((3, 2))\n",
        "\n",
        "\n"
      ],
      "outputs": [
        {
          "output_type": "execute_result",
          "execution_count": 81,
          "data": {
            "text/plain": [
              "array([[0, 1],\n",
              "       [2, 3],\n",
              "       [4, 5]])"
            ]
          },
          "metadata": {}
        }
      ],
      "execution_count": 81,
      "metadata": {}
    },
    {
      "cell_type": "code",
      "source": [
        "np.reshape (my_arr, ( 2 , 3 )) # equivalent to my_arr.reshape ((2, 3))\n"
      ],
      "outputs": [
        {
          "output_type": "execute_result",
          "execution_count": 82,
          "data": {
            "text/plain": [
              "array([[0, 1, 2],\n",
              "       [3, 4, 5]])"
            ]
          },
          "metadata": {}
        }
      ],
      "execution_count": 82,
      "metadata": {}
    },
    {
      "cell_type": "markdown",
      "source": [
        "### numpy.transpose ().\n",
        "\n",
        "Swap the dimensions of an array.\n",
        "\n",
        "numpy.transpose (a, axes = None )\n",
        "\n",
        "Defaultaxes = Nonece that reverses the dimensions; otherwise the function swaps the axes\n",
        "\n",
        "according to the values ​​provided via this argument."
      ],
      "metadata": {
        "Collapsed": "false"
      }
    },
    {
      "cell_type": "code",
      "source": [
        "my_arr = np.arange ( 8 ) .reshape (( 4 , 2 ))\n",
        "my_arr"
      ],
      "outputs": [
        {
          "output_type": "execute_result",
          "execution_count": 84,
          "data": {
            "text/plain": [
              "array([[0, 1],\n",
              "       [2, 3],\n",
              "       [4, 5],\n",
              "       [6, 7]])"
            ]
          },
          "metadata": {}
        }
      ],
      "execution_count": 84,
      "metadata": {
        "Collapsed": "false"
      }
    },
    {
      "cell_type": "code",
      "source": [
        "my_arr = np.transpose (my_arr)\n",
        "my_arr"
      ],
      "outputs": [
        {
          "output_type": "execute_result",
          "execution_count": 87,
          "data": {
            "text/plain": [
              "array([[0, 2, 4, 6],\n",
              "       [1, 3, 5, 7]])"
            ]
          },
          "metadata": {}
        }
      ],
      "execution_count": 87,
      "metadata": {}
    },
    {
      "cell_type": "code",
      "source": [
        "my_arr = np.transpose (my_arr, ( 1 , 0 ))\n",
        "my_arr"
      ],
      "outputs": [
        {
          "output_type": "execute_result",
          "execution_count": 88,
          "data": {
            "text/plain": [
              "array([[0, 1],\n",
              "       [2, 3],\n",
              "       [4, 5],\n",
              "       [6, 7]])"
            ]
          },
          "metadata": {}
        }
      ],
      "execution_count": 88,
      "metadata": {}
    }
  ],
  "metadata": {
    "kernelspec": {
      "name": "python3",
      "language": "python",
      "display_name": "Python 3"
    },
    "language_info": {
      "name": "python",
      "version": "3.7.4",
      "mimetype": "text/x-python",
      "codemirror_mode": {
        "name": "ipython",
        "version": 3
      },
      "pygments_lexer": "ipython3",
      "nbconvert_exporter": "python",
      "file_extension": ".py"
    },
    "kernel_info": {
      "name": "python3"
    },
    "nteract": {
      "version": "0.15.0"
    }
  },
  "nbformat": 4,
  "nbformat_minor": 4
}