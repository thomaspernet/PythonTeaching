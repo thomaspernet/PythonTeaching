{
 "cells": [
  {
   "cell_type": "markdown",
   "metadata": {
    "Collapsed": "false"
   },
   "source": [
    "# Computation Random Path\n",
    "\n",
    "Objective:\n",
    "\n",
    "- Compute Random path with MC simulation\n",
    "\n",
    "More about Derivatives [here](https://drive.google.com/open?id=1Pz23oqSVdAnt2ruj5DhXOjgqLjFzy6Hf)\n",
    "\n",
    "## Parameter of the model\n",
    "\n",
    "- Heston parameters\t6/29/2018\n",
    "- Kappa:\t0.5485872\n",
    "- Theta:\t0.0462418\n",
    "- Sigma:\t0.2252450\n",
    "- Rho:\t-0.5014077\n",
    "- V0:\t0.0190355\n",
    "- OIS: 0.00144\n",
    "- Dividend: 0.02\n",
    "- Spot: 105.42\n",
    "- current date: 6/29/2018\n",
    "- valuation date: 1/19/2021\n",
    "\n",
    "# Computation Random path\n"
   ]
  },
  {
   "cell_type": "markdown",
   "metadata": {
    "Collapsed": "false"
   },
   "source": [
    "## Calcul Heston\n",
    "\n",
    "**Calcul Heston**\n",
    "$$\n",
    "Z1 = N(0,1) \\\\\n",
    "Zt = N(0,1) \\\\\n",
    "Z3 = \\rho * Z1 + (1-\\sqrt{\\rho})^{0.5} * Zt\n",
    "$$"
   ]
  },
  {
   "cell_type": "code",
   "execution_count": null,
   "metadata": {
    "Collapsed": "false"
   },
   "outputs": [],
   "source": [
    "import numpy as np"
   ]
  },
  {
   "cell_type": "code",
   "execution_count": null,
   "metadata": {
    "Collapsed": "false"
   },
   "outputs": [],
   "source": [
    "seed = np.random.RandomState(123456)\n",
    "rho = -0.5014077 \n",
    "iteration = 5"
   ]
  },
  {
   "cell_type": "code",
   "execution_count": null,
   "metadata": {
    "Collapsed": "false"
   },
   "outputs": [],
   "source": [
    "def Z(rho, iteration, seed):\n",
    "    '''\n",
    "    Calcule les parametres de correlation pour Heston\n",
    "    '''\n",
    "    Z1 = seed.normal(loc=0.0, scale=1.0, size = iteration)\n",
    "    Zt = seed.normal(loc=0.0, scale=1.0, size = iteration)\n",
    "    Z2 = rho * Z1 + np.power(1 - np.square(rho),0.5) * Zt\n",
    "    return Z1, Z2"
   ]
  },
  {
   "cell_type": "code",
   "execution_count": null,
   "metadata": {
    "Collapsed": "false"
   },
   "outputs": [],
   "source": [
    "Z(rho, iteration, seed)"
   ]
  },
  {
   "cell_type": "markdown",
   "metadata": {
    "Collapsed": "false"
   },
   "source": [
    "## Random path\n",
    "\n",
    "$$\n",
    "Dst = Ds_t * (1 + (OIS - Dividend) *Dt )+ Dv_t * Dt ^{0.5} * Z2 \\\\\n",
    "Dvt = Dv_t + \\kappa * (\\theta - Dv_t) * Dt + \\sigma * Dv_t * Dt ^ {0.5} * Z1\n",
    "$$"
   ]
  },
  {
   "cell_type": "code",
   "execution_count": null,
   "metadata": {
    "Collapsed": "false"
   },
   "outputs": [],
   "source": [
    "def random_path(Z1, Z2, dS, dVt, ois, dividend, kappa, theta, sigma):\n",
    "    '''\n",
    "    Genere un array de la dimension du nombre d'iteration\n",
    "    La diffusion peut etre calculee selon 3 facons\n",
    "    - Normal\n",
    "    '''\n",
    "    dDt = 1/252\n",
    "    #Z1, Z2 = Z()\n",
    "    dS = dS * (1 + (ois - dividend) * dDt + np.power(dVt * dDt, 0.5) * Z2)\n",
    "    dVt = dVt + kappa*(theta - dVt) * dDt + sigma * \\\n",
    "        np.power(dVt * dDt, 0.5) * Z1\n",
    "    dVt = np.abs(dVt)\n",
    "    return dS, dVt\n"
   ]
  },
  {
   "cell_type": "code",
   "execution_count": null,
   "metadata": {
    "Collapsed": "false"
   },
   "outputs": [],
   "source": [
    "dS = 105.42\n",
    "dVt = 0.0190355\n",
    "ois = 0.00144\n",
    "dividend =  0.02\n",
    "kappa = 0.5485872\n",
    "theta = 0.0462418\n",
    "sigma = 0.2252450\n",
    "Z1, Z2 = Z(rho, iteration, seed)"
   ]
  },
  {
   "cell_type": "code",
   "execution_count": null,
   "metadata": {
    "Collapsed": "false"
   },
   "outputs": [],
   "source": [
    "random_path(\n",
    "    Z1=Z1,\n",
    "    Z2=Z2,\n",
    "    dS=dS,\n",
    "    dVt=dVt,\n",
    "    ois=ois,\n",
    "    dividend=dividend,\n",
    "    kappa=kappa,\n",
    "    theta=theta,\n",
    "    sigma=sigma)"
   ]
  },
  {
   "cell_type": "markdown",
   "metadata": {
    "Collapsed": "false"
   },
   "source": [
    "## Get maturity\n",
    "\n",
    "Get number of days between two dates"
   ]
  },
  {
   "cell_type": "code",
   "execution_count": null,
   "metadata": {
    "Collapsed": "false"
   },
   "outputs": [],
   "source": [
    "#!pip install workalendar"
   ]
  },
  {
   "cell_type": "code",
   "execution_count": null,
   "metadata": {
    "Collapsed": "false"
   },
   "outputs": [],
   "source": [
    "from datetime import date\n",
    "import pandas as pd\n",
    "from workalendar.europe import France"
   ]
  },
  {
   "cell_type": "code",
   "execution_count": null,
   "metadata": {
    "Collapsed": "false"
   },
   "outputs": [],
   "source": [
    "def date_transformed(current_date, valuation_date):\n",
    "    \"\"\"\n",
    "            La fonction calcule le nombre de jours avant une date de\n",
    "             constatation/maturité;\n",
    "            la date maximum rescale (jour/delta) et la liste des dates rescales\n",
    "             si elle existe\n",
    "            Si la liste des valuations_date a une seule valeur, ie la date de\n",
    "             maturité alors\n",
    "            le code va dans except\n",
    "    \"\"\"\n",
    "    dDt = 252\n",
    "    \n",
    "    try:\n",
    "        days_to_T = [\n",
    "            cal.get_working_days_delta(x, current_date) for x in valuation_date\n",
    "        ]\n",
    "        days_to_T_scaled = [\n",
    "            cal.get_working_days_delta(x, current_date) / dDt for x in valuation_date\n",
    "        ]\n",
    "        T_scale = max(days_to_T_scaled)\n",
    "        return days_to_T, T_scale, days_to_T_scaled\n",
    "    except:\n",
    "        days_to_T = cal.get_working_days_delta(valuation_date, current_date)\n",
    "        T_scale = cal.get_working_days_delta(\n",
    "            valuation_date, current_date) / dDt\n",
    "        return days_to_T, T_scale\n"
   ]
  },
  {
   "cell_type": "code",
   "execution_count": null,
   "metadata": {
    "Collapsed": "false"
   },
   "outputs": [],
   "source": [
    "current_date = \"29/06/2018\"\n",
    "valuation_date = \"19/01/2021\"\n",
    "cal = France()\n",
    "current_date = pd.to_datetime(current_date, format = \"%d/%m/%Y\")\n",
    "valuation_date = pd.to_datetime(valuation_date,\n",
    "\t\t format = \"%d/%m/%Y\")"
   ]
  },
  {
   "cell_type": "code",
   "execution_count": null,
   "metadata": {
    "Collapsed": "false"
   },
   "outputs": [],
   "source": [
    "date_transformed(current_date, valuation_date)"
   ]
  },
  {
   "cell_type": "markdown",
   "metadata": {
    "Collapsed": "false"
   },
   "source": [
    "## Compute the Random Path with MC simulation\n",
    "\n",
    "We want to store the random path and get the average of tge DS at maturity"
   ]
  },
  {
   "cell_type": "code",
   "execution_count": null,
   "metadata": {
    "Collapsed": "false"
   },
   "outputs": [],
   "source": [
    "date_transformed_ = date_transformed(current_date, valuation_date)\n",
    "days = np.array(date_transformed_[0])\n",
    "maturity_days = np.max(days)\n",
    "list_Ds = []\n",
    "list_Dv = []"
   ]
  },
  {
   "cell_type": "code",
   "execution_count": null,
   "metadata": {
    "Collapsed": "false"
   },
   "outputs": [],
   "source": [
    "days"
   ]
  },
  {
   "cell_type": "markdown",
   "metadata": {
    "Collapsed": "false"
   },
   "source": [
    "Create an empty array with the first value of the model"
   ]
  },
  {
   "cell_type": "code",
   "execution_count": null,
   "metadata": {
    "Collapsed": "false"
   },
   "outputs": [],
   "source": [
    "iteration = 10000\n",
    "ds = np.asarray(np.repeat(dS,iteration))\n",
    "dv = np.asarray(np.repeat(dVt,iteration))\n",
    "path = [ds, dv]"
   ]
  },
  {
   "cell_type": "markdown",
   "metadata": {
    "Collapsed": "false"
   },
   "source": [
    "Iterate"
   ]
  },
  {
   "cell_type": "code",
   "execution_count": null,
   "metadata": {
    "Collapsed": "false"
   },
   "outputs": [],
   "source": [
    "for n in range(1, maturity_days + 1):\n",
    "    Z1, Z2 = Z(rho, iteration, seed)\n",
    "    path = random_path(Z1=Z1,\n",
    "                       Z2=Z2,\n",
    "                       dS= path[0],\n",
    "                       dVt= path[1],\n",
    "                       ois=ois,\n",
    "                       dividend=dividend,\n",
    "                       kappa=kappa,\n",
    "                       theta=theta,\n",
    "                       sigma=sigma\n",
    "                      )\n",
    "    \n",
    "    list_Ds.append(path[0])\n",
    "    list_Dv.append(path[1])\n",
    "    \n",
    "    ## Compute average last DS\n",
    "    if n == maturity_days:\n",
    "        avg = np.mean(path[0])"
   ]
  },
  {
   "cell_type": "code",
   "execution_count": null,
   "metadata": {
    "Collapsed": "false"
   },
   "outputs": [],
   "source": [
    "avg"
   ]
  },
  {
   "cell_type": "code",
   "execution_count": null,
   "metadata": {
    "Collapsed": "false"
   },
   "outputs": [],
   "source": [
    "list_Ds[0:][:1]"
   ]
  },
  {
   "cell_type": "markdown",
   "metadata": {
    "Collapsed": "false"
   },
   "source": [
    "## Plot the Random path"
   ]
  },
  {
   "cell_type": "code",
   "execution_count": null,
   "metadata": {
    "Collapsed": "false"
   },
   "outputs": [],
   "source": [
    "pd.DataFrame(np.transpose(list_Ds)).iloc[:10].transpose().plot()"
   ]
  },
  {
   "cell_type": "markdown",
   "metadata": {
    "Collapsed": "false"
   },
   "source": [
    "## Compute DV"
   ]
  },
  {
   "cell_type": "code",
   "execution_count": null,
   "metadata": {
    "Collapsed": "false"
   },
   "outputs": [],
   "source": [
    "pd.DataFrame(np.transpose(list_Dv)).iloc[:10].transpose().plot()"
   ]
  },
  {
   "cell_type": "markdown",
   "metadata": {
    "Collapsed": "false"
   },
   "source": [
    "# Your turn \n",
    "\n",
    "## Random path with forward diffusion\n",
    "\n",
    "$$\n",
    "Dst = Ds_t * (1 + (forward_t - Dividend) *Dt )+ Dv_t * Dt ^{0.5} * Z2 \\\\\n",
    "Dvt = Dv_t + \\kappa * (\\theta - Dv_t) * Dt + \\sigma * Dv_t * Dt ^ {0.5} * Z1\n",
    "$$\n",
    "\n",
    "Here is the list of forward\n",
    "\n",
    "| Dates     | Taux forwards |\n",
    "| --------- | ------------- |\n",
    "| 9/24/2018 | -0.36%        |\n",
    "| 9/24/2019 | -0.33%        |\n",
    "| 9/24/2020 | -0.14%        |\n",
    "| 9/17/2021 | 0.07%         |\n",
    "\n",
    "Hint:\n",
    "\n",
    "Pass a list of date in `date_transformed` and check when `n` is in `days` and slice `forward_rate` accordingly.\n",
    "\n",
    "Remember to change the fonction `random_path`"
   ]
  },
  {
   "cell_type": "code",
   "execution_count": null,
   "metadata": {
    "Collapsed": "false"
   },
   "outputs": [],
   "source": [
    "list_value = ['24/9/2018', '24/9/2019', '24/9/2020', '17/9/2021']\n",
    "valuation_date = pd.to_datetime(list_value,\n",
    "\t\t format = \"%d/%m/%Y\")\n",
    "date_transformed_ = date_transformed(current_date, valuation_date)\n",
    "days = np.array(date_transformed_[0])\n",
    "days"
   ]
  },
  {
   "cell_type": "code",
   "execution_count": null,
   "metadata": {
    "Collapsed": "false"
   },
   "outputs": [],
   "source": [
    "forward_rate = [-0.0036, -0.0033, -0.0014, 0.007]\n",
    "i = 0\n",
    "for n in range(1, maturity_days + 1):\n",
    "    ### Do something\n",
    "    if n in days:\n",
    "        i += 1\n",
    "        print(forward_rate[i])"
   ]
  }
 ],
 "metadata": {
  "kernelspec": {
   "display_name": "Python 3",
   "language": "python",
   "name": "python3"
  },
  "language_info": {
   "codemirror_mode": {
    "name": "ipython",
    "version": 3
   },
   "file_extension": ".py",
   "mimetype": "text/x-python",
   "name": "python",
   "nbconvert_exporter": "python",
   "pygments_lexer": "ipython3",
   "version": "3.7.3"
  }
 },
 "nbformat": 4,
 "nbformat_minor": 4
}
