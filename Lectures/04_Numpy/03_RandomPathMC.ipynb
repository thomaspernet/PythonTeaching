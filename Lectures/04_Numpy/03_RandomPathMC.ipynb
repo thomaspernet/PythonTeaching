{
  "cells": [
    {
      "cell_type": "markdown",
      "source": [
        "# Heston 93 model\n",
        "\n",
        "In finance, the Heston model, named after Steven Heston, is a mathematical model describing the evolution of the volatility of an underlying asset. It is a stochastic volatility model: such a model assumes that the volatility of the asset is not constant, nor even deterministic, but follows a random process.\n",
        "\n",
        "Objective:\n",
        "\n",
        "- Compute Random path with MC simulation\n",
        "\n",
        "More about Derivatives [here](https://drive.google.com/open?id=1Pz23oqSVdAnt2ruj5DhXOjgqLjFzy6Hf)\n",
        "\n",
        "## Basic Heston model\n",
        "\n",
        "The basic Heston model assumes that $S_t$, the price of the asset, is determined by a stochastic process.\n",
        "\n",
        "$$\n",
        "d S_{t}=\\mu S_{t} d t+\\sqrt{\\nu_{t}} S_{t} d Z_{t}^{S}\n",
        "$$\n",
        "\n",
        "where ${\\displaystyle \\nu _{t}}$, the instantaneous variance\n",
        "\n",
        "$$\n",
        "d \\nu_{t}=\\kappa\\left(\\theta-\\nu_{t}\\right) d t+\\xi \\sqrt{\\nu_{t}} d Z_{t}^{\\nu}\n",
        "$$\n",
        "\n",
        "and ${\\displaystyle W_{t}^{S},W_{t}^{\\nu }}$ are Wiener processes (i.e., random walks) with correlation $\\rho$, or equivalently, with covariance $\\rho \\mathrm{dt}$\n",
        "\n",
        "- $\\mu$  is the rate of return of the asset.\n",
        "- $\\theta$ is the long variance, or long run average price variance; as t tends to infinity, the expected value of νt tends to θ.\n",
        "- $\\kappa$  is the rate at which νt reverts to θ.\n",
        "- $\\xi$  is the volatility of the volatility, or 'vol of vol', and determines the variance of νt.\n",
        "\n",
        "## Parameter of the model\n",
        "\n",
        "- Heston parameters\t6/29/2018\n",
        "- Kappa:\t0.5485872\n",
        "- Theta:\t0.0462418\n",
        "- Sigma:\t0.2252450\n",
        "- Rho:\t-0.5014077\n",
        "- V0:\t0.0190355\n",
        "- OIS: 0.00144\n",
        "- Dividend: 0.02\n",
        "- Spot: 105.42\n",
        "- current date: 6/29/2018\n",
        "- valuation date: 1/19/2021\n",
        "\n",
        "# Computation Random path\n"
      ],
      "metadata": {
        "Collapsed": "false"
      }
    },
    {
      "cell_type": "markdown",
      "source": [
        "## Calcul Heston\n",
        "\n",
        "**Calcul Heston**\n",
        "$$\n",
        "Z1 = N(0,1) \\\\\n",
        "Zt = N(0,1) \\\\\n",
        "Z2 = \\rho * Z1 + (1-\\sqrt{\\rho})^{0.5} * Zt\n",
        "$$"
      ],
      "metadata": {
        "Collapsed": "false"
      }
    },
    {
      "cell_type": "code",
      "source": [
        "import numpy as np"
      ],
      "outputs": [],
      "execution_count": 1,
      "metadata": {
        "Collapsed": "false"
      }
    },
    {
      "cell_type": "code",
      "source": [
        "seed = np.random.RandomState(123456)\n",
        "rho = -0.5014077 \n",
        "iteration = 5"
      ],
      "outputs": [],
      "execution_count": 2,
      "metadata": {
        "Collapsed": "false"
      }
    },
    {
      "cell_type": "code",
      "source": [
        "def Z(rho, iteration, seed):\n",
        "    '''\n",
        "    Calcule les parametres de correlation pour Heston\n",
        "    '''\n",
        "    Z1 = seed.normal(loc=0.0, scale=1.0, size = iteration)\n",
        "    Zt = seed.normal(loc=0.0, scale=1.0, size = iteration)\n",
        "    Z2 = rho * Z1 + np.power(1 - np.square(rho),0.5) * Zt\n",
        "    return Z1, Z2"
      ],
      "outputs": [],
      "execution_count": 3,
      "metadata": {
        "Collapsed": "false"
      }
    },
    {
      "cell_type": "code",
      "source": [
        "Z(rho, iteration, seed)"
      ],
      "outputs": [
        {
          "output_type": "execute_result",
          "execution_count": 4,
          "data": {
            "text/plain": [
              "(array([ 0.4691123 , -0.28286334, -1.5090585 , -1.13563237,  1.21211203]),\n",
              " array([-0.38508376,  0.24497056, -0.14683104, -0.17626651, -2.42865904]))"
            ]
          },
          "metadata": {}
        }
      ],
      "execution_count": 4,
      "metadata": {
        "Collapsed": "false"
      }
    },
    {
      "cell_type": "markdown",
      "source": [
        "## Random path\n",
        "\n",
        "$$\n",
        "Ds_t = Ds_{t-1} * (1 + (OIS - Dividend) *Dt )+ Dv_{t-1} * Dt ^{0.5} * Z2 \\\\\n",
        "Dv_t = Dv_{t-1} + \\kappa * (\\theta - Dv_t) * Dt + \\sigma * Dv_{t-1} * Dt ^ {0.5} * Z1\n",
        "$$\n",
        "\n",
        "$D_t = 1/252$"
      ],
      "metadata": {
        "Collapsed": "false"
      }
    },
    {
      "cell_type": "code",
      "source": [
        "def random_path(Z1, Z2, dS, dVt, ois, dividend, kappa, theta, sigma):\n",
        "    '''\n",
        "    Genere un array de la dimension du nombre d'iteration\n",
        "    La diffusion peut etre calculee selon 3 facons\n",
        "    - Normal\n",
        "    '''\n",
        "    dDt = 1/252\n",
        "    #Z1, Z2 = Z()\n",
        "    dS = dS * (1 + (ois - dividend) * dDt + np.power(dVt * dDt, 0.5) * Z2)\n",
        "    dVt = dVt + kappa*(theta - dVt) * dDt + sigma * \\\n",
        "        np.power(dVt * dDt, 0.5) * Z1\n",
        "    dVt = np.abs(dVt)\n",
        "    return dS, dVt\n"
      ],
      "outputs": [],
      "execution_count": 5,
      "metadata": {
        "Collapsed": "false"
      }
    },
    {
      "cell_type": "code",
      "source": [
        "dS = 105.42\n",
        "dVt = 0.0190355\n",
        "ois = 0.00144\n",
        "dividend =  0.02\n",
        "kappa = 0.5485872\n",
        "theta = 0.0462418\n",
        "sigma = 0.2252450\n",
        "Z1, Z2 = Z(rho, iteration, seed)"
      ],
      "outputs": [],
      "execution_count": 6,
      "metadata": {
        "Collapsed": "false"
      }
    },
    {
      "cell_type": "code",
      "source": [
        "Z1, Z2 = Z(rho, iteration, seed)\n",
        "random_path(\n",
        "    Z1=Z1,\n",
        "    Z2=Z2,\n",
        "    dS=dS,\n",
        "    dVt=dVt,\n",
        "    ois=ois,\n",
        "    dividend=dividend,\n",
        "    kappa=kappa,\n",
        "    theta=theta,\n",
        "    sigma=sigma)"
      ],
      "outputs": [
        {
          "output_type": "execute_result",
          "execution_count": 7,
          "data": {
            "text/plain": [
              "(array([106.17917572, 104.00048621, 105.26757002, 104.87722965,\n",
              "        104.30841255]),\n",
              " array([0.01777587, 0.01931721, 0.01620047, 0.02012247, 0.019887  ]))"
            ]
          },
          "metadata": {}
        }
      ],
      "execution_count": 7,
      "metadata": {
        "Collapsed": "false"
      }
    },
    {
      "cell_type": "markdown",
      "source": [
        "## Get maturity\n",
        "\n",
        "Get number of days between two dates"
      ],
      "metadata": {
        "Collapsed": "false"
      }
    },
    {
      "cell_type": "code",
      "source": [
        "#!pip install workalendar"
      ],
      "outputs": [],
      "execution_count": 8,
      "metadata": {
        "Collapsed": "false"
      }
    },
    {
      "cell_type": "code",
      "source": [
        "from datetime import date\n",
        "import pandas as pd\n",
        "from workalendar.europe import France"
      ],
      "outputs": [],
      "execution_count": 9,
      "metadata": {
        "Collapsed": "false"
      }
    },
    {
      "cell_type": "code",
      "source": [
        "def date_transformed(current_date, valuation_date):\n",
        "    \"\"\"\n",
        "            La fonction calcule le nombre de jours avant une date de\n",
        "             constatation/maturité;\n",
        "            la date maximum rescale (jour/delta) et la liste des dates rescales\n",
        "             si elle existe\n",
        "            Si la liste des valuations_date a une seule valeur, ie la date de\n",
        "             maturité alors\n",
        "            le code va dans except\n",
        "    \"\"\"\n",
        "    dDt = 252\n",
        "    \n",
        "    try:\n",
        "        days_to_T = [\n",
        "            cal.get_working_days_delta(x, current_date) for x in valuation_date\n",
        "        ]\n",
        "        days_to_T_scaled = [\n",
        "            cal.get_working_days_delta(x, current_date) / dDt for x in valuation_date\n",
        "        ]\n",
        "        T_scale = max(days_to_T_scaled)\n",
        "        return days_to_T, T_scale, days_to_T_scaled\n",
        "    except:\n",
        "        days_to_T = cal.get_working_days_delta(valuation_date, current_date)\n",
        "        T_scale = cal.get_working_days_delta(\n",
        "            valuation_date, current_date) / dDt\n",
        "        return days_to_T, T_scale\n"
      ],
      "outputs": [],
      "execution_count": 10,
      "metadata": {
        "Collapsed": "false"
      }
    },
    {
      "cell_type": "code",
      "source": [
        "current_date = \"29/06/2018\"\n",
        "valuation_date = \"19/01/2021\"\n",
        "cal = France()\n",
        "current_date = pd.to_datetime(current_date, format = \"%d/%m/%Y\")\n",
        "valuation_date = pd.to_datetime(valuation_date,\n",
        "\t\t format = \"%d/%m/%Y\")"
      ],
      "outputs": [],
      "execution_count": 11,
      "metadata": {
        "Collapsed": "false"
      }
    },
    {
      "cell_type": "code",
      "source": [
        "current_date"
      ],
      "outputs": [
        {
          "output_type": "execute_result",
          "execution_count": 12,
          "data": {
            "text/plain": [
              "Timestamp('2018-06-29 00:00:00')"
            ]
          },
          "metadata": {}
        }
      ],
      "execution_count": 12,
      "metadata": {
        "Collapsed": "false"
      }
    },
    {
      "cell_type": "code",
      "source": [
        "valuation_date"
      ],
      "outputs": [
        {
          "output_type": "execute_result",
          "execution_count": 13,
          "data": {
            "text/plain": [
              "Timestamp('2021-01-19 00:00:00')"
            ]
          },
          "metadata": {}
        }
      ],
      "execution_count": 13,
      "metadata": {
        "Collapsed": "false"
      }
    },
    {
      "cell_type": "code",
      "source": [
        "date_transformed(current_date, valuation_date)"
      ],
      "outputs": [
        {
          "output_type": "execute_result",
          "execution_count": 14,
          "data": {
            "text/plain": [
              "(644, 2.5555555555555554)"
            ]
          },
          "metadata": {}
        }
      ],
      "execution_count": 14,
      "metadata": {
        "Collapsed": "false"
      }
    },
    {
      "cell_type": "markdown",
      "source": [
        "## Compute the Random Path with MC simulation\n",
        "\n",
        "We want to store the random path and get the average of tge DS at maturity"
      ],
      "metadata": {
        "Collapsed": "false"
      }
    },
    {
      "cell_type": "code",
      "source": [
        "date_transformed_ = date_transformed(current_date, valuation_date)\n",
        "days = np.array(date_transformed_[0])\n",
        "maturity_days = np.max(days)\n",
        "list_Ds = []\n",
        "list_Dv = []"
      ],
      "outputs": [],
      "execution_count": 39,
      "metadata": {
        "Collapsed": "false"
      }
    },
    {
      "cell_type": "code",
      "source": [
        "days"
      ],
      "outputs": [
        {
          "output_type": "execute_result",
          "execution_count": 16,
          "data": {
            "text/plain": [
              "array(644)"
            ]
          },
          "metadata": {}
        }
      ],
      "execution_count": 16,
      "metadata": {
        "Collapsed": "false"
      }
    },
    {
      "cell_type": "code",
      "source": [
        "maturity_days"
      ],
      "outputs": [
        {
          "output_type": "execute_result",
          "execution_count": 17,
          "data": {
            "text/plain": [
              "644"
            ]
          },
          "metadata": {}
        }
      ],
      "execution_count": 17,
      "metadata": {
        "Collapsed": "false"
      }
    },
    {
      "cell_type": "markdown",
      "source": [
        "Create an empty array with the first value of the model"
      ],
      "metadata": {
        "Collapsed": "false"
      }
    },
    {
      "cell_type": "code",
      "source": [
        "iteration = 10000\n",
        "ds_ = (np.ones((iteration,1)) * dS).flatten()\n",
        "dv_ = (np.ones((iteration,1)) * dVt).flatten()\n",
        "ds_.dtype"
      ],
      "outputs": [
        {
          "output_type": "execute_result",
          "execution_count": 48,
          "data": {
            "text/plain": [
              "dtype('float64')"
            ]
          },
          "metadata": {}
        }
      ],
      "execution_count": 48,
      "metadata": {
        "Collapsed": "false"
      }
    },
    {
      "cell_type": "code",
      "source": [
        "ds_[:10]"
      ],
      "outputs": [
        {
          "output_type": "execute_result",
          "execution_count": 49,
          "data": {
            "text/plain": [
              "array([105.42, 105.42, 105.42, 105.42, 105.42, 105.42, 105.42, 105.42,\n",
              "       105.42, 105.42])"
            ]
          },
          "metadata": {}
        }
      ],
      "execution_count": 49,
      "metadata": {
        "Collapsed": "false"
      }
    },
    {
      "cell_type": "code",
      "source": [
        "#path = [ds, dv]"
      ],
      "outputs": [],
      "execution_count": null,
      "metadata": {
        "Collapsed": "false"
      }
    },
    {
      "cell_type": "markdown",
      "source": [
        "Iterate"
      ],
      "metadata": {
        "Collapsed": "false"
      }
    },
    {
      "cell_type": "code",
      "source": [
        "for n in range(1, maturity_days + 1):\n",
        "    Z1, Z2 = Z(rho, iteration, seed)\n",
        "    ds_, dv_ = random_path(Z1=Z1,\n",
        "                       Z2=Z2,\n",
        "                       dS= ds_,\n",
        "                       dVt= dv_,\n",
        "                       ois=ois,\n",
        "                       dividend=dividend,\n",
        "                       kappa=kappa,\n",
        "                       theta=theta,\n",
        "                       sigma=sigma\n",
        "                      )\n",
        "    \n",
        "    list_Ds.append(ds_)\n",
        "    list_Dv.append(dv_)\n",
        "    \n",
        "    ## Compute average last DS\n",
        "    if n == maturity_days:\n",
        "        avg = np.mean(ds_)"
      ],
      "outputs": [],
      "execution_count": 50,
      "metadata": {
        "Collapsed": "false"
      }
    },
    {
      "cell_type": "code",
      "source": [
        "avg"
      ],
      "outputs": [
        {
          "output_type": "execute_result",
          "execution_count": 51,
          "data": {
            "text/plain": [
              "100.21657005255422"
            ]
          },
          "metadata": {}
        }
      ],
      "execution_count": 51,
      "metadata": {
        "Collapsed": "false"
      }
    },
    {
      "cell_type": "code",
      "source": [
        "len(list_Ds)"
      ],
      "outputs": [
        {
          "output_type": "execute_result",
          "execution_count": 44,
          "data": {
            "text/plain": [
              "644"
            ]
          },
          "metadata": {}
        }
      ],
      "execution_count": 44,
      "metadata": {
        "Collapsed": "false"
      }
    },
    {
      "cell_type": "markdown",
      "source": [
        "## Plot the Random path"
      ],
      "metadata": {
        "Collapsed": "false"
      }
    },
    {
      "cell_type": "code",
      "source": [
        "pd.DataFrame(np.transpose(list_Ds)).iloc[:10].transpose().plot()"
      ],
      "outputs": [
        {
          "output_type": "execute_result",
          "execution_count": 45,
          "data": {
            "text/plain": [
              "<matplotlib.axes._subplots.AxesSubplot at 0x122879320>"
            ]
          },
          "metadata": {}
        },
        {
          "output_type": "display_data",
          "data": {
            "image/png": "[encoded data removed]",
            "text/plain": [
              "<Figure size 432x288 with 1 Axes>"
            ]
          },
          "metadata": {
            "needs_background": "light"
          }
        }
      ],
      "execution_count": 45,
      "metadata": {
        "Collapsed": "false"
      }
    },
    {
      "cell_type": "markdown",
      "source": [
        "## Compute DV"
      ],
      "metadata": {
        "Collapsed": "false"
      }
    },
    {
      "cell_type": "code",
      "source": [
        "pd.DataFrame(np.transpose(list_Dv)).iloc[:10].transpose().plot()"
      ],
      "outputs": [
        {
          "output_type": "execute_result",
          "execution_count": 46,
          "data": {
            "text/plain": [
              "<matplotlib.axes._subplots.AxesSubplot at 0x122751be0>"
            ]
          },
          "metadata": {}
        },
        {
          "output_type": "display_data",
          "data": {
            "image/png": "[encoded data removed]",
            "text/plain": [
              "<Figure size 432x288 with 1 Axes>"
            ]
          },
          "metadata": {
            "needs_background": "light"
          }
        }
      ],
      "execution_count": 46,
      "metadata": {
        "Collapsed": "false"
      }
    },
    {
      "cell_type": "markdown",
      "source": [
        "# Your turn \n",
        "\n",
        "## Random path with forward diffusion\n",
        "\n",
        "$$\n",
        "Dst = Ds_t * (1 + (forward_t - Dividend) *Dt )+ Dv_t * Dt ^{0.5} * Z2 \\\\\n",
        "Dvt = Dv_t + \\kappa * (\\theta - Dv_t) * Dt + \\sigma * Dv_t * Dt ^ {0.5} * Z1\n",
        "$$\n",
        "\n",
        "Here is the list of forward\n",
        "\n",
        "| Dates     | Taux forwards |\n",
        "| --------- | ------------- |\n",
        "| 9/24/2018 | -0.36%        |\n",
        "| 9/24/2019 | -0.33%        |\n",
        "| 9/24/2020 | -0.14%        |\n",
        "| 9/17/2021 | 0.07%         |\n",
        "\n",
        "Hint:\n",
        "\n",
        "Pass a list of date in `date_transformed` and check when `n` is in `days` and slice `forward_rate` accordingly.\n",
        "\n",
        "Remember to change the fonction `random_path`"
      ],
      "metadata": {
        "Collapsed": "false"
      }
    },
    {
      "cell_type": "code",
      "source": [
        "list_value = ['24/9/2018', '24/9/2019', '24/9/2020', '17/9/2021']\n",
        "valuation_date = pd.to_datetime(list_value,\n",
        "\t\t format = \"%d/%m/%Y\")\n",
        "date_transformed_ = date_transformed(current_date, valuation_date)\n",
        "days = np.array(date_transformed_[0])\n",
        "days"
      ],
      "outputs": [],
      "execution_count": null,
      "metadata": {
        "Collapsed": "false"
      }
    },
    {
      "cell_type": "code",
      "source": [
        "forward_rate = [-0.0036, -0.0033, -0.0014, 0.007]\n",
        "i = 0\n",
        "for n in range(1, maturity_days + 1):\n",
        "    ### Do something\n",
        "    if n in days:\n",
        "        i += 1\n",
        "        print(forward_rate[i])"
      ],
      "outputs": [],
      "execution_count": null,
      "metadata": {
        "Collapsed": "false"
      }
    },
    {
      "cell_type": "code",
      "source": [
        "def random_path(Z1, Z2, dS, dVt, ois, dividend, kappa, theta, sigma,\n",
        "                forward = None):\n",
        "    '''\n",
        "    Genere un array de la dimension du nombre d'iteration\n",
        "    La diffusion peut etre calculee selon 3 facons\n",
        "    - Normal\n",
        "    '''\n",
        "    dDt = 1/252\n",
        "    #Z1, Z2 = Z()\n",
        "    dS = dS * (1 + (forward - dividend) * dDt + np.power(dVt * dDt, 0.5) * Z2)\n",
        "    dVt = dVt + kappa*(theta - dVt) * dDt + sigma * \\\n",
        "        np.power(dVt * dDt, 0.5) * Z1\n",
        "    dVt = np.abs(dVt)\n",
        "    return dS, dVt"
      ],
      "outputs": [],
      "execution_count": null,
      "metadata": {
        "Collapsed": "false"
      }
    },
    {
      "cell_type": "code",
      "source": [
        "date_transformed_ = date_transformed(current_date, valuation_date)\n",
        "days = np.array(date_transformed_[0])\n",
        "maturity_days = np.max(days)\n",
        "list_Ds = []\n",
        "list_Dv = []\n",
        "\n",
        "iteration = 10000\n",
        "ds = np.asarray(np.repeat(dS,iteration))\n",
        "dv = np.asarray(np.repeat(dVt,iteration))\n",
        "path = [ds, dv]"
      ],
      "outputs": [],
      "execution_count": 20,
      "metadata": {
        "Collapsed": "false"
      }
    },
    {
      "cell_type": "code",
      "source": [
        "i = 0\n",
        "for n in range(1, maturity_days + 1):\n",
        "    Z1, Z2 = Z(rho, iteration, seed)\n",
        "    path = random_path(Z1=Z1,\n",
        "                       Z2=Z2,\n",
        "                       dS= path[0],\n",
        "                       dVt= path[1],\n",
        "                       ois=ois,\n",
        "                       dividend=dividend,\n",
        "                       kappa=kappa,\n",
        "                       theta=theta,\n",
        "                       sigma=sigma,\n",
        "                       forward = forward_rate[i]\n",
        "                      )\n",
        "    if n in days:\n",
        "        i += 1\n",
        "    \n",
        "    list_Ds.append(path[0])\n",
        "    list_Dv.append(path[1])\n",
        "    \n",
        "    ## Compute average last DS\n",
        "    if n == maturity_days:\n",
        "        avg = np.mean(path[0])"
      ],
      "outputs": [],
      "execution_count": null,
      "metadata": {
        "Collapsed": "false"
      }
    },
    {
      "cell_type": "code",
      "source": [
        "pd.DataFrame(np.transpose(list_Ds)).iloc[:10].transpose().plot()"
      ],
      "outputs": [],
      "execution_count": null,
      "metadata": {
        "Collapsed": "false"
      }
    }
  ],
  "metadata": {
    "kernelspec": {
      "name": "python3",
      "language": "python",
      "display_name": "Python 3"
    },
    "language_info": {
      "name": "python",
      "version": "3.7.3",
      "mimetype": "text/x-python",
      "codemirror_mode": {
        "name": "ipython",
        "version": 3
      },
      "pygments_lexer": "ipython3",
      "nbconvert_exporter": "python",
      "file_extension": ".py"
    },
    "kernel_info": {
      "name": "python3"
    },
    "nteract": {
      "version": "0.15.0"
    }
  },
  "nbformat": 4,
  "nbformat_minor": 4
}