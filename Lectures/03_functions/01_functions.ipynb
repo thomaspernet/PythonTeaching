{
 "cells": [
  {
   "cell_type": "markdown",
   "metadata": {},
   "source": [
    "## The functions\n",
    "\n",
    "As in other programming languages ​​offering a functional paradigm, a function in Python is a named code brick, reusable and dedicated to perform a specific task.\n",
    "\n",
    "A function accepts as input arguments that will be used to produce a result (returned in general thanks to the return).\n",
    "\n",
    "## Why write a function?\n",
    "\n",
    "The motivation behind writing a function is to avoid redundancy, ie to use multiple times the same code brick. Writing it as a function will make it possible to generalize the code brick to several use cases, and call this single function several times instead of finding the brick of repeatedly code in the program. This will have the advantages of making the code more compact and readable, and easier to maintain afterwards. Functions provide an approach modular and flexible.\n",
    "\n",
    "Remember to write a function as soon as an identical need appears more than once.\n",
    "\n",
    "That's why we sometimes hear that a good developer tends to be lazy: rather than code a number of times, it will seek to generalize to optimize its efforts - and the function is the ideal tool for this.\n",
    "\n",
    "Important Distinction: A Python function is always used followed by parentheses (even empty)."
   ]
  },
  {
   "cell_type": "code",
   "execution_count": null,
   "metadata": {},
   "outputs": [],
   "source": [
    "# Examples of built-in functions\n",
    "print(\"Hello world!\")"
   ]
  },
  {
   "cell_type": "markdown",
   "metadata": {},
   "source": [
    "On the contrary, del (which we saw in module # 1 to remove an element from a list), or still if, else, elif, for, while (and we'll see below) ... are statements and are used without parenthesis.\n",
    "\n",
    "## Definition of a function\n",
    "\n",
    "A function is defined as follows in Python:"
   ]
  },
  {
   "cell_type": "code",
   "execution_count": null,
   "metadata": {},
   "outputs": [],
   "source": [
    "def function_name (parameters):\n",
    "\t\"\"\"\n",
    "\tdocstrings (= description of the operation of the function,\n",
    "\tits Arguments and what it returns in the output)\n",
    "\t\"\"\"\n",
    "\t<function body>\n",
    "\treturn result"
   ]
  },
  {
   "cell_type": "markdown",
   "metadata": {},
   "source": [
    "Just like for a variable, the name of a function must be composed only of minuscules, possibly separated by des_si that improves readability.\n",
    "\n",
    "There are several common elements with the construction of a conditional test or a loop:\n",
    "\n",
    "-A first line with a specific keyword (icidefcomme \"define\") and ending with:\n",
    "\n",
    "- The code block composing the rest of the function must be indented\n",
    "\n",
    "Beyond these common points, it is important to note that:\n",
    "\n",
    "- The name of a function in Python is always followed by parentheses () containing the\n",
    "\n",
    "parameters or arguments of the function\n",
    "\n",
    "We distinguish in Python the parameters (used in parentheses following the name of a function when defined) arguments (used in parentheses following the name of a function when called)."
   ]
  },
  {
   "cell_type": "code",
   "execution_count": null,
   "metadata": {},
   "outputs": [],
   "source": [
    "# definition of function\n",
    "def function_name (param1, param2 ...):\n",
    "# call of function\n",
    "function_name (arg1, arg2 ...)"
   ]
  },
  {
   "cell_type": "markdown",
   "metadata": {},
   "source": [
    "- A function must contain desdocstrings in order to briefly explain the principles of the function"
   ]
  },
  {
   "cell_type": "code",
   "execution_count": null,
   "metadata": {},
   "outputs": [],
   "source": [
    "# Example\n",
    "def square_this (num):\n",
    "\t\"\"\"\n",
    "\tThis function returns num squared.\n",
    "\t\"\"\" \n",
    "\treturn num ** 2\n",
    "\n",
    "square_this (10)"
   ]
  },
  {
   "cell_type": "markdown",
   "metadata": {},
   "source": [
    "Try to modify the value sent to the functionsquare_this () and run the cell to update the result.\n",
    "\n",
    "As you can see, we always use a two-step function:\n",
    "\n",
    "Definition of the function (only once, at the beginning of its script, so that it can be called subsequently, cf. 2.) under the formef function_name (param1, param2 ...) :.\n",
    "\n",
    "Call (call) of the function (as many times as you want, but necessarily after having defined it nie), in the formfunction_name (arg1, arg2 ...).\n",
    "\n",
    "## Inputs of a function (arguments)\n",
    "\n",
    "Located in parentheses following the name of a function when it is called, the arguments allow put from:\n",
    "\n",
    "1. Adjust the function with values ​​or variables used by the function to produce its result\n",
    "\n",
    "2 Control its operation via options to modify the behavior of the function\n",
    "\n",
    "This is why it is important to think carefully about the parameters and the different use cases when we conceive and define a function.\n",
    "\n",
    "Arguments can be positional (ordered) or named, and have a default value or no. It is also possible to have an arbitrary number of arguments.\n",
    "\n",
    "### Positional arguments\n",
    "\n",
    "When we call a function, we do not have to name its arguments, we can simply\n",
    "\n",
    "include in parentheses the values ​​(or variables) corresponding to each of the arguments in respecting the order of parameters - example:"
   ]
  },
  {
   "cell_type": "code",
   "execution_count": null,
   "metadata": {},
   "outputs": [],
   "source": [
    "function_name (value1, value2, value3 ...)"
   ]
  },
  {
   "cell_type": "markdown",
   "metadata": {},
   "source": [
    "In this case we speak of positional arguments and it is the order that allows Python to associate the good value (or variable) to the correct argument.\n",
    "\n",
    "That's what we did when we called the functionsquare_this (10).\n",
    "\n",
    "### Named Arguments\n",
    "\n",
    "But when working with a function with many arguments, name them when\n",
    "\n",
    "call function quickly becomes a necessity - imagine for example a function with 12\n",
    "\n",
    "arguments. In this case, to avoid any error, we can name the arguments explicitly -\n",
    "\n",
    "example:"
   ]
  },
  {
   "cell_type": "code",
   "execution_count": null,
   "metadata": {},
   "outputs": [],
   "source": [
    "function_name (arg1 = value1, arg2 = value2, arg3 = value3 ...).\n",
    "``` \n",
    "\n",
    "This is called named arguments (oukeywordsen in English). In this case the order has less importance.\n",
    "\n",
    "If we use the above example with a named argument, that will giveitsquare_this (num = 10)\n",
    "\n",
    "But obviously it is not necessary when the function accepts only one argument!\n",
    "\n",
    "### Arguments with default value\n",
    "\n",
    "It may be convenient to assign a default value to a parameter of a function (and therefore to\n",
    "\n",
    "the associated argument). Thus, when he calls the function, the user will have the choice between providing a value or not include the argument and rely on the default value. In other words, define a The default value for a parameter makes the associated argument optional. It is therefore particularly useful when an argument tends to be used often with the same value, without wants to set its value in the body of the function.\n",
    "\n",
    "It assigns a default value by simply adding = value by defautau parameter question when defining the function:\n",
    "\n",
    "```python \n",
    "def function_name (param1, param2, param3 = default_value):\n",
    "\t\"\"\"\n",
    "\tdocstrings (= description of the operation of the function,\n",
    "\tits arguments\n",
    "\tand what it returns in the output)\n",
    "\t\"\"\"\n",
    "\t<function body >\n",
    "\treturn result"
   ]
  },
  {
   "cell_type": "markdown",
   "metadata": {},
   "source": [
    "Warning: the parameters with default value must be placed last\n",
    "position in the definition of the function."
   ]
  },
  {
   "cell_type": "code",
   "execution_count": null,
   "metadata": {
    "attributes": {
     "classes": [
      "python "
     ],
     "id": ""
    }
   },
   "outputs": [],
   "source": [
    "# Example 1\n",
    "def print_this(message = \"Hello World!\"):\n",
    "\t\"\"\"\n",
    "\n",
    "\tThis function displays the message provided via a print ().\n",
    "\t\"\"\"\n",
    "\tprint (message)\n",
    "\n",
    "print_this (\" We loves Python! \") # Argument filled in -> the\n",
    "print_this () # argument unspecified -> the default value is"
   ]
  },
  {
   "cell_type": "code",
   "execution_count": null,
   "metadata": {
    "attributes": {
     "classes": [
      "python "
     ],
     "id": ""
    }
   },
   "outputs": [],
   "source": [
    "# Example 2\n",
    "def print_this_and_that (this = \"Hello World!\" That = \"\"):\n",
    "\t\"\"\"\n",
    "\t\tThis function displays the message (s) provided (s) via a print\n",
    "().\n",
    "\t\"\"\"\n",
    "\tmessage = this +\" \"+ that # concatenation of the 2 strings\n",
    "\tprint (message)\n",
    "\n",
    "print_this_and_that (\" This! \") \n",
    "\n",
    "print_this_and_that (\"This\", \"and that!\") # The argument that is here filled in\n",
    "print_this_and_that (this = \"This\", that = \"and that!\") # By naming the arguments\n",
    "\n",
    "print_this_and_that () # # unspecified arguments -> default values are used"
   ]
  },
  {
   "cell_type": "markdown",
   "metadata": {},
   "source": [
    "## Outputs of a function (return)\n",
    "\n",
    "In general, a function accepts input values ​​(or variables) via its arguments, and uses them then to produce a result returned to the rest of the program via the return keyword.\n",
    "\n",
    "Beyond this general principle, it is important to note that:\n",
    "\n",
    "-The result returned by the function via return can be of any type (integer, string, list, diction-\n",
    "\n",
    "naire ... cf. module # 1)\n",
    "\n",
    "-A function may not have a return, when it only aims to display a message\n",
    "\n",
    "or a graphic for example (as with function print_this () above). In that case,\n",
    "\n",
    "the function will return the valueNone.\n",
    "\n",
    "- It is possible to store in a variable the result returned by the return of a function:"
   ]
  },
  {
   "cell_type": "code",
   "execution_count": null,
   "metadata": {},
   "outputs": [],
   "source": [
    "# Example\n",
    "res = square_this (9)\n",
    "print(res)"
   ]
  },
  {
   "cell_type": "markdown",
   "metadata": {},
   "source": [
    "-A function can, with a single return, return several values ​​(separated by,) under the untuple form (see module # 1):"
   ]
  },
  {
   "cell_type": "code",
   "execution_count": null,
   "metadata": {},
   "outputs": [],
   "source": [
    "# Example\n",
    "def square_and_cube_this (num):\n",
    "\t\"\"\"\n",
    "\tThis function returns num high squared and cube\n",
    "\t\"\"\"\n",
    "\tsquared = num ** 2\n",
    "\tcubed = num ** 3\n",
    "\treturn squared, cubed\n",
    "\n",
    "res = square_and_cube_this (3)\n",
    "print (res, type (res)) # the function returns a tuple\n",
    "\n",
    "# We can also directly register the different elements of tuple\n",
    "# returned by the function in separate variables\n",
    "squared, cubed = square_and_cube_this (3)\n",
    "print (cubed, type ( cubed))\n"
   ]
  },
  {
   "cell_type": "markdown",
   "metadata": {},
   "source": [
    "-A function can have multiple return, for example within a conditional structure:"
   ]
  },
  {
   "cell_type": "code",
   "execution_count": null,
   "metadata": {},
   "outputs": [],
   "source": [
    "# Example\n",
    "def square_or_cube_this (num, mode):\n",
    "\t\"\"\"\n",
    "\tThis function returns num high squared (mode = 1) or cube (mode = 2)\n",
    " \t\"\"\"\n",
    "\tif mode == 1: # square\n",
    "\t\treturn num ** 2\n",
    "\tif mode == 2: # cube\n",
    "\t\treturn num ** 3\n",
    "\telse:\n",
    "\t\tprint (\"Mode value not included, please try again.\")\n",
    "square_or_cube_this (num = 3, mode = 1) # use of named arguments"
   ]
  },
  {
   "cell_type": "markdown",
   "metadata": {},
   "source": [
    "Try changing the call (oucall) of the functionsquare or cube_this () above to get the cube of a number. Also try with a value of 1 or 2 to understand the utility of the else in this case.\n",
    "\n",
    "## Exercices hands-on\n",
    "\n",
    "- Exercise 1: Change the function print_this () above to accept two new arguments: n_lines (number of lines to repeat the message on) andn_per_line (number of rows repetition per line). Assign their 20 and 8 as default values respectively. The function must be able to display the message n_per_timetimesonn_lines.\n",
    "\n",
    "Bonus question: what happens if you call the function without providing any arguments?\n",
    "\n",
    "Solution:"
   ]
  },
  {
   "cell_type": "code",
   "execution_count": null,
   "metadata": {},
   "outputs": [],
   "source": [
    "def print_this(message = \"Hello World!\", N_lines = 20, n_per_line = 8):\n",
    "\t\"\"\"\n",
    "\tThis function displays the message provided via a print ().\n",
    "\t\"\"\"\n",
    "\tfor i in range (0, n_lines):\n",
    "\t\tprint (message * n_per_line)\n",
    "``` \n",
    "Answer: If we call the function without providing an argument, then \"Hello world! Will be repeated 8 times by line on 20 lines.\n",
    "\n",
    "- Exercise 2: Write a function titled toaise to the_power () It must accept as input a number as well as a parameterpower. The function must return the number entre num raised to power (ienumpower). Do not forget to add des docstringsdescribing the functioning of the function.\n",
    "\n",
    "Solution:\n",
    "\n",
    "```python\n",
    "def raise_to_the_power (num, power):\n",
    "\t\"\"\"\n",
    "\tV1 This function returns num high to power power\n",
    "\t\"\"\"\n",
    "\treturn num ** power\n",
    "raise_to_the_power (3, 3)"
   ]
  },
  {
   "cell_type": "markdown",
   "metadata": {},
   "source": [
    "- Exercise 3:\n",
    "\n",
    "- Change the function to the_power () of exercise 2 so that by default, if the user\n",
    "\n",
    "does not supply the parameter power, the function returns num ^ 1.\n",
    "\n",
    "- Also add a verbose parameter (default is False). Siverbose == True,\n",
    "\n",
    "this new version of the function should display the result within a sentence mentioning\n",
    "\n",
    "num, poweret the result of the calculation.\n",
    "\n",
    "Solution:"
   ]
  },
  {
   "cell_type": "code",
   "execution_count": null,
   "metadata": {},
   "outputs": [],
   "source": [
    "def raise_to_the_power (num, power = 1, verbose = False):\n",
    "\t\"\"\"\n",
    "\tV2 .This function returns num high to the power power, with the possibility if verbose == True to display the result within a sentence\n",
    "\t\t\"\"\"\n",
    "\tres = num ** power\n",
    "\tif verbose:\n",
    "\t\tprint (\" {} raised to power {} = {} \". format (num, power, res))\n",
    "\treturn res\n",
    "raise_to_the_power (9, verbose = True)"
   ]
  },
  {
   "cell_type": "markdown",
   "metadata": {},
   "source": [
    "- Exercise 4: Create a functionfib (n) capable of generating a sequence of Fibonacci up to n.\n",
    "\n",
    "Solution:\n",
    "\n",
    "```python\n",
    "# Python.org example - Fibonacci series up to n\n",
    "def fib (n):\n",
    "\ta, b = 0, 1\n",
    "\twhile a <n:\n",
    "\t\tprint (a, end = '')\n",
    "\t\ta, b = b, a + b\n",
    "fib(1000)\n",
    "```"
   ]
  }
 ],
 "metadata": {},
 "nbformat": 4,
 "nbformat_minor": 2
}
