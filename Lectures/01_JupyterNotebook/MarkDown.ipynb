{
 "cells": [
  {
   "cell_type": "markdown",
   "metadata": {},
   "source": [
    "# Titre\n",
    "\n",
    "$x = \\alpha ^2$\n",
    "\n",
    "$$x = \\alpha ^2$$\n",
    "\n",
    "![](https://banner2.kisspng.com/20180804/loe/kisspng-programming-in-python-3-a-complete-introduction-t-python-web-development-amp-technology-resource-5b663c2cebcc63.9219693015334267329659.jpg)\n",
    "\n",
    "[click here](https://stackoverflow.com/questions/14675913/changing-image-size-in-markdown)\n",
    "\n",
    "## Sous titre \n",
    "\n",
    "### Sous sous titre"
   ]
  },
  {
   "cell_type": "code",
   "execution_count": null,
   "metadata": {},
   "outputs": [],
   "source": []
  }
 ],
 "metadata": {
  "kernelspec": {
   "display_name": "Python 3",
   "language": "python",
   "name": "python3"
  },
  "language_info": {
   "codemirror_mode": {
    "name": "ipython",
    "version": 3
   },
   "file_extension": ".py",
   "mimetype": "text/x-python",
   "name": "python",
   "nbconvert_exporter": "python",
   "pygments_lexer": "ipython3",
   "version": "3.7.3"
  }
 },
 "nbformat": 4,
 "nbformat_minor": 2
}
