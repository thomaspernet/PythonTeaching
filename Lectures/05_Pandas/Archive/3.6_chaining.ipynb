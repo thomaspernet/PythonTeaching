{
  "cells": [
    {
      "cell_type": "markdown",
      "source": [
        "# Advanced pandas"
      ],
      "metadata": {
        "deletable": true,
        "editable": true
      }
    },
    {
      "cell_type": "code",
      "source": [
        "import numpy as np\n",
        "import pandas as pd\n",
        "np.random.seed(12345)\n",
        "import matplotlib.pyplot as plt\n",
        "plt.rc('figure', figsize=(10, 6))\n",
        "PREVIOUS_MAX_ROWS = pd.options.display.max_rows\n",
        "pd.options.display.max_rows = 20\n",
        "np.set_printoptions(precision=4, suppress=True)"
      ],
      "outputs": [],
      "execution_count": null,
      "metadata": {
        "collapsed": false,
        "deletable": true,
        "editable": true
      }
    },
    {
      "cell_type": "markdown",
      "source": [
        "## Categorical Data"
      ],
      "metadata": {
        "deletable": true,
        "editable": true
      }
    },
    {
      "cell_type": "markdown",
      "source": [
        "### Background and Motivation"
      ],
      "metadata": {
        "deletable": true,
        "editable": true
      }
    },
    {
      "cell_type": "code",
      "source": [
        "import numpy as np; import pandas as pd\n",
        "values = pd.Series(['apple', 'orange', 'apple',\n",
        "                    'apple'] * 2)\n",
        "values\n",
        "pd.unique(values)\n",
        "pd.value_counts(values)"
      ],
      "outputs": [],
      "execution_count": null,
      "metadata": {
        "collapsed": false,
        "deletable": true,
        "editable": true
      }
    },
    {
      "cell_type": "code",
      "source": [
        "values = pd.Series([0, 1, 0, 0] * 2)\n",
        "dim = pd.Series(['apple', 'orange'])\n",
        "values\n",
        "dim"
      ],
      "outputs": [],
      "execution_count": null,
      "metadata": {
        "collapsed": false,
        "deletable": true,
        "editable": true
      }
    },
    {
      "cell_type": "code",
      "source": [
        "dim.take(values)"
      ],
      "outputs": [],
      "execution_count": null,
      "metadata": {
        "collapsed": false,
        "deletable": true,
        "editable": true
      }
    },
    {
      "cell_type": "markdown",
      "source": [
        "### Categorical Type in pandas"
      ],
      "metadata": {
        "deletable": true,
        "editable": true
      }
    },
    {
      "cell_type": "code",
      "source": [
        "fruits = ['apple', 'orange', 'apple', 'apple'] * 2\n",
        "N = len(fruits)\n",
        "df = pd.DataFrame({'fruit': fruits,\n",
        "                   'basket_id': np.arange(N),\n",
        "                   'count': np.random.randint(3, 15, size=N),\n",
        "                   'weight': np.random.uniform(0, 4, size=N)},\n",
        "                  columns=['basket_id', 'fruit', 'count', 'weight'])\n",
        "df"
      ],
      "outputs": [],
      "execution_count": null,
      "metadata": {
        "collapsed": false,
        "deletable": true,
        "editable": true
      }
    },
    {
      "cell_type": "code",
      "source": [
        "fruit_cat = df['fruit'].astype('category')\n",
        "fruit_cat"
      ],
      "outputs": [],
      "execution_count": null,
      "metadata": {
        "collapsed": false,
        "deletable": true,
        "editable": true
      }
    },
    {
      "cell_type": "code",
      "source": [
        "c = fruit_cat.values\n",
        "type(c)"
      ],
      "outputs": [],
      "execution_count": null,
      "metadata": {
        "collapsed": false,
        "deletable": true,
        "editable": true
      }
    },
    {
      "cell_type": "code",
      "source": [
        "c.categories\n",
        "c.codes"
      ],
      "outputs": [],
      "execution_count": null,
      "metadata": {
        "collapsed": false,
        "deletable": true,
        "editable": true
      }
    },
    {
      "cell_type": "code",
      "source": [
        "df['fruit'] = df['fruit'].astype('category')\n",
        "df.fruit"
      ],
      "outputs": [],
      "execution_count": null,
      "metadata": {
        "collapsed": false,
        "deletable": true,
        "editable": true
      }
    },
    {
      "cell_type": "code",
      "source": [
        "my_categories = pd.Categorical(['foo', 'bar', 'baz', 'foo', 'bar'])\n",
        "my_categories"
      ],
      "outputs": [],
      "execution_count": null,
      "metadata": {
        "collapsed": false,
        "deletable": true,
        "editable": true
      }
    },
    {
      "cell_type": "code",
      "source": [
        "categories = ['foo', 'bar', 'baz']\n",
        "codes = [0, 1, 2, 0, 0, 1]\n",
        "my_cats_2 = pd.Categorical.from_codes(codes, categories)\n",
        "my_cats_2"
      ],
      "outputs": [],
      "execution_count": null,
      "metadata": {
        "collapsed": false,
        "deletable": true,
        "editable": true
      }
    },
    {
      "cell_type": "code",
      "source": [
        "ordered_cat = pd.Categorical.from_codes(codes, categories,\n",
        "                                        ordered=True)\n",
        "ordered_cat"
      ],
      "outputs": [],
      "execution_count": null,
      "metadata": {
        "collapsed": false,
        "deletable": true,
        "editable": true
      }
    },
    {
      "cell_type": "code",
      "source": [
        "my_cats_2.as_ordered()"
      ],
      "outputs": [],
      "execution_count": null,
      "metadata": {
        "collapsed": false,
        "deletable": true,
        "editable": true
      }
    },
    {
      "cell_type": "markdown",
      "source": [
        "### Computations with Categoricals"
      ],
      "metadata": {
        "deletable": true,
        "editable": true
      }
    },
    {
      "cell_type": "code",
      "source": [
        "np.random.seed(12345)\n",
        "draws = np.random.randn(1000)\n",
        "draws[:5]"
      ],
      "outputs": [],
      "execution_count": null,
      "metadata": {
        "collapsed": false,
        "deletable": true,
        "editable": true
      }
    },
    {
      "cell_type": "code",
      "source": [
        "bins = pd.qcut(draws, 4)\n",
        "bins"
      ],
      "outputs": [],
      "execution_count": null,
      "metadata": {
        "collapsed": false,
        "deletable": true,
        "editable": true
      }
    },
    {
      "cell_type": "code",
      "source": [
        "bins = pd.qcut(draws, 4, labels=['Q1', 'Q2', 'Q3', 'Q4'])\n",
        "bins\n",
        "bins.codes[:10]"
      ],
      "outputs": [],
      "execution_count": null,
      "metadata": {
        "collapsed": false,
        "deletable": true,
        "editable": true
      }
    },
    {
      "cell_type": "code",
      "source": [
        "bins = pd.Series(bins, name='quartile')\n",
        "results = (pd.Series(draws)\n",
        "           .groupby(bins)\n",
        "           .agg(['count', 'min', 'max'])\n",
        "           .reset_index())\n",
        "results"
      ],
      "outputs": [],
      "execution_count": null,
      "metadata": {
        "collapsed": false,
        "deletable": true,
        "editable": true
      }
    },
    {
      "cell_type": "code",
      "source": [
        "results['quartile']"
      ],
      "outputs": [],
      "execution_count": null,
      "metadata": {
        "collapsed": false,
        "deletable": true,
        "editable": true
      }
    },
    {
      "cell_type": "markdown",
      "source": [
        "#### Better performance with categoricals"
      ],
      "metadata": {
        "deletable": true,
        "editable": true
      }
    },
    {
      "cell_type": "code",
      "source": [
        "N = 10000000\n",
        "draws = pd.Series(np.random.randn(N))\n",
        "labels = pd.Series(['foo', 'bar', 'baz', 'qux'] * (N // 4))"
      ],
      "outputs": [],
      "execution_count": null,
      "metadata": {
        "collapsed": false,
        "deletable": true,
        "editable": true
      }
    },
    {
      "cell_type": "code",
      "source": [
        "categories = labels.astype('category')"
      ],
      "outputs": [],
      "execution_count": null,
      "metadata": {
        "collapsed": false,
        "deletable": true,
        "editable": true
      }
    },
    {
      "cell_type": "code",
      "source": [
        "labels.memory_usage()\n",
        "categories.memory_usage()"
      ],
      "outputs": [],
      "execution_count": null,
      "metadata": {
        "collapsed": false,
        "deletable": true,
        "editable": true
      }
    },
    {
      "cell_type": "code",
      "source": [
        "%time _ = labels.astype('category')"
      ],
      "outputs": [],
      "execution_count": null,
      "metadata": {
        "collapsed": false,
        "deletable": true,
        "editable": true
      }
    },
    {
      "cell_type": "markdown",
      "source": [
        "### Categorical Methods"
      ],
      "metadata": {
        "deletable": true,
        "editable": true
      }
    },
    {
      "cell_type": "code",
      "source": [
        "s = pd.Series(['a', 'b', 'c', 'd'] * 2)\n",
        "cat_s = s.astype('category')\n",
        "cat_s"
      ],
      "outputs": [],
      "execution_count": null,
      "metadata": {
        "collapsed": false,
        "deletable": true,
        "editable": true
      }
    },
    {
      "cell_type": "code",
      "source": [
        "cat_s.cat.codes\n",
        "cat_s.cat.categories"
      ],
      "outputs": [],
      "execution_count": null,
      "metadata": {
        "collapsed": false,
        "deletable": true,
        "editable": true
      }
    },
    {
      "cell_type": "code",
      "source": [
        "actual_categories = ['a', 'b', 'c', 'd', 'e']\n",
        "cat_s2 = cat_s.cat.set_categories(actual_categories)\n",
        "cat_s2"
      ],
      "outputs": [],
      "execution_count": null,
      "metadata": {
        "collapsed": false,
        "deletable": true,
        "editable": true
      }
    },
    {
      "cell_type": "code",
      "source": [
        "cat_s.value_counts()\n",
        "cat_s2.value_counts()"
      ],
      "outputs": [],
      "execution_count": null,
      "metadata": {
        "collapsed": false,
        "deletable": true,
        "editable": true
      }
    },
    {
      "cell_type": "code",
      "source": [
        "cat_s3 = cat_s[cat_s.isin(['a', 'b'])]\n",
        "cat_s3\n",
        "cat_s3.cat.remove_unused_categories()"
      ],
      "outputs": [],
      "execution_count": null,
      "metadata": {
        "collapsed": false,
        "deletable": true,
        "editable": true
      }
    },
    {
      "cell_type": "markdown",
      "source": [
        "#### Creating dummy variables for modeling"
      ],
      "metadata": {
        "deletable": true,
        "editable": true
      }
    },
    {
      "cell_type": "code",
      "source": [
        "cat_s = pd.Series(['a', 'b', 'c', 'd'] * 2, dtype='category')"
      ],
      "outputs": [],
      "execution_count": null,
      "metadata": {
        "collapsed": false,
        "deletable": true,
        "editable": true
      }
    },
    {
      "cell_type": "code",
      "source": [
        "pd.get_dummies(cat_s)"
      ],
      "outputs": [],
      "execution_count": null,
      "metadata": {
        "collapsed": false,
        "deletable": true,
        "editable": true
      }
    },
    {
      "cell_type": "markdown",
      "source": [
        "## Advanced GroupBy Use"
      ],
      "metadata": {
        "deletable": true,
        "editable": true
      }
    },
    {
      "cell_type": "markdown",
      "source": [
        "### Group Transforms and \"Unwrapped\" GroupBys"
      ],
      "metadata": {
        "deletable": true,
        "editable": true
      }
    },
    {
      "cell_type": "code",
      "source": [
        "df = pd.DataFrame({'key': ['a', 'b', 'c'] * 4,\n",
        "                   'value': np.arange(12.)})\n",
        "df"
      ],
      "outputs": [],
      "execution_count": null,
      "metadata": {
        "collapsed": false,
        "deletable": true,
        "editable": true
      }
    },
    {
      "cell_type": "code",
      "source": [
        "g = df.groupby('key').value\n",
        "g.mean()"
      ],
      "outputs": [],
      "execution_count": null,
      "metadata": {
        "collapsed": false,
        "deletable": true,
        "editable": true
      }
    },
    {
      "cell_type": "code",
      "source": [
        "g.transform(lambda x: x.mean())"
      ],
      "outputs": [],
      "execution_count": null,
      "metadata": {
        "collapsed": false,
        "deletable": true,
        "editable": true
      }
    },
    {
      "cell_type": "code",
      "source": [
        "g.transform('mean')"
      ],
      "outputs": [],
      "execution_count": null,
      "metadata": {
        "collapsed": false,
        "deletable": true,
        "editable": true
      }
    },
    {
      "cell_type": "code",
      "source": [
        "g.transform(lambda x: x * 2)"
      ],
      "outputs": [],
      "execution_count": null,
      "metadata": {
        "collapsed": false,
        "deletable": true,
        "editable": true
      }
    },
    {
      "cell_type": "code",
      "source": [
        "g.transform(lambda x: x.rank(ascending=False))"
      ],
      "outputs": [],
      "execution_count": null,
      "metadata": {
        "collapsed": false,
        "deletable": true,
        "editable": true
      }
    },
    {
      "cell_type": "code",
      "source": [
        "def normalize(x):\n",
        "    return (x - x.mean()) / x.std()"
      ],
      "outputs": [],
      "execution_count": null,
      "metadata": {
        "collapsed": false,
        "deletable": true,
        "editable": true
      }
    },
    {
      "cell_type": "code",
      "source": [
        "g.transform(normalize)\n",
        "g.apply(normalize)"
      ],
      "outputs": [],
      "execution_count": null,
      "metadata": {
        "collapsed": false,
        "deletable": true,
        "editable": true
      }
    },
    {
      "cell_type": "code",
      "source": [
        "g.transform('mean')\n",
        "normalized = (df['value'] - g.transform('mean')) / g.transform('std')\n",
        "normalized"
      ],
      "outputs": [],
      "execution_count": null,
      "metadata": {
        "collapsed": false,
        "deletable": true,
        "editable": true
      }
    },
    {
      "cell_type": "markdown",
      "source": [
        "### Grouped Time Resampling"
      ],
      "metadata": {
        "deletable": true,
        "editable": true
      }
    },
    {
      "cell_type": "code",
      "source": [
        "N = 15\n",
        "times = pd.date_range('2017-05-20 00:00', freq='1min', periods=N)\n",
        "df = pd.DataFrame({'time': times,\n",
        "                   'value': np.arange(N)})\n",
        "df"
      ],
      "outputs": [],
      "execution_count": null,
      "metadata": {
        "collapsed": false,
        "deletable": true,
        "editable": true
      }
    },
    {
      "cell_type": "code",
      "source": [
        "df.set_index('time').resample('5min').count()"
      ],
      "outputs": [],
      "execution_count": null,
      "metadata": {
        "collapsed": false,
        "deletable": true,
        "editable": true
      }
    },
    {
      "cell_type": "code",
      "source": [
        "df2 = pd.DataFrame({'time': times.repeat(3),\n",
        "                    'key': np.tile(['a', 'b', 'c'], N),\n",
        "                    'value': np.arange(N * 3.)})\n",
        "df2[:7]"
      ],
      "outputs": [],
      "execution_count": null,
      "metadata": {
        "collapsed": false,
        "deletable": true,
        "editable": true
      }
    },
    {
      "cell_type": "code",
      "source": [
        "time_key = pd.TimeGrouper('5min')"
      ],
      "outputs": [],
      "execution_count": null,
      "metadata": {
        "collapsed": false,
        "deletable": true,
        "editable": true
      }
    },
    {
      "cell_type": "code",
      "source": [
        "resampled = (df2.set_index('time')\n",
        "             .groupby(['key', time_key])\n",
        "             .sum())\n",
        "resampled\n",
        "resampled.reset_index()"
      ],
      "outputs": [],
      "execution_count": null,
      "metadata": {
        "collapsed": false,
        "deletable": true,
        "editable": true
      }
    },
    {
      "cell_type": "markdown",
      "source": [
        "## Techniques for Method Chaining"
      ],
      "metadata": {
        "deletable": true,
        "editable": true
      }
    },
    {
      "cell_type": "markdown",
      "source": [
        "```python\n",
        "df = load_data()\n",
        "df2 = df[df['col2'] < 0]\n",
        "df2['col1_demeaned'] = df2['col1'] - df2['col1'].mean()\n",
        "result = df2.groupby('key').col1_demeaned.std()\n",
        "```"
      ],
      "metadata": {
        "deletable": true,
        "editable": true
      }
    },
    {
      "cell_type": "markdown",
      "source": [
        "```python\n",
        "# Usual non-functional way\n",
        "df2 = df.copy()\n",
        "df2['k'] = v\n",
        "\n",
        "# Functional assign way\n",
        "df2 = df.assign(k=v)\n",
        "```"
      ],
      "metadata": {
        "deletable": true,
        "editable": true
      }
    },
    {
      "cell_type": "markdown",
      "source": [
        "```python\n",
        "result = (df2.assign(col1_demeaned=df2.col1 - df2.col2.mean())\n",
        "          .groupby('key')\n",
        "          .col1_demeaned.std())\n",
        "```"
      ],
      "metadata": {
        "deletable": true,
        "editable": true
      }
    },
    {
      "cell_type": "markdown",
      "source": [
        "```python\n",
        "df = load_data()\n",
        "df2 = df[df['col2'] < 0]\n",
        "```"
      ],
      "metadata": {
        "deletable": true,
        "editable": true
      }
    },
    {
      "cell_type": "markdown",
      "source": [
        "```python\n",
        "df = (load_data()\n",
        "      [lambda x: x['col2'] < 0])\n",
        "```"
      ],
      "metadata": {
        "deletable": true,
        "editable": true
      }
    },
    {
      "cell_type": "markdown",
      "source": [
        "```python\n",
        "result = (load_data()\n",
        "          [lambda x: x.col2 < 0]\n",
        "          .assign(col1_demeaned=lambda x: x.col1 - x.col1.mean())\n",
        "          .groupby('key')\n",
        "          .col1_demeaned.std())\n",
        "```"
      ],
      "metadata": {
        "deletable": true,
        "editable": true
      }
    },
    {
      "cell_type": "markdown",
      "source": [
        "### The pipe Method"
      ],
      "metadata": {
        "deletable": true,
        "editable": true
      }
    },
    {
      "cell_type": "markdown",
      "source": [
        "```python\n",
        "a = f(df, arg1=v1)\n",
        "b = g(a, v2, arg3=v3)\n",
        "c = h(b, arg4=v4)\n",
        "```"
      ],
      "metadata": {
        "deletable": true,
        "editable": true
      }
    },
    {
      "cell_type": "markdown",
      "source": [
        "```python\n",
        "result = (df.pipe(f, arg1=v1)\n",
        "          .pipe(g, v2, arg3=v3)\n",
        "          .pipe(h, arg4=v4))\n",
        "```"
      ],
      "metadata": {
        "deletable": true,
        "editable": true
      }
    },
    {
      "cell_type": "markdown",
      "source": [
        "```python\n",
        "g = df.groupby(['key1', 'key2'])\n",
        "df['col1'] = df['col1'] - g.transform('mean')\n",
        "```"
      ],
      "metadata": {
        "deletable": true,
        "editable": true
      }
    },
    {
      "cell_type": "markdown",
      "source": [
        "```python\n",
        "def group_demean(df, by, cols):\n",
        "    result = df.copy()\n",
        "    g = df.groupby(by)\n",
        "    for c in cols:\n",
        "        result[c] = df[c] - g[c].transform('mean')\n",
        "    return result\n",
        "```"
      ],
      "metadata": {
        "deletable": true,
        "editable": true
      }
    },
    {
      "cell_type": "markdown",
      "source": [
        "```python\n",
        "result = (df[df.col1 < 0]\n",
        "          .pipe(group_demean, ['key1', 'key2'], ['col1']))\n",
        "```"
      ],
      "metadata": {
        "deletable": true,
        "editable": true
      }
    },
    {
      "cell_type": "code",
      "source": [
        "pd.options.display.max_rows = PREVIOUS_MAX_ROWS"
      ],
      "outputs": [],
      "execution_count": null,
      "metadata": {
        "collapsed": true,
        "deletable": true,
        "editable": true
      }
    },
    {
      "cell_type": "markdown",
      "source": [
        "## Conclusion"
      ],
      "metadata": {
        "deletable": true,
        "editable": true
      }
    }
  ],
  "metadata": {
    "kernelspec": {
      "name": "python3",
      "language": "python",
      "display_name": "Python 3"
    },
    "language_info": {
      "name": "python",
      "version": "3.7.3",
      "mimetype": "text/x-python",
      "codemirror_mode": {
        "name": "ipython",
        "version": 3
      },
      "pygments_lexer": "ipython3",
      "nbconvert_exporter": "python",
      "file_extension": ".py"
    },
    "kernel_info": {
      "name": "python3"
    },
    "nteract": {
      "version": "0.15.0"
    }
  },
  "nbformat": 4,
  "nbformat_minor": 0
}