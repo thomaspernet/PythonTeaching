{
 "cells": [
  {
   "cell_type": "markdown",
   "metadata": {
    "Collapsed": "true"
   },
   "source": [
    "# Prepare Exercice 1"
   ]
  },
  {
   "cell_type": "code",
   "execution_count": null,
   "metadata": {
    "Collapsed": "false"
   },
   "outputs": [],
   "source": [
    "import pandas as pd\n",
    "from Fast_connectCloud import connector\n",
    "from GoogleDrivePy.google_drive import connect_drive\n",
    "from GoogleDrivePy.google_platform import connect_cloud_platform\n",
    "import plotly.express as px\n",
    "import numpy as np\n",
    "import plotly.express as px\n",
    "import seaborn as sns\n",
    "\n",
    "cm = sns.light_palette(\"green\", as_cmap=True)"
   ]
  },
  {
   "cell_type": "code",
   "execution_count": null,
   "metadata": {
    "Collapsed": "false"
   },
   "outputs": [],
   "source": [
    "gs = connector.open_connection(online_connection=False,\n",
    "                               path_credential='/Users/Thomas/Google Drive/Projects/Data_science/Google_code_n_Oauth/Client_Oauth/Google_auth/')\n",
    "\n",
    "service_gd = gs.connect_remote(engine='GS')\n",
    "service_gcp = gs.connect_remote(engine='GCP')\n",
    "\n",
    "gdr = connect_drive.connect_drive(service_gd['GoogleDrive'])\n",
    "\n",
    "project = 'valid-pagoda-132423'\n",
    "gcp = connect_cloud_platform.connect_console(project=project,\n",
    "                                             service_account=service_gcp['GoogleCloudP'])"
   ]
  },
  {
   "cell_type": "code",
   "execution_count": null,
   "metadata": {
    "Collapsed": "false"
   },
   "outputs": [],
   "source": [
    "project = 'valid-pagoda-132423'\n",
    "query = (\n",
    "    \"SELECT Customer_Name, Country_name, IncomeGroup, WB, Languages, \"\n",
    "    \"English, French, Partnership, \"\n",
    "    \"Inbound_Region, industry, Fixed_vodafone, \"\n",
    "    \" Cloud_Hosting_vodafone, IoT_vodafone, \"\n",
    "    \"Unified_Comms_vodafone, Mobility_vodafone, Mobility_potential \"\n",
    "    \"FROM Business.Vodafone \"\n",
    "    #\"WHERE Mobility_vodafone > 0 \"\n",
    "    \n",
    ")\n",
    "\n",
    "df_iden = (gcp\n",
    "            .upload_data_from_bigquery(query=query,\n",
    "                                       location='US')\n",
    "            #.set_index(index)\n",
    "            #.assign(\n",
    "            #    Whitespace=lambda x: x['Mobility_potential'] - x['Mobility_vodafone'])\n",
    "            )\n",
    "\n",
    "include_all = True\n",
    "\n",
    "(df_iden\n",
    " .loc[lambda x: (x['Mobility_potential'] <= x['Mobility_vodafone']), \n",
    "      ['Mobility_potential'] \n",
    "      #& \n",
    "     ]  \n",
    " )= df_iden['Mobility_vodafone'] \n"
   ]
  },
  {
   "cell_type": "code",
   "execution_count": null,
   "metadata": {
    "Collapsed": "false"
   },
   "outputs": [],
   "source": [
    "df_iden = df_iden.replace({'industry': {\"Consumer Goods\": \"Indu_A\",\n",
    "                                   'Energy & Utilities': \"Indu_B\",\n",
    "                                   'Financial Services': \"Indu_C\",\n",
    "                                   'Insurance': \"Indu_D\",\n",
    "                                   'Manufacturing': \"Indu_E\",\n",
    "                                   'Professional Services': \"Indu_F\",\n",
    "                                   'Technology': \"Indu_G\",\n",
    "                                   'Transportation & Logistics': \"Indu_H\",\n",
    "                                   'Travel & Tourism': \"Indu_I\",\n",
    "                                   'Automotive': \"Indu_J\",\n",
    "                                   'Construction': \"Indu_K\",\n",
    "                                   'Healthcare': \"Indu_L\",\n",
    "                                   'Media & Entertainment': \"Indu_M\",\n",
    "                                   'Government & Public Sector': \"Indu_N\",\n",
    "                                   'Conglomerate': \"Indu_O\",\n",
    "                                   'IPS': \"Indu_P\",\n",
    "                                   'Agriculture': \"Indu_Q\",\n",
    "                                   'PRIOR-VGE': \"Indu_R\"\n",
    "                                   },\n",
    "                           'Partnership':{\n",
    "                               \"Non_Vodafone\":'Third',\n",
    "                               \"Partner\":'Second',\n",
    "                               \"Vodafone\":'First',\n",
    "                           }\n",
    "                           })\n",
    "df_final = df_iden.rename(columns={\"Customer_Name\": \"ID\",\n",
    "                                    \"Country_name\": \"Country_name\",\n",
    "                                    \"WB\": \"country_ref\",\n",
    "                                    \"Inbound_Region\": \"Region\",\n",
    "                                    \"str\": \"industry\",\n",
    "                                    'Partnership': \"Relationship\",\n",
    "                                    'Fixed_vodafone': \"A_reference\",\n",
    "                                    'Cloud_Hosting_vodafone': \"B_reference\",\n",
    "                                    'IoT_vodafone': \"C_reference\",\n",
    "                                    'Unified_Comms_vodafone': \"D_reference\",\n",
    "                                    'Mobility_vodafone': \"TARGET_reference\",\n",
    "                                    'Mobility_potential': \"TARGET_potential\",\n",
    "                                    })\n",
    "#df_final.iloc[:, 10:] = df_final.iloc[:, 10:].transform([np.sqrt])/1000\n",
    "df_final.head()"
   ]
  },
  {
   "cell_type": "code",
   "execution_count": null,
   "metadata": {
    "Collapsed": "false"
   },
   "outputs": [],
   "source": [
    "df_final.to_csv(\n",
    "\t'dataPandasClass_UseCase.gz',\n",
    "\tsep=',',\n",
    "\theader=True,\n",
    "\tindex=False,\n",
    "\tchunksize=100000,\n",
    "\tcompression='gzip',\n",
    "\tencoding='utf-8')\n",
    "\n",
    "### Then upload to GCS\n",
    "bucket_name = 'machine_learning_teaching'\n",
    "destination_blob_name = 'Business_data'\n",
    "source_file_name = 'dataPandasClass_UseCase.gz'\n",
    "gcp.upload_blob(bucket_name, destination_blob_name, source_file_name)"
   ]
  }
 ],
 "metadata": {
  "kernelspec": {
   "display_name": "Python 3",
   "language": "python",
   "name": "python3"
  },
  "language_info": {
   "codemirror_mode": {
    "name": "ipython",
    "version": 3
   },
   "file_extension": ".py",
   "mimetype": "text/x-python",
   "name": "python",
   "nbconvert_exporter": "python",
   "pygments_lexer": "ipython3",
   "version": "3.7.4"
  }
 },
 "nbformat": 4,
 "nbformat_minor": 4
}
