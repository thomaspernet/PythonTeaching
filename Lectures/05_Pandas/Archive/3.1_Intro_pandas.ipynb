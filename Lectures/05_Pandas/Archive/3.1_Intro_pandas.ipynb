{
  "cells": [
    {
      "cell_type": "markdown",
      "source": [
        "# Advanced multi index\n",
        "\n",
        "Documentation sur le multi indexing\n",
        "\n",
        "- https://pandas.pydata.org/pandas-docs/stable/user_guide/advanced.html\n",
        "\n",
        "## Variables name\n",
        "\n",
        "|  Variable name        |  Type   |\n",
        "| --------------------- | ------- |\n",
        "| ID                    |  object |\n",
        "| Country_name          | object  |\n",
        "| country_ref           | object  |\n",
        "| Region                | object  |\n",
        "| industry              | object  |\n",
        "| A_reference           | float64 |\n",
        "| A_market              | float64 |\n",
        "| B_reference           | float64 |\n",
        "| B_market              | float64 |\n",
        "| C_reference           | float64 |\n",
        "| C_market              | float64 |\n",
        "| D_reference           | float64 |\n",
        "| D_market              | float64 |\n",
        "| E_reference           | float64 |\n",
        "| E_market              | float64 |\n",
        "| Total_reference       | float64 |\n",
        "| Total_market          | float64 |\n",
        "\n",
        "Note that, the market includes the reference"
      ],
      "metadata": {}
    },
    {
      "cell_type": "code",
      "source": [
        "import pandas as pd\n",
        "import seaborn as sns\n",
        "\n",
        "cm = sns.light_palette(\"green\", as_cmap=True)"
      ],
      "outputs": [],
      "execution_count": null,
      "metadata": {
        "ExecuteTime": {
          "end_time": "2019-10-30T15:00:54.122494Z",
          "start_time": "2019-10-30T15:00:52.427628Z"
        }
      }
    },
    {
      "cell_type": "code",
      "source": [
        "path = 'https://sgithub.fr.world.socgen/X196663/Introduction_Python/blob/' \\\n",
        "'master/Data/dataPandasClass.gz?raw=true'\n",
        "\n",
        "df_final = pd.read_csv(path, compression='gzip')\n",
        "df_final.tail()"
      ],
      "outputs": [],
      "execution_count": null,
      "metadata": {
        "ExecuteTime": {
          "end_time": "2019-10-30T15:00:54.238548Z",
          "start_time": "2019-10-30T15:00:54.124441Z"
        }
      }
    },
    {
      "cell_type": "code",
      "source": [
        "reference = [\n",
        "    \"A_reference\",\n",
        "    \"B_reference\",\n",
        "    \"C_reference\",\n",
        "    \"D_reference\",\n",
        "    \"E_reference\",\n",
        "]\n",
        "market = [\n",
        "    \"A_market\",\n",
        "    \"B_market\",\n",
        "    \"C_market\",\n",
        "    \"D_market\",\n",
        "    \"E_market\",\n",
        "]"
      ],
      "outputs": [],
      "execution_count": null,
      "metadata": {
        "ExecuteTime": {
          "end_time": "2019-10-30T15:23:32.758751Z",
          "start_time": "2019-10-30T15:23:32.753789Z"
        }
      }
    },
    {
      "cell_type": "markdown",
      "source": [
        "## Slicing the data\n",
        "\n",
        "On peut faciliment filter la data avec l'index.\n",
        "\n",
        "Dans Pandas, les index sont des tupples"
      ],
      "metadata": {}
    },
    {
      "cell_type": "code",
      "source": [
        "df_index = df_final.set_index(['ID','Country_name',\n",
        "                           'country_ref', 'Region',\n",
        "                   'industry'])\n",
        "df_index.head()"
      ],
      "outputs": [],
      "execution_count": null,
      "metadata": {
        "ExecuteTime": {
          "end_time": "2019-10-30T15:23:45.607613Z",
          "start_time": "2019-10-30T15:23:45.575048Z"
        }
      }
    },
    {
      "cell_type": "markdown",
      "source": [
        "Filtrage avec le premier index"
      ],
      "metadata": {}
    },
    {
      "cell_type": "code",
      "source": [
        "df_index.loc[('Customer 620')].head()"
      ],
      "outputs": [],
      "execution_count": null,
      "metadata": {
        "ExecuteTime": {
          "end_time": "2019-10-30T15:24:22.836336Z",
          "start_time": "2019-10-30T15:24:22.815096Z"
        }
      }
    },
    {
      "cell_type": "markdown",
      "source": [
        "Filtrage avec le deuxième  index"
      ],
      "metadata": {}
    },
    {
      "cell_type": "code",
      "source": [
        "df_index.loc[(slice(None), 'France'), :].head()"
      ],
      "outputs": [],
      "execution_count": null,
      "metadata": {
        "ExecuteTime": {
          "end_time": "2019-10-30T15:25:24.381941Z",
          "start_time": "2019-10-30T15:25:24.357611Z"
        }
      }
    },
    {
      "cell_type": "markdown",
      "source": [
        "Cross section indexing"
      ],
      "metadata": {}
    },
    {
      "cell_type": "code",
      "source": [
        "df_index.xs('L', level='industry').head()"
      ],
      "outputs": [],
      "execution_count": null,
      "metadata": {
        "ExecuteTime": {
          "end_time": "2019-10-30T15:26:32.052592Z",
          "start_time": "2019-10-30T15:26:32.032751Z"
        }
      }
    },
    {
      "cell_type": "markdown",
      "source": [
        "### Creation multi indexation"
      ],
      "metadata": {}
    },
    {
      "cell_type": "code",
      "source": [
        "test = (df_final[['ID','Country_name',\n",
        "                           'country_ref', 'Region', 'industry'] + reference + market]\n",
        " .set_index(['ID','Country_name',\n",
        "                           'country_ref', 'Region',\n",
        "                   'industry'])\n",
        " .transpose()\n",
        " .reset_index()\n",
        " .assign(origin = lambda x: x[\"index\"].str.extract(r\"(_[^_]+$)\"),\n",
        "        product = lambda x: x[\"index\"].str.extract(r\"(^[^_]+(?=_))\"))\n",
        " .set_index(['origin', 'product'], append = True)\n",
        " .drop(columns = 'index')\n",
        " .reset_index(0, drop = True)\n",
        " .T\n",
        ")\n",
        "test.head()"
      ],
      "outputs": [],
      "execution_count": null,
      "metadata": {
        "ExecuteTime": {
          "end_time": "2019-10-30T15:27:39.287851Z",
          "start_time": "2019-10-30T15:27:39.057176Z"
        }
      }
    },
    {
      "cell_type": "markdown",
      "source": [
        "### Slicing the data: index en ligne et colonne\n",
        "\n",
        "On peut faciliment filter la data avec l'index"
      ],
      "metadata": {}
    },
    {
      "cell_type": "code",
      "source": [
        "test.loc[([slice(None), 'Australia'])].head()"
      ],
      "outputs": [],
      "execution_count": null,
      "metadata": {
        "ExecuteTime": {
          "end_time": "2019-10-30T15:00:54.575319Z",
          "start_time": "2019-10-30T15:00:54.542074Z"
        }
      }
    },
    {
      "cell_type": "markdown",
      "source": [
        "On peut recuperer uniquement les colonnes references"
      ],
      "metadata": {}
    },
    {
      "cell_type": "code",
      "source": [
        "test.loc[:,(\"_reference\")]"
      ],
      "outputs": [],
      "execution_count": null,
      "metadata": {
        "ExecuteTime": {
          "end_time": "2019-10-30T15:28:47.448200Z",
          "start_time": "2019-10-30T15:28:47.423878Z"
        }
      }
    },
    {
      "cell_type": "markdown",
      "source": [
        "On peut recuperer les colonnes references pour la France uniquement"
      ],
      "metadata": {}
    },
    {
      "cell_type": "code",
      "source": [
        "test.loc[(slice(None), 'France'),(\"_reference\")]"
      ],
      "outputs": [],
      "execution_count": null,
      "metadata": {
        "ExecuteTime": {
          "end_time": "2019-10-30T15:30:25.206489Z",
          "start_time": "2019-10-30T15:30:25.178205Z"
        }
      }
    },
    {
      "cell_type": "markdown",
      "source": [
        "## Industry Market size by product\n",
        "\n",
        "**the market share :Revenue to potential**\n",
        "\n",
        "$$\\text{Market share} = \\sum  \\text{Revenue Reference} / \\sum \\text{Total Market} $$\n",
        "\n",
        "Nous avons, pour chaque industrie, 5 produits differents. Dans l'exercice ci dessous, l'objectif est de calculer les parts de marché de chaque industrie pour l'ensemble des 5 produits. Pour éviter de créer de nombreux objets, nous allons faire le calcul en une seule ligne de code.\n",
        "\n",
        "Avant de d'englober le code, il est préférable de vous montrer le step by step"
      ],
      "metadata": {}
    },
    {
      "cell_type": "code",
      "source": [
        "df_final.head()"
      ],
      "outputs": [],
      "execution_count": null,
      "metadata": {
        "ExecuteTime": {
          "end_time": "2019-10-30T15:00:54.653673Z",
          "start_time": "2019-10-30T15:00:54.635818Z"
        }
      }
    },
    {
      "cell_type": "markdown",
      "source": [
        "Step 1: Recuperer les variables que l'on a besoin et aggreger sur les industries.\n",
        "\n",
        "Vous noterez que l'index est maintenant `industry`. Pour faciliter les étapes suivantes, il est préférable de transposer la matrice. Ainsi, chaque ligne a deux références, l'industrie et `market` ou industrie et `reference`"
      ],
      "metadata": {}
    },
    {
      "cell_type": "code",
      "source": [
        "step1 = (\n",
        "    df_final[['industry'] + reference + market]\n",
        "    .groupby('industry')\n",
        "    .sum(axis = 0)\n",
        "    .T\n",
        "    .sort_index()\n",
        "    \n",
        ")\n",
        "step1.head()"
      ],
      "outputs": [],
      "execution_count": null,
      "metadata": {
        "ExecuteTime": {
          "end_time": "2019-10-30T15:32:31.542883Z",
          "start_time": "2019-10-30T15:32:31.456608Z"
        }
      }
    },
    {
      "cell_type": "markdown",
      "source": [
        "Comme nous avons besoin de faire la distinction entre reference et market (ie mettre en index soit reference soit market), on doit tout d'abord créer une nouvelle variable indiquant soit `market` ou `reference`"
      ],
      "metadata": {}
    },
    {
      "cell_type": "code",
      "source": [
        "step2 = (step1\n",
        "         .reset_index()\n",
        "         .assign(origin = lambda x: x['index'].str.extract(r\"(_[^_]+$)\"),\n",
        "        product = lambda x: x['index'].str.extract(r\"(^[^_]+(?=_))\"))\n",
        "         \n",
        ")\n",
        "step2.head()"
      ],
      "outputs": [],
      "execution_count": null,
      "metadata": {
        "ExecuteTime": {
          "end_time": "2019-10-30T15:33:09.808766Z",
          "start_time": "2019-10-30T15:33:09.779118Z"
        }
      }
    },
    {
      "cell_type": "markdown",
      "source": [
        "Maintenant que nous avons créée nos deux nouvelles variables, on peut les mette dans l'index et faire l'aggregate directement sur `product`"
      ],
      "metadata": {}
    },
    {
      "cell_type": "code",
      "source": [
        "step3 = (step2\n",
        "        .drop(columns = 'index')\n",
        "        .sort_values(by = \"product\")\n",
        "        .set_index(['product', 'origin'])\n",
        "        )\n",
        "step3.head()"
      ],
      "outputs": [],
      "execution_count": null,
      "metadata": {
        "ExecuteTime": {
          "end_time": "2019-10-30T15:33:52.729076Z",
          "start_time": "2019-10-30T15:33:52.692870Z"
        }
      }
    },
    {
      "cell_type": "markdown",
      "source": [
        "Nous voila prèt pour faire l'aggrégation. En un sens, nous pouvons simplement grouper le calcul sur `product` et faire `_reference` / `_market` .  `_market` étant le shift dans le groupe\n",
        "\n",
        "Par exemple pour le produit A, industrie A, le calcul est: 4.907946/52.405622n ou  x/x shift 1 (forward).\n",
        "\n",
        "Notez que pour les cellules `_market`, l'aggregation va retourner que des nan's. On les supprime."
      ],
      "metadata": {}
    },
    {
      "cell_type": "code",
      "source": [
        "step4 = (step3\n",
        "         .groupby(level=0)\n",
        "         .apply(lambda x:  x / x.shift(1))\n",
        "         .dropna()\n",
        "         .droplevel('origin')\n",
        "        )\n",
        "\n",
        "step4"
      ],
      "outputs": [],
      "execution_count": null,
      "metadata": {
        "ExecuteTime": {
          "end_time": "2019-10-30T15:36:31.985538Z",
          "start_time": "2019-10-30T15:36:31.918579Z"
        }
      }
    },
    {
      "cell_type": "markdown",
      "source": [
        "le calcul des parts de marché étant fini, on va pouvoir améliorer la table en calculant le total du marché par industrie, et mettre un conditional formating"
      ],
      "metadata": {}
    },
    {
      "cell_type": "code",
      "source": [
        "(step4\n",
        ".transpose()\n",
        " .assign(total_industry = lambda x: x.sum(1))\n",
        " .sort_values(by ='total_industry')\n",
        " #.drop(columns = 'total_industry')\n",
        " .style\n",
        " .format(\"{:.2%}\")\n",
        ".background_gradient(subset = ['A','B', 'C',\n",
        "                              'D', 'E'],cmap=cm)\n",
        "\n",
        ")"
      ],
      "outputs": [],
      "execution_count": null,
      "metadata": {
        "ExecuteTime": {
          "end_time": "2019-10-30T15:36:49.442730Z",
          "start_time": "2019-10-30T15:36:49.398104Z"
        }
      }
    },
    {
      "cell_type": "markdown",
      "source": [
        "On peut tout regrouper en une seule ligne de code"
      ],
      "metadata": {}
    },
    {
      "cell_type": "code",
      "source": [
        "(df_final[['industry'] + reference + market]\n",
        " .groupby('industry')\n",
        " .sum(axis = 0)\n",
        " .transpose()\n",
        " .reset_index()\n",
        " .assign(origin = lambda x: x['index'].str.extract(r\"(_[^_]+$)\"),\n",
        "        product = lambda x: x['index'].str.extract(r\"(^[^_]+(?=_))\"))\n",
        " .drop(columns = 'index')\n",
        " .sort_values(by = \"product\")\n",
        " .set_index(['product', 'origin'])\n",
        " .groupby(level = 0)\n",
        " .apply(lambda x: x.shift(1) / x )\n",
        " .dropna()\n",
        " .droplevel('origin')\n",
        " .transpose()\n",
        " .assign(total_industry = lambda x: x.sum(1))\n",
        " .sort_values(by ='total_industry')\n",
        " .drop(columns = 'total_industry')\n",
        " .style\n",
        " .format(\"{:.2%}\")\n",
        " .background_gradient(subset = ['A','B', 'C',\n",
        "                              'D', 'E'],cmap=cm)\n",
        ")"
      ],
      "outputs": [],
      "execution_count": null,
      "metadata": {
        "ExecuteTime": {
          "end_time": "2019-10-30T15:38:30.686117Z",
          "start_time": "2019-10-30T15:38:30.462024Z"
        }
      }
    },
    {
      "cell_type": "markdown",
      "source": [
        "# Base de modélisation\n",
        "\n",
        "Variables name\n",
        "\n",
        "- 'top_def_12_mois': top defaut\n",
        "- 'nb_op_rej_dar_nn_paye_cons': nombre d operations rejetées (dépassement autorisation découvert)\n",
        "- 'MNT_MVT_DEB_MOIS_max': Montant mouvement compte débiteur, parmis tous ses comptes a vue\n",
        "- 'sld_moy_net_sum': somme soldes moyens sur tous les cav\n",
        "- 'ratio_imp_enc': ratio impayés/encours\n",
        "- 'somme_epar_MVT_CR_MOIS': somme des mouvements créditeurs sur comptes éparges\n",
        "- 'somme_epar_encours': sommes comptes épargnes encours\n",
        "- 'duree_app': nombre de jours depuis la prévension (en suveillance)\n",
        "- 'anc_rel: ancienneté de la relation"
      ],
      "metadata": {}
    },
    {
      "cell_type": "code",
      "source": [
        "path  = 'https://sgithub.fr.world.socgen/X196663/Introduction_Python/blob/' \\\n",
        "'master/Data/base_modelisation.gz?raw=true'\n",
        "\n",
        "df = (pd.read_csv('base_modelisation.csv',\n",
        "                  compression='gzip',\n",
        "                  parse_dates=['DAT_ANNEE_MOIS'],\n",
        "                  #index_col=['numpers',\n",
        "                  #           'DAT_ANNEE_MOIS']\n",
        "                 )\n",
        "      .drop(columns='Unnamed: 0')\n",
        "      .assign(month = lambda x: x[\"DAT_ANNEE_MOIS\"].dt.month,\n",
        "              year = lambda x: x[\"DAT_ANNEE_MOIS\"].dt.year,\n",
        "              month_year = lambda x: x[\"DAT_ANNEE_MOIS\"].dt.strftime('%m-%Y'),\n",
        "             )\n",
        "      .sort_values(by = ['numpers', 'DAT_ANNEE_MOIS'])\n",
        "      .set_index(['numpers',\n",
        "                  #'DAT_ANNEE_MOIS',\n",
        "                  #'month_year','year','month'\n",
        "                 ])\n",
        "      \n",
        "     )\n",
        "df.head()"
      ],
      "outputs": [],
      "execution_count": null,
      "metadata": {
        "ExecuteTime": {
          "end_time": "2019-10-30T15:39:33.142384Z",
          "start_time": "2019-10-30T15:39:21.781986Z"
        }
      }
    },
    {
      "cell_type": "markdown",
      "source": [
        "## Nombre de jours entre deux selections"
      ],
      "metadata": {}
    },
    {
      "cell_type": "code",
      "source": [
        "df = pd.concat(\n",
        "    [\n",
        "        (df\n",
        "         .groupby(level = 0)['DAT_ANNEE_MOIS']\n",
        "         .diff()\n",
        "         .rename('days_diff_quarter')\n",
        "         .dt\n",
        "         .days/120),\n",
        "        df\n",
        "    ],\n",
        "    axis = 1\n",
        ")"
      ],
      "outputs": [],
      "execution_count": null,
      "metadata": {
        "ExecuteTime": {
          "end_time": "2019-10-30T15:46:29.631163Z",
          "start_time": "2019-10-30T15:42:18.161335Z"
        }
      }
    },
    {
      "cell_type": "code",
      "source": [
        "df.head()"
      ],
      "outputs": [],
      "execution_count": null,
      "metadata": {
        "ExecuteTime": {
          "end_time": "2019-10-30T15:04:27.773681Z",
          "start_time": "2019-10-30T15:04:27.749393Z"
        }
      }
    },
    {
      "cell_type": "code",
      "source": [
        "df.describe()"
      ],
      "outputs": [],
      "execution_count": null,
      "metadata": {
        "ExecuteTime": {
          "end_time": "2019-10-30T15:47:34.130026Z",
          "start_time": "2019-10-30T15:47:33.374167Z"
        }
      }
    },
    {
      "cell_type": "markdown",
      "source": [
        "## Multi indexation Pandas\n",
        "\n",
        "La multi indexation dans Pandas permet de faire de la minupulation de la data et des calcules assez simplement.\n",
        "\n",
        "Tout d'abords, nous pouvons constater que les variables `numpers` et `DAT_ANNEE_MOIS` sont en index. Autrement dit, ses deux variables représentent les identifiants"
      ],
      "metadata": {}
    },
    {
      "cell_type": "code",
      "source": [
        "## Nombre unique individu\n",
        "df.reset_index().groupby('numpers')['numpers'].nunique().sum()"
      ],
      "outputs": [],
      "execution_count": null,
      "metadata": {
        "ExecuteTime": {
          "end_time": "2019-10-30T15:48:09.765730Z",
          "start_time": "2019-10-30T15:48:07.951276Z"
        }
      }
    },
    {
      "cell_type": "code",
      "source": [
        "(df\n",
        " .groupby(level = [0])['top_def_12_mois']\n",
        " .count()\n",
        " .reset_index(name = 'count')\n",
        " .groupby('count')\n",
        " .count()\n",
        " #.plot\n",
        " #.barh()\n",
        ")"
      ],
      "outputs": [],
      "execution_count": null,
      "metadata": {
        "ExecuteTime": {
          "end_time": "2019-10-30T15:49:21.052287Z",
          "start_time": "2019-10-30T15:49:19.962070Z"
        }
      }
    },
    {
      "cell_type": "markdown",
      "source": [
        "## Nombre de quarters entre deux selections\n",
        "\n",
        "1. Recuperer la liste des multis ID\n",
        "2 Selectionner les multis ID\n",
        "3. Calcule les averages quarters par nombre d'occurence"
      ],
      "metadata": {}
    },
    {
      "cell_type": "code",
      "source": [
        "import numpy as np"
      ],
      "outputs": [],
      "execution_count": null,
      "metadata": {
        "ExecuteTime": {
          "end_time": "2019-10-30T15:49:48.157217Z",
          "start_time": "2019-10-30T15:49:48.153745Z"
        }
      }
    },
    {
      "cell_type": "code",
      "source": [
        "multi = (df\n",
        " .groupby(level = [0])['top_def_12_mois']\n",
        " .count()\n",
        " .loc[lambda x : x > 1]\n",
        " .index\n",
        ")\n",
        "\n",
        "multi"
      ],
      "outputs": [],
      "execution_count": null,
      "metadata": {
        "ExecuteTime": {
          "end_time": "2019-10-30T15:50:15.674284Z",
          "start_time": "2019-10-30T15:50:14.554679Z"
        }
      }
    },
    {
      "cell_type": "code",
      "source": [
        "df_multi = df.loc[lambda x: (x.index.isin(multi)) & \n",
        "                 (x[\"days_diff_quarter\"].notna())]\n",
        "\n",
        "df_multi.head()"
      ],
      "outputs": [],
      "execution_count": null,
      "metadata": {
        "ExecuteTime": {
          "end_time": "2019-10-30T15:51:00.138278Z",
          "start_time": "2019-10-30T15:50:59.797358Z"
        }
      }
    },
    {
      "cell_type": "code",
      "source": [
        "(df_multi\n",
        " .groupby(['month_year'])['days_diff_quarter']\n",
        " .agg(['count' ,np.mean, np.max]\n",
        " )\n",
        ")"
      ],
      "outputs": [],
      "execution_count": null,
      "metadata": {
        "ExecuteTime": {
          "end_time": "2019-10-30T15:51:51.628297Z",
          "start_time": "2019-10-30T15:51:51.561833Z"
        }
      }
    },
    {
      "cell_type": "markdown",
      "source": [
        "## Basic filling operation\n",
        "\n",
        "Pour chaque individu, on crée les dates manquantes. Les nouvelles dates vont etre remplies de nan. Une possibilité peut etre de calculer la moyenne des MNT_MVT_DEB_MOIS_max par mois, et on remplit les nan par cette moyenne..\n",
        "\n",
        "On va faire une approche step by step puis dans un second temps, une approche par chain"
      ],
      "metadata": {}
    },
    {
      "cell_type": "markdown",
      "source": [
        "### Step by Step\n",
        "\n",
        "1)  multi index"
      ],
      "metadata": {}
    },
    {
      "cell_type": "code",
      "source": [
        "step1 = df_multi.set_index('month_year',append=True)['MNT_MVT_DEB_MOIS_max']\n",
        "step1.head()"
      ],
      "outputs": [],
      "execution_count": null,
      "metadata": {
        "ExecuteTime": {
          "end_time": "2019-10-30T15:04:33.381482Z",
          "start_time": "2019-10-30T15:04:33.045161Z"
        }
      }
    },
    {
      "cell_type": "markdown",
      "source": [
        "2)  Création des nouvelles dates pour tout le monde"
      ],
      "metadata": {}
    },
    {
      "cell_type": "code",
      "source": [
        "step2 = step1.unstack(-1)\n",
        "step2.head()"
      ],
      "outputs": [],
      "execution_count": null,
      "metadata": {
        "ExecuteTime": {
          "end_time": "2019-10-30T15:04:33.515450Z",
          "start_time": "2019-10-30T15:04:33.384921Z"
        }
      }
    },
    {
      "cell_type": "markdown",
      "source": [
        "3) Reshape les colonnes en ligne en vue du remplissage"
      ],
      "metadata": {}
    },
    {
      "cell_type": "code",
      "source": [
        "step3 = step2.stack(dropna = False)\n",
        "step3.head()"
      ],
      "outputs": [],
      "execution_count": null,
      "metadata": {
        "ExecuteTime": {
          "end_time": "2019-10-30T15:04:33.616159Z",
          "start_time": "2019-10-30T15:04:33.519833Z"
        }
      }
    },
    {
      "cell_type": "markdown",
      "source": [
        "4) Remplissage avec la moyenne mensuelle"
      ],
      "metadata": {}
    },
    {
      "cell_type": "code",
      "source": [
        "step4 = step3.groupby(level = 1).apply(lambda x: x.fillna(x.mean()))\n",
        "step4.head()"
      ],
      "outputs": [],
      "execution_count": null,
      "metadata": {
        "ExecuteTime": {
          "end_time": "2019-10-30T15:04:34.721281Z",
          "start_time": "2019-10-30T15:04:33.618040Z"
        }
      }
    },
    {
      "cell_type": "markdown",
      "source": [
        "### Chaining approach"
      ],
      "metadata": {}
    },
    {
      "cell_type": "code",
      "source": [
        "(df_multi\n",
        " .set_index('month_year',append=True)['MNT_MVT_DEB_MOIS_max']\n",
        " .unstack(-1)\n",
        " .stack(dropna = False)\n",
        " .groupby(level = 1)\n",
        " .apply(lambda x: x.fillna(x.mean()))\n",
        ").head()"
      ],
      "outputs": [],
      "execution_count": null,
      "metadata": {
        "ExecuteTime": {
          "end_time": "2019-10-30T15:04:36.473056Z",
          "start_time": "2019-10-30T15:04:34.723623Z"
        }
      }
    },
    {
      "cell_type": "markdown",
      "source": [
        "## Basic summary stat"
      ],
      "metadata": {}
    },
    {
      "cell_type": "code",
      "source": [
        "df.groupby(['month_year']).agg([np.mean, np.std]).T"
      ],
      "outputs": [],
      "execution_count": null,
      "metadata": {
        "ExecuteTime": {
          "end_time": "2019-10-30T15:04:37.031276Z",
          "start_time": "2019-10-30T15:04:36.476026Z"
        }
      }
    },
    {
      "cell_type": "code",
      "source": [
        "(df\n",
        " .groupby(['month_year'])['sld_moy_net_sum']\n",
        " .agg([np.mean, np.std, np.min, np.max])\n",
        " .style\n",
        " .bar( color='#d65f5f')\n",
        ")"
      ],
      "outputs": [],
      "execution_count": null,
      "metadata": {
        "ExecuteTime": {
          "end_time": "2019-10-30T15:04:37.243426Z",
          "start_time": "2019-10-30T15:04:37.033494Z"
        }
      }
    },
    {
      "cell_type": "markdown",
      "source": [
        "## Export Excel avec Styling"
      ],
      "metadata": {}
    },
    {
      "cell_type": "code",
      "source": [
        "def color_negative_red(val):\n",
        "    \"\"\"\n",
        "    Takes a scalar and returns a string with\n",
        "    the css property `'color: red'` for negative\n",
        "    strings, black otherwise.\n",
        "    \"\"\"\n",
        "    color = 'red' if val < 0 else 'black'\n",
        "    return 'color: %s' % color\n",
        "\n",
        "def highlight_max(s):\n",
        "    '''\n",
        "    highlight the maximum in a Series yellow.\n",
        "    '''\n",
        "    is_max = s == s.max()\n",
        "    return ['background-color: yellow' if v else '' for v in is_max]"
      ],
      "outputs": [],
      "execution_count": null,
      "metadata": {
        "ExecuteTime": {
          "end_time": "2019-10-30T15:53:03.663271Z",
          "start_time": "2019-10-30T15:53:03.655881Z"
        }
      }
    },
    {
      "cell_type": "code",
      "source": [
        "(df\n",
        " .groupby(['month_year'])['sld_moy_net_sum']\n",
        " .agg([np.mean, np.std, np.min, np.max])\n",
        " .style.\\\n",
        "    applymap(color_negative_red).\\\n",
        "    apply(highlight_max).\\\n",
        "    to_excel('styled.xlsx', engine='openpyxl')\n",
        ")"
      ],
      "outputs": [],
      "execution_count": null,
      "metadata": {
        "ExecuteTime": {
          "end_time": "2019-10-30T15:54:22.857041Z",
          "start_time": "2019-10-30T15:54:22.686880Z"
        }
      }
    },
    {
      "cell_type": "markdown",
      "source": [
        "## Library `xlwings`"
      ],
      "metadata": {}
    },
    {
      "cell_type": "code",
      "source": [
        "import xlwings as xw\n",
        "import seaborn as sns"
      ],
      "outputs": [],
      "execution_count": null,
      "metadata": {
        "ExecuteTime": {
          "end_time": "2019-10-30T15:55:12.098335Z",
          "start_time": "2019-10-30T15:55:12.094368Z"
        }
      }
    },
    {
      "cell_type": "code",
      "source": [
        "wb = xw.Book('styled.xlsx')\n",
        "sht = wb.sheets['Sheet1']"
      ],
      "outputs": [],
      "execution_count": null,
      "metadata": {
        "ExecuteTime": {
          "end_time": "2019-10-30T15:57:08.444935Z",
          "start_time": "2019-10-30T15:57:08.421096Z"
        }
      }
    },
    {
      "cell_type": "code",
      "source": [
        "sht.range('A10').value = df[:10]"
      ],
      "outputs": [],
      "execution_count": null,
      "metadata": {
        "ExecuteTime": {
          "end_time": "2019-10-30T15:55:55.268630Z",
          "start_time": "2019-10-30T15:55:55.030055Z"
        }
      }
    },
    {
      "cell_type": "code",
      "source": [
        "df_test = (df\n",
        " .loc[lambda x : (x['sld_moy_net_sum'] > 0) &\n",
        "      (x['somme_epar_MVT_CR_MOIS'] > 0)]\n",
        " .assign(ln_revenue = lambda x :x[\"sld_moy_net_sum\"] *100,\n",
        "          ln_saving = lambda x :x[\"somme_epar_MVT_CR_MOIS\"],\n",
        "         )\n",
        ")\n",
        "df_test"
      ],
      "outputs": [],
      "execution_count": null,
      "metadata": {
        "ExecuteTime": {
          "end_time": "2019-10-30T15:58:45.450470Z",
          "start_time": "2019-10-30T15:58:45.358215Z"
        }
      }
    },
    {
      "cell_type": "markdown",
      "source": [
        "Export graph to Excel"
      ],
      "metadata": {}
    },
    {
      "cell_type": "code",
      "source": [
        "import matplotlib.pyplot as plt\n",
        "ax = sns.scatterplot(x=\"ln_revenue\",\n",
        "                     y=\"ln_saving\",\n",
        "                     data=df_test)\n",
        "\n",
        "fig = ax.get_figure()\n",
        "\n",
        "sht.pictures.add(fig, name='MyPlot', update=True)"
      ],
      "outputs": [],
      "execution_count": null,
      "metadata": {
        "ExecuteTime": {
          "end_time": "2019-10-30T15:58:50.452658Z",
          "start_time": "2019-10-30T15:58:47.508421Z"
        }
      }
    },
    {
      "cell_type": "markdown",
      "source": [
        "Import Excel to Pandas"
      ],
      "metadata": {}
    },
    {
      "cell_type": "code",
      "source": [
        "pd.DataFrame(xw.Range(xw.Range('A11'), xw.Range('O20')).value,\n",
        "            columns = xw.Range(xw.Range('A10'), xw.Range('O10')).value)"
      ],
      "outputs": [],
      "execution_count": null,
      "metadata": {
        "ExecuteTime": {
          "end_time": "2019-10-30T15:59:22.963894Z",
          "start_time": "2019-10-30T15:59:22.728787Z"
        }
      }
    }
  ],
  "metadata": {
    "kernelspec": {
      "name": "python3",
      "language": "python",
      "display_name": "Python 3"
    },
    "language_info": {
      "name": "python",
      "version": "3.7.4",
      "mimetype": "text/x-python",
      "codemirror_mode": {
        "name": "ipython",
        "version": 3
      },
      "pygments_lexer": "ipython3",
      "nbconvert_exporter": "python",
      "file_extension": ".py"
    },
    "toc": {
      "toc_position": {
        "height": "calc(100% - 180px)",
        "left": "10px",
        "top": "150px",
        "width": "304px"
      },
      "skip_h1_title": false,
      "number_sections": true,
      "title_cell": "Table of Contents",
      "toc_window_display": false,
      "base_numbering": 1,
      "toc_section_display": true,
      "title_sidebar": "Contents",
      "toc_cell": false,
      "nav_menu": {},
      "sideBar": true
    },
    "kernel_info": {
      "name": "python3"
    },
    "nteract": {
      "version": "0.15.0"
    }
  },
  "nbformat": 4,
  "nbformat_minor": 4
}