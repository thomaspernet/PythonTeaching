{
 "cells": [
  {
   "cell_type": "markdown",
   "metadata": {
    "Collapsed": "false"
   },
   "source": [
    "# Real world Data\n",
    "\n",
    "In this dataset, we have the production of a numerous amount of Chinese firm by city and industry. In order the create a balanced panel at the city-industry-year level, we need to create a squared matrix. It means, we need to have a dataframe with all the industries available by city and year. \n",
    "\n",
    "## Objective:\n",
    "\n",
    "- Create a balanced panel data"
   ]
  },
  {
   "cell_type": "code",
   "execution_count": 1,
   "metadata": {
    "Collapsed": "false"
   },
   "outputs": [],
   "source": [
    "import pandas as pd"
   ]
  },
  {
   "cell_type": "code",
   "execution_count": 2,
   "metadata": {
    "Collapsed": "false"
   },
   "outputs": [
    {
     "data": {
      "text/plain": [
       "(63907, 6)"
      ]
     },
     "execution_count": 2,
     "metadata": {},
     "output_type": "execute_result"
    }
   ],
   "source": [
    "df = pd.read_csv(\"dataPandasClass_china.gz\")\n",
    "df.shape"
   ]
  },
  {
   "cell_type": "code",
   "execution_count": 3,
   "metadata": {
    "Collapsed": "false"
   },
   "outputs": [
    {
     "data": {
      "text/html": [
       "<div>\n",
       "<style scoped>\n",
       "    .dataframe tbody tr th:only-of-type {\n",
       "        vertical-align: middle;\n",
       "    }\n",
       "\n",
       "    .dataframe tbody tr th {\n",
       "        vertical-align: top;\n",
       "    }\n",
       "\n",
       "    .dataframe thead th {\n",
       "        text-align: right;\n",
       "    }\n",
       "</style>\n",
       "<table border=\"1\" class=\"dataframe\">\n",
       "  <thead>\n",
       "    <tr style=\"text-align: right;\">\n",
       "      <th></th>\n",
       "      <th>year</th>\n",
       "      <th>geocode4_corr</th>\n",
       "      <th>cityen</th>\n",
       "      <th>SOE</th>\n",
       "      <th>indu_2</th>\n",
       "      <th>output</th>\n",
       "    </tr>\n",
       "  </thead>\n",
       "  <tbody>\n",
       "    <tr>\n",
       "      <td>0</td>\n",
       "      <td>2002</td>\n",
       "      <td>1101</td>\n",
       "      <td>Beijing</td>\n",
       "      <td>Private</td>\n",
       "      <td>13</td>\n",
       "      <td>3318123.0</td>\n",
       "    </tr>\n",
       "    <tr>\n",
       "      <td>1</td>\n",
       "      <td>2002</td>\n",
       "      <td>1101</td>\n",
       "      <td>Beijing</td>\n",
       "      <td>Private</td>\n",
       "      <td>14</td>\n",
       "      <td>4805891.0</td>\n",
       "    </tr>\n",
       "    <tr>\n",
       "      <td>2</td>\n",
       "      <td>2002</td>\n",
       "      <td>1101</td>\n",
       "      <td>Beijing</td>\n",
       "      <td>Private</td>\n",
       "      <td>15</td>\n",
       "      <td>3997092.0</td>\n",
       "    </tr>\n",
       "    <tr>\n",
       "      <td>3</td>\n",
       "      <td>2002</td>\n",
       "      <td>1101</td>\n",
       "      <td>Beijing</td>\n",
       "      <td>Private</td>\n",
       "      <td>17</td>\n",
       "      <td>2743933.0</td>\n",
       "    </tr>\n",
       "    <tr>\n",
       "      <td>4</td>\n",
       "      <td>2002</td>\n",
       "      <td>1101</td>\n",
       "      <td>Beijing</td>\n",
       "      <td>Private</td>\n",
       "      <td>18</td>\n",
       "      <td>3797050.0</td>\n",
       "    </tr>\n",
       "  </tbody>\n",
       "</table>\n",
       "</div>"
      ],
      "text/plain": [
       "   year  geocode4_corr   cityen      SOE  indu_2     output\n",
       "0  2002           1101  Beijing  Private      13  3318123.0\n",
       "1  2002           1101  Beijing  Private      14  4805891.0\n",
       "2  2002           1101  Beijing  Private      15  3997092.0\n",
       "3  2002           1101  Beijing  Private      17  2743933.0\n",
       "4  2002           1101  Beijing  Private      18  3797050.0"
      ]
     },
     "execution_count": 3,
     "metadata": {},
     "output_type": "execute_result"
    }
   ],
   "source": [
    "df.head()"
   ]
  },
  {
   "cell_type": "code",
   "execution_count": 21,
   "metadata": {
    "Collapsed": "false"
   },
   "outputs": [
    {
     "data": {
      "text/plain": [
       "270"
      ]
     },
     "execution_count": 21,
     "metadata": {},
     "output_type": "execute_result"
    }
   ],
   "source": [
    "df['cityen'].nunique()"
   ]
  },
  {
   "cell_type": "code",
   "execution_count": 23,
   "metadata": {
    "Collapsed": "false"
   },
   "outputs": [
    {
     "data": {
      "text/plain": [
       "7"
      ]
     },
     "execution_count": 23,
     "metadata": {},
     "output_type": "execute_result"
    }
   ],
   "source": [
    "df['year'].nunique()"
   ]
  },
  {
   "cell_type": "code",
   "execution_count": 24,
   "metadata": {
    "Collapsed": "false"
   },
   "outputs": [
    {
     "data": {
      "text/plain": [
       "29"
      ]
     },
     "execution_count": 24,
     "metadata": {},
     "output_type": "execute_result"
    }
   ],
   "source": [
    "df['indu_2'].nunique()"
   ]
  },
  {
   "cell_type": "code",
   "execution_count": 25,
   "metadata": {
    "Collapsed": "false"
   },
   "outputs": [
    {
     "data": {
      "text/plain": [
       "109620"
      ]
     },
     "execution_count": 25,
     "metadata": {},
     "output_type": "execute_result"
    }
   ],
   "source": [
    "7 * 270 * 29 * 2"
   ]
  },
  {
   "cell_type": "code",
   "execution_count": 14,
   "metadata": {
    "Collapsed": "false"
   },
   "outputs": [
    {
     "data": {
      "text/plain": [
       "array(['Private', 'SOE'], dtype=object)"
      ]
     },
     "execution_count": 14,
     "metadata": {},
     "output_type": "execute_result"
    }
   ],
   "source": [
    "df['SOE'].unique()"
   ]
  },
  {
   "cell_type": "code",
   "execution_count": 15,
   "metadata": {
    "Collapsed": "false"
   },
   "outputs": [
    {
     "data": {
      "text/html": [
       "<div>\n",
       "<style scoped>\n",
       "    .dataframe tbody tr th:only-of-type {\n",
       "        vertical-align: middle;\n",
       "    }\n",
       "\n",
       "    .dataframe tbody tr th {\n",
       "        vertical-align: top;\n",
       "    }\n",
       "\n",
       "    .dataframe thead th {\n",
       "        text-align: right;\n",
       "    }\n",
       "</style>\n",
       "<table border=\"1\" class=\"dataframe\">\n",
       "  <thead>\n",
       "    <tr style=\"text-align: right;\">\n",
       "      <th></th>\n",
       "      <th>year</th>\n",
       "      <th>geocode4_corr</th>\n",
       "      <th>cityen</th>\n",
       "      <th>SOE</th>\n",
       "      <th>indu_2</th>\n",
       "      <th>output</th>\n",
       "    </tr>\n",
       "  </thead>\n",
       "  <tbody>\n",
       "    <tr>\n",
       "      <td>9506</td>\n",
       "      <td>2002</td>\n",
       "      <td>6109</td>\n",
       "      <td>Ankang</td>\n",
       "      <td>SOE</td>\n",
       "      <td>13</td>\n",
       "      <td>12914.0</td>\n",
       "    </tr>\n",
       "    <tr>\n",
       "      <td>9497</td>\n",
       "      <td>2002</td>\n",
       "      <td>6109</td>\n",
       "      <td>Ankang</td>\n",
       "      <td>Private</td>\n",
       "      <td>14</td>\n",
       "      <td>28768.0</td>\n",
       "    </tr>\n",
       "    <tr>\n",
       "      <td>9507</td>\n",
       "      <td>2002</td>\n",
       "      <td>6109</td>\n",
       "      <td>Ankang</td>\n",
       "      <td>SOE</td>\n",
       "      <td>14</td>\n",
       "      <td>0.0</td>\n",
       "    </tr>\n",
       "    <tr>\n",
       "      <td>9508</td>\n",
       "      <td>2002</td>\n",
       "      <td>6109</td>\n",
       "      <td>Ankang</td>\n",
       "      <td>SOE</td>\n",
       "      <td>15</td>\n",
       "      <td>522.0</td>\n",
       "    </tr>\n",
       "    <tr>\n",
       "      <td>9509</td>\n",
       "      <td>2002</td>\n",
       "      <td>6109</td>\n",
       "      <td>Ankang</td>\n",
       "      <td>SOE</td>\n",
       "      <td>16</td>\n",
       "      <td>475935.0</td>\n",
       "    </tr>\n",
       "  </tbody>\n",
       "</table>\n",
       "</div>"
      ],
      "text/plain": [
       "      year  geocode4_corr  cityen      SOE  indu_2    output\n",
       "9506  2002           6109  Ankang      SOE      13   12914.0\n",
       "9497  2002           6109  Ankang  Private      14   28768.0\n",
       "9507  2002           6109  Ankang      SOE      14       0.0\n",
       "9508  2002           6109  Ankang      SOE      15     522.0\n",
       "9509  2002           6109  Ankang      SOE      16  475935.0"
      ]
     },
     "execution_count": 15,
     "metadata": {},
     "output_type": "execute_result"
    }
   ],
   "source": [
    "df.sort_values(['year', 'cityen', 'indu_2', 'SOE']).head()"
   ]
  },
  {
   "cell_type": "code",
   "execution_count": 16,
   "metadata": {
    "Collapsed": "false"
   },
   "outputs": [],
   "source": [
    "to_group_reshape = [\n",
    "\n",
    "    'cityen',\n",
    "    'year', 'indu_2', 'SOE'\n",
    "]"
   ]
  },
  {
   "cell_type": "code",
   "execution_count": 17,
   "metadata": {
    "Collapsed": "false"
   },
   "outputs": [
    {
     "data": {
      "text/html": [
       "<div>\n",
       "<style scoped>\n",
       "    .dataframe tbody tr th:only-of-type {\n",
       "        vertical-align: middle;\n",
       "    }\n",
       "\n",
       "    .dataframe tbody tr th {\n",
       "        vertical-align: top;\n",
       "    }\n",
       "\n",
       "    .dataframe thead th {\n",
       "        text-align: right;\n",
       "    }\n",
       "</style>\n",
       "<table border=\"1\" class=\"dataframe\">\n",
       "  <thead>\n",
       "    <tr style=\"text-align: right;\">\n",
       "      <th></th>\n",
       "      <th>year</th>\n",
       "      <th>cityen</th>\n",
       "      <th>SOE</th>\n",
       "      <th>indu_2</th>\n",
       "      <th>output</th>\n",
       "    </tr>\n",
       "  </thead>\n",
       "  <tbody>\n",
       "    <tr>\n",
       "      <td>0</td>\n",
       "      <td>2002</td>\n",
       "      <td>Beijing</td>\n",
       "      <td>Private</td>\n",
       "      <td>13</td>\n",
       "      <td>3318123.0</td>\n",
       "    </tr>\n",
       "    <tr>\n",
       "      <td>1</td>\n",
       "      <td>2002</td>\n",
       "      <td>Beijing</td>\n",
       "      <td>Private</td>\n",
       "      <td>14</td>\n",
       "      <td>4805891.0</td>\n",
       "    </tr>\n",
       "    <tr>\n",
       "      <td>2</td>\n",
       "      <td>2002</td>\n",
       "      <td>Beijing</td>\n",
       "      <td>Private</td>\n",
       "      <td>15</td>\n",
       "      <td>3997092.0</td>\n",
       "    </tr>\n",
       "    <tr>\n",
       "      <td>3</td>\n",
       "      <td>2002</td>\n",
       "      <td>Beijing</td>\n",
       "      <td>Private</td>\n",
       "      <td>17</td>\n",
       "      <td>2743933.0</td>\n",
       "    </tr>\n",
       "    <tr>\n",
       "      <td>4</td>\n",
       "      <td>2002</td>\n",
       "      <td>Beijing</td>\n",
       "      <td>Private</td>\n",
       "      <td>18</td>\n",
       "      <td>3797050.0</td>\n",
       "    </tr>\n",
       "  </tbody>\n",
       "</table>\n",
       "</div>"
      ],
      "text/plain": [
       "   year   cityen      SOE  indu_2     output\n",
       "0  2002  Beijing  Private      13  3318123.0\n",
       "1  2002  Beijing  Private      14  4805891.0\n",
       "2  2002  Beijing  Private      15  3997092.0\n",
       "3  2002  Beijing  Private      17  2743933.0\n",
       "4  2002  Beijing  Private      18  3797050.0"
      ]
     },
     "execution_count": 17,
     "metadata": {},
     "output_type": "execute_result"
    }
   ],
   "source": [
    "df_drop = df.drop(columns = 'geocode4_corr')\n",
    "df_drop.head()"
   ]
  },
  {
   "cell_type": "code",
   "execution_count": 27,
   "metadata": {
    "Collapsed": "false"
   },
   "outputs": [
    {
     "data": {
      "text/html": [
       "<div>\n",
       "<style scoped>\n",
       "    .dataframe tbody tr th:only-of-type {\n",
       "        vertical-align: middle;\n",
       "    }\n",
       "\n",
       "    .dataframe tbody tr th {\n",
       "        vertical-align: top;\n",
       "    }\n",
       "\n",
       "    .dataframe thead th {\n",
       "        text-align: right;\n",
       "    }\n",
       "</style>\n",
       "<table border=\"1\" class=\"dataframe\">\n",
       "  <thead>\n",
       "    <tr style=\"text-align: right;\">\n",
       "      <th></th>\n",
       "      <th></th>\n",
       "      <th></th>\n",
       "      <th></th>\n",
       "      <th>output</th>\n",
       "    </tr>\n",
       "    <tr>\n",
       "      <th>cityen</th>\n",
       "      <th>indu_2</th>\n",
       "      <th>SOE</th>\n",
       "      <th>year</th>\n",
       "      <th></th>\n",
       "    </tr>\n",
       "  </thead>\n",
       "  <tbody>\n",
       "    <tr>\n",
       "      <td rowspan=\"5\" valign=\"top\">Ankang</td>\n",
       "      <td rowspan=\"5\" valign=\"top\">13</td>\n",
       "      <td rowspan=\"5\" valign=\"top\">Private</td>\n",
       "      <td>2002</td>\n",
       "      <td>0.0</td>\n",
       "    </tr>\n",
       "    <tr>\n",
       "      <td>2003</td>\n",
       "      <td>73235.0</td>\n",
       "    </tr>\n",
       "    <tr>\n",
       "      <td>2004</td>\n",
       "      <td>144069.0</td>\n",
       "    </tr>\n",
       "    <tr>\n",
       "      <td>2005</td>\n",
       "      <td>193215.0</td>\n",
       "    </tr>\n",
       "    <tr>\n",
       "      <td>2006</td>\n",
       "      <td>265348.0</td>\n",
       "    </tr>\n",
       "    <tr>\n",
       "      <td>...</td>\n",
       "      <td>...</td>\n",
       "      <td>...</td>\n",
       "      <td>...</td>\n",
       "      <td>...</td>\n",
       "    </tr>\n",
       "    <tr>\n",
       "      <td rowspan=\"5\" valign=\"top\">Zunyi</td>\n",
       "      <td rowspan=\"5\" valign=\"top\">42</td>\n",
       "      <td rowspan=\"5\" valign=\"top\">SOE</td>\n",
       "      <td>2004</td>\n",
       "      <td>279099.0</td>\n",
       "    </tr>\n",
       "    <tr>\n",
       "      <td>2005</td>\n",
       "      <td>143177.0</td>\n",
       "    </tr>\n",
       "    <tr>\n",
       "      <td>2006</td>\n",
       "      <td>168620.0</td>\n",
       "    </tr>\n",
       "    <tr>\n",
       "      <td>2007</td>\n",
       "      <td>149810.0</td>\n",
       "    </tr>\n",
       "    <tr>\n",
       "      <td>2008</td>\n",
       "      <td>0.0</td>\n",
       "    </tr>\n",
       "  </tbody>\n",
       "</table>\n",
       "<p>83531 rows × 1 columns</p>\n",
       "</div>"
      ],
      "text/plain": [
       "                              output\n",
       "cityen indu_2 SOE     year          \n",
       "Ankang 13     Private 2002       0.0\n",
       "                      2003   73235.0\n",
       "                      2004  144069.0\n",
       "                      2005  193215.0\n",
       "                      2006  265348.0\n",
       "...                              ...\n",
       "Zunyi  42     SOE     2004  279099.0\n",
       "                      2005  143177.0\n",
       "                      2006  168620.0\n",
       "                      2007  149810.0\n",
       "                      2008       0.0\n",
       "\n",
       "[83531 rows x 1 columns]"
      ]
     },
     "execution_count": 27,
     "metadata": {},
     "output_type": "execute_result"
    }
   ],
   "source": [
    "df_drop.pivot_table(index = ['cityen', 'indu_2', 'SOE'],\n",
    "         columns ='year',\n",
    "         #values = 'output'\n",
    "        ).fillna(0).stack()"
   ]
  },
  {
   "cell_type": "code",
   "execution_count": null,
   "metadata": {
    "Collapsed": "false"
   },
   "outputs": [],
   "source": [
    "df_drop.to_csv('test.csv')"
   ]
  },
  {
   "cell_type": "code",
   "execution_count": 9,
   "metadata": {
    "Collapsed": "false"
   },
   "outputs": [
    {
     "data": {
      "text/html": [
       "<div>\n",
       "<style scoped>\n",
       "    .dataframe tbody tr th:only-of-type {\n",
       "        vertical-align: middle;\n",
       "    }\n",
       "\n",
       "    .dataframe tbody tr th {\n",
       "        vertical-align: top;\n",
       "    }\n",
       "\n",
       "    .dataframe thead th {\n",
       "        text-align: right;\n",
       "    }\n",
       "</style>\n",
       "<table border=\"1\" class=\"dataframe\">\n",
       "  <thead>\n",
       "    <tr style=\"text-align: right;\">\n",
       "      <th></th>\n",
       "      <th>indu_2</th>\n",
       "      <th>SOE</th>\n",
       "      <th>year</th>\n",
       "      <th>output</th>\n",
       "    </tr>\n",
       "  </thead>\n",
       "  <tbody>\n",
       "    <tr>\n",
       "      <td>0</td>\n",
       "      <td>13</td>\n",
       "      <td>Private</td>\n",
       "      <td>2002</td>\n",
       "      <td>NaN</td>\n",
       "    </tr>\n",
       "    <tr>\n",
       "      <td>1</td>\n",
       "      <td>13</td>\n",
       "      <td>Private</td>\n",
       "      <td>2003</td>\n",
       "      <td>0.327197</td>\n",
       "    </tr>\n",
       "    <tr>\n",
       "      <td>2</td>\n",
       "      <td>13</td>\n",
       "      <td>Private</td>\n",
       "      <td>2004</td>\n",
       "      <td>0.411001</td>\n",
       "    </tr>\n",
       "    <tr>\n",
       "      <td>3</td>\n",
       "      <td>13</td>\n",
       "      <td>Private</td>\n",
       "      <td>2005</td>\n",
       "      <td>0.284361</td>\n",
       "    </tr>\n",
       "    <tr>\n",
       "      <td>4</td>\n",
       "      <td>13</td>\n",
       "      <td>Private</td>\n",
       "      <td>2006</td>\n",
       "      <td>0.247106</td>\n",
       "    </tr>\n",
       "  </tbody>\n",
       "</table>\n",
       "</div>"
      ],
      "text/plain": [
       "   indu_2      SOE  year    output\n",
       "0      13  Private  2002       NaN\n",
       "1      13  Private  2003  0.327197\n",
       "2      13  Private  2004  0.411001\n",
       "3      13  Private  2005  0.284361\n",
       "4      13  Private  2006  0.247106"
      ]
     },
     "execution_count": 9,
     "metadata": {},
     "output_type": "execute_result"
    }
   ],
   "source": [
    "df_perc = (df_drop\n",
    "           .groupby(['indu_2', 'SOE',  'year'])\n",
    "           .sum()\n",
    "           .groupby(level = [0, 1])\n",
    "           .pct_change().reset_index()\n",
    "          )\n",
    "#).stack()\n",
    "df_perc.head()"
   ]
  },
  {
   "cell_type": "code",
   "execution_count": null,
   "metadata": {
    "Collapsed": "false"
   },
   "outputs": [],
   "source": [
    "import seaborn as sns"
   ]
  },
  {
   "cell_type": "code",
   "execution_count": null,
   "metadata": {
    "Collapsed": "false"
   },
   "outputs": [],
   "source": [
    "sns.catplot(x=\"year\",\n",
    "            y=\"output\",\n",
    "            col=\"indu_2\",\n",
    "            data=df_perc.loc[lambda x:x['SOE'] == 'SOE'], \n",
    "            kind=\"bar\",\n",
    "            col_wrap=5,\n",
    "           )"
   ]
  },
  {
   "cell_type": "code",
   "execution_count": null,
   "metadata": {
    "Collapsed": "false"
   },
   "outputs": [],
   "source": [
    "sns.catplot(x=\"SOE\",\n",
    "            y=\"output\",\n",
    "            col=\"indu_2\",\n",
    "            hue = 'year',\n",
    "            data=df_perc, \n",
    "            kind=\"bar\",\n",
    "            col_wrap=5,\n",
    "           )"
   ]
  },
  {
   "cell_type": "code",
   "execution_count": null,
   "metadata": {
    "Collapsed": "false"
   },
   "outputs": [],
   "source": [
    "(df\n",
    " .set_index(to_group_reshape)\n",
    " .unstack(-1, fill_value=0)\n",
    " .stack()\n",
    " .unstack(-2, fill_value=0)\n",
    " .stack()\n",
    " .reset_index()\n",
    " )\n"
   ]
  }
 ],
 "metadata": {
  "kernelspec": {
   "display_name": "Python 3",
   "language": "python",
   "name": "python3"
  },
  "language_info": {
   "codemirror_mode": {
    "name": "ipython",
    "version": 3
   },
   "file_extension": ".py",
   "mimetype": "text/x-python",
   "name": "python",
   "nbconvert_exporter": "python",
   "pygments_lexer": "ipython3",
   "version": "3.7.4"
  },
  "toc-autonumbering": true,
  "toc-showcode": false,
  "toc-showmarkdowntxt": true
 },
 "nbformat": 4,
 "nbformat_minor": 4
}
