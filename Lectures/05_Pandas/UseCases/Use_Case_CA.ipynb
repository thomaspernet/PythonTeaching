{
 "cells": [
  {
   "cell_type": "markdown",
   "metadata": {
    "Collapsed": "true"
   },
   "source": [
    "# Use Case\n",
    "\n",
    "## Definition & Variable\n",
    "\n",
    "### KPIs\n",
    "\n",
    "**Share of Wallet, SoW**\n",
    "\n",
    "$$\\text{Share of Wallet} = \\sum  \\text{Revenue vodafone} / \\sum \\text{Addressable Market} $$\n",
    "\n",
    "**Whitespace**\n",
    "\n",
    "$$\\text{Whitespace} = \\sum \\text{Addressable Market} -  \\sum \\text{Revenue vodafone} $$\n",
    "\n",
    "- *Addressable Market*: total available market for a given customer, in a given country for Mobility product\n",
    "- Note, we drop the $\\sum$ if computed at the customer level\n",
    "\n",
    "## Definition\n",
    "\n",
    "In the table below, we summarize the data by country. For each country in the dataset, we compute the:\n",
    "\n",
    "- `nb_customers`: Number of active customers in country `c`\n",
    "- `nb_industries`: Number of industries in country `c` \n",
    "- `sum_revenue`: Sum of revenue in country `c`\n",
    "- `rank_revenue`: Worldwide rank of country `c` (descending order) in term of revenue\n",
    "- `sum_AM`: Total Addressable market (ie market size for the customers) in country `c`\n",
    "- `rank_AM`: Worldwide rank of country `c` (descending order) in term of potential\n",
    "- `sum_whitespace`: Sum of whitespace (sum_AM - sum_revenue) in country `c`\n",
    "- `SoW`: Share of Wallet (sum_revenue / sum_AM) in country `c`\n",
    "- `penetration_rate`: Penetration rate (sum_AM / sum_revenue) in country `c`\n",
    "- `rank_penetration`: Worldwide rank of country `c` (descending order) in term of penetration\n",
    "- `avg_spent`: Average spend at the customer level in country `c`\n",
    "- `avg_AM`: Average Addressable market at the customer level in country `c`\n",
    "\n",
    "The next bunch of variables focuses on the empirical distribution of revenue, Addressable market and whitespace. By default, the table compares the top 10% with the remaining 90%\n",
    "\n",
    "- `rank_customers`: Descending rank of customer in term of revenue: ie larger customer in country `c` will have rank equal to 1\n",
    "- `revenue_cumsum_perc`: Total cumulated revenue (descending order) \n",
    "- `AM_cumsum_perc`: Total cumulated Addressable market (descending order) \n",
    "- `whitespace_top`: Total cumulated whitespace of the top 10% customers\n",
    "- `whitespace_bottom`: Total cumulated whitespace of the bottom 90% customers\n",
    "- `bottom_top_ratio`: whitespace_bottom/whitespace_top. If larger than 1, it indicates bottom 90% has larger potential than top 10%"
   ]
  },
  {
   "cell_type": "code",
   "execution_count": null,
   "metadata": {
    "Collapsed": "false"
   },
   "outputs": [],
   "source": [
    "import pandas as pd\n",
    "import numpy as np\n",
    "import seaborn as sns\n",
    "import matplotlib.pyplot as plt\n",
    "import researchpy as rp\n",
    "#import functions.country_report as vd\n",
    "cm = sns.light_palette(\"green\", as_cmap=True)\n",
    "### can ignore the warning for the presentation\n",
    "import warnings\n",
    "warnings.filterwarnings('ignore')"
   ]
  },
  {
   "cell_type": "markdown",
   "metadata": {
    "Collapsed": "false"
   },
   "source": [
    "# Agenda\n",
    "\n",
    "- Definition & Variables\n",
    "    - KPI\n",
    "    - Dataset overview\n",
    "- Worldwide description of the market\n",
    "    - Top 3 countries \n",
    "    - Top 3 partners\n",
    "    - Worldwide revenue\n",
    "    - Worldwide Whitespace\n",
    "- French Market\n",
    "    - Brief words about French market\n",
    "    - French market sectors opportunities\n",
    "    - Co-integrated market analysis\n",
    "- French customers analysis\n",
    "    - Target customers with opportunities\n",
    "    - Which team to leverage"
   ]
  },
  {
   "cell_type": "code",
   "execution_count": null,
   "metadata": {
    "Collapsed": "false"
   },
   "outputs": [],
   "source": [
    "df_final = pd.read_csv('dataPandasClass_UseCase.gz',\n",
    "                       compression = 'gzip')"
   ]
  },
  {
   "cell_type": "markdown",
   "metadata": {
    "Collapsed": "false"
   },
   "source": [
    "Set the index and remove prospect from database"
   ]
  },
  {
   "cell_type": "code",
   "execution_count": null,
   "metadata": {
    "Collapsed": "false"
   },
   "outputs": [],
   "source": [
    "index = ['ID',\n",
    "         'Country_name',\n",
    "         'IncomeGroup',\n",
    "         'Languages',\n",
    "         'English',\n",
    "         'French',\n",
    "         'Relationship',\n",
    "         'Region',\n",
    "         'industry', \n",
    "        'country_ref']\n",
    "\n",
    "df_final = df_final.set_index(index).loc[lambda x: (x['TARGET_reference'] > 0)]\n",
    "df_final.head()"
   ]
  },
  {
   "cell_type": "markdown",
   "metadata": {
    "Collapsed": "true"
   },
   "source": [
    "## Dataset overview"
   ]
  },
  {
   "cell_type": "markdown",
   "metadata": {
    "Collapsed": "true"
   },
   "source": [
    "### Create table 1"
   ]
  },
  {
   "cell_type": "code",
   "execution_count": null,
   "metadata": {
    "Collapsed": "false"
   },
   "outputs": [],
   "source": [
    "#### Make Table 1\n",
    "\n",
    "columns = [('Effective', 'Third'),\n",
    "           ('Effective', 'Second'),\n",
    "           ('Effective', 'First')]\n",
    "\n",
    "eff = (df_final\n",
    "       .reset_index('Country_name')\n",
    "       .groupby(level=['Relationship', 'Region'])['Country_name']\n",
    "       .nunique()\n",
    "       .unstack(-1, fill_value=0)\n",
    "       .T\n",
    "       )\n",
    "\n",
    "# eff.columns=pd.MultiIndex.from_tuples(columns)\n",
    "columns = [('All', 'Third'),\n",
    "           ('All', 'Second'),\n",
    "           ('All', 'First')]\n",
    "all_ = (df_final\n",
    "        .reset_index('Country_name')\n",
    "        .groupby(level=['Relationship', 'Region'])['Country_name']\n",
    "        .nunique()\n",
    "        .unstack(-1, fill_value=0)\n",
    "        .T\n",
    "        .merge(eff, left_index=True,\n",
    "               right_index=True,\n",
    "               suffixes=('', '_e'))\n",
    "        .assign(\n",
    "            Non_Vod_change=lambda x: x.iloc[:, 3] - x.iloc[:,0],\n",
    "            Part_change=lambda x: x.iloc[:, 4] - x.iloc[:, 1],\n",
    "            Vod_change=lambda x: x.iloc[:, 5] - x.iloc[:, 2],\n",
    "            Non_Vod_ptot=lambda x: x.iloc[:,3]/(x.iloc[:,0]),\n",
    "            Part_ptot=lambda x: x.iloc[:,4]/(x.iloc[:, 1]),\n",
    "            Vod_ptot=lambda x: x.iloc[:,5]/(x.iloc[:, 2]),\n",
    "            \n",
    "        )\n",
    "        )\n",
    "\n",
    "# Distribution of country by partnership and region\n",
    "\n",
    "columns=[\n",
    "    ('All','Third'),\n",
    "    ('All','Second'),\n",
    "    ('All', 'First'),\n",
    "    ('Effective','Third'),\n",
    "    ('Effective','Partner_e'),\n",
    "    ('Effective', 'Vodafone_e'),\n",
    "    ('Diff','Non_Vod_change'),\n",
    "    ('Diff','Part_change'),\n",
    "    ('Diff', 'Vod_change'),\n",
    "    ('perc','Non_Vod_ptot'),\n",
    "    ('perc','Part_ptot'),\n",
    "    ('perc', 'Vod_ptot')]\n",
    "all_.columns=pd.MultiIndex.from_tuples(columns)\n",
    "all_"
   ]
  },
  {
   "cell_type": "code",
   "execution_count": null,
   "metadata": {
    "Collapsed": "false"
   },
   "outputs": [],
   "source": [
    "all_.iloc[:, -3:].fillna(0).style.format(\"{:.0%}\")"
   ]
  },
  {
   "cell_type": "code",
   "execution_count": null,
   "metadata": {
    "Collapsed": "false"
   },
   "outputs": [],
   "source": [
    "all_.iloc[:, :-3].style.bar(subset=[('Diff',\n",
    "                        'Non_Vod_change'),\n",
    "                       ('Diff',\n",
    "                        'Part_change'),\n",
    "                       ('Diff',\n",
    "                        'Vod_change'),\n",
    "                      ],\n",
    "               align='mid', color=['#d65f5f', '#5fba7d'])"
   ]
  },
  {
   "cell_type": "code",
   "execution_count": null,
   "metadata": {
    "Collapsed": "false"
   },
   "outputs": [],
   "source": [
    "(df_final\n",
    " .loc[lambda x: \n",
    "      (x['TARGET_reference'] > 0) \n",
    "     & (x.index.get_level_values('Region').isin(['Americas']))\n",
    "     ]\n",
    ")"
   ]
  },
  {
   "cell_type": "markdown",
   "metadata": {
    "Collapsed": "true"
   },
   "source": [
    "## Worldwide description of the market\n",
    "\n",
    "Objective:\n",
    "\n",
    "- Create a table with the following variables:\n",
    "    - 'nb_customers',\n",
    "    - 'nb_industries',\n",
    "    - 'sum_revenue',\n",
    "    - 'rank_revenue',\n",
    "    - 'sum_AM',\n",
    "    - 'rank_AM',\n",
    "    - 'sum_whitespace',\n",
    "    - 'rank_whitespace',\n",
    "    - 'SoW',\n",
    "    - 'avg_spent',\n",
    "    - 'avg_AM',\n",
    "    - 'rank_customers',\n",
    "    - 'revenue_cumsum_perc',\n",
    "    - 'AM_cumsum_perc',\n",
    "    - 'whitespace_top',\n",
    "    - 'whitespace_bottom',\n",
    "    - 'bottom_top_ratio'\n",
    "    \n",
    "The outcomes can be viewed from this [link](https://1drv.ms/x/s!AkDhd3h9fJNWhSqO80XCllh7qV2r?e=TdRcJr)"
   ]
  },
  {
   "cell_type": "markdown",
   "metadata": {
    "Collapsed": "false"
   },
   "source": [
    "### Compute basic stat"
   ]
  },
  {
   "cell_type": "code",
   "execution_count": null,
   "metadata": {
    "Collapsed": "false"
   },
   "outputs": [],
   "source": [
    "# TARGET_reference\tTARGET_potential\n",
    "grouping = ['Country_name',\n",
    "            'IncomeGroup',\n",
    "            'country_ref',\n",
    "            'Relationship']\n",
    "df_agg = (df_final\n",
    "          .assign(industry=lambda x: x.index.get_level_values('industry'),\n",
    "                  ID=lambda x: x.index.get_level_values('ID'),\n",
    "                  Whitespace=lambda x: x['TARGET_reference'] - x['TARGET_reference']\n",
    "          )\n",
    "          .groupby(level=grouping)\n",
    "          .agg(\n",
    "              sum_revenue=('TARGET_reference', np.sum),\n",
    "              sum_AM=('TARGET_potential', np.sum),\n",
    "              sum_whitespace=('Whitespace', np.sum),\n",
    "              avg_spent=('TARGET_reference', np.mean),\n",
    "              avg_AM=('TARGET_potential', np.mean),\n",
    "              nb_customers=('ID', 'nunique'),\n",
    "              nb_industries=('industry', 'nunique')\n",
    "          )\n",
    "          .sort_values(by='sum_revenue')\n",
    "          .assign(\n",
    "              SoW=lambda x: x['sum_revenue'] / x['sum_AM'],\n",
    "              rank_revenue=lambda x:\n",
    "              x['sum_revenue'].rank(ascending=False),\n",
    "              rank_AM=lambda x:\n",
    "              x['sum_AM'].rank(ascending=False),\n",
    "              rank_whitespace=lambda x:\n",
    "              x['sum_whitespace'].rank(ascending=False)\n",
    "          )\n",
    "         )\n",
    "df_agg.head()"
   ]
  },
  {
   "cell_type": "markdown",
   "metadata": {
    "Collapsed": "false"
   },
   "source": [
    "### Compute and merge cumulated revenue/potential"
   ]
  },
  {
   "cell_type": "code",
   "execution_count": null,
   "metadata": {
    "Collapsed": "false"
   },
   "outputs": [],
   "source": [
    "def percentage_cum(df, grouping):\n",
    "    \"\"\"\n",
    "    Compute cumulated distribution of revenue, potential\n",
    "\n",
    "    Args:\n",
    "        df: A dataframe with the following variables:\n",
    "            - Mobility_vodafone\n",
    "            - Mobility_potential\n",
    "\n",
    "            - Whitespace\n",
    "            - Customer_Name\n",
    "            - industry\n",
    "            and the variables to group (in the index preferably)\n",
    "        grouping: Variables in index to group\n",
    "        exclude_country: Remove a list of country from the original database\n",
    "        slice_country: A list of country to filter. By default None\n",
    "        Note, industry and customers name should be in index\n",
    "        Only countries with positive revenue are included and when potential\n",
    "        is larger than Vodafone revenue\n",
    "\n",
    "    Returns:\n",
    "        A dataframe with:\n",
    "        - revenue_perc: Percentage of the revenue of customer i in total revenue\n",
    "        - revenue_cumsum: cumulated sum of revenue by n customers\n",
    "        - revenue_cumsum_perc: cumulated share of revenue by n customers\n",
    "        (bottom 0, max 1)\n",
    "        - potential_perc: Percentage of the potential of customer i in total\n",
    "        revenue\n",
    "        - potential_cumsum: cumulated sum of potential by n customers\n",
    "        - AM_cumsum_perc: cumulated share of potential by n customers\n",
    "        (bottom 0, max 1)\n",
    "        - nb_f_total: Positioning of customer n in term of revenue among all\n",
    "        customers\n",
    "        - nb_f_perc: Cumulated positioning of n customers in term of revenue\n",
    "        among all customers\n",
    "\n",
    "    \"\"\"\n",
    "\n",
    "    df_ = (df\n",
    "           .groupby(level=grouping)\n",
    "           .agg(\n",
    "               rank_customers=('TARGET_reference', 'cumcount'),\n",
    "               revenue_cumsum=('TARGET_reference', 'cumsum'),\n",
    "               potential_cumsum=('TARGET_potential', 'cumsum')\n",
    "           )\n",
    "           )\n",
    "\n",
    "    # COunter start at 0\n",
    "    df_['rank_customers'] = df_['rank_customers'] + 1\n",
    "    df_['total_sum_TARGET'] = (df['TARGET_reference']\n",
    "                                 .groupby(level=grouping)\n",
    "                                 .transform(\n",
    "        lambda x: x.sum()\n",
    "    )\n",
    "    )\n",
    "    df_['total_sum_potential'] = (df['TARGET_potential']\n",
    "                                  .groupby(level=grouping)\n",
    "                                  .transform(\n",
    "        lambda x: x.sum()\n",
    "    )\n",
    "    )\n",
    "    df_['total_customers'] = (df_['rank_customers']\n",
    "                              .groupby(level=grouping)\n",
    "                              .transform(\n",
    "        lambda x: x.max()\n",
    "    )\n",
    "    )\n",
    "\n",
    "    df_1 = (df_\n",
    "            .merge(df,\n",
    "                   left_index=True,\n",
    "                   right_index=True)\n",
    "            .assign(\n",
    "                revenue_perc=lambda x: x['TARGET_reference'] /\n",
    "                x['total_sum_TARGET'],\n",
    "                potential_perc=lambda x: x['TARGET_potential'] /\n",
    "                x['total_sum_potential'],\n",
    "                rank_customers_perc=lambda x: x['rank_customers'] /\n",
    "                x['total_customers'],\n",
    "            )\n",
    "            )\n",
    "\n",
    "    df_1['revenue_cumsum_perc'] = (df_1['revenue_perc']\n",
    "                                   .groupby(level=grouping)\n",
    "                                   .transform(\n",
    "        lambda x: x.cumsum()\n",
    "    )\n",
    "    )\n",
    "    df_1['AM_cumsum_perc'] = (df_1['potential_perc']\n",
    "                              .groupby(level=grouping)\n",
    "                              .transform(\n",
    "        lambda x: x.cumsum()\n",
    "    )\n",
    "    )\n",
    "    df_1['whitespace_top'] = df_1['potential_cumsum'] - df_1['revenue_cumsum']\n",
    "    df_1['whitespace_bottom'] = (df_1['total_sum_potential'] -\n",
    "                                 df_1['potential_cumsum']) - \\\n",
    "    (df_1['total_sum_TARGET'] -df_1['revenue_cumsum'])\n",
    "\n",
    "    df_1['bottom_top_ratio'] = df_1['whitespace_bottom'] / \\\n",
    "        df_1['whitespace_top']\n",
    "    return df_1"
   ]
  },
  {
   "cell_type": "code",
   "execution_count": null,
   "metadata": {
    "Collapsed": "false"
   },
   "outputs": [],
   "source": [
    "### threshold\n",
    "topN = 0.1\n",
    "grouping.extend(['TARGET_reference'])\n",
    "reorder = ['nb_customers',\n",
    "               'nb_industries',\n",
    "               'sum_revenue',\n",
    "               'rank_revenue',\n",
    "               'sum_AM',\n",
    "               'rank_AM',\n",
    "               'sum_whitespace',\n",
    "               'rank_whitespace',\n",
    "               'SoW',\n",
    "               'avg_spent',\n",
    "               'avg_AM',\n",
    "               'rank_customers',\n",
    "               'revenue_cumsum_perc',\n",
    "               'AM_cumsum_perc',\n",
    "               'whitespace_top',\n",
    "               'whitespace_bottom',\n",
    "               'bottom_top_ratio']"
   ]
  },
  {
   "cell_type": "code",
   "execution_count": null,
   "metadata": {
    "Collapsed": "false"
   },
   "outputs": [],
   "source": [
    "df_ = (df_final\n",
    "           .reset_index(['Languages', 'English', 'French', 'Region'])\n",
    "           .sort_values(by=grouping, ascending=False)\n",
    "           .groupby(level='Country_name')\n",
    "           .apply(\n",
    "               lambda x: percentage_cum(x, grouping[:-1]),\n",
    "           )\n",
    "           .assign(temp_top=lambda x: np.where(\n",
    "               np.around(x['total_customers'] * topN) < 1,\n",
    "               1,\n",
    "               np.around(x['total_customers'] * .1)\n",
    "           )\n",
    "           )\n",
    "           .loc[lambda x: (x['rank_customers'] <= x['temp_top'])]\n",
    "           .reset_index(['ID', 'industry'], drop=True)\n",
    "           #.reset_index()\n",
    "           .groupby(level=grouping[:-1])\n",
    "           .apply(\n",
    "               lambda x: x.loc[lambda x: (\n",
    "                  x['rank_customers_perc'] == x['rank_customers_perc'].max())]\n",
    "           )\n",
    "           .reset_index(level=[4, 5, 6, 7], drop=True)\n",
    "           .reindex(columns=['rank_customers',\n",
    "                             'rank_customers_perc',\n",
    "                             'revenue_cumsum_perc',\n",
    "                             'AM_cumsum_perc',\n",
    "                             'whitespace_top',\n",
    "                             'whitespace_bottom',\n",
    "                             'bottom_top_ratio'\n",
    "                             ])\n",
    "           )\n",
    "df_.head()"
   ]
  },
  {
   "cell_type": "code",
   "execution_count": null,
   "metadata": {
    "Collapsed": "false"
   },
   "outputs": [],
   "source": [
    "top_ = (df_agg.merge(df_,\n",
    "                     left_index=True,\n",
    "                     right_index=True)\n",
    "        .sort_values(by='sum_revenue')\n",
    "        .reindex(columns=reorder)\n",
    "       )\n",
    "top_.to_excel('test.xlsx')"
   ]
  },
  {
   "cell_type": "code",
   "execution_count": null,
   "metadata": {
    "Collapsed": "false"
   },
   "outputs": [],
   "source": [
    "def format_row_wise(styler, formatterA, formatterB=None, to_exclude=[]):\n",
    "    \"\"\"\n",
    "    Thanks to\n",
    "    https://stackoverflow.com/questions/52783419/format-pandas-dataframe-row-wise\n",
    "    \"\"\"\n",
    "    for row, row_formatter in formatterA.items():\n",
    "        row_num = styler.index.get_loc(row)\n",
    "\n",
    "        for col_num, col_name in enumerate(styler.columns):\n",
    "            if col_name in to_exclude:\n",
    "                pass\n",
    "            else:\n",
    "                styler._display_funcs[(row_num, col_num)] = row_formatter\n",
    "    if formatterB != None:\n",
    "        for row, row_formatter in formatterB.items():\n",
    "            row_num = styler.index.get_loc(row)\n",
    "\n",
    "            for col_num, col_name in enumerate(styler.columns):\n",
    "                if col_name[1] in to_exclude:\n",
    "\n",
    "                    styler._display_funcs[(row_num, col_num)] = row_formatter\n",
    "\n",
    "                else:\n",
    "                    pass\n",
    "    return styler"
   ]
  },
  {
   "cell_type": "code",
   "execution_count": null,
   "metadata": {
    "Collapsed": "false"
   },
   "outputs": [],
   "source": [
    "n = 3\n",
    "top_3 = (top_\n",
    "         .droplevel(level = 1)\n",
    " .sort_values(by='rank_revenue')\n",
    " .reindex(columns=['nb_customers',\n",
    "                   'sum_revenue',\n",
    "                   'sum_AM',\n",
    "                   'rank_AM',\n",
    "                   'SoW',\n",
    "                   'revenue_cumsum_perc',\n",
    "                   'AM_cumsum_perc'])\n",
    " .head(n)\n",
    " .reset_index(['country_ref'], drop='True')\n",
    " .T\n",
    " )\n",
    "\n",
    "formatters = {\"sum_revenue\": lambda x: f\"€{x:,.0f}\",\n",
    "              \"sum_AM\": lambda x: f\"€{x:,.0f}\",\n",
    "              \"SoW\": lambda x: f\"{x:,.2%}\",\n",
    "              \"revenue_cumsum_perc\": lambda x: f\"{x:,.2%}\",\n",
    "              \"AM_cumsum_perc\": lambda x: f\"{x:,.2%}\"\n",
    "              }\n",
    "styler = format_row_wise(top_3.style, formatters)\n",
    "styler"
   ]
  },
  {
   "cell_type": "code",
   "execution_count": null,
   "metadata": {
    "Collapsed": "false"
   },
   "outputs": [],
   "source": [
    "(top_\n",
    " .style\n",
    " .bar(subset=['sum_revenue',\n",
    "              'sum_AM',\n",
    "              'sum_whitespace',\n",
    "              'avg_spent',\n",
    "              'avg_AM',\n",
    "              'rank_AM',\n",
    "              'rank_penetration',\n",
    "              'rank_whitespace',\n",
    "              'whitespace_top',\n",
    "              'whitespace_bottom'],\n",
    "      align='mid',\n",
    "      color=['#d65f5f', '#5fba7d'])\n",
    " .format(\"{:.1%}\", subset=['SoW',\n",
    "                           'penetration_rate',\n",
    "                           'revenue_cumsum_perc',\n",
    "                           'AM_cumsum_perc'])\n",
    " .format('€{0:,.0f}', subset=['sum_revenue',\n",
    "                              'sum_AM',\n",
    "                              'sum_whitespace',\n",
    "                              'avg_spent',\n",
    "                              'avg_AM',\n",
    "                              'whitespace_top',\n",
    "                              'whitespace_bottom'])\n",
    " )"
   ]
  },
  {
   "cell_type": "markdown",
   "metadata": {
    "Collapsed": "false"
   },
   "source": [
    "### WorldWide map"
   ]
  },
  {
   "cell_type": "code",
   "execution_count": null,
   "metadata": {
    "Collapsed": "false"
   },
   "outputs": [],
   "source": [
    "import plotly.express as px"
   ]
  },
  {
   "cell_type": "code",
   "execution_count": null,
   "metadata": {
    "Collapsed": "false"
   },
   "outputs": [],
   "source": [
    "fig = px.choropleth(top_.reset_index(),\n",
    "                    locations=\"country_ref\",\n",
    "                    color=\"sum_revenue\",\n",
    "                    hover_name=\"Relationship\",\n",
    "                    title = 'World wide operating revenues')\n",
    "\n",
    "#fig.layout.autosize = True\n",
    "fig.layout.width = 800\n",
    "fig.layout.height = 600\n",
    "\n",
    "fig.show()"
   ]
  }
 ],
 "metadata": {
  "kernelspec": {
   "display_name": "Python 3",
   "language": "python",
   "name": "python3"
  },
  "language_info": {
   "codemirror_mode": {
    "name": "ipython",
    "version": 3
   },
   "file_extension": ".py",
   "mimetype": "text/x-python",
   "name": "python",
   "nbconvert_exporter": "python",
   "pygments_lexer": "ipython3",
   "version": "3.7.4"
  }
 },
 "nbformat": 4,
 "nbformat_minor": 4
}
