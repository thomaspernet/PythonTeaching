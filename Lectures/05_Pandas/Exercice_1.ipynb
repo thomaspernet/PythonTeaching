{
 "cells": [
  {
   "cell_type": "markdown",
   "metadata": {
    "Collapsed": "false"
   },
   "source": [
    "# Real world Data\n",
    "\n",
    "## Data source \n",
    "\n",
    "Basically, the dataset tree is the following:\n",
    "\n",
    "- Region\n",
    "    - Country\n",
    "        - Industry\n",
    "            - Client \n",
    "                - Products\n",
    "                \n",
    "## Variables name\n",
    "\n",
    "|  Variable name        |  Type   |\n",
    "| --------------------- | ------- |\n",
    "| ID                    |  object |\n",
    "| Country_name          | object  |\n",
    "| country_ref           | object  |\n",
    "| Region                | object  |\n",
    "| industry              | object  |\n",
    "| A_reference           | float64 |\n",
    "| A_market              | float64 |\n",
    "| B_reference           | float64 |\n",
    "| B_market              | float64 |\n",
    "| C_reference           | float64 |\n",
    "| C_market              | float64 |\n",
    "| D_reference           | float64 |\n",
    "| D_market              | float64 |\n",
    "| E_reference           | float64 |\n",
    "| E_market              | float64 |\n",
    "| Total_reference       | float64 |\n",
    "| Total_market          | float64 |\n",
    "\n",
    "Note that, the market includes the reference"
   ]
  },
  {
   "cell_type": "code",
   "execution_count": null,
   "metadata": {
    "Collapsed": "false"
   },
   "outputs": [],
   "source": [
    "import pandas as pd\n",
    "#import plotly.express as px\n",
    "import numpy as np\n",
    "\n",
    "import seaborn as sns\n",
    "\n",
    "cm = sns.light_palette(\"green\", as_cmap=True)"
   ]
  },
  {
   "cell_type": "code",
   "execution_count": null,
   "metadata": {
    "Collapsed": "false"
   },
   "outputs": [],
   "source": [
    "df_final = pd.read_csv('dataPandasClass.gz')\n",
    "df_final.tail()"
   ]
  },
  {
   "cell_type": "markdown",
   "metadata": {
    "Collapsed": "false"
   },
   "source": [
    "## Objectives\n",
    "\n",
    "In this notebook, you need to:\n",
    "\n",
    "- Print the country name by region\n",
    "- Compute the market size for the reference by:\n",
    "    - Product\n",
    "    - Industry\n",
    "    - Region\n",
    "- Industry Market size by product\n",
    "- Region Market size by product\n",
    "- Region Market size by industry\n",
    "\n",
    "For all the above computation compute the market share of `reference`\n",
    "\n",
    "- Remove Region-industry with no revenue\n",
    "- Compute Euclidean Distance by Region-industry-product\n",
    "- Filter the data by Region-industry-product\n",
    "\n",
    "**the market share :Revenue to potential**\n",
    "\n",
    "$$\\text{Market share} = \\sum  \\text{Revenue Reference} / \\sum \\text{Total Market} $$"
   ]
  },
  {
   "cell_type": "markdown",
   "metadata": {
    "Collapsed": "false"
   },
   "source": [
    "## Parameters"
   ]
  },
  {
   "cell_type": "code",
   "execution_count": null,
   "metadata": {
    "Collapsed": "false"
   },
   "outputs": [],
   "source": [
    "reference = [\n",
    "    \"A_reference\",\n",
    "    \"B_reference\",\n",
    "    \"C_reference\",\n",
    "    \"D_reference\",\n",
    "    \"E_reference\",\n",
    "]\n",
    "market = [\n",
    "    \"A_market\",\n",
    "    \"B_market\",\n",
    "    \"C_market\",\n",
    "    \"D_market\",\n",
    "    \"E_market\",\n",
    "]"
   ]
  },
  {
   "cell_type": "code",
   "execution_count": null,
   "metadata": {
    "Collapsed": "false"
   },
   "outputs": [],
   "source": [
    "df_final[reference].head()"
   ]
  },
  {
   "cell_type": "markdown",
   "metadata": {
    "Collapsed": "false"
   },
   "source": [
    "## List country by region"
   ]
  },
  {
   "cell_type": "code",
   "execution_count": null,
   "metadata": {
    "Collapsed": "false"
   },
   "outputs": [],
   "source": [
    "for c in df_final['Region'].sort_values().unique():\n",
    "\n",
    "    countries = df_final[df_final['Region'].isin(\n",
    "        [c])]['Country_name'].unique()\n",
    "\n",
    "    print('\\n Region name {} \\n {}'.format(c, countries))"
   ]
  },
  {
   "cell_type": "markdown",
   "metadata": {
    "Collapsed": "false"
   },
   "source": [
    "## Index"
   ]
  },
  {
   "cell_type": "code",
   "execution_count": null,
   "metadata": {
    "Collapsed": "false"
   },
   "outputs": [],
   "source": [
    "list(df_final)"
   ]
  },
  {
   "cell_type": "code",
   "execution_count": null,
   "metadata": {
    "Collapsed": "false"
   },
   "outputs": [],
   "source": [
    "df_index = df_final.set_index(['ID',\n",
    "                    'Country_name',\n",
    "                    'Region',\n",
    "                    'industry'])\n",
    "df_index.head()"
   ]
  },
  {
   "cell_type": "code",
   "execution_count": null,
   "metadata": {
    "Collapsed": "false"
   },
   "outputs": [],
   "source": [
    "df_index.loc[('Customer 25')]"
   ]
  },
  {
   "cell_type": "code",
   "execution_count": null,
   "metadata": {
    "Collapsed": "false"
   },
   "outputs": [],
   "source": [
    "df_index.loc[('Customer 25','Belgium')]"
   ]
  },
  {
   "cell_type": "code",
   "execution_count": null,
   "metadata": {
    "Collapsed": "false"
   },
   "outputs": [],
   "source": [
    "df_index.loc[('Customer 25',\n",
    "              slice(None),\n",
    "              slice(None), 'A')].head()"
   ]
  },
  {
   "cell_type": "code",
   "execution_count": null,
   "metadata": {
    "Collapsed": "false"
   },
   "outputs": [],
   "source": [
    "df_index.xs('Belgium',\n",
    "            level='Country_name',\n",
    "            axis=0, drop_level=False).head()"
   ]
  },
  {
   "cell_type": "code",
   "execution_count": null,
   "metadata": {
    "Collapsed": "false"
   },
   "outputs": [],
   "source": [
    "df_index.xs(('Belgium'),\n",
    "            level=('Country_name'),\n",
    "            axis=0, drop_level=False).head()"
   ]
  },
  {
   "cell_type": "code",
   "execution_count": null,
   "metadata": {
    "Collapsed": "false"
   },
   "outputs": [],
   "source": [
    "df_index.loc[('Customer 25'), 'A_reference']"
   ]
  },
  {
   "cell_type": "code",
   "execution_count": null,
   "metadata": {
    "Collapsed": "false"
   },
   "outputs": [],
   "source": []
  },
  {
   "cell_type": "markdown",
   "metadata": {
    "Collapsed": "false"
   },
   "source": [
    "# Top level"
   ]
  },
  {
   "cell_type": "markdown",
   "metadata": {
    "Collapsed": "false"
   },
   "source": [
    "## Product Market size"
   ]
  },
  {
   "cell_type": "code",
   "execution_count": null,
   "metadata": {
    "Collapsed": "false"
   },
   "outputs": [],
   "source": [
    "(df_final[reference + market]\n",
    " .sum(axis = 0)\n",
    " .reset_index(name = 'sum_product')\n",
    " .assign(origin = lambda x: x['index'].str.extract(r\"(_[^_]+$)\"),\n",
    "         product = lambda x: x['index'].str.extract(r\"(^[^_]+(?=_))\"))\n",
    " .drop(columns = 'index')\n",
    " .sort_values(by = \"product\")\n",
    " .set_index(['product', 'origin'])\n",
    " .unstack(level = 1)\n",
    " .assign(market_size = lambda x: x.iloc[:, 1] / x.iloc[:, 0])\n",
    " .sort_values(by = 'market_size')\n",
    " .style\n",
    " .bar(subset=['market_size'], color='#d65f5f')\n",
    " .format(\"{:.2%}\", subset=['market_size'])\n",
    ")"
   ]
  },
  {
   "cell_type": "markdown",
   "metadata": {
    "Collapsed": "false"
   },
   "source": [
    "## Industry Market size"
   ]
  },
  {
   "cell_type": "code",
   "execution_count": null,
   "metadata": {
    "Collapsed": "false"
   },
   "outputs": [],
   "source": [
    "(df_final\n",
    " .groupby('industry').agg(\n",
    "     {\n",
    "         'Total_reference': 'sum',\n",
    "         'Total_market': 'sum'})\n",
    " .assign(revenue_to_potential = lambda x:\n",
    "         x['Total_reference']/ x['Total_market'])\n",
    " .sort_values(by = 'revenue_to_potential')\n",
    " .style\n",
    " .bar(subset=['revenue_to_potential'], color='#d65f5f')\n",
    " .format(\"{:.2%}\", subset=['revenue_to_potential'])\n",
    "          )"
   ]
  },
  {
   "cell_type": "markdown",
   "metadata": {
    "Collapsed": "false"
   },
   "source": [
    "## Region Market size"
   ]
  },
  {
   "cell_type": "code",
   "execution_count": null,
   "metadata": {
    "Collapsed": "false"
   },
   "outputs": [],
   "source": [
    "(df_final\n",
    " .groupby('Region').agg(\n",
    "     {\n",
    "         'Total_reference': 'sum',\n",
    "         'Total_market': 'sum'})\n",
    " .assign(revenue_to_potential = lambda x: x['Total_reference']/ x['Total_market'])\n",
    " .sort_values(by = 'revenue_to_potential')\n",
    " .style\n",
    " .format({'revenue_to_potential': \"{:.2%}\"})\n",
    " .bar(subset=['revenue_to_potential'], color='#d65f5f')\n",
    " )"
   ]
  },
  {
   "cell_type": "markdown",
   "metadata": {
    "Collapsed": "false"
   },
   "source": [
    "# Next level"
   ]
  },
  {
   "cell_type": "markdown",
   "metadata": {
    "Collapsed": "false"
   },
   "source": [
    "## Industry Market size by product"
   ]
  },
  {
   "cell_type": "code",
   "execution_count": null,
   "metadata": {
    "Collapsed": "false"
   },
   "outputs": [],
   "source": [
    "(df_final[['industry'] + reference + market]\n",
    " .groupby('industry')\n",
    " .sum(axis = 0)\n",
    " .transpose()\n",
    " .reset_index()\n",
    " .assign(origin = lambda x: x['index'].str.extract(r\"(_[^_]+$)\"),\n",
    "        product = lambda x: x['index'].str.extract(r\"(^[^_]+(?=_))\"))\n",
    " .drop(columns = 'index')\n",
    " .sort_values(by = \"product\")\n",
    " .set_index(['product', 'origin'])\n",
    " .groupby(level = 0)\n",
    " .apply(lambda x: x.shift(1) / x )\n",
    " .dropna()\n",
    " .droplevel('origin')\n",
    " .transpose()\n",
    " .assign(total_industry = lambda x: x.sum(1))\n",
    " .sort_values(by ='total_industry')\n",
    " .drop(columns = 'total_industry')\n",
    " .style\n",
    " .format(\"{:.2%}\")\n",
    " .background_gradient(cmap=cm)\n",
    ")"
   ]
  },
  {
   "cell_type": "markdown",
   "metadata": {
    "Collapsed": "false"
   },
   "source": [
    "## Region Market size by industry"
   ]
  },
  {
   "cell_type": "code",
   "execution_count": null,
   "metadata": {
    "Collapsed": "false"
   },
   "outputs": [],
   "source": [
    "ttpotential_i = (df_final\n",
    " .groupby('industry').agg(\n",
    "     {\n",
    "         'Total_market': 'sum'})\n",
    "            )\n",
    "ttpotential_i.head()"
   ]
  },
  {
   "cell_type": "code",
   "execution_count": null,
   "metadata": {
    "Collapsed": "false"
   },
   "outputs": [],
   "source": [
    "revenue_ci = (df_final\n",
    " .groupby(['Region', 'industry']).agg(\n",
    "     {\n",
    "         'Total_reference': 'sum'}\n",
    " )\n",
    ")"
   ]
  },
  {
   "cell_type": "code",
   "execution_count": null,
   "metadata": {
    "Collapsed": "false"
   },
   "outputs": [],
   "source": [
    "region = df_final['Region'].unique()"
   ]
  },
  {
   "cell_type": "code",
   "execution_count": null,
   "metadata": {
    "Collapsed": "false"
   },
   "outputs": [],
   "source": [
    "(\n",
    "    revenue_ci.reset_index()\n",
    "    .merge(ttpotential_i.reset_index(), on=\"industry\", how=\"inner\")\n",
    "    .assign(\n",
    "        revenue_to_potential=lambda x: x[\"Total_reference\"] / x[\"Total_market\"]\n",
    "    )\n",
    "    .sort_values(by=[\"Region\", \"revenue_to_potential\"], ascending=[True, False])\n",
    "    .drop(columns=[\"Total_reference\", \"Total_market\"])\n",
    "    .pivot(index=\"industry\", columns=\"Region\", values=\"revenue_to_potential\")\n",
    "    .assign(total_industry = lambda x: x.sum(1))\n",
    "    .sort_values(by ='total_industry')\n",
    "    .fillna(0)\n",
    "    .style\n",
    "    .highlight_null('red')\n",
    "    .background_gradient(cmap=cm,\n",
    "                      subset = region)\n",
    "    .bar(subset=['total_industry'], color='#d65f5f')\n",
    ")"
   ]
  },
  {
   "cell_type": "markdown",
   "metadata": {
    "Collapsed": "false"
   },
   "source": [
    "## Correlation"
   ]
  },
  {
   "cell_type": "code",
   "execution_count": null,
   "metadata": {
    "Collapsed": "false"
   },
   "outputs": [],
   "source": [
    "df_final.corr()"
   ]
  },
  {
   "cell_type": "markdown",
   "metadata": {
    "Collapsed": "false"
   },
   "source": [
    "## Euclidean Distance\n",
    "\n",
    "## Definition Euclidean Distance\n",
    "\n",
    "According to the Euclidean distance formula, the distance between two points in the plane with coordinates (x, y), and is given by:\n",
    "\n",
    "$$\\begin{aligned} d(\\mathbf{p}, \\mathbf{q})=d(\\mathbf{q}, \\mathbf{p}) &=\\sqrt{\\left(q_{1}-p_{1}\\right)^{2}+\\left(q_{2}-p_{2}\\right)^{2}+\\cdots+\\left(q_{n}-p_{n}\\right)^{2}} \\\\ &=\\sqrt{\\sum_{i=1}^{n}\\left(q_{i}-p_{i}\\right)^{2}} \\end{aligned}$$\n",
    "\n",
    "### Example \n",
    "\n",
    "Calculate the distance between two arrays.\n",
    "\n",
    "We want to sum each column of the first array with all the columns of the second array\n",
    "\n",
    "Take an example, we want to compute the Euclidean distance of this first array:\n",
    "- [7.2, 3.6, 5.1, 2.5]: It has 4 columns and one row\n",
    "\n",
    "we will compute the Euclidean distance with all the rows of the second array. The second array has also four columns. We are substracting each columns of the first and second array respecively \n",
    "\n",
    "Exemple with the first rows of the second array:\n",
    "- [5.1, 3.5, 1.4, 0.2]\n",
    "\n",
    "The Euclidean distance is $$\\sqrt{((7.2 - 5.1)^2  + (3.6 - 3.5)^2 + (5.1 -1.4)^2 + (2.5 - 0.2)^2)}$$\n",
    "\n",
    "We repeat for all the rows\n",
    "\n",
    "## Data standardization\n",
    "\n",
    "The value of distance measures is intimately related to the scale on which measurements are made."
   ]
  },
  {
   "cell_type": "code",
   "execution_count": null,
   "metadata": {
    "Collapsed": "false"
   },
   "outputs": [],
   "source": [
    "def euclideanDistance(vect_1, vect_2):\n",
    "  \n",
    "    \"\"\"\n",
    "      Compute the Euclidean distance \n",
    "    \"\"\"\n",
    "  \n",
    "    sum_ = np.sum(np.power(vect_1 - vect_2, 2))\n",
    "  \n",
    "    euclideanD = np.sqrt(sum_)\n",
    "    return euclideanD"
   ]
  },
  {
   "cell_type": "markdown",
   "metadata": {
    "Collapsed": "false"
   },
   "source": [
    "Remove country industry pair with no remove.It will inflate the distance"
   ]
  },
  {
   "cell_type": "code",
   "execution_count": null,
   "metadata": {
    "Collapsed": "false"
   },
   "outputs": [],
   "source": [
    "indu_norevenue = (df_final\n",
    " .groupby(['Region', 'industry'])\n",
    " .agg(\n",
    "     {\n",
    "         'Total_reference': 'sum'}\n",
    " )\n",
    " .loc[lambda x: x['Total_reference'] == 0]\n",
    ")\n",
    "indu_norevenue"
   ]
  },
  {
   "cell_type": "code",
   "execution_count": null,
   "metadata": {
    "Collapsed": "false"
   },
   "outputs": [],
   "source": [
    "list_ = list(indu_norevenue.index)\n",
    "list_[0][0]"
   ]
  },
  {
   "cell_type": "code",
   "execution_count": null,
   "metadata": {
    "Collapsed": "false"
   },
   "outputs": [],
   "source": [
    "index_no = [] \n",
    "for c in  list_:\n",
    "    index_ =  df_final[(df_final['Region'] == c[0]) &\n",
    "          (df_final['industry'] == c[1])\n",
    "          ].index\n",
    "    index_no.extend(index_)"
   ]
  },
  {
   "cell_type": "code",
   "execution_count": null,
   "metadata": {
    "Collapsed": "false"
   },
   "outputs": [],
   "source": [
    "X = df_final[~df_final.index.isin(index_no)]"
   ]
  },
  {
   "cell_type": "code",
   "execution_count": null,
   "metadata": {
    "Collapsed": "false"
   },
   "outputs": [],
   "source": [
    "def compute_potential(df, normalized=True, begin=0, end=10):\n",
    "    \"\"\"\n",
    "    The fonction compute the Euclidean Distance\n",
    "    Merge the whitespace \n",
    "    and plot the results: selected points and whitespace\n",
    "    \"\"\"\n",
    "\n",
    "    # Normal\n",
    "\n",
    "    # Reshape the data\n",
    "    region_indu_prod = (df[['Region', 'industry'] + reference + market]\n",
    "                        .groupby(['Region', 'industry'])\n",
    "                        .sum(axis=0)\n",
    "                        .stack()\n",
    "                        .reset_index(name='sum')\n",
    "                        .assign(origin=lambda x: x['level_2'].str.extract(\n",
    "                            r\"(_[^_]+$)\"),\n",
    "                                product=lambda x: x['level_2'].str.extract(\n",
    "                                    r\"(^[^_]+(?=_))\"))\n",
    "                        .drop(columns='level_2')\n",
    "                        .set_index(['Region', 'industry', 'product', 'origin'\n",
    "                                    ])\n",
    "                        .unstack()\n",
    "                        .assign(norm_pot=lambda x:  (x.iloc[:, 0] -\n",
    "                                                     x.iloc[:, 0].mean())/\n",
    "                                x.iloc[:, 0].std(),\n",
    "                                norm_vod=lambda x:  (\n",
    "                                x.iloc[:, 1] - x.iloc[:, 1].mean())/\n",
    "                                x.iloc[:, 1].std(),\n",
    "                                )\n",
    "                        )\n",
    "\n",
    "    # Create distance\n",
    "    if normalized:\n",
    "        x_ = 2\n",
    "        y_ = 3\n",
    "    else:\n",
    "        x_ = 0\n",
    "        y_ = 1\n",
    "\n",
    "    region_indu_prod[\"distance\"] = region_indu_prod.groupby(\n",
    "        #['Inbound_Region', 'str']\n",
    "        level=[0, 1]\n",
    "    ).apply(lambda x: euclideanDistance(x.iloc[:, x_],\n",
    "                                        x.iloc[:, y_],\n",
    "                                        )\n",
    "            )\n",
    "\n",
    "    ### Compute whitesaoce\n",
    "    whitespace_ri = (\n",
    "        region_indu_prod\n",
    "        .iloc[:, :2]\n",
    "        .droplevel('product')\n",
    "        .groupby(level=[0, 1])\n",
    "        .sum()\n",
    "        .assign(whitespace=lambda x: x.iloc[:, 0] - x.iloc[:, 1])\n",
    "        .iloc[:, -1]\n",
    "    )\n",
    "\n",
    "    sort_distance = (region_indu_prod\n",
    "                     .droplevel(level=[2])\n",
    "                     .iloc[:, -1]\n",
    "                     .drop_duplicates()\n",
    "                     )\n",
    "    df_Epotential = pd.concat(\n",
    "        [sort_distance, whitespace_ri], axis=1).sort_values(by='distance')\n",
    "    \n",
    "    title = 'Top {} markets: Whitespace according to \\\n",
    "    Euclidean Distance'.format(end - begin)\n",
    "\n",
    "    df_Epotential.iloc[begin:end, 1].plot.barh(\n",
    "        title=title)\n",
    "\n",
    "    return region_indu_prod, df_Epotential"
   ]
  },
  {
   "cell_type": "code",
   "execution_count": null,
   "metadata": {
    "Collapsed": "false"
   },
   "outputs": [],
   "source": [
    "def filter_distance(df, country, industry):\n",
    "    \"\"\"\n",
    "    filter the multi-index dataframe\n",
    "    and return country industry\n",
    "    \"\"\"\n",
    "    return df.loc[(country,industry)]"
   ]
  },
  {
   "cell_type": "code",
   "execution_count": null,
   "metadata": {
    "Collapsed": "false"
   },
   "outputs": [],
   "source": [
    "df_Epotential = compute_potential(\n",
    "    df = X,\n",
    "    normalized =  False,\n",
    "                  begin = 80,\n",
    "                  end = 92)"
   ]
  },
  {
   "cell_type": "code",
   "execution_count": null,
   "metadata": {
    "Collapsed": "false"
   },
   "outputs": [],
   "source": [
    "filter_distance(df =df_Epotential[0],\n",
    "                country = 'Americas',\n",
    "                industry = 'E')"
   ]
  }
 ],
 "metadata": {
  "kernelspec": {
   "display_name": "Python 3",
   "language": "python",
   "name": "python3"
  },
  "language_info": {
   "codemirror_mode": {
    "name": "ipython",
    "version": 3
   },
   "file_extension": ".py",
   "mimetype": "text/x-python",
   "name": "python",
   "nbconvert_exporter": "python",
   "pygments_lexer": "ipython3",
   "version": "3.7.3"
  }
 },
 "nbformat": 4,
 "nbformat_minor": 4
}
