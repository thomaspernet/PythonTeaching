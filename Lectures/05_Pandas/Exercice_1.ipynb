{
 "cells": [
  {
   "cell_type": "markdown",
   "metadata": {
    "Collapsed": "false"
   },
   "source": [
    "# Real world Data\n",
    "\n",
    "## Data source \n",
    "\n",
    "Basically, the dataset tree is the following:\n",
    "\n",
    "- Region\n",
    "    - Country\n",
    "        - Industry\n",
    "            - Client \n",
    "                - Products\n",
    "                \n",
    "## Variables name\n",
    "\n",
    "|  Variable name        |  Type   |\n",
    "| --------------------- | ------- |\n",
    "| ID                    |  object |\n",
    "| Country_name          | object  |\n",
    "| country_ref           | object  |\n",
    "| Region                | object  |\n",
    "| industry              | object  |\n",
    "| A_reference           | float64 |\n",
    "| A_market              | float64 |\n",
    "| B_reference           | float64 |\n",
    "| B_market              | float64 |\n",
    "| C_reference           | float64 |\n",
    "| C_market              | float64 |\n",
    "| D_reference           | float64 |\n",
    "| D_market              | float64 |\n",
    "| E_reference           | float64 |\n",
    "| E_market              | float64 |\n",
    "| Total_reference       | float64 |\n",
    "| Total_market          | float64 |\n",
    "\n",
    "Note that, the market includes the reference"
   ]
  },
  {
   "cell_type": "code",
   "execution_count": 8,
   "metadata": {
    "Collapsed": "false"
   },
   "outputs": [],
   "source": [
    "import pandas as pd\n",
    "#import plotly.express as px\n",
    "import numpy as np\n",
    "\n",
    "import seaborn as sns\n",
    "\n",
    "cm = sns.light_palette(\"green\", as_cmap=True)"
   ]
  },
  {
   "cell_type": "code",
   "execution_count": 7,
   "metadata": {
    "Collapsed": "false"
   },
   "outputs": [
    {
     "data": {
      "text/html": [
       "<div>\n",
       "<style scoped>\n",
       "    .dataframe tbody tr th:only-of-type {\n",
       "        vertical-align: middle;\n",
       "    }\n",
       "\n",
       "    .dataframe tbody tr th {\n",
       "        vertical-align: top;\n",
       "    }\n",
       "\n",
       "    .dataframe thead th {\n",
       "        text-align: right;\n",
       "    }\n",
       "</style>\n",
       "<table border=\"1\" class=\"dataframe\">\n",
       "  <thead>\n",
       "    <tr style=\"text-align: right;\">\n",
       "      <th></th>\n",
       "      <th>ID</th>\n",
       "      <th>Country_name</th>\n",
       "      <th>country_ref</th>\n",
       "      <th>Region</th>\n",
       "      <th>industry</th>\n",
       "      <th>A_reference</th>\n",
       "      <th>A_market</th>\n",
       "      <th>B_reference</th>\n",
       "      <th>B_market</th>\n",
       "      <th>C_reference</th>\n",
       "      <th>C_market</th>\n",
       "      <th>D_reference</th>\n",
       "      <th>D_market</th>\n",
       "      <th>E_reference</th>\n",
       "      <th>E_market</th>\n",
       "      <th>Total_reference</th>\n",
       "      <th>Total_market</th>\n",
       "    </tr>\n",
       "  </thead>\n",
       "  <tbody>\n",
       "    <tr>\n",
       "      <th>17838</th>\n",
       "      <td>Customer 26</td>\n",
       "      <td>France</td>\n",
       "      <td>FRA</td>\n",
       "      <td>Northern Europe</td>\n",
       "      <td>E</td>\n",
       "      <td>0.0</td>\n",
       "      <td>0.021079</td>\n",
       "      <td>0.0</td>\n",
       "      <td>0.022423</td>\n",
       "      <td>0.014117</td>\n",
       "      <td>0.011362</td>\n",
       "      <td>0.000000</td>\n",
       "      <td>0.0</td>\n",
       "      <td>0.000000</td>\n",
       "      <td>0.006941</td>\n",
       "      <td>0.014117</td>\n",
       "      <td>0.026173</td>\n",
       "    </tr>\n",
       "    <tr>\n",
       "      <th>17839</th>\n",
       "      <td>Customer 179</td>\n",
       "      <td>France</td>\n",
       "      <td>FRA</td>\n",
       "      <td>Northern Europe</td>\n",
       "      <td>F</td>\n",
       "      <td>0.0</td>\n",
       "      <td>0.030429</td>\n",
       "      <td>0.0</td>\n",
       "      <td>0.031626</td>\n",
       "      <td>0.019732</td>\n",
       "      <td>0.007305</td>\n",
       "      <td>0.000000</td>\n",
       "      <td>0.0</td>\n",
       "      <td>0.000000</td>\n",
       "      <td>0.010120</td>\n",
       "      <td>0.019732</td>\n",
       "      <td>0.036985</td>\n",
       "    </tr>\n",
       "    <tr>\n",
       "      <th>17840</th>\n",
       "      <td>Customer 466</td>\n",
       "      <td>France</td>\n",
       "      <td>FRA</td>\n",
       "      <td>Northern Europe</td>\n",
       "      <td>F</td>\n",
       "      <td>0.0</td>\n",
       "      <td>0.019698</td>\n",
       "      <td>0.0</td>\n",
       "      <td>0.019538</td>\n",
       "      <td>0.000000</td>\n",
       "      <td>0.006372</td>\n",
       "      <td>0.009543</td>\n",
       "      <td>0.0</td>\n",
       "      <td>0.000000</td>\n",
       "      <td>0.005355</td>\n",
       "      <td>0.009543</td>\n",
       "      <td>0.023379</td>\n",
       "    </tr>\n",
       "    <tr>\n",
       "      <th>17841</th>\n",
       "      <td>Customer 17</td>\n",
       "      <td>France</td>\n",
       "      <td>FRA</td>\n",
       "      <td>Northern Europe</td>\n",
       "      <td>G</td>\n",
       "      <td>0.0</td>\n",
       "      <td>0.035382</td>\n",
       "      <td>0.0</td>\n",
       "      <td>0.034993</td>\n",
       "      <td>0.000000</td>\n",
       "      <td>0.011441</td>\n",
       "      <td>0.000000</td>\n",
       "      <td>0.0</td>\n",
       "      <td>0.007481</td>\n",
       "      <td>0.009465</td>\n",
       "      <td>0.007481</td>\n",
       "      <td>0.041933</td>\n",
       "    </tr>\n",
       "    <tr>\n",
       "      <th>17842</th>\n",
       "      <td>Customer 60</td>\n",
       "      <td>France</td>\n",
       "      <td>FRA</td>\n",
       "      <td>Northern Europe</td>\n",
       "      <td>H</td>\n",
       "      <td>0.0</td>\n",
       "      <td>0.019360</td>\n",
       "      <td>0.0</td>\n",
       "      <td>0.019297</td>\n",
       "      <td>0.000000</td>\n",
       "      <td>0.009319</td>\n",
       "      <td>0.000000</td>\n",
       "      <td>0.0</td>\n",
       "      <td>0.004824</td>\n",
       "      <td>0.006501</td>\n",
       "      <td>0.004824</td>\n",
       "      <td>0.023175</td>\n",
       "    </tr>\n",
       "  </tbody>\n",
       "</table>\n",
       "</div>"
      ],
      "text/plain": [
       "                 ID Country_name country_ref           Region industry  \\\n",
       "17838   Customer 26       France         FRA  Northern Europe        E   \n",
       "17839  Customer 179       France         FRA  Northern Europe        F   \n",
       "17840  Customer 466       France         FRA  Northern Europe        F   \n",
       "17841   Customer 17       France         FRA  Northern Europe        G   \n",
       "17842   Customer 60       France         FRA  Northern Europe        H   \n",
       "\n",
       "       A_reference  A_market  B_reference  B_market  C_reference  C_market  \\\n",
       "17838          0.0  0.021079          0.0  0.022423     0.014117  0.011362   \n",
       "17839          0.0  0.030429          0.0  0.031626     0.019732  0.007305   \n",
       "17840          0.0  0.019698          0.0  0.019538     0.000000  0.006372   \n",
       "17841          0.0  0.035382          0.0  0.034993     0.000000  0.011441   \n",
       "17842          0.0  0.019360          0.0  0.019297     0.000000  0.009319   \n",
       "\n",
       "       D_reference  D_market  E_reference  E_market  Total_reference  \\\n",
       "17838     0.000000       0.0     0.000000  0.006941         0.014117   \n",
       "17839     0.000000       0.0     0.000000  0.010120         0.019732   \n",
       "17840     0.009543       0.0     0.000000  0.005355         0.009543   \n",
       "17841     0.000000       0.0     0.007481  0.009465         0.007481   \n",
       "17842     0.000000       0.0     0.004824  0.006501         0.004824   \n",
       "\n",
       "       Total_market  \n",
       "17838      0.026173  \n",
       "17839      0.036985  \n",
       "17840      0.023379  \n",
       "17841      0.041933  \n",
       "17842      0.023175  "
      ]
     },
     "execution_count": 7,
     "metadata": {},
     "output_type": "execute_result"
    }
   ],
   "source": [
    "df_final = pd.read_csv('dataPandasClass.gz')\n",
    "df_final.tail()"
   ]
  },
  {
   "cell_type": "markdown",
   "metadata": {
    "Collapsed": "false"
   },
   "source": [
    "## Objectives\n",
    "\n",
    "In this notebook, you need to:\n",
    "\n",
    "- Print the country name by region\n",
    "- Compute the market size for the reference by:\n",
    "    - Product\n",
    "    - Industry\n",
    "    - Region\n",
    "- Industry Market size by product\n",
    "- Region Market size by product\n",
    "- Region Market size by industry\n",
    "\n",
    "For all the above computation compute the market share of `reference`\n",
    "\n",
    "- Remove Region-industry with no revenue\n",
    "- Compute Euclidean Distance by Region-industry-product\n",
    "- Filter the data by Region-industry-product\n",
    "\n",
    "**the market share :Revenue to potential**\n",
    "\n",
    "$$\\text{Market share} = \\sum  \\text{Revenue Reference} / \\sum \\text{Total Market} $$"
   ]
  },
  {
   "cell_type": "markdown",
   "metadata": {
    "Collapsed": "false"
   },
   "source": [
    "## Parameters"
   ]
  },
  {
   "cell_type": "code",
   "execution_count": 13,
   "metadata": {
    "Collapsed": "false"
   },
   "outputs": [],
   "source": [
    "reference = [\n",
    "    \"A_reference\",\n",
    "    \"B_reference\",\n",
    "    \"C_reference\",\n",
    "    \"D_reference\",\n",
    "    \"E_reference\",\n",
    "]\n",
    "market = [\n",
    "    \"A_market\",\n",
    "    \"B_market\",\n",
    "    \"C_market\",\n",
    "    \"D_market\",\n",
    "    \"E_market\",\n",
    "]"
   ]
  },
  {
   "cell_type": "code",
   "execution_count": 15,
   "metadata": {
    "Collapsed": "false"
   },
   "outputs": [
    {
     "data": {
      "text/html": [
       "<div>\n",
       "<style scoped>\n",
       "    .dataframe tbody tr th:only-of-type {\n",
       "        vertical-align: middle;\n",
       "    }\n",
       "\n",
       "    .dataframe tbody tr th {\n",
       "        vertical-align: top;\n",
       "    }\n",
       "\n",
       "    .dataframe thead th {\n",
       "        text-align: right;\n",
       "    }\n",
       "</style>\n",
       "<table border=\"1\" class=\"dataframe\">\n",
       "  <thead>\n",
       "    <tr style=\"text-align: right;\">\n",
       "      <th></th>\n",
       "      <th>A_reference</th>\n",
       "      <th>B_reference</th>\n",
       "      <th>C_reference</th>\n",
       "      <th>D_reference</th>\n",
       "      <th>E_reference</th>\n",
       "    </tr>\n",
       "  </thead>\n",
       "  <tbody>\n",
       "    <tr>\n",
       "      <th>0</th>\n",
       "      <td>0.0</td>\n",
       "      <td>0.0</td>\n",
       "      <td>0.0</td>\n",
       "      <td>0.0</td>\n",
       "      <td>0.0</td>\n",
       "    </tr>\n",
       "    <tr>\n",
       "      <th>1</th>\n",
       "      <td>0.0</td>\n",
       "      <td>0.0</td>\n",
       "      <td>0.0</td>\n",
       "      <td>0.0</td>\n",
       "      <td>0.0</td>\n",
       "    </tr>\n",
       "    <tr>\n",
       "      <th>2</th>\n",
       "      <td>0.0</td>\n",
       "      <td>0.0</td>\n",
       "      <td>0.0</td>\n",
       "      <td>0.0</td>\n",
       "      <td>0.0</td>\n",
       "    </tr>\n",
       "    <tr>\n",
       "      <th>3</th>\n",
       "      <td>0.0</td>\n",
       "      <td>0.0</td>\n",
       "      <td>0.0</td>\n",
       "      <td>0.0</td>\n",
       "      <td>0.0</td>\n",
       "    </tr>\n",
       "    <tr>\n",
       "      <th>4</th>\n",
       "      <td>0.0</td>\n",
       "      <td>0.0</td>\n",
       "      <td>0.0</td>\n",
       "      <td>0.0</td>\n",
       "      <td>0.0</td>\n",
       "    </tr>\n",
       "  </tbody>\n",
       "</table>\n",
       "</div>"
      ],
      "text/plain": [
       "   A_reference  B_reference  C_reference  D_reference  E_reference\n",
       "0          0.0          0.0          0.0          0.0          0.0\n",
       "1          0.0          0.0          0.0          0.0          0.0\n",
       "2          0.0          0.0          0.0          0.0          0.0\n",
       "3          0.0          0.0          0.0          0.0          0.0\n",
       "4          0.0          0.0          0.0          0.0          0.0"
      ]
     },
     "execution_count": 15,
     "metadata": {},
     "output_type": "execute_result"
    }
   ],
   "source": [
    "df_final[reference].head()"
   ]
  },
  {
   "cell_type": "markdown",
   "metadata": {
    "Collapsed": "false"
   },
   "source": [
    "## List country by region"
   ]
  },
  {
   "cell_type": "code",
   "execution_count": 10,
   "metadata": {
    "Collapsed": "false"
   },
   "outputs": [
    {
     "name": "stdout",
     "output_type": "stream",
     "text": [
      "\n",
      " Region name Americas \n",
      " ['United States' 'Mexico' 'Venezuela' 'Brazil' 'Argentina' 'Canada' 'Peru'\n",
      " 'Colombia' 'Uruguay' 'Chile' 'Ecuador' 'Paraguay' 'Trinidad and Tobago'\n",
      " 'Bahamas' 'Jamaica' 'Panama' 'Armenia' 'Bolivia' 'Martinique' 'Guatemala'\n",
      " 'Honduras']\n",
      "\n",
      " Region name Asia Pacific \n",
      " ['Australia' 'new Zealand' 'Japan' 'China' 'India' 'Indonesia' 'Pakistan'\n",
      " 'Singapore' 'Vietnam' 'Philippines' 'Hong Kong' 'Korea' 'Thailand'\n",
      " 'Malaysia' 'Taiwan' 'Kazakhstan' 'Bangladesh' 'Macao' 'Sri Lanka'\n",
      " 'Kiribati']\n",
      "\n",
      " Region name Central Europe \n",
      " ['Germany' 'Czech' 'Hungary' 'Poland' 'Slovak Republic' 'Romania'\n",
      " 'Lithuania' 'Estonia' 'Switzerland' 'Austria' 'The Russian Federation'\n",
      " 'Slovenia' 'Bulgaria' 'Ukraine' 'Croatia' 'Latvia' 'Montenegro'\n",
      " 'Federal Republic of Yugoslavia' 'Belarus' 'Georgia' 'Moldova']\n",
      "\n",
      " Region name Middle East & Africa \n",
      " ['Ghana' 'South Africa' 'Tanzania' 'Kenya' 'Egypt' 'Mozambique' 'Congo'\n",
      " 'Qatar' 'Lesotho' 'Saudi Arabia' 'Kuwait' 'Nigeria' 'Costa Rica' 'Mali'\n",
      " 'United Arab Emirates' 'Morocco' 'Uganda' 'Zimbabwe' 'Lebanon' 'Oman'\n",
      " 'Tunisia' 'Namibia' 'Bahamas' 'Israel' 'Papua New Guinea' 'Afghanistan'\n",
      " 'Zambia']\n",
      "\n",
      " Region name Northern Europe \n",
      " ['Netherlands' 'United Kingdom' 'Ireland' 'Finland' 'France' 'Sweden'\n",
      " 'Belgium' 'Denmark' 'Luxembourg' 'Norway' 'Monaco']\n",
      "\n",
      " Region name Southern Europe \n",
      " ['Spain' 'Italy' 'Turkey' 'Portugal' 'Greece' 'Malta' 'Albania' 'Cyprus'\n",
      " 'Gibraltar']\n"
     ]
    }
   ],
   "source": [
    "for c in df_final['Region'].sort_values().unique():\n",
    "\n",
    "    countries = df_final[df_final['Region'].isin(\n",
    "        [c])]['Country_name'].unique()\n",
    "\n",
    "    print('\\n Region name {} \\n {}'.format(c, countries))"
   ]
  },
  {
   "cell_type": "markdown",
   "metadata": {
    "Collapsed": "false"
   },
   "source": [
    "# Top level"
   ]
  },
  {
   "cell_type": "markdown",
   "metadata": {
    "Collapsed": "false"
   },
   "source": [
    "## Product Market size"
   ]
  },
  {
   "cell_type": "code",
   "execution_count": 29,
   "metadata": {
    "Collapsed": "false"
   },
   "outputs": [
    {
     "data": {
      "text/html": [
       "<style  type=\"text/css\" >\n",
       "    #T_c0271af6_ec39_11e9_9033_acde48001122row0_col2 {\n",
       "            width:  10em;\n",
       "             height:  80%;\n",
       "        }    #T_c0271af6_ec39_11e9_9033_acde48001122row1_col2 {\n",
       "            width:  10em;\n",
       "             height:  80%;\n",
       "            background:  linear-gradient(90deg,#d65f5f 4.8%, transparent 4.8%);\n",
       "        }    #T_c0271af6_ec39_11e9_9033_acde48001122row2_col2 {\n",
       "            width:  10em;\n",
       "             height:  80%;\n",
       "            background:  linear-gradient(90deg,#d65f5f 7.1%, transparent 7.1%);\n",
       "        }    #T_c0271af6_ec39_11e9_9033_acde48001122row3_col2 {\n",
       "            width:  10em;\n",
       "             height:  80%;\n",
       "            background:  linear-gradient(90deg,#d65f5f 17.4%, transparent 17.4%);\n",
       "        }    #T_c0271af6_ec39_11e9_9033_acde48001122row4_col2 {\n",
       "            width:  10em;\n",
       "             height:  80%;\n",
       "            background:  linear-gradient(90deg,#d65f5f 100.0%, transparent 100.0%);\n",
       "        }</style><table id=\"T_c0271af6_ec39_11e9_9033_acde48001122\" ><thead>    <tr>        <th class=\"blank level0\" ></th>        <th class=\"col_heading level0 col0\" colspan=2>sum_product</th>        <th class=\"col_heading level0 col2\" >market_size</th>    </tr>    <tr>        <th class=\"index_name level1\" >origin</th>        <th class=\"col_heading level1 col0\" >_market</th>        <th class=\"col_heading level1 col1\" >_reference</th>        <th class=\"col_heading level1 col2\" ></th>    </tr>    <tr>        <th class=\"index_name level0\" >product</th>        <th class=\"blank\" ></th>        <th class=\"blank\" ></th>        <th class=\"blank\" ></th>    </tr></thead><tbody>\n",
       "                <tr>\n",
       "                        <th id=\"T_c0271af6_ec39_11e9_9033_acde48001122level0_row0\" class=\"row_heading level0 row0\" >B</th>\n",
       "                        <td id=\"T_c0271af6_ec39_11e9_9033_acde48001122row0_col0\" class=\"data row0 col0\" >199.103</td>\n",
       "                        <td id=\"T_c0271af6_ec39_11e9_9033_acde48001122row0_col1\" class=\"data row0 col1\" >2.15314</td>\n",
       "                        <td id=\"T_c0271af6_ec39_11e9_9033_acde48001122row0_col2\" class=\"data row0 col2\" >1.08%</td>\n",
       "            </tr>\n",
       "            <tr>\n",
       "                        <th id=\"T_c0271af6_ec39_11e9_9033_acde48001122level0_row1\" class=\"row_heading level0 row1\" >E</th>\n",
       "                        <td id=\"T_c0271af6_ec39_11e9_9033_acde48001122row1_col0\" class=\"data row1 col0\" >100.21</td>\n",
       "                        <td id=\"T_c0271af6_ec39_11e9_9033_acde48001122row1_col1\" class=\"data row1 col1\" >3.46428</td>\n",
       "                        <td id=\"T_c0271af6_ec39_11e9_9033_acde48001122row1_col2\" class=\"data row1 col2\" >3.46%</td>\n",
       "            </tr>\n",
       "            <tr>\n",
       "                        <th id=\"T_c0271af6_ec39_11e9_9033_acde48001122level0_row2\" class=\"row_heading level0 row2\" >C</th>\n",
       "                        <td id=\"T_c0271af6_ec39_11e9_9033_acde48001122row2_col0\" class=\"data row2 col0\" >140.024</td>\n",
       "                        <td id=\"T_c0271af6_ec39_11e9_9033_acde48001122row2_col1\" class=\"data row2 col1\" >6.42883</td>\n",
       "                        <td id=\"T_c0271af6_ec39_11e9_9033_acde48001122row2_col2\" class=\"data row2 col2\" >4.59%</td>\n",
       "            </tr>\n",
       "            <tr>\n",
       "                        <th id=\"T_c0271af6_ec39_11e9_9033_acde48001122level0_row3\" class=\"row_heading level0 row3\" >A</th>\n",
       "                        <td id=\"T_c0271af6_ec39_11e9_9033_acde48001122row3_col0\" class=\"data row3 col0\" >303.405</td>\n",
       "                        <td id=\"T_c0271af6_ec39_11e9_9033_acde48001122row3_col1\" class=\"data row3 col1\" >29.2571</td>\n",
       "                        <td id=\"T_c0271af6_ec39_11e9_9033_acde48001122row3_col2\" class=\"data row3 col2\" >9.64%</td>\n",
       "            </tr>\n",
       "            <tr>\n",
       "                        <th id=\"T_c0271af6_ec39_11e9_9033_acde48001122level0_row4\" class=\"row_heading level0 row4\" >D</th>\n",
       "                        <td id=\"T_c0271af6_ec39_11e9_9033_acde48001122row4_col0\" class=\"data row4 col0\" >116.118</td>\n",
       "                        <td id=\"T_c0271af6_ec39_11e9_9033_acde48001122row4_col1\" class=\"data row4 col1\" >58.3886</td>\n",
       "                        <td id=\"T_c0271af6_ec39_11e9_9033_acde48001122row4_col2\" class=\"data row4 col2\" >50.28%</td>\n",
       "            </tr>\n",
       "    </tbody></table>"
      ],
      "text/plain": [
       "<pandas.io.formats.style.Styler at 0x1a18cc2dd8>"
      ]
     },
     "execution_count": 29,
     "metadata": {},
     "output_type": "execute_result"
    }
   ],
   "source": [
    "(df_final[reference + market]\n",
    " .sum(axis = 0)\n",
    " .reset_index(name = 'sum_product')\n",
    " .assign(origin = lambda x: x['index'].str.extract(r\"(_[^_]+$)\"),\n",
    "         product = lambda x: x['index'].str.extract(r\"(^[^_]+(?=_))\"))\n",
    " .drop(columns = 'index')\n",
    " .sort_values(by = \"product\")\n",
    " .set_index(['product', 'origin'])\n",
    " .unstack(level = 1)\n",
    " .assign(market_size = lambda x: x.iloc[:, 1] / x.iloc[:, 0])\n",
    " .sort_values(by = 'market_size')\n",
    " .style\n",
    " .bar(subset=['market_size'], color='#d65f5f')\n",
    " .format(\"{:.2%}\", subset=['market_size'])\n",
    ")"
   ]
  },
  {
   "cell_type": "markdown",
   "metadata": {
    "Collapsed": "false"
   },
   "source": [
    "## Industry Market size"
   ]
  },
  {
   "cell_type": "code",
   "execution_count": 30,
   "metadata": {
    "Collapsed": "false"
   },
   "outputs": [
    {
     "data": {
      "text/html": [
       "<style  type=\"text/css\" >\n",
       "    #T_00eac716_ec3c_11e9_9033_acde48001122row0_col2 {\n",
       "            width:  10em;\n",
       "             height:  80%;\n",
       "        }    #T_00eac716_ec3c_11e9_9033_acde48001122row1_col2 {\n",
       "            width:  10em;\n",
       "             height:  80%;\n",
       "            background:  linear-gradient(90deg,#d65f5f 25.1%, transparent 25.1%);\n",
       "        }    #T_00eac716_ec3c_11e9_9033_acde48001122row2_col2 {\n",
       "            width:  10em;\n",
       "             height:  80%;\n",
       "            background:  linear-gradient(90deg,#d65f5f 72.1%, transparent 72.1%);\n",
       "        }    #T_00eac716_ec3c_11e9_9033_acde48001122row3_col2 {\n",
       "            width:  10em;\n",
       "             height:  80%;\n",
       "            background:  linear-gradient(90deg,#d65f5f 75.1%, transparent 75.1%);\n",
       "        }    #T_00eac716_ec3c_11e9_9033_acde48001122row4_col2 {\n",
       "            width:  10em;\n",
       "             height:  80%;\n",
       "            background:  linear-gradient(90deg,#d65f5f 76.0%, transparent 76.0%);\n",
       "        }    #T_00eac716_ec3c_11e9_9033_acde48001122row5_col2 {\n",
       "            width:  10em;\n",
       "             height:  80%;\n",
       "            background:  linear-gradient(90deg,#d65f5f 78.8%, transparent 78.8%);\n",
       "        }    #T_00eac716_ec3c_11e9_9033_acde48001122row6_col2 {\n",
       "            width:  10em;\n",
       "             height:  80%;\n",
       "            background:  linear-gradient(90deg,#d65f5f 83.4%, transparent 83.4%);\n",
       "        }    #T_00eac716_ec3c_11e9_9033_acde48001122row7_col2 {\n",
       "            width:  10em;\n",
       "             height:  80%;\n",
       "            background:  linear-gradient(90deg,#d65f5f 84.6%, transparent 84.6%);\n",
       "        }    #T_00eac716_ec3c_11e9_9033_acde48001122row8_col2 {\n",
       "            width:  10em;\n",
       "             height:  80%;\n",
       "            background:  linear-gradient(90deg,#d65f5f 85.2%, transparent 85.2%);\n",
       "        }    #T_00eac716_ec3c_11e9_9033_acde48001122row9_col2 {\n",
       "            width:  10em;\n",
       "             height:  80%;\n",
       "            background:  linear-gradient(90deg,#d65f5f 86.8%, transparent 86.8%);\n",
       "        }    #T_00eac716_ec3c_11e9_9033_acde48001122row10_col2 {\n",
       "            width:  10em;\n",
       "             height:  80%;\n",
       "            background:  linear-gradient(90deg,#d65f5f 87.4%, transparent 87.4%);\n",
       "        }    #T_00eac716_ec3c_11e9_9033_acde48001122row11_col2 {\n",
       "            width:  10em;\n",
       "             height:  80%;\n",
       "            background:  linear-gradient(90deg,#d65f5f 89.7%, transparent 89.7%);\n",
       "        }    #T_00eac716_ec3c_11e9_9033_acde48001122row12_col2 {\n",
       "            width:  10em;\n",
       "             height:  80%;\n",
       "            background:  linear-gradient(90deg,#d65f5f 90.1%, transparent 90.1%);\n",
       "        }    #T_00eac716_ec3c_11e9_9033_acde48001122row13_col2 {\n",
       "            width:  10em;\n",
       "             height:  80%;\n",
       "            background:  linear-gradient(90deg,#d65f5f 90.4%, transparent 90.4%);\n",
       "        }    #T_00eac716_ec3c_11e9_9033_acde48001122row14_col2 {\n",
       "            width:  10em;\n",
       "             height:  80%;\n",
       "            background:  linear-gradient(90deg,#d65f5f 91.6%, transparent 91.6%);\n",
       "        }    #T_00eac716_ec3c_11e9_9033_acde48001122row15_col2 {\n",
       "            width:  10em;\n",
       "             height:  80%;\n",
       "            background:  linear-gradient(90deg,#d65f5f 95.9%, transparent 95.9%);\n",
       "        }    #T_00eac716_ec3c_11e9_9033_acde48001122row16_col2 {\n",
       "            width:  10em;\n",
       "             height:  80%;\n",
       "            background:  linear-gradient(90deg,#d65f5f 99.4%, transparent 99.4%);\n",
       "        }    #T_00eac716_ec3c_11e9_9033_acde48001122row17_col2 {\n",
       "            width:  10em;\n",
       "             height:  80%;\n",
       "            background:  linear-gradient(90deg,#d65f5f 100.0%, transparent 100.0%);\n",
       "        }</style><table id=\"T_00eac716_ec3c_11e9_9033_acde48001122\" ><thead>    <tr>        <th class=\"blank level0\" ></th>        <th class=\"col_heading level0 col0\" >Total_reference</th>        <th class=\"col_heading level0 col1\" >Total_market</th>        <th class=\"col_heading level0 col2\" >revenue_to_potential</th>    </tr>    <tr>        <th class=\"index_name level0\" >industry</th>        <th class=\"blank\" ></th>        <th class=\"blank\" ></th>        <th class=\"blank\" ></th>    </tr></thead><tbody>\n",
       "                <tr>\n",
       "                        <th id=\"T_00eac716_ec3c_11e9_9033_acde48001122level0_row0\" class=\"row_heading level0 row0\" >P</th>\n",
       "                        <td id=\"T_00eac716_ec3c_11e9_9033_acde48001122row0_col0\" class=\"data row0 col0\" >0</td>\n",
       "                        <td id=\"T_00eac716_ec3c_11e9_9033_acde48001122row0_col1\" class=\"data row0 col1\" >0.039431</td>\n",
       "                        <td id=\"T_00eac716_ec3c_11e9_9033_acde48001122row0_col2\" class=\"data row0 col2\" >0.00%</td>\n",
       "            </tr>\n",
       "            <tr>\n",
       "                        <th id=\"T_00eac716_ec3c_11e9_9033_acde48001122level0_row1\" class=\"row_heading level0 row1\" >R</th>\n",
       "                        <td id=\"T_00eac716_ec3c_11e9_9033_acde48001122row1_col0\" class=\"data row1 col0\" >0.143765</td>\n",
       "                        <td id=\"T_00eac716_ec3c_11e9_9033_acde48001122row1_col1\" class=\"data row1 col1\" >2.72027</td>\n",
       "                        <td id=\"T_00eac716_ec3c_11e9_9033_acde48001122row1_col2\" class=\"data row1 col2\" >5.28%</td>\n",
       "            </tr>\n",
       "            <tr>\n",
       "                        <th id=\"T_00eac716_ec3c_11e9_9033_acde48001122level0_row2\" class=\"row_heading level0 row2\" >J</th>\n",
       "                        <td id=\"T_00eac716_ec3c_11e9_9033_acde48001122row2_col0\" class=\"data row2 col0\" >4.27868</td>\n",
       "                        <td id=\"T_00eac716_ec3c_11e9_9033_acde48001122row2_col1\" class=\"data row2 col1\" >28.1474</td>\n",
       "                        <td id=\"T_00eac716_ec3c_11e9_9033_acde48001122row2_col2\" class=\"data row2 col2\" >15.20%</td>\n",
       "            </tr>\n",
       "            <tr>\n",
       "                        <th id=\"T_00eac716_ec3c_11e9_9033_acde48001122level0_row3\" class=\"row_heading level0 row3\" >D</th>\n",
       "                        <td id=\"T_00eac716_ec3c_11e9_9033_acde48001122row3_col0\" class=\"data row3 col0\" >1.8764</td>\n",
       "                        <td id=\"T_00eac716_ec3c_11e9_9033_acde48001122row3_col1\" class=\"data row3 col1\" >11.846</td>\n",
       "                        <td id=\"T_00eac716_ec3c_11e9_9033_acde48001122row3_col2\" class=\"data row3 col2\" >15.84%</td>\n",
       "            </tr>\n",
       "            <tr>\n",
       "                        <th id=\"T_00eac716_ec3c_11e9_9033_acde48001122level0_row4\" class=\"row_heading level0 row4\" >Q</th>\n",
       "                        <td id=\"T_00eac716_ec3c_11e9_9033_acde48001122row4_col0\" class=\"data row4 col0\" >0.0476717</td>\n",
       "                        <td id=\"T_00eac716_ec3c_11e9_9033_acde48001122row4_col1\" class=\"data row4 col1\" >0.297216</td>\n",
       "                        <td id=\"T_00eac716_ec3c_11e9_9033_acde48001122row4_col2\" class=\"data row4 col2\" >16.04%</td>\n",
       "            </tr>\n",
       "            <tr>\n",
       "                        <th id=\"T_00eac716_ec3c_11e9_9033_acde48001122level0_row5\" class=\"row_heading level0 row5\" >E</th>\n",
       "                        <td id=\"T_00eac716_ec3c_11e9_9033_acde48001122row5_col0\" class=\"data row5 col0\" >12.5538</td>\n",
       "                        <td id=\"T_00eac716_ec3c_11e9_9033_acde48001122row5_col1\" class=\"data row5 col1\" >75.4826</td>\n",
       "                        <td id=\"T_00eac716_ec3c_11e9_9033_acde48001122row5_col2\" class=\"data row5 col2\" >16.63%</td>\n",
       "            </tr>\n",
       "            <tr>\n",
       "                        <th id=\"T_00eac716_ec3c_11e9_9033_acde48001122level0_row6\" class=\"row_heading level0 row6\" >B</th>\n",
       "                        <td id=\"T_00eac716_ec3c_11e9_9033_acde48001122row6_col0\" class=\"data row6 col0\" >4.35818</td>\n",
       "                        <td id=\"T_00eac716_ec3c_11e9_9033_acde48001122row6_col1\" class=\"data row6 col1\" >24.7767</td>\n",
       "                        <td id=\"T_00eac716_ec3c_11e9_9033_acde48001122row6_col2\" class=\"data row6 col2\" >17.59%</td>\n",
       "            </tr>\n",
       "            <tr>\n",
       "                        <th id=\"T_00eac716_ec3c_11e9_9033_acde48001122level0_row7\" class=\"row_heading level0 row7\" >C</th>\n",
       "                        <td id=\"T_00eac716_ec3c_11e9_9033_acde48001122row7_col0\" class=\"data row7 col0\" >6.19059</td>\n",
       "                        <td id=\"T_00eac716_ec3c_11e9_9033_acde48001122row7_col1\" class=\"data row7 col1\" >34.6936</td>\n",
       "                        <td id=\"T_00eac716_ec3c_11e9_9033_acde48001122row7_col2\" class=\"data row7 col2\" >17.84%</td>\n",
       "            </tr>\n",
       "            <tr>\n",
       "                        <th id=\"T_00eac716_ec3c_11e9_9033_acde48001122level0_row8\" class=\"row_heading level0 row8\" >I</th>\n",
       "                        <td id=\"T_00eac716_ec3c_11e9_9033_acde48001122row8_col0\" class=\"data row8 col0\" >1.98264</td>\n",
       "                        <td id=\"T_00eac716_ec3c_11e9_9033_acde48001122row8_col1\" class=\"data row8 col1\" >11.0331</td>\n",
       "                        <td id=\"T_00eac716_ec3c_11e9_9033_acde48001122row8_col2\" class=\"data row8 col2\" >17.97%</td>\n",
       "            </tr>\n",
       "            <tr>\n",
       "                        <th id=\"T_00eac716_ec3c_11e9_9033_acde48001122level0_row9\" class=\"row_heading level0 row9\" >A</th>\n",
       "                        <td id=\"T_00eac716_ec3c_11e9_9033_acde48001122row9_col0\" class=\"data row9 col0\" >11.7772</td>\n",
       "                        <td id=\"T_00eac716_ec3c_11e9_9033_acde48001122row9_col1\" class=\"data row9 col1\" >64.3312</td>\n",
       "                        <td id=\"T_00eac716_ec3c_11e9_9033_acde48001122row9_col2\" class=\"data row9 col2\" >18.31%</td>\n",
       "            </tr>\n",
       "            <tr>\n",
       "                        <th id=\"T_00eac716_ec3c_11e9_9033_acde48001122level0_row10\" class=\"row_heading level0 row10\" >N</th>\n",
       "                        <td id=\"T_00eac716_ec3c_11e9_9033_acde48001122row10_col0\" class=\"data row10 col0\" >2.08269</td>\n",
       "                        <td id=\"T_00eac716_ec3c_11e9_9033_acde48001122row10_col1\" class=\"data row10 col1\" >11.2961</td>\n",
       "                        <td id=\"T_00eac716_ec3c_11e9_9033_acde48001122row10_col2\" class=\"data row10 col2\" >18.44%</td>\n",
       "            </tr>\n",
       "            <tr>\n",
       "                        <th id=\"T_00eac716_ec3c_11e9_9033_acde48001122level0_row11\" class=\"row_heading level0 row11\" >G</th>\n",
       "                        <td id=\"T_00eac716_ec3c_11e9_9033_acde48001122row11_col0\" class=\"data row11 col0\" >6.33151</td>\n",
       "                        <td id=\"T_00eac716_ec3c_11e9_9033_acde48001122row11_col1\" class=\"data row11 col1\" >33.4755</td>\n",
       "                        <td id=\"T_00eac716_ec3c_11e9_9033_acde48001122row11_col2\" class=\"data row11 col2\" >18.91%</td>\n",
       "            </tr>\n",
       "            <tr>\n",
       "                        <th id=\"T_00eac716_ec3c_11e9_9033_acde48001122level0_row12\" class=\"row_heading level0 row12\" >H</th>\n",
       "                        <td id=\"T_00eac716_ec3c_11e9_9033_acde48001122row12_col0\" class=\"data row12 col0\" >2.55182</td>\n",
       "                        <td id=\"T_00eac716_ec3c_11e9_9033_acde48001122row12_col1\" class=\"data row12 col1\" >13.4198</td>\n",
       "                        <td id=\"T_00eac716_ec3c_11e9_9033_acde48001122row12_col2\" class=\"data row12 col2\" >19.02%</td>\n",
       "            </tr>\n",
       "            <tr>\n",
       "                        <th id=\"T_00eac716_ec3c_11e9_9033_acde48001122level0_row13\" class=\"row_heading level0 row13\" >L</th>\n",
       "                        <td id=\"T_00eac716_ec3c_11e9_9033_acde48001122row13_col0\" class=\"data row13 col0\" >4.57646</td>\n",
       "                        <td id=\"T_00eac716_ec3c_11e9_9033_acde48001122row13_col1\" class=\"data row13 col1\" >24.0021</td>\n",
       "                        <td id=\"T_00eac716_ec3c_11e9_9033_acde48001122row13_col2\" class=\"data row13 col2\" >19.07%</td>\n",
       "            </tr>\n",
       "            <tr>\n",
       "                        <th id=\"T_00eac716_ec3c_11e9_9033_acde48001122level0_row14\" class=\"row_heading level0 row14\" >K</th>\n",
       "                        <td id=\"T_00eac716_ec3c_11e9_9033_acde48001122row14_col0\" class=\"data row14 col0\" >1.46216</td>\n",
       "                        <td id=\"T_00eac716_ec3c_11e9_9033_acde48001122row14_col1\" class=\"data row14 col1\" >7.5668</td>\n",
       "                        <td id=\"T_00eac716_ec3c_11e9_9033_acde48001122row14_col2\" class=\"data row14 col2\" >19.32%</td>\n",
       "            </tr>\n",
       "            <tr>\n",
       "                        <th id=\"T_00eac716_ec3c_11e9_9033_acde48001122level0_row15\" class=\"row_heading level0 row15\" >M</th>\n",
       "                        <td id=\"T_00eac716_ec3c_11e9_9033_acde48001122row15_col0\" class=\"data row15 col0\" >1.27077</td>\n",
       "                        <td id=\"T_00eac716_ec3c_11e9_9033_acde48001122row15_col1\" class=\"data row15 col1\" >6.28248</td>\n",
       "                        <td id=\"T_00eac716_ec3c_11e9_9033_acde48001122row15_col2\" class=\"data row15 col2\" >20.23%</td>\n",
       "            </tr>\n",
       "            <tr>\n",
       "                        <th id=\"T_00eac716_ec3c_11e9_9033_acde48001122level0_row16\" class=\"row_heading level0 row16\" >F</th>\n",
       "                        <td id=\"T_00eac716_ec3c_11e9_9033_acde48001122row16_col0\" class=\"data row16 col0\" >5.46718</td>\n",
       "                        <td id=\"T_00eac716_ec3c_11e9_9033_acde48001122row16_col1\" class=\"data row16 col1\" >26.0716</td>\n",
       "                        <td id=\"T_00eac716_ec3c_11e9_9033_acde48001122row16_col2\" class=\"data row16 col2\" >20.97%</td>\n",
       "            </tr>\n",
       "            <tr>\n",
       "                        <th id=\"T_00eac716_ec3c_11e9_9033_acde48001122level0_row17\" class=\"row_heading level0 row17\" >O</th>\n",
       "                        <td id=\"T_00eac716_ec3c_11e9_9033_acde48001122row17_col0\" class=\"data row17 col0\" >0.550031</td>\n",
       "                        <td id=\"T_00eac716_ec3c_11e9_9033_acde48001122row17_col1\" class=\"data row17 col1\" >2.60744</td>\n",
       "                        <td id=\"T_00eac716_ec3c_11e9_9033_acde48001122row17_col2\" class=\"data row17 col2\" >21.09%</td>\n",
       "            </tr>\n",
       "    </tbody></table>"
      ],
      "text/plain": [
       "<pandas.io.formats.style.Styler at 0x1a187c9908>"
      ]
     },
     "execution_count": 30,
     "metadata": {},
     "output_type": "execute_result"
    }
   ],
   "source": [
    "(df_final\n",
    " .groupby('industry').agg(\n",
    "     {\n",
    "         'Total_reference': 'sum',\n",
    "         'Total_market': 'sum'})\n",
    " .assign(revenue_to_potential = lambda x:\n",
    "         x['Total_reference']/ x['Total_market'])\n",
    " .sort_values(by = 'revenue_to_potential')\n",
    " .style\n",
    " .bar(subset=['revenue_to_potential'], color='#d65f5f')\n",
    " .format(\"{:.2%}\", subset=['revenue_to_potential'])\n",
    "          )"
   ]
  },
  {
   "cell_type": "markdown",
   "metadata": {
    "Collapsed": "false"
   },
   "source": [
    "## Region Market size"
   ]
  },
  {
   "cell_type": "code",
   "execution_count": 31,
   "metadata": {
    "Collapsed": "false"
   },
   "outputs": [
    {
     "data": {
      "text/html": [
       "<style  type=\"text/css\" >\n",
       "    #T_ccb5bb84_ec3d_11e9_9033_acde48001122row0_col2 {\n",
       "            width:  10em;\n",
       "             height:  80%;\n",
       "        }    #T_ccb5bb84_ec3d_11e9_9033_acde48001122row1_col2 {\n",
       "            width:  10em;\n",
       "             height:  80%;\n",
       "            background:  linear-gradient(90deg,#d65f5f 9.3%, transparent 9.3%);\n",
       "        }    #T_ccb5bb84_ec3d_11e9_9033_acde48001122row2_col2 {\n",
       "            width:  10em;\n",
       "             height:  80%;\n",
       "            background:  linear-gradient(90deg,#d65f5f 25.5%, transparent 25.5%);\n",
       "        }    #T_ccb5bb84_ec3d_11e9_9033_acde48001122row3_col2 {\n",
       "            width:  10em;\n",
       "             height:  80%;\n",
       "            background:  linear-gradient(90deg,#d65f5f 51.9%, transparent 51.9%);\n",
       "        }    #T_ccb5bb84_ec3d_11e9_9033_acde48001122row4_col2 {\n",
       "            width:  10em;\n",
       "             height:  80%;\n",
       "            background:  linear-gradient(90deg,#d65f5f 87.1%, transparent 87.1%);\n",
       "        }    #T_ccb5bb84_ec3d_11e9_9033_acde48001122row5_col2 {\n",
       "            width:  10em;\n",
       "             height:  80%;\n",
       "            background:  linear-gradient(90deg,#d65f5f 100.0%, transparent 100.0%);\n",
       "        }</style><table id=\"T_ccb5bb84_ec3d_11e9_9033_acde48001122\" ><thead>    <tr>        <th class=\"blank level0\" ></th>        <th class=\"col_heading level0 col0\" >Total_reference</th>        <th class=\"col_heading level0 col1\" >Total_market</th>        <th class=\"col_heading level0 col2\" >revenue_to_potential</th>    </tr>    <tr>        <th class=\"index_name level0\" >Region</th>        <th class=\"blank\" ></th>        <th class=\"blank\" ></th>        <th class=\"blank\" ></th>    </tr></thead><tbody>\n",
       "                <tr>\n",
       "                        <th id=\"T_ccb5bb84_ec3d_11e9_9033_acde48001122level0_row0\" class=\"row_heading level0 row0\" >Americas</th>\n",
       "                        <td id=\"T_ccb5bb84_ec3d_11e9_9033_acde48001122row0_col0\" class=\"data row0 col0\" >0.637751</td>\n",
       "                        <td id=\"T_ccb5bb84_ec3d_11e9_9033_acde48001122row0_col1\" class=\"data row0 col1\" >48.3736</td>\n",
       "                        <td id=\"T_ccb5bb84_ec3d_11e9_9033_acde48001122row0_col2\" class=\"data row0 col2\" >1.32%</td>\n",
       "            </tr>\n",
       "            <tr>\n",
       "                        <th id=\"T_ccb5bb84_ec3d_11e9_9033_acde48001122level0_row1\" class=\"row_heading level0 row1\" >Asia Pacific</th>\n",
       "                        <td id=\"T_ccb5bb84_ec3d_11e9_9033_acde48001122row1_col0\" class=\"data row1 col0\" >3.52503</td>\n",
       "                        <td id=\"T_ccb5bb84_ec3d_11e9_9033_acde48001122row1_col1\" class=\"data row1 col1\" >68.3147</td>\n",
       "                        <td id=\"T_ccb5bb84_ec3d_11e9_9033_acde48001122row1_col2\" class=\"data row1 col2\" >5.16%</td>\n",
       "            </tr>\n",
       "            <tr>\n",
       "                        <th id=\"T_ccb5bb84_ec3d_11e9_9033_acde48001122level0_row2\" class=\"row_heading level0 row2\" >Northern Europe</th>\n",
       "                        <td id=\"T_ccb5bb84_ec3d_11e9_9033_acde48001122row2_col0\" class=\"data row2 col0\" >11.8137</td>\n",
       "                        <td id=\"T_ccb5bb84_ec3d_11e9_9033_acde48001122row2_col1\" class=\"data row2 col1\" >99.4687</td>\n",
       "                        <td id=\"T_ccb5bb84_ec3d_11e9_9033_acde48001122row2_col2\" class=\"data row2 col2\" >11.88%</td>\n",
       "            </tr>\n",
       "            <tr>\n",
       "                        <th id=\"T_ccb5bb84_ec3d_11e9_9033_acde48001122level0_row3\" class=\"row_heading level0 row3\" >Central Europe</th>\n",
       "                        <td id=\"T_ccb5bb84_ec3d_11e9_9033_acde48001122row3_col0\" class=\"data row3 col0\" >18.3242</td>\n",
       "                        <td id=\"T_ccb5bb84_ec3d_11e9_9033_acde48001122row3_col1\" class=\"data row3 col1\" >80.4991</td>\n",
       "                        <td id=\"T_ccb5bb84_ec3d_11e9_9033_acde48001122row3_col2\" class=\"data row3 col2\" >22.76%</td>\n",
       "            </tr>\n",
       "            <tr>\n",
       "                        <th id=\"T_ccb5bb84_ec3d_11e9_9033_acde48001122level0_row4\" class=\"row_heading level0 row4\" >Middle East & Africa</th>\n",
       "                        <td id=\"T_ccb5bb84_ec3d_11e9_9033_acde48001122row4_col0\" class=\"data row4 col0\" >10.7538</td>\n",
       "                        <td id=\"T_ccb5bb84_ec3d_11e9_9033_acde48001122row4_col1\" class=\"data row4 col1\" >28.8115</td>\n",
       "                        <td id=\"T_ccb5bb84_ec3d_11e9_9033_acde48001122row4_col2\" class=\"data row4 col2\" >37.32%</td>\n",
       "            </tr>\n",
       "            <tr>\n",
       "                        <th id=\"T_ccb5bb84_ec3d_11e9_9033_acde48001122level0_row5\" class=\"row_heading level0 row5\" >Southern Europe</th>\n",
       "                        <td id=\"T_ccb5bb84_ec3d_11e9_9033_acde48001122row5_col0\" class=\"data row5 col0\" >22.4471</td>\n",
       "                        <td id=\"T_ccb5bb84_ec3d_11e9_9033_acde48001122row5_col1\" class=\"data row5 col1\" >52.6215</td>\n",
       "                        <td id=\"T_ccb5bb84_ec3d_11e9_9033_acde48001122row5_col2\" class=\"data row5 col2\" >42.66%</td>\n",
       "            </tr>\n",
       "    </tbody></table>"
      ],
      "text/plain": [
       "<pandas.io.formats.style.Styler at 0x1a18ce55c0>"
      ]
     },
     "execution_count": 31,
     "metadata": {},
     "output_type": "execute_result"
    }
   ],
   "source": [
    "(df_final\n",
    " .groupby('Region').agg(\n",
    "     {\n",
    "         'Total_reference': 'sum',\n",
    "         'Total_market': 'sum'})\n",
    " .assign(revenue_to_potential = lambda x: x['Total_reference']/ x['Total_market'])\n",
    " .sort_values(by = 'revenue_to_potential')\n",
    " .style\n",
    " .format({'revenue_to_potential': \"{:.2%}\"})\n",
    " .bar(subset=['revenue_to_potential'], color='#d65f5f')\n",
    " )"
   ]
  },
  {
   "cell_type": "markdown",
   "metadata": {
    "Collapsed": "false"
   },
   "source": [
    "# Next level"
   ]
  },
  {
   "cell_type": "markdown",
   "metadata": {
    "Collapsed": "false"
   },
   "source": [
    "## Industry Market size by product"
   ]
  },
  {
   "cell_type": "code",
   "execution_count": null,
   "metadata": {
    "Collapsed": "false"
   },
   "outputs": [],
   "source": [
    "(df_final[['industry'] + reference + market]\n",
    " .groupby('industry')\n",
    " .sum(axis = 0)\n",
    " .transpose()\n",
    " .reset_index()\n",
    " .assign(origin = lambda x: x['index'].str.extract(r\"(_[^_]+$)\"),\n",
    "        product = lambda x: x['index'].str.extract(r\"(^[^_]+(?=_))\"))\n",
    " .drop(columns = 'index')\n",
    " .sort_values(by = \"product\")\n",
    " .set_index(['product', 'origin'])\n",
    " .groupby(level = 0)\n",
    " .apply(lambda x: x.shift(1) / x )\n",
    " .dropna()\n",
    " .droplevel('origin')\n",
    " .transpose()\n",
    " .assign(total_industry = lambda x: x.sum(1))\n",
    " .sort_values(by ='total_industry')\n",
    " .drop(columns = 'total_industry')\n",
    " .style\n",
    " .format(\"{:.2%}\")\n",
    " .background_gradient(cmap=cm)\n",
    ")"
   ]
  },
  {
   "cell_type": "markdown",
   "metadata": {
    "Collapsed": "false"
   },
   "source": [
    "## Region Market size by industry"
   ]
  },
  {
   "cell_type": "code",
   "execution_count": null,
   "metadata": {
    "Collapsed": "false"
   },
   "outputs": [],
   "source": [
    "ttpotential_i = (df_final\n",
    " .groupby('industry').agg(\n",
    "     {\n",
    "         'Total_market': 'sum'})\n",
    "            )\n",
    "ttpotential_i.head()"
   ]
  },
  {
   "cell_type": "code",
   "execution_count": null,
   "metadata": {
    "Collapsed": "false"
   },
   "outputs": [],
   "source": [
    "revenue_ci = (df_final\n",
    " .groupby(['Region', 'industry']).agg(\n",
    "     {\n",
    "         'Total_reference': 'sum'}\n",
    " )\n",
    ")"
   ]
  },
  {
   "cell_type": "code",
   "execution_count": null,
   "metadata": {
    "Collapsed": "false"
   },
   "outputs": [],
   "source": [
    "region = df_final['Region'].unique()"
   ]
  },
  {
   "cell_type": "code",
   "execution_count": null,
   "metadata": {
    "Collapsed": "false"
   },
   "outputs": [],
   "source": [
    "(\n",
    "    revenue_ci.reset_index()\n",
    "    .merge(ttpotential_i.reset_index(), on=\"industry\", how=\"inner\")\n",
    "    .assign(\n",
    "        revenue_to_potential=lambda x: x[\"Total_reference\"] / x[\"Total_market\"]\n",
    "    )\n",
    "    .sort_values(by=[\"Region\", \"revenue_to_potential\"], ascending=[True, False])\n",
    "    .drop(columns=[\"Total_reference\", \"Total_market\"])\n",
    "    .pivot(index=\"industry\", columns=\"Region\", values=\"revenue_to_potential\")\n",
    "    .assign(total_industry = lambda x: x.sum(1))\n",
    "    .sort_values(by ='total_industry')\n",
    "    .fillna(0)\n",
    "    .style\n",
    "    .highlight_null('red')\n",
    "    .background_gradient(cmap=cm,\n",
    "                      subset = region)\n",
    "    .bar(subset=['total_industry'], color='#d65f5f')\n",
    ")"
   ]
  },
  {
   "cell_type": "markdown",
   "metadata": {
    "Collapsed": "false"
   },
   "source": [
    "## Correlation"
   ]
  },
  {
   "cell_type": "code",
   "execution_count": null,
   "metadata": {
    "Collapsed": "false"
   },
   "outputs": [],
   "source": [
    "df_final.corr()"
   ]
  },
  {
   "cell_type": "markdown",
   "metadata": {
    "Collapsed": "false"
   },
   "source": [
    "## Euclidean Distance\n",
    "\n",
    "## Definition Euclidean Distance\n",
    "\n",
    "According to the Euclidean distance formula, the distance between two points in the plane with coordinates (x, y), and is given by:\n",
    "\n",
    "$$\\begin{aligned} d(\\mathbf{p}, \\mathbf{q})=d(\\mathbf{q}, \\mathbf{p}) &=\\sqrt{\\left(q_{1}-p_{1}\\right)^{2}+\\left(q_{2}-p_{2}\\right)^{2}+\\cdots+\\left(q_{n}-p_{n}\\right)^{2}} \\\\ &=\\sqrt{\\sum_{i=1}^{n}\\left(q_{i}-p_{i}\\right)^{2}} \\end{aligned}$$\n",
    "\n",
    "### Example \n",
    "\n",
    "Calculate the distance between two arrays.\n",
    "\n",
    "We want to sum each column of the first array with all the columns of the second array\n",
    "\n",
    "Take an example, we want to compute the Euclidean distance of this first array:\n",
    "- [7.2, 3.6, 5.1, 2.5]: It has 4 columns and one row\n",
    "\n",
    "we will compute the Euclidean distance with all the rows of the second array. The second array has also four columns. We are substracting each columns of the first and second array respecively \n",
    "\n",
    "Exemple with the first rows of the second array:\n",
    "- [5.1, 3.5, 1.4, 0.2]\n",
    "\n",
    "The Euclidean distance is $$\\sqrt{((7.2 - 5.1)^2  + (3.6 - 3.5)^2 + (5.1 -1.4)^2 + (2.5 - 0.2)^2)}$$\n",
    "\n",
    "We repeat for all the rows\n",
    "\n",
    "## Data standardization\n",
    "\n",
    "The value of distance measures is intimately related to the scale on which measurements are made."
   ]
  },
  {
   "cell_type": "code",
   "execution_count": null,
   "metadata": {
    "Collapsed": "false"
   },
   "outputs": [],
   "source": [
    "def euclideanDistance(vect_1, vect_2):\n",
    "  \n",
    "    \"\"\"\n",
    "      Compute the Euclidean distance \n",
    "    \"\"\"\n",
    "  \n",
    "    sum_ = np.sum(np.power(vect_1 - vect_2, 2))\n",
    "  \n",
    "    euclideanD = np.sqrt(sum_)\n",
    "    return euclideanD"
   ]
  },
  {
   "cell_type": "markdown",
   "metadata": {
    "Collapsed": "false"
   },
   "source": [
    "Remove country industry pair with no remove.It will inflate the distance"
   ]
  },
  {
   "cell_type": "code",
   "execution_count": null,
   "metadata": {
    "Collapsed": "false"
   },
   "outputs": [],
   "source": [
    "indu_norevenue = (df_final\n",
    " .groupby(['Region', 'industry'])\n",
    " .agg(\n",
    "     {\n",
    "         'Total_reference': 'sum'}\n",
    " )\n",
    " .loc[lambda x: x['Total_reference'] == 0]\n",
    ")\n",
    "indu_norevenue"
   ]
  },
  {
   "cell_type": "code",
   "execution_count": null,
   "metadata": {
    "Collapsed": "false"
   },
   "outputs": [],
   "source": [
    "list_ = list(indu_norevenue.index)\n",
    "list_[0][0]"
   ]
  },
  {
   "cell_type": "code",
   "execution_count": null,
   "metadata": {
    "Collapsed": "false"
   },
   "outputs": [],
   "source": [
    "index_no = [] \n",
    "for c in  list_:\n",
    "    index_ =  df_final[(df_final['Region'] == c[0]) &\n",
    "          (df_final['industry'] == c[1])\n",
    "          ].index\n",
    "    index_no.extend(index_)"
   ]
  },
  {
   "cell_type": "code",
   "execution_count": null,
   "metadata": {
    "Collapsed": "false"
   },
   "outputs": [],
   "source": [
    "X = df_final[~df_final.index.isin(index_no)]"
   ]
  },
  {
   "cell_type": "code",
   "execution_count": null,
   "metadata": {
    "Collapsed": "false"
   },
   "outputs": [],
   "source": [
    "def compute_potential(df, normalized=True, begin=0, end=10):\n",
    "    \"\"\"\n",
    "    The fonction compute the Euclidean Distance\n",
    "    Merge the whitespace \n",
    "    and plot the results: selected points and whitespace\n",
    "    \"\"\"\n",
    "\n",
    "    # Normal\n",
    "\n",
    "    # Reshape the data\n",
    "    region_indu_prod = (df[['Region', 'industry'] + reference + market]\n",
    "                        .groupby(['Region', 'industry'])\n",
    "                        .sum(axis=0)\n",
    "                        .stack()\n",
    "                        .reset_index(name='sum')\n",
    "                        .assign(origin=lambda x: x['level_2'].str.extract(\n",
    "                            r\"(_[^_]+$)\"),\n",
    "                                product=lambda x: x['level_2'].str.extract(\n",
    "                                    r\"(^[^_]+(?=_))\"))\n",
    "                        .drop(columns='level_2')\n",
    "                        .set_index(['Region', 'industry', 'product', 'origin'\n",
    "                                    ])\n",
    "                        .unstack()\n",
    "                        .assign(norm_pot=lambda x:  (x.iloc[:, 0] -\n",
    "                                                     x.iloc[:, 0].mean())/\n",
    "                                x.iloc[:, 0].std(),\n",
    "                                norm_vod=lambda x:  (\n",
    "                                x.iloc[:, 1] - x.iloc[:, 1].mean())/\n",
    "                                x.iloc[:, 1].std(),\n",
    "                                )\n",
    "                        )\n",
    "\n",
    "    # Create distance\n",
    "    if normalized:\n",
    "        x_ = 2\n",
    "        y_ = 3\n",
    "    else:\n",
    "        x_ = 0\n",
    "        y_ = 1\n",
    "\n",
    "    region_indu_prod[\"distance\"] = region_indu_prod.groupby(\n",
    "        #['Inbound_Region', 'str']\n",
    "        level=[0, 1]\n",
    "    ).apply(lambda x: euclideanDistance(x.iloc[:, x_],\n",
    "                                        x.iloc[:, y_],\n",
    "                                        )\n",
    "            )\n",
    "\n",
    "    ### Compute whitesaoce\n",
    "    whitespace_ri = (\n",
    "        region_indu_prod\n",
    "        .iloc[:, :2]\n",
    "        .droplevel('product')\n",
    "        .groupby(level=[0, 1])\n",
    "        .sum()\n",
    "        .assign(whitespace=lambda x: x.iloc[:, 0] - x.iloc[:, 1])\n",
    "        .iloc[:, -1]\n",
    "    )\n",
    "\n",
    "    sort_distance = (region_indu_prod\n",
    "                     .droplevel(level=[2])\n",
    "                     .iloc[:, -1]\n",
    "                     .drop_duplicates()\n",
    "                     )\n",
    "    df_Epotential = pd.concat(\n",
    "        [sort_distance, whitespace_ri], axis=1).sort_values(by='distance')\n",
    "    \n",
    "    title = 'Top {} markets: Whitespace according to \\\n",
    "    Euclidean Distance'.format(end - begin)\n",
    "\n",
    "    df_Epotential.iloc[begin:end, 1].plot.barh(\n",
    "        title=title)\n",
    "\n",
    "    return region_indu_prod, df_Epotential"
   ]
  },
  {
   "cell_type": "code",
   "execution_count": null,
   "metadata": {
    "Collapsed": "false"
   },
   "outputs": [],
   "source": [
    "def filter_distance(df, country, industry):\n",
    "    \"\"\"\n",
    "    filter the multi-index dataframe\n",
    "    and return country industry\n",
    "    \"\"\"\n",
    "    return df.loc[(country,industry)]"
   ]
  },
  {
   "cell_type": "code",
   "execution_count": null,
   "metadata": {
    "Collapsed": "false"
   },
   "outputs": [],
   "source": [
    "df_Epotential = compute_potential(\n",
    "    df = X,\n",
    "    normalized =  False,\n",
    "                  begin = 80,\n",
    "                  end = 92)"
   ]
  },
  {
   "cell_type": "code",
   "execution_count": null,
   "metadata": {
    "Collapsed": "false"
   },
   "outputs": [],
   "source": [
    "filter_distance(df =df_Epotential[0],\n",
    "                country = 'Americas',\n",
    "                industry = 'E')"
   ]
  }
 ],
 "metadata": {
  "kernelspec": {
   "display_name": "Python 3",
   "language": "python",
   "name": "python3"
  },
  "language_info": {
   "codemirror_mode": {
    "name": "ipython",
    "version": 3
   },
   "file_extension": ".py",
   "mimetype": "text/x-python",
   "name": "python",
   "nbconvert_exporter": "python",
   "pygments_lexer": "ipython3",
   "version": "3.7.3"
  }
 },
 "nbformat": 4,
 "nbformat_minor": 4
}
