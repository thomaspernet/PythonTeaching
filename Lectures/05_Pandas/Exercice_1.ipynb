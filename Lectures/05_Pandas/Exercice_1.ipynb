{
 "cells": [
  {
   "cell_type": "markdown",
   "metadata": {
    "Collapsed": "false"
   },
   "source": [
    "# Real world Data\n",
    "\n",
    "## Data source \n",
    "\n",
    "Basically, the dataset tree is the following:\n",
    "\n",
    "- Region\n",
    "    - Country\n",
    "        - Industry\n",
    "            - Client \n",
    "                - Products\n",
    "                \n",
    "## Variables name\n",
    "\n",
    "|  Variable name        |  Type   |\n",
    "| --------------------- | ------- |\n",
    "| ID                    |  object |\n",
    "| Country_name          | object  |\n",
    "| country_ref           | object  |\n",
    "| Region                | object  |\n",
    "| industry              | object  |\n",
    "| A_reference           | float64 |\n",
    "| A_market              | float64 |\n",
    "| B_reference           | float64 |\n",
    "| B_market              | float64 |\n",
    "| C_reference           | float64 |\n",
    "| C_market              | float64 |\n",
    "| D_reference           | float64 |\n",
    "| D_market              | float64 |\n",
    "| E_reference           | float64 |\n",
    "| E_market              | float64 |\n",
    "| Total_reference       | float64 |\n",
    "| Total_market          | float64 |\n",
    "\n",
    "Note that, the market includes the reference"
   ]
  },
  {
   "cell_type": "code",
   "execution_count": 1,
   "metadata": {
    "Collapsed": "false"
   },
   "outputs": [
    {
     "name": "stderr",
     "output_type": "stream",
     "text": [
      "C:\\Users\\PERNETTH\\AppData\\Local\\Continuum\\anaconda3\\lib\\site-packages\\statsmodels\\tools\\_testing.py:19: FutureWarning: pandas.util.testing is deprecated. Use the functions in the public API at pandas.testing instead.\n",
      "  import pandas.util.testing as tm\n"
     ]
    }
   ],
   "source": [
    "import pandas as pd\n",
    "#import plotly.express as px\n",
    "import numpy as np\n",
    "\n",
    "import seaborn as sns\n",
    "\n",
    "cm = sns.light_palette(\"green\", as_cmap=True)"
   ]
  },
  {
   "cell_type": "code",
   "execution_count": 2,
   "metadata": {
    "Collapsed": "false"
   },
   "outputs": [],
   "source": [
    "path = r\"C:\\Users\\PERNETTH\\Documents\\Projects\\PythonTeaching\\Lectures\\05_Pandas\\dataPandasClass.gz\""
   ]
  },
  {
   "cell_type": "code",
   "execution_count": 3,
   "metadata": {
    "Collapsed": "false"
   },
   "outputs": [
    {
     "data": {
      "text/html": [
       "<div>\n",
       "<style scoped>\n",
       "    .dataframe tbody tr th:only-of-type {\n",
       "        vertical-align: middle;\n",
       "    }\n",
       "\n",
       "    .dataframe tbody tr th {\n",
       "        vertical-align: top;\n",
       "    }\n",
       "\n",
       "    .dataframe thead th {\n",
       "        text-align: right;\n",
       "    }\n",
       "</style>\n",
       "<table border=\"1\" class=\"dataframe\">\n",
       "  <thead>\n",
       "    <tr style=\"text-align: right;\">\n",
       "      <th></th>\n",
       "      <th>ID</th>\n",
       "      <th>Country_name</th>\n",
       "      <th>country_ref</th>\n",
       "      <th>Region</th>\n",
       "      <th>industry</th>\n",
       "      <th>A_reference</th>\n",
       "      <th>A_market</th>\n",
       "      <th>B_reference</th>\n",
       "      <th>B_market</th>\n",
       "      <th>C_reference</th>\n",
       "      <th>C_market</th>\n",
       "      <th>D_reference</th>\n",
       "      <th>D_market</th>\n",
       "      <th>E_reference</th>\n",
       "      <th>E_market</th>\n",
       "      <th>Total_reference</th>\n",
       "      <th>Total_market</th>\n",
       "    </tr>\n",
       "  </thead>\n",
       "  <tbody>\n",
       "    <tr>\n",
       "      <th>0</th>\n",
       "      <td>Customer 620</td>\n",
       "      <td>Australia</td>\n",
       "      <td>AUS</td>\n",
       "      <td>Asia Pacific</td>\n",
       "      <td>A</td>\n",
       "      <td>0.0</td>\n",
       "      <td>0.007258</td>\n",
       "      <td>0.0</td>\n",
       "      <td>0.010424</td>\n",
       "      <td>0.0</td>\n",
       "      <td>0.021051</td>\n",
       "      <td>0.0</td>\n",
       "      <td>0.001752</td>\n",
       "      <td>0.0</td>\n",
       "      <td>0.005433</td>\n",
       "      <td>0.0</td>\n",
       "      <td>0.021454</td>\n",
       "    </tr>\n",
       "    <tr>\n",
       "      <th>1</th>\n",
       "      <td>Customer 1070</td>\n",
       "      <td>Australia</td>\n",
       "      <td>AUS</td>\n",
       "      <td>Asia Pacific</td>\n",
       "      <td>A</td>\n",
       "      <td>0.0</td>\n",
       "      <td>0.009222</td>\n",
       "      <td>0.0</td>\n",
       "      <td>0.018054</td>\n",
       "      <td>0.0</td>\n",
       "      <td>0.021051</td>\n",
       "      <td>0.0</td>\n",
       "      <td>0.009690</td>\n",
       "      <td>0.0</td>\n",
       "      <td>0.008571</td>\n",
       "      <td>0.0</td>\n",
       "      <td>0.023859</td>\n",
       "    </tr>\n",
       "    <tr>\n",
       "      <th>2</th>\n",
       "      <td>Customer 25</td>\n",
       "      <td>Australia</td>\n",
       "      <td>AUS</td>\n",
       "      <td>Asia Pacific</td>\n",
       "      <td>A</td>\n",
       "      <td>0.0</td>\n",
       "      <td>0.012397</td>\n",
       "      <td>0.0</td>\n",
       "      <td>0.012396</td>\n",
       "      <td>0.0</td>\n",
       "      <td>0.002533</td>\n",
       "      <td>0.0</td>\n",
       "      <td>0.007179</td>\n",
       "      <td>0.0</td>\n",
       "      <td>0.005884</td>\n",
       "      <td>0.0</td>\n",
       "      <td>0.015037</td>\n",
       "    </tr>\n",
       "    <tr>\n",
       "      <th>3</th>\n",
       "      <td>Customer 370</td>\n",
       "      <td>Australia</td>\n",
       "      <td>AUS</td>\n",
       "      <td>Asia Pacific</td>\n",
       "      <td>B</td>\n",
       "      <td>0.0</td>\n",
       "      <td>0.012402</td>\n",
       "      <td>0.0</td>\n",
       "      <td>0.032244</td>\n",
       "      <td>0.0</td>\n",
       "      <td>0.009523</td>\n",
       "      <td>0.0</td>\n",
       "      <td>0.016637</td>\n",
       "      <td>0.0</td>\n",
       "      <td>0.016271</td>\n",
       "      <td>0.0</td>\n",
       "      <td>0.033501</td>\n",
       "    </tr>\n",
       "    <tr>\n",
       "      <th>4</th>\n",
       "      <td>Customer 597</td>\n",
       "      <td>Australia</td>\n",
       "      <td>AUS</td>\n",
       "      <td>Asia Pacific</td>\n",
       "      <td>C</td>\n",
       "      <td>0.0</td>\n",
       "      <td>0.014409</td>\n",
       "      <td>0.0</td>\n",
       "      <td>0.015047</td>\n",
       "      <td>0.0</td>\n",
       "      <td>0.010695</td>\n",
       "      <td>0.0</td>\n",
       "      <td>0.009601</td>\n",
       "      <td>0.0</td>\n",
       "      <td>0.010526</td>\n",
       "      <td>0.0</td>\n",
       "      <td>0.018923</td>\n",
       "    </tr>\n",
       "  </tbody>\n",
       "</table>\n",
       "</div>"
      ],
      "text/plain": [
       "              ID Country_name country_ref        Region industry  A_reference  \\\n",
       "0   Customer 620    Australia         AUS  Asia Pacific        A          0.0   \n",
       "1  Customer 1070    Australia         AUS  Asia Pacific        A          0.0   \n",
       "2    Customer 25    Australia         AUS  Asia Pacific        A          0.0   \n",
       "3   Customer 370    Australia         AUS  Asia Pacific        B          0.0   \n",
       "4   Customer 597    Australia         AUS  Asia Pacific        C          0.0   \n",
       "\n",
       "   A_market  B_reference  B_market  C_reference  C_market  D_reference  \\\n",
       "0  0.007258          0.0  0.010424          0.0  0.021051          0.0   \n",
       "1  0.009222          0.0  0.018054          0.0  0.021051          0.0   \n",
       "2  0.012397          0.0  0.012396          0.0  0.002533          0.0   \n",
       "3  0.012402          0.0  0.032244          0.0  0.009523          0.0   \n",
       "4  0.014409          0.0  0.015047          0.0  0.010695          0.0   \n",
       "\n",
       "   D_market  E_reference  E_market  Total_reference  Total_market  \n",
       "0  0.001752          0.0  0.005433              0.0      0.021454  \n",
       "1  0.009690          0.0  0.008571              0.0      0.023859  \n",
       "2  0.007179          0.0  0.005884              0.0      0.015037  \n",
       "3  0.016637          0.0  0.016271              0.0      0.033501  \n",
       "4  0.009601          0.0  0.010526              0.0      0.018923  "
      ]
     },
     "execution_count": 3,
     "metadata": {},
     "output_type": "execute_result"
    }
   ],
   "source": [
    "df_final = pd.read_csv(path)\n",
    "df_final.head()"
   ]
  },
  {
   "cell_type": "code",
   "execution_count": null,
   "metadata": {
    "Collapsed": "false"
   },
   "outputs": [],
   "source": [
    "list(df_final)"
   ]
  },
  {
   "cell_type": "code",
   "execution_count": null,
   "metadata": {
    "Collapsed": "false"
   },
   "outputs": [],
   "source": [
    "df_final.sort_values(by =['ID','Country_name']).head()"
   ]
  },
  {
   "cell_type": "code",
   "execution_count": null,
   "metadata": {
    "Collapsed": "false"
   },
   "outputs": [],
   "source": [
    "df_final.sort_values(by =['ID','Country_name'],\n",
    "                    ascending =[True, False]).head()"
   ]
  },
  {
   "cell_type": "code",
   "execution_count": null,
   "metadata": {
    "Collapsed": "false"
   },
   "outputs": [],
   "source": [
    "df_final.filter(like = \"_\").head()"
   ]
  },
  {
   "cell_type": "code",
   "execution_count": null,
   "metadata": {
    "Collapsed": "false"
   },
   "outputs": [],
   "source": [
    "df_final.filter(regex = \"A|a\").head(5)"
   ]
  },
  {
   "cell_type": "code",
   "execution_count": null,
   "metadata": {
    "Collapsed": "false"
   },
   "outputs": [],
   "source": [
    "df_final.filter(regex = \"A|a\").tail(5)"
   ]
  },
  {
   "cell_type": "markdown",
   "metadata": {
    "Collapsed": "false"
   },
   "source": []
  },
  {
   "cell_type": "markdown",
   "metadata": {
    "Collapsed": "false"
   },
   "source": [
    "## Objectives\n",
    "\n",
    "In this notebook, you need to:\n",
    "\n",
    "- Print the country name by region\n",
    "- Compute the market size for the reference by:\n",
    "    - Product\n",
    "    - Industry\n",
    "    - Region\n",
    "- Industry Market size by product\n",
    "- Region Market size by product\n",
    "- Region Market size by industry\n",
    "\n",
    "For all the above computation compute the market share of `reference`\n",
    "\n",
    "- Remove Region-industry with no revenue\n",
    "- Compute Euclidean Distance by Region-industry-product\n",
    "- Filter the data by Region-industry-product\n",
    "\n",
    "**the market share :Revenue to potential**\n",
    "\n",
    "$$\\text{Market share} = \\sum  \\text{Revenue Reference} / \\sum \\text{Total Market} $$"
   ]
  },
  {
   "cell_type": "markdown",
   "metadata": {
    "Collapsed": "false"
   },
   "source": [
    "## Parameters"
   ]
  },
  {
   "cell_type": "code",
   "execution_count": null,
   "metadata": {
    "Collapsed": "false"
   },
   "outputs": [],
   "source": [
    "reference = [\n",
    "    \"A_reference\",\n",
    "    \"B_reference\",\n",
    "    \"C_reference\",\n",
    "    \"D_reference\",\n",
    "    \"E_reference\",\n",
    "]\n",
    "market = [\n",
    "    \"A_market\",\n",
    "    \"B_market\",\n",
    "    \"C_market\",\n",
    "    \"D_market\",\n",
    "    \"E_market\",\n",
    "]"
   ]
  },
  {
   "cell_type": "code",
   "execution_count": null,
   "metadata": {
    "Collapsed": "false"
   },
   "outputs": [],
   "source": [
    "df_final[reference].head()"
   ]
  },
  {
   "cell_type": "code",
   "execution_count": null,
   "metadata": {
    "Collapsed": "false"
   },
   "outputs": [],
   "source": [
    "df_final.shape"
   ]
  },
  {
   "cell_type": "code",
   "execution_count": null,
   "metadata": {
    "Collapsed": "false"
   },
   "outputs": [],
   "source": [
    "df_final.shape[0]"
   ]
  },
  {
   "cell_type": "code",
   "execution_count": null,
   "metadata": {
    "Collapsed": "false"
   },
   "outputs": [],
   "source": [
    "df_final.shape[1]"
   ]
  },
  {
   "cell_type": "markdown",
   "metadata": {
    "Collapsed": "false"
   },
   "source": [
    "## List unique variables\n",
    "\n",
    "- customer\n",
    "- country\n",
    "- industry\n"
   ]
  },
  {
   "cell_type": "code",
   "execution_count": null,
   "metadata": {
    "Collapsed": "false"
   },
   "outputs": [],
   "source": [
    "df_final[['ID', 'Region', 'Country_name', 'industry']].nunique()"
   ]
  },
  {
   "cell_type": "code",
   "execution_count": null,
   "metadata": {
    "Collapsed": "false"
   },
   "outputs": [],
   "source": [
    "df_final['Region'].unique()"
   ]
  },
  {
   "cell_type": "code",
   "execution_count": null,
   "metadata": {
    "Collapsed": "false"
   },
   "outputs": [],
   "source": [
    "df_final.loc[lambda x: x['Region'].isin(['Asia Pacific'])]['Country_name'].nunique()"
   ]
  },
  {
   "cell_type": "code",
   "execution_count": null,
   "metadata": {
    "Collapsed": "false"
   },
   "outputs": [],
   "source": [
    "df_final.loc[lambda x: x['Region'].isin(['Asia Pacific'])]['Country_name'].unique()"
   ]
  },
  {
   "cell_type": "code",
   "execution_count": null,
   "metadata": {
    "Collapsed": "false"
   },
   "outputs": [],
   "source": [
    "df_final.loc[lambda x: x['Region'].isin(['Asia Pacific', 'Northern Europe'])]"
   ]
  },
  {
   "cell_type": "code",
   "execution_count": null,
   "metadata": {
    "Collapsed": "false"
   },
   "outputs": [],
   "source": [
    "list_region =  df_final['Region'].unique()\n",
    "list_region"
   ]
  },
  {
   "cell_type": "code",
   "execution_count": null,
   "metadata": {
    "Collapsed": "false"
   },
   "outputs": [],
   "source": [
    "df_final.loc[lambda x: x['Region'].isin(['Asia Pacific'])]['Country_name'].unique()"
   ]
  },
  {
   "cell_type": "code",
   "execution_count": null,
   "metadata": {
    "Collapsed": "false"
   },
   "outputs": [],
   "source": [
    "df_final.loc[lambda x: x['Region'].isin(list_region)]['Country_name'].unique()"
   ]
  },
  {
   "cell_type": "markdown",
   "metadata": {
    "Collapsed": "false"
   },
   "source": [
    "## List country by region"
   ]
  },
  {
   "cell_type": "code",
   "execution_count": null,
   "metadata": {
    "Collapsed": "false"
   },
   "outputs": [],
   "source": [
    "df_final['Region']"
   ]
  },
  {
   "cell_type": "code",
   "execution_count": null,
   "metadata": {
    "Collapsed": "false"
   },
   "outputs": [],
   "source": [
    "for r in df_final['Region'].sort_values().unique():\n",
    "\n",
    "    countries = df_final.loc[lambda x :x['Region'].isin(\n",
    "        [r])]['Country_name'].unique()\n",
    "\n",
    "    print('\\n Region name {} \\n {}'.format(r, countries))"
   ]
  },
  {
   "cell_type": "markdown",
   "metadata": {
    "Collapsed": "false"
   },
   "source": [
    "### Average of product A (A_reference) by region"
   ]
  },
  {
   "cell_type": "code",
   "execution_count": null,
   "metadata": {
    "Collapsed": "false"
   },
   "outputs": [],
   "source": [
    "for r in df_final['Region'].sort_values().unique():\n",
    "\n",
    "    countries = df_final.loc[lambda x :x['Region'].isin(\n",
    "        [r])]['A_reference'].mean()\n",
    "\n",
    "    print('\\n Region name {} \\n {:.2%}'.format(r, countries))"
   ]
  },
  {
   "cell_type": "code",
   "execution_count": null,
   "metadata": {
    "Collapsed": "false"
   },
   "outputs": [],
   "source": [
    "df_final.groupby('Region')['A_reference'].mean()"
   ]
  },
  {
   "cell_type": "code",
   "execution_count": null,
   "metadata": {
    "Collapsed": "false"
   },
   "outputs": [],
   "source": [
    "df_final.filter(regex = 'A').mean()"
   ]
  },
  {
   "cell_type": "code",
   "execution_count": null,
   "metadata": {
    "Collapsed": "false"
   },
   "outputs": [],
   "source": [
    "df_final.groupby('Region')[['A_reference', 'A_market']].mean()"
   ]
  },
  {
   "cell_type": "code",
   "execution_count": null,
   "metadata": {
    "Collapsed": "false"
   },
   "outputs": [],
   "source": [
    "df_final.filter(regex = 'Region|A|B').groupby('Region').mean()"
   ]
  },
  {
   "cell_type": "code",
   "execution_count": null,
   "metadata": {
    "Collapsed": "false"
   },
   "outputs": [],
   "source": [
    "(df_final\n",
    " .filter(regex = 'Region|A|B')# 1 -> filter\n",
    " .groupby('Region')# 2 -> group by region\n",
    " .mean()# 3 -> compute mean\n",
    " .assign( mean_a_b_ref = lambda x: x['A_reference'] - \n",
    "        x['B_reference'])# 4 -> compute mean difference\n",
    ")"
   ]
  },
  {
   "cell_type": "code",
   "execution_count": null,
   "metadata": {
    "Collapsed": "false"
   },
   "outputs": [],
   "source": [
    "(df_final\n",
    " .filter(regex = 'Region|A|B')# 1 -> filter\n",
    " .groupby('Region')# 2 -> group by region\n",
    " .mean()# 3 -> compute mean\n",
    " .assign( mean_a_b_ref = lambda x: x['A_reference'] - \n",
    "        x['B_reference'])# 4 -> compute mean difference\n",
    " .style\n",
    " .format('{:.2%}')\n",
    " .background_gradient(cmap='viridis', low=.5, high=0)\n",
    " #.to_excel('styled.xlsx', engine='openpyxl')\n",
    " #.to_csv('mean_A_B.csv')\n",
    ")"
   ]
  },
  {
   "cell_type": "markdown",
   "metadata": {
    "Collapsed": "false"
   },
   "source": [
    "## Aggregation"
   ]
  },
  {
   "cell_type": "code",
   "execution_count": 4,
   "metadata": {
    "Collapsed": "false"
   },
   "outputs": [
    {
     "data": {
      "text/plain": [
       "['ID',\n",
       " 'Country_name',\n",
       " 'country_ref',\n",
       " 'Region',\n",
       " 'industry',\n",
       " 'A_reference',\n",
       " 'A_market',\n",
       " 'B_reference',\n",
       " 'B_market',\n",
       " 'C_reference',\n",
       " 'C_market',\n",
       " 'D_reference',\n",
       " 'D_market',\n",
       " 'E_reference',\n",
       " 'E_market',\n",
       " 'Total_reference',\n",
       " 'Total_market']"
      ]
     },
     "execution_count": 4,
     "metadata": {},
     "output_type": "execute_result"
    }
   ],
   "source": [
    "list(df_final)"
   ]
  },
  {
   "cell_type": "code",
   "execution_count": 5,
   "metadata": {
    "Collapsed": "false"
   },
   "outputs": [
    {
     "data": {
      "text/html": [
       "<div>\n",
       "<style scoped>\n",
       "    .dataframe tbody tr th:only-of-type {\n",
       "        vertical-align: middle;\n",
       "    }\n",
       "\n",
       "    .dataframe tbody tr th {\n",
       "        vertical-align: top;\n",
       "    }\n",
       "\n",
       "    .dataframe thead tr th {\n",
       "        text-align: left;\n",
       "    }\n",
       "\n",
       "    .dataframe thead tr:last-of-type th {\n",
       "        text-align: right;\n",
       "    }\n",
       "</style>\n",
       "<table border=\"1\" class=\"dataframe\">\n",
       "  <thead>\n",
       "    <tr>\n",
       "      <th></th>\n",
       "      <th colspan=\"3\" halign=\"left\">A_market</th>\n",
       "    </tr>\n",
       "    <tr>\n",
       "      <th></th>\n",
       "      <th>min</th>\n",
       "      <th>max</th>\n",
       "      <th>mean</th>\n",
       "    </tr>\n",
       "    <tr>\n",
       "      <th>industry</th>\n",
       "      <th></th>\n",
       "      <th></th>\n",
       "      <th></th>\n",
       "    </tr>\n",
       "  </thead>\n",
       "  <tbody>\n",
       "    <tr>\n",
       "      <th>A</th>\n",
       "      <td>0.000000</td>\n",
       "      <td>0.110466</td>\n",
       "      <td>0.016367</td>\n",
       "    </tr>\n",
       "    <tr>\n",
       "      <th>B</th>\n",
       "      <td>0.000000</td>\n",
       "      <td>0.096551</td>\n",
       "      <td>0.018710</td>\n",
       "    </tr>\n",
       "    <tr>\n",
       "      <th>C</th>\n",
       "      <td>0.000000</td>\n",
       "      <td>0.111559</td>\n",
       "      <td>0.020423</td>\n",
       "    </tr>\n",
       "    <tr>\n",
       "      <th>D</th>\n",
       "      <td>0.000000</td>\n",
       "      <td>0.098609</td>\n",
       "      <td>0.020853</td>\n",
       "    </tr>\n",
       "    <tr>\n",
       "      <th>E</th>\n",
       "      <td>0.000000</td>\n",
       "      <td>0.105204</td>\n",
       "      <td>0.015540</td>\n",
       "    </tr>\n",
       "    <tr>\n",
       "      <th>F</th>\n",
       "      <td>0.000000</td>\n",
       "      <td>0.085167</td>\n",
       "      <td>0.016064</td>\n",
       "    </tr>\n",
       "    <tr>\n",
       "      <th>G</th>\n",
       "      <td>0.000000</td>\n",
       "      <td>0.113212</td>\n",
       "      <td>0.017728</td>\n",
       "    </tr>\n",
       "    <tr>\n",
       "      <th>H</th>\n",
       "      <td>0.000000</td>\n",
       "      <td>0.099533</td>\n",
       "      <td>0.016085</td>\n",
       "    </tr>\n",
       "    <tr>\n",
       "      <th>I</th>\n",
       "      <td>0.000000</td>\n",
       "      <td>0.085677</td>\n",
       "      <td>0.016618</td>\n",
       "    </tr>\n",
       "    <tr>\n",
       "      <th>J</th>\n",
       "      <td>0.000000</td>\n",
       "      <td>0.107822</td>\n",
       "      <td>0.018938</td>\n",
       "    </tr>\n",
       "    <tr>\n",
       "      <th>K</th>\n",
       "      <td>0.000000</td>\n",
       "      <td>0.084580</td>\n",
       "      <td>0.016543</td>\n",
       "    </tr>\n",
       "    <tr>\n",
       "      <th>L</th>\n",
       "      <td>0.000000</td>\n",
       "      <td>0.100768</td>\n",
       "      <td>0.016652</td>\n",
       "    </tr>\n",
       "    <tr>\n",
       "      <th>M</th>\n",
       "      <td>0.000000</td>\n",
       "      <td>0.083638</td>\n",
       "      <td>0.016698</td>\n",
       "    </tr>\n",
       "    <tr>\n",
       "      <th>N</th>\n",
       "      <td>0.000000</td>\n",
       "      <td>0.200853</td>\n",
       "      <td>0.013585</td>\n",
       "    </tr>\n",
       "    <tr>\n",
       "      <th>O</th>\n",
       "      <td>0.000000</td>\n",
       "      <td>0.080509</td>\n",
       "      <td>0.016396</td>\n",
       "    </tr>\n",
       "    <tr>\n",
       "      <th>P</th>\n",
       "      <td>0.011578</td>\n",
       "      <td>0.014555</td>\n",
       "      <td>0.013067</td>\n",
       "    </tr>\n",
       "    <tr>\n",
       "      <th>Q</th>\n",
       "      <td>0.008904</td>\n",
       "      <td>0.040820</td>\n",
       "      <td>0.018626</td>\n",
       "    </tr>\n",
       "    <tr>\n",
       "      <th>R</th>\n",
       "      <td>0.002743</td>\n",
       "      <td>0.103899</td>\n",
       "      <td>0.025069</td>\n",
       "    </tr>\n",
       "  </tbody>\n",
       "</table>\n",
       "</div>"
      ],
      "text/plain": [
       "          A_market                    \n",
       "               min       max      mean\n",
       "industry                              \n",
       "A         0.000000  0.110466  0.016367\n",
       "B         0.000000  0.096551  0.018710\n",
       "C         0.000000  0.111559  0.020423\n",
       "D         0.000000  0.098609  0.020853\n",
       "E         0.000000  0.105204  0.015540\n",
       "F         0.000000  0.085167  0.016064\n",
       "G         0.000000  0.113212  0.017728\n",
       "H         0.000000  0.099533  0.016085\n",
       "I         0.000000  0.085677  0.016618\n",
       "J         0.000000  0.107822  0.018938\n",
       "K         0.000000  0.084580  0.016543\n",
       "L         0.000000  0.100768  0.016652\n",
       "M         0.000000  0.083638  0.016698\n",
       "N         0.000000  0.200853  0.013585\n",
       "O         0.000000  0.080509  0.016396\n",
       "P         0.011578  0.014555  0.013067\n",
       "Q         0.008904  0.040820  0.018626\n",
       "R         0.002743  0.103899  0.025069"
      ]
     },
     "execution_count": 5,
     "metadata": {},
     "output_type": "execute_result"
    }
   ],
   "source": [
    "df_final.groupby(['industry']).agg(\n",
    "\n",
    "    {'A_market': ['min', 'max', 'mean']}\n",
    ")"
   ]
  },
  {
   "cell_type": "markdown",
   "metadata": {
    "Collapsed": "false",
    "heading_collapsed": true
   },
   "source": [
    "## Index"
   ]
  },
  {
   "cell_type": "code",
   "execution_count": null,
   "metadata": {
    "Collapsed": "false",
    "hidden": true
   },
   "outputs": [],
   "source": [
    "list(df_final)"
   ]
  },
  {
   "cell_type": "code",
   "execution_count": null,
   "metadata": {
    "Collapsed": "false",
    "hidden": true
   },
   "outputs": [],
   "source": [
    "df_final.head()"
   ]
  },
  {
   "cell_type": "code",
   "execution_count": null,
   "metadata": {
    "Collapsed": "false",
    "hidden": true
   },
   "outputs": [],
   "source": [
    "df_final.loc[:5]"
   ]
  },
  {
   "cell_type": "code",
   "execution_count": null,
   "metadata": {
    "Collapsed": "false",
    "hidden": true
   },
   "outputs": [],
   "source": [
    "df_index = df_final.set_index(['ID',\n",
    "                    'Country_name',\n",
    "                    'Region',\n",
    "                    'industry'])\n",
    "df_index.head()"
   ]
  },
  {
   "cell_type": "code",
   "execution_count": null,
   "metadata": {
    "Collapsed": "false",
    "hidden": true
   },
   "outputs": [],
   "source": [
    "#df_index.loc[0]"
   ]
  },
  {
   "cell_type": "code",
   "execution_count": null,
   "metadata": {
    "Collapsed": "false",
    "hidden": true
   },
   "outputs": [],
   "source": [
    "df_index.loc[('Customer 25')]#.mean()"
   ]
  },
  {
   "cell_type": "code",
   "execution_count": null,
   "metadata": {
    "Collapsed": "false",
    "hidden": true
   },
   "outputs": [],
   "source": [
    "df_index.loc[('Customer 25','Belgium')]"
   ]
  },
  {
   "cell_type": "code",
   "execution_count": null,
   "metadata": {
    "Collapsed": "false",
    "hidden": true
   },
   "outputs": [],
   "source": [
    "df_index.loc[('Customer 25',\n",
    "              slice(None),\n",
    "              slice(None), 'A')].head()"
   ]
  },
  {
   "cell_type": "code",
   "execution_count": null,
   "metadata": {
    "Collapsed": "false",
    "hidden": true
   },
   "outputs": [],
   "source": [
    "df_index.loc[('Customer 25',\n",
    "              slice(None),\n",
    "              slice(None), 'A'), ['A_reference', 'B_reference']].head()"
   ]
  },
  {
   "cell_type": "code",
   "execution_count": null,
   "metadata": {
    "Collapsed": "false",
    "hidden": true
   },
   "outputs": [],
   "source": [
    "df_index.xs('Belgium',\n",
    "            level='Country_name',\n",
    "            axis=0, drop_level=False).head()"
   ]
  },
  {
   "cell_type": "code",
   "execution_count": null,
   "metadata": {
    "Collapsed": "false",
    "hidden": true
   },
   "outputs": [],
   "source": [
    "df_index.xs(('Belgium'),\n",
    "            level=('Country_name'),\n",
    "            axis=0, drop_level=False).head()"
   ]
  },
  {
   "cell_type": "code",
   "execution_count": null,
   "metadata": {
    "Collapsed": "false",
    "hidden": true
   },
   "outputs": [],
   "source": [
    "df_index.loc[('Customer 25'), 'A_reference']"
   ]
  },
  {
   "cell_type": "markdown",
   "metadata": {
    "Collapsed": "true",
    "heading_collapsed": true
   },
   "source": [
    "# Top level"
   ]
  },
  {
   "cell_type": "markdown",
   "metadata": {
    "Collapsed": "false",
    "hidden": true
   },
   "source": [
    "## Product Market size"
   ]
  },
  {
   "cell_type": "code",
   "execution_count": null,
   "metadata": {
    "Collapsed": "false",
    "hidden": true
   },
   "outputs": [],
   "source": [
    "df_temp = df_final[reference + market].sum(axis = 0)\n",
    "df_temp"
   ]
  },
  {
   "cell_type": "code",
   "execution_count": null,
   "metadata": {
    "Collapsed": "false",
    "hidden": true
   },
   "outputs": [],
   "source": [
    "step_2 = df_temp.reset_index(name = 'sum_product')"
   ]
  },
  {
   "cell_type": "code",
   "execution_count": null,
   "metadata": {
    "Collapsed": "false",
    "hidden": true
   },
   "outputs": [],
   "source": [
    "step_3 = step_2.assign(origin = lambda x: x['index'].str.extract(r\"(_[^_]+$)\"),\n",
    "         product = lambda x: x['index'].str.extract(r\"(^[^_]+(?=_))\"))\n",
    "step_3"
   ]
  },
  {
   "cell_type": "code",
   "execution_count": null,
   "metadata": {
    "Collapsed": "false",
    "hidden": true
   },
   "outputs": [],
   "source": [
    "step_4 = step_3.drop(columns = 'index')\n",
    "step_4"
   ]
  },
  {
   "cell_type": "code",
   "execution_count": null,
   "metadata": {
    "Collapsed": "false",
    "hidden": true
   },
   "outputs": [],
   "source": [
    "step_5 = (step_4.sort_values(by=\"product\")\n",
    "          .set_index(['product', 'origin'])\n",
    "          )\n",
    "step_5"
   ]
  },
  {
   "cell_type": "code",
   "execution_count": null,
   "metadata": {
    "Collapsed": "false",
    "hidden": true
   },
   "outputs": [],
   "source": [
    "step_6 = step_5.unstack(level = 1)\n",
    "step_6"
   ]
  },
  {
   "cell_type": "code",
   "execution_count": null,
   "metadata": {
    "Collapsed": "false",
    "hidden": true
   },
   "outputs": [],
   "source": [
    "step_7 = step_6.assign(market_size = lambda x: x.iloc[:, 1] / x.iloc[:, 0])\n",
    "step_7"
   ]
  },
  {
   "cell_type": "code",
   "execution_count": null,
   "metadata": {
    "Collapsed": "false",
    "hidden": true
   },
   "outputs": [],
   "source": [
    "(df_final[reference + market]\n",
    " .sum(axis = 0)\n",
    " .reset_index(name = 'sum_product')\n",
    " .assign(origin = lambda x: x['index'].str.extract(r\"(_[^_]+$)\"),\n",
    "         product = lambda x: x['index'].str.extract(r\"(^[^_]+(?=_))\"))\n",
    " .drop(columns = 'index')\n",
    " .sort_values(by = \"product\")\n",
    " .set_index(['product', 'origin'])\n",
    " .unstack(level = 1)\n",
    " .assign(market_size = lambda x: x.iloc[:, 1] / x.iloc[:, 0])\n",
    " .sort_values(by = 'market_size')\n",
    " .style\n",
    " .bar(subset=['market_size'], color='#d65f5f')\n",
    " .format(\"{:.2%}\", subset=['market_size'])\n",
    ")"
   ]
  },
  {
   "cell_type": "markdown",
   "metadata": {
    "Collapsed": "false",
    "hidden": true
   },
   "source": [
    "## Industry Market size"
   ]
  },
  {
   "cell_type": "code",
   "execution_count": null,
   "metadata": {
    "Collapsed": "false",
    "hidden": true
   },
   "outputs": [],
   "source": [
    "(df_final\n",
    " .groupby('industry').agg(\n",
    "     {\n",
    "         'Total_reference': 'sum',\n",
    "         'Total_market': 'sum'})\n",
    " .assign(revenue_to_potential = lambda x:\n",
    "         x['Total_reference']/ x['Total_market'])\n",
    " .sort_values(by = 'revenue_to_potential')\n",
    " .style\n",
    " .bar(subset=['revenue_to_potential'], color='#d65f5f')\n",
    " .format(\"{:.2%}\", subset=['revenue_to_potential'])\n",
    "          )"
   ]
  },
  {
   "cell_type": "markdown",
   "metadata": {
    "Collapsed": "false",
    "hidden": true
   },
   "source": [
    "## Region Market size"
   ]
  },
  {
   "cell_type": "code",
   "execution_count": null,
   "metadata": {
    "Collapsed": "false",
    "hidden": true
   },
   "outputs": [],
   "source": [
    "(df_final\n",
    " .groupby('Region').agg(\n",
    "     {\n",
    "         'Total_reference': 'sum',\n",
    "         'Total_market': 'sum'})\n",
    " .assign(revenue_to_potential = lambda x: x['Total_reference']/ x['Total_market'])\n",
    " .sort_values(by = 'revenue_to_potential')\n",
    " .style\n",
    " .format({'revenue_to_potential': \"{:.2%}\"})\n",
    " .bar(subset=['revenue_to_potential'], color='#d65f5f')\n",
    " )"
   ]
  },
  {
   "cell_type": "markdown",
   "metadata": {
    "Collapsed": "true"
   },
   "source": [
    "# Next level"
   ]
  },
  {
   "cell_type": "markdown",
   "metadata": {
    "Collapsed": "false"
   },
   "source": [
    "## Industry Market size by product"
   ]
  },
  {
   "cell_type": "code",
   "execution_count": null,
   "metadata": {
    "Collapsed": "false"
   },
   "outputs": [],
   "source": [
    "step_1 = (df_final[['industry'] + reference + market]\n",
    "          .groupby('industry')\n",
    "          .sum(axis=0)\n",
    "          .transpose()\n",
    "          .reset_index()\n",
    "          .assign(origin = lambda x: x['index'].str.extract(r\"(_[^_]+$)\"),\n",
    "                product = lambda x: x['index'].str.extract(r\"(^[^_]+(?=_))\"))\n",
    "          )\n",
    "step_1"
   ]
  },
  {
   "cell_type": "code",
   "execution_count": null,
   "metadata": {
    "Collapsed": "false"
   },
   "outputs": [],
   "source": [
    "step_2 = (step_1.drop(columns = 'index')\n",
    " .sort_values(by = \"product\")\n",
    " .set_index(['product', 'origin'])\n",
    "         )\n",
    "step_2"
   ]
  },
  {
   "cell_type": "code",
   "execution_count": null,
   "metadata": {
    "Collapsed": "false"
   },
   "outputs": [],
   "source": [
    "#step_2.unstack(-1)"
   ]
  },
  {
   "cell_type": "code",
   "execution_count": null,
   "metadata": {
    "Collapsed": "false"
   },
   "outputs": [],
   "source": [
    "step_3 = (step_2.groupby(level=0)\n",
    "          .apply(lambda x: x.shift(1) / x)\n",
    "          .dropna()\n",
    "          )\n",
    "step_3"
   ]
  },
  {
   "cell_type": "code",
   "execution_count": null,
   "metadata": {
    "Collapsed": "false"
   },
   "outputs": [],
   "source": [
    "(step_3.droplevel('origin')\n",
    " .transpose()\n",
    " .assign(total_industry = lambda x: x.sum(1))\n",
    ")"
   ]
  },
  {
   "cell_type": "code",
   "execution_count": null,
   "metadata": {
    "Collapsed": "false"
   },
   "outputs": [],
   "source": [
    "(df_final[['industry'] + reference + market]\n",
    " .groupby('industry')\n",
    " .sum(axis = 0)\n",
    " .transpose()\n",
    " .reset_index()\n",
    " .assign(origin = lambda x: x['index'].str.extract(r\"(_[^_]+$)\"),\n",
    "        product = lambda x: x['index'].str.extract(r\"(^[^_]+(?=_))\"))\n",
    " .drop(columns = 'index')\n",
    " .sort_values(by = \"product\")\n",
    " .set_index(['product', 'origin'])\n",
    " .groupby(level = 0)\n",
    " .apply(lambda x: x.shift(1) / x )\n",
    " .dropna()\n",
    " .droplevel('origin')\n",
    " .transpose()\n",
    " .assign(total_industry = lambda x: x.sum(1))\n",
    " .sort_values(by ='total_industry')\n",
    " .drop(columns = 'total_industry')\n",
    " .style\n",
    " .format(\"{:.2%}\")\n",
    " .background_gradient(cmap=cm)\n",
    ")"
   ]
  },
  {
   "cell_type": "markdown",
   "metadata": {
    "Collapsed": "false"
   },
   "source": [
    "## Region Market size by industry"
   ]
  },
  {
   "cell_type": "code",
   "execution_count": null,
   "metadata": {
    "Collapsed": "false"
   },
   "outputs": [],
   "source": [
    "ttpotential_i = (df_final\n",
    " .groupby('industry').agg(\n",
    "     {\n",
    "         'Total_market': 'sum'})\n",
    "            )\n",
    "ttpotential_i.head()"
   ]
  },
  {
   "cell_type": "code",
   "execution_count": null,
   "metadata": {
    "Collapsed": "false"
   },
   "outputs": [],
   "source": [
    "revenue_ci = (df_final\n",
    " .groupby(['Region', 'industry']).agg(\n",
    "     {\n",
    "         'Total_reference': 'sum'}\n",
    " )\n",
    ")"
   ]
  },
  {
   "cell_type": "code",
   "execution_count": null,
   "metadata": {
    "Collapsed": "false"
   },
   "outputs": [],
   "source": [
    "region = df_final['Region'].unique()"
   ]
  },
  {
   "cell_type": "code",
   "execution_count": null,
   "metadata": {
    "Collapsed": "false"
   },
   "outputs": [],
   "source": [
    "(\n",
    "    revenue_ci.reset_index()\n",
    "    .merge(ttpotential_i.reset_index(), on=\"industry\", how=\"inner\")\n",
    "    .assign(\n",
    "        revenue_to_potential=lambda x: x[\"Total_reference\"] / x[\"Total_market\"]\n",
    "    )\n",
    "    .sort_values(by=[\"Region\", \"revenue_to_potential\"], ascending=[True, False])\n",
    "    .drop(columns=[\"Total_reference\", \"Total_market\"])\n",
    "    .pivot(index=\"industry\", columns=\"Region\", values=\"revenue_to_potential\")\n",
    "    .assign(total_industry = lambda x: x.sum(1))\n",
    "    .sort_values(by ='total_industry')\n",
    "    .fillna(0)\n",
    "    .style\n",
    "    .highlight_null('red')\n",
    "    .background_gradient(cmap=cm,\n",
    "                      subset = region)\n",
    "    .bar(subset=['total_industry'], color='#d65f5f')\n",
    ")"
   ]
  },
  {
   "cell_type": "markdown",
   "metadata": {
    "Collapsed": "false"
   },
   "source": [
    "## Correlation"
   ]
  },
  {
   "cell_type": "code",
   "execution_count": null,
   "metadata": {
    "Collapsed": "false"
   },
   "outputs": [],
   "source": [
    "df_final.corr()"
   ]
  },
  {
   "cell_type": "markdown",
   "metadata": {
    "Collapsed": "false"
   },
   "source": [
    "## Euclidean Distance\n",
    "\n",
    "## Definition Euclidean Distance\n",
    "\n",
    "According to the Euclidean distance formula, the distance between two points in the plane with coordinates (x, y), and is given by:\n",
    "\n",
    "$$\\begin{aligned} d(\\mathbf{p}, \\mathbf{q})=d(\\mathbf{q}, \\mathbf{p}) &=\\sqrt{\\left(q_{1}-p_{1}\\right)^{2}+\\left(q_{2}-p_{2}\\right)^{2}+\\cdots+\\left(q_{n}-p_{n}\\right)^{2}} \\\\ &=\\sqrt{\\sum_{i=1}^{n}\\left(q_{i}-p_{i}\\right)^{2}} \\end{aligned}$$\n",
    "\n",
    "### Example \n",
    "\n",
    "Calculate the distance between two arrays.\n",
    "\n",
    "We want to sum each column of the first array with all the columns of the second array\n",
    "\n",
    "Take an example, we want to compute the Euclidean distance of this first array:\n",
    "- [7.2, 3.6, 5.1, 2.5]: It has 4 columns and one row\n",
    "\n",
    "we will compute the Euclidean distance with all the rows of the second array. The second array has also four columns. We are substracting each columns of the first and second array respecively \n",
    "\n",
    "Exemple with the first rows of the second array:\n",
    "- [5.1, 3.5, 1.4, 0.2]\n",
    "\n",
    "The Euclidean distance is $$\\sqrt{((7.2 - 5.1)^2  + (3.6 - 3.5)^2 + (5.1 -1.4)^2 + (2.5 - 0.2)^2)}$$\n",
    "\n",
    "We repeat for all the rows\n",
    "\n",
    "## Data standardization\n",
    "\n",
    "The value of distance measures is intimately related to the scale on which measurements are made."
   ]
  },
  {
   "cell_type": "code",
   "execution_count": null,
   "metadata": {
    "Collapsed": "false"
   },
   "outputs": [],
   "source": [
    "def euclideanDistance(vect_1, vect_2):\n",
    "  \n",
    "    \"\"\"\n",
    "      Compute the Euclidean distance \n",
    "    \"\"\"\n",
    "  \n",
    "    sum_ = np.sum(np.power(vect_1 - vect_2, 2))\n",
    "  \n",
    "    euclideanD = np.sqrt(sum_)\n",
    "    return euclideanD"
   ]
  },
  {
   "cell_type": "markdown",
   "metadata": {
    "Collapsed": "false"
   },
   "source": [
    "Remove country industry pair with no remove.It will inflate the distance"
   ]
  },
  {
   "cell_type": "code",
   "execution_count": null,
   "metadata": {
    "Collapsed": "false"
   },
   "outputs": [],
   "source": [
    "indu_norevenue = (df_final\n",
    " .groupby(['Region', 'industry'])\n",
    " .agg(\n",
    "     {\n",
    "         'Total_reference': 'sum'}\n",
    " )\n",
    " .loc[lambda x: x['Total_reference'] == 0]\n",
    ")\n",
    "indu_norevenue"
   ]
  },
  {
   "cell_type": "code",
   "execution_count": null,
   "metadata": {
    "Collapsed": "false"
   },
   "outputs": [],
   "source": [
    "list_ = list(indu_norevenue.index)\n",
    "list_[0][0]"
   ]
  },
  {
   "cell_type": "code",
   "execution_count": null,
   "metadata": {
    "Collapsed": "false"
   },
   "outputs": [],
   "source": [
    "index_no = [] \n",
    "for c in  list_:\n",
    "    index_ =  df_final[(df_final['Region'] == c[0]) &\n",
    "          (df_final['industry'] == c[1])\n",
    "          ].index\n",
    "    index_no.extend(index_)"
   ]
  },
  {
   "cell_type": "code",
   "execution_count": null,
   "metadata": {
    "Collapsed": "false"
   },
   "outputs": [],
   "source": [
    "X = df_final[~df_final.index.isin(index_no)]"
   ]
  },
  {
   "cell_type": "code",
   "execution_count": null,
   "metadata": {
    "Collapsed": "false"
   },
   "outputs": [],
   "source": [
    "def compute_potential(df, normalized=True, begin=0, end=10):\n",
    "    \"\"\"\n",
    "    The fonction compute the Euclidean Distance\n",
    "    Merge the whitespace \n",
    "    and plot the results: selected points and whitespace\n",
    "    \"\"\"\n",
    "\n",
    "    # Normal\n",
    "\n",
    "    # Reshape the data\n",
    "    region_indu_prod = (df[['Region', 'industry'] + reference + market]\n",
    "                        .groupby(['Region', 'industry'])\n",
    "                        .sum(axis=0)\n",
    "                        .stack()\n",
    "                        .reset_index(name='sum')\n",
    "                        .assign(origin=lambda x: x['level_2'].str.extract(\n",
    "                            r\"(_[^_]+$)\"),\n",
    "                                product=lambda x: x['level_2'].str.extract(\n",
    "                                    r\"(^[^_]+(?=_))\"))\n",
    "                        .drop(columns='level_2')\n",
    "                        .set_index(['Region', 'industry', 'product', 'origin'\n",
    "                                    ])\n",
    "                        .unstack()\n",
    "                        .assign(norm_pot=lambda x:  (x.iloc[:, 0] -\n",
    "                                                     x.iloc[:, 0].mean())/\n",
    "                                x.iloc[:, 0].std(),\n",
    "                                norm_vod=lambda x:  (\n",
    "                                x.iloc[:, 1] - x.iloc[:, 1].mean())/\n",
    "                                x.iloc[:, 1].std(),\n",
    "                                )\n",
    "                        )\n",
    "\n",
    "    # Create distance\n",
    "    if normalized:\n",
    "        x_ = 2\n",
    "        y_ = 3\n",
    "    else:\n",
    "        x_ = 0\n",
    "        y_ = 1\n",
    "\n",
    "    region_indu_prod[\"distance\"] = region_indu_prod.groupby(\n",
    "        #['Inbound_Region', 'str']\n",
    "        level=[0, 1]\n",
    "    ).apply(lambda x: euclideanDistance(x.iloc[:, x_],\n",
    "                                        x.iloc[:, y_],\n",
    "                                        )\n",
    "            )\n",
    "\n",
    "    ### Compute whitesaoce\n",
    "    whitespace_ri = (\n",
    "        region_indu_prod\n",
    "        .iloc[:, :2]\n",
    "        .droplevel('product')\n",
    "        .groupby(level=[0, 1])\n",
    "        .sum()\n",
    "        .assign(whitespace=lambda x: x.iloc[:, 0] - x.iloc[:, 1])\n",
    "        .iloc[:, -1]\n",
    "    )\n",
    "\n",
    "    sort_distance = (region_indu_prod\n",
    "                     .droplevel(level=[2])\n",
    "                     .iloc[:, -1]\n",
    "                     .drop_duplicates()\n",
    "                     )\n",
    "    df_Epotential = pd.concat(\n",
    "        [sort_distance, whitespace_ri], axis=1).sort_values(by='distance')\n",
    "    \n",
    "    title = 'Top {} markets: Whitespace according to \\\n",
    "    Euclidean Distance'.format(end - begin)\n",
    "\n",
    "    df_Epotential.iloc[begin:end, 1].plot.barh(\n",
    "        title=title)\n",
    "\n",
    "    return region_indu_prod, df_Epotential"
   ]
  },
  {
   "cell_type": "code",
   "execution_count": null,
   "metadata": {
    "Collapsed": "false"
   },
   "outputs": [],
   "source": [
    "def filter_distance(df, country, industry):\n",
    "    \"\"\"\n",
    "    filter the multi-index dataframe\n",
    "    and return country industry\n",
    "    \"\"\"\n",
    "    return df.loc[(country,industry)]"
   ]
  },
  {
   "cell_type": "code",
   "execution_count": null,
   "metadata": {
    "Collapsed": "false"
   },
   "outputs": [],
   "source": [
    "df_Epotential = compute_potential(\n",
    "    df = X,\n",
    "    normalized =  False,\n",
    "                  begin = 80,\n",
    "                  end = 92)"
   ]
  },
  {
   "cell_type": "code",
   "execution_count": null,
   "metadata": {
    "Collapsed": "false"
   },
   "outputs": [],
   "source": [
    "filter_distance(df =df_Epotential[0],\n",
    "                country = 'Americas',\n",
    "                industry = 'E')"
   ]
  }
 ],
 "metadata": {
  "kernelspec": {
   "display_name": "Python 3",
   "language": "python",
   "name": "python3"
  },
  "language_info": {
   "codemirror_mode": {
    "name": "ipython",
    "version": 3
   },
   "file_extension": ".py",
   "mimetype": "text/x-python",
   "name": "python",
   "nbconvert_exporter": "python",
   "pygments_lexer": "ipython3",
   "version": "3.7.6"
  },
  "toc": {
   "base_numbering": 1,
   "nav_menu": {},
   "number_sections": true,
   "sideBar": true,
   "skip_h1_title": false,
   "title_cell": "Table of Contents",
   "title_sidebar": "Contents",
   "toc_cell": false,
   "toc_position": {},
   "toc_section_display": true,
   "toc_window_display": false
  }
 },
 "nbformat": 4,
 "nbformat_minor": 4
}
