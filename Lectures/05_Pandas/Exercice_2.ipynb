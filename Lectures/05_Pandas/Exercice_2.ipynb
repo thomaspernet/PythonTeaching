{
 "cells": [
  {
   "cell_type": "markdown",
   "metadata": {
    "Collapsed": "false"
   },
   "source": [
    "# Real world Data\n",
    "\n",
    "In this dataset, we have the production of a numerous amount of Chinese firm by city and industry. In order the create a balanced panel at the city-industry-year level, we need to create a squared matrix. It means, we need to have a dataframe with all the industries available by city and year. \n",
    "\n",
    "## Objective:\n",
    "\n",
    "- Create a balanced panel data"
   ]
  },
  {
   "cell_type": "code",
   "execution_count": null,
   "metadata": {
    "Collapsed": "false"
   },
   "outputs": [],
   "source": [
    "import pandas as pd"
   ]
  },
  {
   "cell_type": "code",
   "execution_count": null,
   "metadata": {
    "Collapsed": "false"
   },
   "outputs": [],
   "source": [
    "df = pd.read_csv(\"dataPandasClass_china.gz\")\n",
    "df.shape"
   ]
  },
  {
   "cell_type": "code",
   "execution_count": null,
   "metadata": {
    "Collapsed": "false"
   },
   "outputs": [],
   "source": [
    "df.head()"
   ]
  },
  {
   "cell_type": "code",
   "execution_count": null,
   "metadata": {
    "Collapsed": "false"
   },
   "outputs": [],
   "source": [
    "df['SOE'].unique()"
   ]
  },
  {
   "cell_type": "code",
   "execution_count": null,
   "metadata": {
    "Collapsed": "false"
   },
   "outputs": [],
   "source": [
    "df.sort_values(['year', 'cityen', 'indu_2', 'SOE']).head()"
   ]
  },
  {
   "cell_type": "code",
   "execution_count": null,
   "metadata": {
    "Collapsed": "false"
   },
   "outputs": [],
   "source": [
    "to_group_reshape = [\n",
    "\n",
    "    'cityen',\n",
    "    'year', 'indu_2', 'SOE'\n",
    "]"
   ]
  },
  {
   "cell_type": "code",
   "execution_count": null,
   "metadata": {
    "Collapsed": "false"
   },
   "outputs": [],
   "source": [
    "df_drop = df.drop(columns = 'geocode4_corr')\n",
    "df_drop.head()"
   ]
  },
  {
   "cell_type": "code",
   "execution_count": null,
   "metadata": {
    "Collapsed": "false"
   },
   "outputs": [],
   "source": [
    "df_drop.pivot_table(index = ['cityen', 'indu_2'],\n",
    "         columns ='year',\n",
    "         #values = 'output'\n",
    "        ).head()"
   ]
  },
  {
   "cell_type": "code",
   "execution_count": null,
   "metadata": {
    "Collapsed": "false"
   },
   "outputs": [],
   "source": [
    "df_drop.to_csv('test.csv')"
   ]
  },
  {
   "cell_type": "code",
   "execution_count": null,
   "metadata": {
    "Collapsed": "false"
   },
   "outputs": [],
   "source": [
    "df_perc = (df_drop\n",
    "           .groupby(['indu_2', 'SOE',  'year'])\n",
    "           .sum()\n",
    "           .groupby(level = [0, 1])\n",
    "           .pct_change().reset_index()\n",
    "          )\n",
    "#).stack()\n",
    "df_perc.head()"
   ]
  },
  {
   "cell_type": "code",
   "execution_count": null,
   "metadata": {
    "Collapsed": "false"
   },
   "outputs": [],
   "source": [
    "import seaborn as sns"
   ]
  },
  {
   "cell_type": "code",
   "execution_count": null,
   "metadata": {
    "Collapsed": "false"
   },
   "outputs": [],
   "source": [
    "sns.catplot(x=\"year\",\n",
    "            y=\"output\",\n",
    "            col=\"indu_2\",\n",
    "            data=df_perc.loc[lambda x:x['SOE'] == 'SOE'], \n",
    "            kind=\"bar\",\n",
    "            col_wrap=5,\n",
    "           )"
   ]
  },
  {
   "cell_type": "code",
   "execution_count": null,
   "metadata": {
    "Collapsed": "false"
   },
   "outputs": [],
   "source": [
    "sns.catplot(x=\"SOE\",\n",
    "            y=\"output\",\n",
    "            col=\"indu_2\",\n",
    "            hue = 'year',\n",
    "            data=df_perc, \n",
    "            kind=\"bar\",\n",
    "            col_wrap=5,\n",
    "           )"
   ]
  },
  {
   "cell_type": "code",
   "execution_count": null,
   "metadata": {
    "Collapsed": "false"
   },
   "outputs": [],
   "source": [
    "(df\n",
    " .set_index(to_group_reshape)\n",
    " .unstack(-1, fill_value=0)\n",
    " .stack()\n",
    " .unstack(-2, fill_value=0)\n",
    " .stack()\n",
    " .reset_index()\n",
    " )\n"
   ]
  }
 ],
 "metadata": {
  "kernelspec": {
   "display_name": "Python 3",
   "language": "python",
   "name": "python3"
  },
  "language_info": {
   "codemirror_mode": {
    "name": "ipython",
    "version": 3
   },
   "file_extension": ".py",
   "mimetype": "text/x-python",
   "name": "python",
   "nbconvert_exporter": "python",
   "pygments_lexer": "ipython3",
   "version": "3.7.3"
  },
  "toc-autonumbering": true,
  "toc-showcode": false,
  "toc-showmarkdowntxt": true
 },
 "nbformat": 4,
 "nbformat_minor": 4
}
