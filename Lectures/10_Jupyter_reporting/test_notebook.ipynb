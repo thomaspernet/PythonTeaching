{
 "cells": [
  {
   "cell_type": "markdown",
   "metadata": {
    "papermill": {
     "duration": 0.010459,
     "end_time": "2019-11-21T17:00:34.044821",
     "exception": false,
     "start_time": "2019-11-21T17:00:34.034362",
     "status": "completed"
    },
    "tags": []
   },
   "source": [
    "# Mise en production ARMA\n",
    "\n",
    "Ce notebook est un test pour la mise en production de la génération d'une série process AR.\n",
    "\n",
    "Le modèle AR a plusieurs paramètres a determiner. Nous nous limitons à la modification des paramètres suivants:\n",
    "\n",
    "- mu\n",
    "- rho\n",
    "\n",
    "## Parametrage\n",
    "\n",
    "Pour mettre en production le notebook, nous avons besoin d'avoir les librarie suivantes installées: \n",
    "\n",
    "- papermil : https://github.com/nteract/papermill/\n",
    "- jupytext : https://github.com/mwouts/jupytext\n",
    "- https://medium.com/capital-fund-management/automated-reports-with-jupyter-notebooks-using-jupytext-and-papermill-619e60c37330\n",
    "\n",
    "Il est possible de configurer un fichier requirement:\n",
    "\n",
    "```\n",
    "# Notebook dependencies\n",
    "\n",
    "# Tools used in the article\n",
    "jupytext>=1.2\n",
    "papermill>=1.2\n",
    "nbconvert>=5.5\n",
    "jupyter_core>=4.5\n",
    "\n",
    "# TOC extension for Binder\n",
    "jupyter_contrib_nbextensions\n",
    "\n",
    "```\n",
    "\n",
    "Il faut parametrer le notebook avec Jupytext afin de générerer automatiquement les markdowns dans une optique de versioning\n",
    "\n",
    "## Ligne de commande\n",
    "\n",
    "Pour utiliser en production le notebook, il suffit d'utiliser la ligne de commande suivante\n",
    "\n",
    "```\n",
    "type test_notebook.md | \\\n",
    " jupytext --from md --to ipynb --set-kernel - | \\\n",
    "  papermill -p p 0.5 -p mu 0.5 -p start_date 1/1/2019 | \\\n",
    "   jupyter nbconvert --stdin --output test_notebook.html\n",
    "```\n",
    "\n",
    "Sinon lancer le fichier python `auto.py`. Le fichier genère automatiquement un dS et utilise la date du jour pour la date de valuation."
   ]
  },
  {
   "cell_type": "code",
   "execution_count": null,
   "metadata": {
    "papermill": {
     "duration": 0.704483,
     "end_time": "2019-11-21T17:00:34.755428",
     "exception": false,
     "start_time": "2019-11-21T17:00:34.050945",
     "status": "completed"
    },
    "tags": []
   },
   "outputs": [],
   "source": [
    "import ARMA\n",
    "import pandas as pd"
   ]
  },
  {
   "cell_type": "markdown",
   "metadata": {
    "papermill": {
     "duration": 0.005432,
     "end_time": "2019-11-21T17:00:34.766271",
     "exception": false,
     "start_time": "2019-11-21T17:00:34.760839",
     "status": "completed"
    },
    "tags": []
   },
   "source": [
    "## Parametre AR\n",
    "\n",
    "Pour générer une time serie avec un processus AR d'ordre un, il faut renseigner le mu et le rho. Il faut aussi renseigner la date de début. On va générer par defaut 500 dates\n",
    "\n",
    "Il faut changer \n",
    "\n",
    "- `p`\n",
    "- `mu`\n",
    "- `start_date`\n",
    "\n",
    "A noter que la cellule ci dessous est une cellule par defaut. Papermill générer une nouvelle cellule en dessus avec les nouvelles valeurs."
   ]
  },
  {
   "cell_type": "code",
   "execution_count": null,
   "metadata": {
    "papermill": {
     "duration": 0.010904,
     "end_time": "2019-11-21T17:00:34.782146",
     "exception": false,
     "start_time": "2019-11-21T17:00:34.771242",
     "status": "completed"
    },
    "tags": [
     "parameters"
    ]
   },
   "outputs": [],
   "source": [
    "p = 0.8\n",
    "mu = 0.8\n",
    "start_date = '1/1/2019'"
   ]
  },
  {
   "cell_type": "code",
   "execution_count": null,
   "metadata": {
    "papermill": {
     "duration": 0.011711,
     "end_time": "2019-11-21T17:00:34.798437",
     "exception": false,
     "start_time": "2019-11-21T17:00:34.786726",
     "status": "completed"
    },
    "tags": [
     "injected-parameters"
    ]
   },
   "outputs": [],
   "source": [
    "# Parameters\n",
    "p = 0.5\n",
    "mu = 0.5\n",
    "start_date = \"1/1/2019\"\n"
   ]
  },
  {
   "cell_type": "code",
   "execution_count": null,
   "metadata": {
    "papermill": {
     "duration": 0.012544,
     "end_time": "2019-11-21T17:00:34.816051",
     "exception": false,
     "start_time": "2019-11-21T17:00:34.803507",
     "status": "completed"
    },
    "tags": []
   },
   "outputs": [],
   "source": [
    "AR = ARMA.AR(p = p, mu= mu, lenght = 500)"
   ]
  },
  {
   "cell_type": "code",
   "execution_count": null,
   "metadata": {
    "papermill": {
     "duration": 0.016324,
     "end_time": "2019-11-21T17:00:34.837500",
     "exception": false,
     "start_time": "2019-11-21T17:00:34.821176",
     "status": "completed"
    },
    "tags": []
   },
   "outputs": [],
   "source": [
    "date_ = pd.date_range(start=start_date, periods=500)\n",
    "date_"
   ]
  },
  {
   "cell_type": "code",
   "execution_count": null,
   "metadata": {
    "papermill": {
     "duration": 0.017176,
     "end_time": "2019-11-21T17:00:34.859620",
     "exception": false,
     "start_time": "2019-11-21T17:00:34.842444",
     "status": "completed"
    },
    "tags": []
   },
   "outputs": [],
   "source": [
    "df_ar = pd.DataFrame(AR, index =date_)\n",
    "df_ar.head()"
   ]
  },
  {
   "cell_type": "code",
   "execution_count": null,
   "metadata": {
    "papermill": {
     "duration": 0.240178,
     "end_time": "2019-11-21T17:00:35.105494",
     "exception": false,
     "start_time": "2019-11-21T17:00:34.865316",
     "status": "completed"
    },
    "tags": []
   },
   "outputs": [],
   "source": [
    "df_ar.plot.line(y = 'y')"
   ]
  },
  {
   "cell_type": "markdown",
   "metadata": {
    "papermill": {
     "duration": 0.005847,
     "end_time": "2019-11-21T17:00:35.118053",
     "exception": false,
     "start_time": "2019-11-21T17:00:35.112206",
     "status": "completed"
    },
    "tags": []
   },
   "source": [
    "## Statistique"
   ]
  },
  {
   "cell_type": "code",
   "execution_count": null,
   "metadata": {
    "papermill": {
     "duration": 0.076523,
     "end_time": "2019-11-21T17:00:35.201307",
     "exception": false,
     "start_time": "2019-11-21T17:00:35.124784",
     "status": "completed"
    },
    "tags": []
   },
   "outputs": [],
   "source": [
    "import seaborn as sns\n",
    "\n",
    "cm = sns.light_palette(\"green\", as_cmap=True)"
   ]
  },
  {
   "cell_type": "code",
   "execution_count": null,
   "metadata": {
    "papermill": {
     "duration": 0.296319,
     "end_time": "2019-11-21T17:00:35.503694",
     "exception": false,
     "start_time": "2019-11-21T17:00:35.207375",
     "status": "completed"
    },
    "tags": []
   },
   "outputs": [],
   "source": [
    "df_ar.assign(month = lambda x:x.index.month, \n",
    "            year = lambda x:x.index.year).groupby('month').agg({\n",
    "    'y':['min','max', 'mean']\n",
    "}).style.background_gradient(cmap=cm)"
   ]
  }
 ],
 "metadata": {
  "celltoolbar": "Tags",
  "jupytext": {
   "formats": "ipynb,md"
  },
  "kernel_info": {
   "name": "python3"
  },
  "kernelspec": {
   "display_name": "Python 3",
   "language": "python",
   "name": "python3"
  },
  "language_info": {
   "codemirror_mode": {
    "name": "ipython",
    "version": 3
   },
   "file_extension": ".py",
   "mimetype": "text/x-python",
   "name": "python",
   "nbconvert_exporter": "python",
   "pygments_lexer": "ipython3",
   "version": "3.7.4"
  },
  "nteract": {
   "version": "0.15.0"
  },
  "papermill": {
   "duration": 2.698695,
   "end_time": "2019-11-21T17:00:35.929246",
   "environment_variables": {},
   "exception": null,
   "input_path": "test_notebook.ipynb",
   "output_path": "test_notebook.ipynb",
   "parameters": {
    "mu": 0.5,
    "p": 0.5,
    "start_date": "1/1/2019"
   },
   "start_time": "2019-11-21T17:00:33.230551",
   "version": "1.2.1"
  }
 },
 "nbformat": 4,
 "nbformat_minor": 2
}
