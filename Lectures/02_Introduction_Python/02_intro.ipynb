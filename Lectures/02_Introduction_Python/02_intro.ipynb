{
  "cells": [
    {
      "cell_type": "markdown",
      "source": [
        "# Contents\n",
        "\n",
        "Module # 1 allowed us to introduce Python, the tools used to code, the variables and the main types of data.\n",
        "\n",
        "In this module # 2, we will now discuss control structures (conditional tests and loops) as well as functions - 2 essential tools for designing and structuring Python programs.\n",
        "\n",
        "## Control structures\n",
        "\n",
        "We will see 2 large families of control structures, as useful as the other, conditional tests and loops.\n",
        "\n",
        "## Conditional tests\n",
        "\n",
        "Conditional tests allow, as their name indicates, to guide the course of a program according to one or more conditions.\n",
        "\n",
        "In addition to the `if` , `else` and `elif` commands, we will see the conditional tests use the classical comparison operators `>`, `>=`, `<`, `<=` and `==`. Note that inequality (or difference) is written `!=` in Python.\n",
        "\n",
        "Be careful not to confuse the use of the = for the assignment of a variable with that of the `==` to check a tie.\n",
        "\n",
        "### if.\n",
        "\n",
        "Conditional tests with if are a classic of programming. The idea of ​​a test with if is simply to check if a condition is true and, if so, to execute a series of commands contained in the indented block following the `if`.\n",
        "\n",
        "FIGURE 1\n",
        "\n",
        "A conditional test with if is constructed as follows:"
      ],
      "metadata": {}
    },
    {
      "cell_type": "code",
      "source": [
        "if <conditional_test>: # if condition is satisfied, execute next line (s)\n",
        "\t<do something>"
      ],
      "outputs": [],
      "execution_count": null,
      "metadata": {}
    },
    {
      "cell_type": "markdown",
      "source": [
        "Do not forget to add`:` at the end of the line defining the test. Likewise, think of indenting the lines to be executed if the condition is satisfied.\n",
        "\n",
        "It is important to note that if the condition is not satisfied then nothing happens (ie the code in the if block is not executed)."
      ],
      "metadata": {}
    },
    {
      "cell_type": "code",
      "source": [
        "#With a condition (satisfied here)\n",
        "age = 19\n",
        "if age> = 18: # satisfied condition -> display message\n",
        "\tprint (\"The person is {} years old and is therefore of age. \". format (age))"
      ],
      "outputs": [],
      "execution_count": null,
      "metadata": {}
    },
    {
      "cell_type": "markdown",
      "source": [
        "You will notice the use of the placeholder {} seen in module # 1."
      ],
      "metadata": {}
    },
    {
      "cell_type": "code",
      "source": [
        "# With a condition (here not satisfied)\n",
        "age = 17\n",
        "if age> = 18: # condition not satisfied -> the message is not displayed\n",
        "\tprint ( \"The person is {} years old and is therefore of age.\" Format (age)"
      ],
      "outputs": [],
      "execution_count": null,
      "metadata": {}
    },
    {
      "cell_type": "code",
      "source": [
        "# With two conditions (satisfied)\n",
        "age_pers1 = 19\n",
        "age_pers2 = 23\n",
        "if age_pers1> = 18 and age_pers2> = 18: # condition satisfied ->display message\n",
        "\tprint (\"Person 1 is { } and the person 2 to {} years old. \"\n",
        "\" \\nThe 2 people are therefore adult. \". format (age_pers1,\n",
        "age_pers2))"
      ],
      "outputs": [],
      "execution_count": null,
      "metadata": {}
    },
    {
      "cell_type": "markdown",
      "source": [
        "In addition to conventional comparison operators, one can also use `in` to check whether the\n",
        "\n",
        "content of a variable is present in a container, such as a list:"
      ],
      "metadata": {}
    },
    {
      "cell_type": "code",
      "source": [
        "famousactors = [\"Brad Pitt\", \"Johnny Depp\", \"Will Smith\", \"Tom Hanks\"]\n",
        "person_1 = \"Johnny Depp\"\n",
        "if person_1 in famousactors:\n",
        "\tprint(person_1 , \" is part of the famous actors!\")"
      ],
      "outputs": [],
      "execution_count": null,
      "metadata": {}
    },
    {
      "cell_type": "markdown",
      "source": [
        "One can also resort to logical operators comment:"
      ],
      "metadata": {}
    },
    {
      "cell_type": "code",
      "source": [
        "famousactors = [\"Brad Pitt\", \"Johnny Depp\", \"Will Smith\", \"Tom Hanks\"]\n",
        "person_1 = \"Thomas\"\n",
        "if person_1 not in famousactors:\n",
        "\tprint ( person_1 , \" is not part of the famous actors! \")"
      ],
      "outputs": [],
      "execution_count": null,
      "metadata": {}
    },
    {
      "cell_type": "markdown",
      "source": [
        "Finally, note that it is customary in Python not to write `if variable == True`: but simply `if variable :`\n",
        "\n",
        "Example below with the variable boolean `plot_result`, allowing us to activate or not displaying the results as a graph. The graph display is disabled here - it's up to you change that!"
      ],
      "metadata": {}
    },
    {
      "cell_type": "code",
      "source": [
        "import numpy as np\n",
        "import matplotlib.pyplot as plt\n",
        "\n",
        "NUM_BDAYS = 250 # number of banking days; name of the variable in\n",
        "uppercase because it is a constant\n",
        "num_simulations = 10000\n",
        "\n",
        "results = np.random.randn (NUM_BDAYS * num_simulations)\n",
        "\n",
        "plot_results = False\n",
        "\n",
        "if plot_results: # and not if plot_results == True:\n",
        "\tplt.hist (results, 100)"
      ],
      "outputs": [],
      "execution_count": null,
      "metadata": {}
    },
    {
      "cell_type": "markdown",
      "source": [
        "Do not worry if you do not understand all the lines above. Concentrate for now on the variable `plot_results` and the conditional test done with if - the rest will be addressed in due course.\n",
        "\n",
        "### if ... else\n",
        "\n",
        "`else` is the logical continuation of `if`. Indeed, else (\"otherwise\", \"otherwise\") defines the commands to execute the condition defined with the if is not satisfied.\n",
        "\n",
        "FIGURE 2\n",
        "\n",
        "Note that the use of an else in the wake of an yew is optional.\n",
        "\n",
        "In the example below, the condition defined for the if is not satisfied (16 <18) so this is the\n",
        "\n",
        "code following the else that is executed:"
      ],
      "metadata": {}
    },
    {
      "cell_type": "code",
      "source": [
        "age = 16\n",
        "if age> = 18: # condition satisfied -> display message\n",
        "\tprint (\"The person is {} years old and therefore is of age.\". Format (age) )\n",
        "else:\n",
        "\tprint ( \"The person {} years and is still a minor.\" format.\n",
        "(age))"
      ],
      "outputs": [],
      "execution_count": null,
      "metadata": {}
    },
    {
      "cell_type": "markdown",
      "source": [
        "### elif\n",
        "\n",
        "`elif` (for \"else if\", ie \"if not\") allows to define multiple conditions to test.\n",
        "\n",
        "FIGURE 3\n",
        "\n",
        "The logic is:"
      ],
      "metadata": {}
    },
    {
      "cell_type": "code",
      "source": [
        "if condition_1 is satisfied:\n",
        "\t<code to execute in this case>\n",
        "otherwise_if condition_2 is satisfied:\n",
        "\t<other code to execute in this case>\n",
        "otherwise: (= if none of the conditions are satisfied)\n",
        "\t<other code to execute in this case>"
      ],
      "outputs": [],
      "execution_count": null,
      "metadata": {}
    },
    {
      "cell_type": "markdown",
      "source": [
        "You will understand that in the pseudo-code above:\n",
        "\n",
        "- if = if\n",
        "\n",
        "- otherwise_si = elif\n",
        "\n",
        "- else = else\n",
        "\n",
        "Note that :\n",
        "\n",
        "1. It is exclusive cases: in other words, if one of the conditions is met then the code related to this condition is executed and no other conditions are met. The order of conditions is important.\n",
        "\n",
        "2. There can only be one else following an if (and as we said, the else remains optional); on the other hand, there can be as many delights as you wish."
      ],
      "metadata": {}
    },
    {
      "cell_type": "code",
      "source": [
        " # Example\n",
        "spot = 95.\n",
        "print (\"spot =% f\"% spot)\n",
        "\n",
        "shock_num = 0\n",
        "\n",
        "if shock_num == 0:\n",
        "\tspot = spot\n",
        "\tprint (\"No shock applied, spot unchanged.\")\n",
        "elif shock_num == 1:\n",
        "\tspot = spot * (1 - 0.266)\n",
        "\tprint (\"Shock 1 selected, new spot ={%}.\".format(spot))\n",
        "elif shock_num == 2:\n",
        "\tspot = spot * (1 - 0.3809)\n",
        "\tprint (\"Shock 2 selected, new spot ={%}\".format(spot))\n",
        "else: # else if choc_num! = 0, 1 or 2\n",
        "\tprint (\" Sorry but I did not understand the value of choc_num. \"\n",
        "\t\t\"Please try again.\")\n",
        "spot = 95."
      ],
      "outputs": [],
      "execution_count": null,
      "metadata": {}
    },
    {
      "cell_type": "markdown",
      "source": [
        "Try changing the value of the variable `choc_num` et and see how this impacts the result. If you assign `choc_num` a value other than 0, 1 or 2, the else block will be there to remind you order.\n",
        "\n",
        "### Nested structures\n",
        "\n",
        "It is possible to nest a conditional structure within another conditional structure (we speak then denested statements in English), for example to test different conditions within of a given case.\n",
        "\n",
        "FIGURE 4\n",
        "\n",
        "Indentation determines the level of nesting."
      ],
      "metadata": {}
    },
    {
      "cell_type": "code",
      "source": [
        "# Example - 20 to 20 note converter to A ... E\n",
        "# inspired by a https://www.digitalocean.com/community tutorial\n",
        "prompt = \"What is the note on 20 to convert? \"\n",
        "grade = float (input (prompt)) # float (and not int) to handle notes with half\n",
        "\n",
        "if grade> = 10: # if the note is greater than 10 the student validates the\n",
        "course\n",
        "\tprint (\"\\ nYou are received with the note:\")\n",
        "if grade> = 16: # distribution of grades 16 to 20 between A-, A and A +\n",
        "\tif grade> = 19:\n",
        "\t\tprint (\"A + with the congratulations of the jury!\")\n",
        "\telif grade> = 18:\n",
        "\t\tprint (\"A +, bravo!\")\n",
        "\telif grade> = 17:\n",
        "\t\tprint (\"A, bravo!\")\n",
        "\telse:\n",
        "\t\tprint (\"A-\")\n",
        "\telif grade> = 14:\n",
        "\n",
        "\t\tprint (\"B\")\n",
        "\telif grade> = 12:\n",
        "\t\tprint (\"C\")\n",
        "\telif grade == 11:\n",
        "\t\tprint (\"D\")\n",
        "\telif grade == 10:\n",
        "\t\tprint (\"E\")\n",
        "else: # if the grade is less than 10 the student does not validate the course\n",
        "\tprint (\"\\ nSorry, we'll have to go back to the class in question. \")\n",
        "\tWhat is the score out of 20 to convert? 15."
      ],
      "outputs": [],
      "execution_count": null,
      "metadata": {}
    },
    {
      "cell_type": "markdown",
      "source": [
        "Note in the example above the importance of the order of the statements if, elifet else and their indentation.\n",
        "\n",
        "The idea of ​​this type of structure is to cover all the cases.\n",
        "\n",
        "### Exercises hands-on.\n",
        "\n",
        "- Exercise 1: The most cheating of you will have probably noticed that the example above suffers from a size problem. In fact, the program accepts notes that are not higher than 20. To solve this problem by adding an additional conditional test (if ... else) which, if any, returns an error message without converting the note.\n",
        "\n",
        "Solution:"
      ],
      "metadata": {}
    },
    {
      "cell_type": "code",
      "source": [
        "#Example - 20 to 20 note converter to A ... E\n",
        "# inspired by https://www.digitalocean.com/community tutorial\n",
        "prompt = \"What is the note on 20 to convert? \"\n",
        "grade = float (input (prompt)) # float (and not int) to handle notes with half\n",
        "\n",
        "if grade> = 10: # if the note is greater than 10 the student validates the course\n",
        "\tif grade> 20: # initial verification that the grade is not greater than 20\n",
        "\t\tprint (\"\\ nTeacher, a grade can not be greater than 20! \"\n",
        ")\n",
        "\telse:\n",
        "\n",
        "\t \tprint (\"\\ nYou are received with the note:\")\n",
        "\tif grade> = 16: # distribution of grades 16 to 20 between A-, Aand A +\n",
        "\t\tif grade> = 19 :\n",
        "\t\t\tprint (\"A + with the congratulations of the jury!\")\n",
        "\t\telif grade> = 18:\n",
        "\t\t\tprint (\"A +, bravo!\")\n",
        "\t\telif grade> = 17:\n",
        "\t\t\tprint (\"A, bravo!\")\n",
        "\t\telse:\n",
        "\t\t\tprint (\"A-\")\n",
        "\telif grade> = 14:\n",
        "\t\tprint (\"B\")\n",
        "\telif grade> = 12:\n",
        "\t\tprint (\"C\")\n",
        "\telif grade == 11:\n",
        "\t\tprint (\"D\")\n",
        "\telif grade == 10:\n",
        "\t\tprint (\"E\")\n",
        "\telse: # if the student's mark is less than 10 the student does not validate the course\n",
        "\t\tprint (\"\\ nSorry, we'll have to go back to the class in question . \")"
      ],
      "outputs": [],
      "execution_count": null,
      "metadata": {}
    },
    {
      "cell_type": "markdown",
      "source": [
        "## The for\n",
        "\n",
        "\n",
        "Like if , we find for loops in most programming languages. The idea of a for loop is to execute a series of commands a number of times - more specifically, once per element composing a given sequence - and that's what we define in the line inaugural of a for loop construction.\n",
        "\n",
        "A for loop is constructed as follows:"
      ],
      "metadata": {}
    },
    {
      "cell_type": "code",
      "source": [
        "for <item in sequence_of_items>:\n",
        "\t<do something with item>\n",
        "``` \n",
        "\n",
        "\n",
        "As the pseudo-code above shows, the idea is to apply the code making up the body of the loop every time the sequence of items. So, if the sequence has 10 items, the body of the loop will be executed 10 times using each time different unit of the sequence on which the loop iterates.\n",
        "\n",
        "Note that we could have used any word or letter instead of item, for example i- the important thing is to use the same value in the first line and in the body of the loop.\n",
        "\n",
        "You will notice points in common with building a conditional test with if, else, or elif:\n",
        "\n",
        "- the first line must end with:\n",
        "\n",
        "-The following lines forming part of the loop (ie the body of the loop) must be indented\n",
        "\n",
        "As we will see with the while loops, it is possible to control the execution of a\n",
        "\n",
        "for loop using the statements break and continue.\n",
        "\n",
        "### Loop with a list\n",
        "\n",
        "```python\n",
        "list_actor = [\"Brad Pitt\", \"Johnny Depp\", \"Will Smith\", \"Tom Hanks\"]\n",
        "\n",
        "for name in list_actor:\n",
        "\tprint(name)"
      ],
      "outputs": [],
      "execution_count": null,
      "metadata": {}
    },
    {
      "cell_type": "markdown",
      "source": [
        "### Loop for with range ()"
      ],
      "metadata": {}
    },
    {
      "cell_type": "code",
      "source": [
        "for integer in range (0, 10): # upper bound excluded\n",
        "\tprint (integer, \"squared =\", integer ** 2)"
      ],
      "outputs": [],
      "execution_count": null,
      "metadata": {}
    },
    {
      "cell_type": "code",
      "source": [
        "# the third parameter defines the size of the step (default = 1)\n",
        "for integer in range (0, 20, 2): # upper bound excluded\n",
        "\tprint (integer)"
      ],
      "outputs": [],
      "execution_count": null,
      "metadata": {}
    },
    {
      "cell_type": "markdown",
      "source": [
        "# Loop for with enumerate ().\n",
        "\n",
        "enumerate() allows you to iterate on a list using both the values ​​in the list and their index (or position) within the list:"
      ],
      "metadata": {}
    },
    {
      "cell_type": "code",
      "source": [
        "for item in enumerate(list_actor):\n",
        "\tprint (item)"
      ],
      "outputs": [],
      "execution_count": null,
      "metadata": {}
    },
    {
      "cell_type": "code",
      "source": [
        "for index, item in enumerate (list_actor):\n",
        "\tprint (\"index =\", index, \"--- firstname =\", firstname)"
      ],
      "outputs": [],
      "execution_count": null,
      "metadata": {}
    },
    {
      "cell_type": "markdown",
      "source": [
        "### An alternative to list comprehensions\n",
        "\n",
        "List understandings in English allow you to replace some for loops by a compact structure and typical of Python.\n",
        "\n",
        "The idea is to apply a function by iterating on each element of a list, which returns a new list containing the elements resulting from the application of the function on the original list.\n",
        "\n",
        "We build them in the following way: [function (item) for item in list]\n",
        "\n",
        "Notice the square brackets [], symptomatic of the lists in Python."
      ],
      "metadata": {}
    },
    {
      "cell_type": "code",
      "source": [
        "# Example inspired by python.org\n",
        "fruits_min = ['banana', 'apple', 'lemon', 'pear', 'orange']\n",
        "fruits_maj = [fruit.upper () for fruit in fruits_min]\n",
        "print (fruits_maj)"
      ],
      "outputs": [],
      "execution_count": null,
      "metadata": {}
    },
    {
      "cell_type": "markdown",
      "source": [
        "### Exerciseshands-on.\n",
        "\n",
        "- Exercise 1: Use a for loop to display a count from 0 to 1000 (1000 inclusive), with a step of 100.\n",
        "\n",
        "Solution:"
      ],
      "metadata": {}
    },
    {
      "cell_type": "code",
      "source": [
        "for i in range (0, 1001, 100):\n",
        "\tprint (i)"
      ],
      "outputs": [],
      "execution_count": null,
      "metadata": {}
    },
    {
      "cell_type": "markdown",
      "source": [
        "- Exercise 2: Use a list comprehension to calculate in one line the length of each names of the list `liste_name = [\"John\", \"Pierre\", \"Oliver\",\" Eddy\"]`. Then do the same thing with a classic for loop and compare the two approaches.\n",
        "\n",
        "Solution:"
      ],
      "metadata": {}
    },
    {
      "cell_type": "code",
      "source": [
        "# list understanding\n",
        "[len (firstname) for firstname in list_hands]\n",
        "len_name = []\n",
        "for firstname in list_office:\n",
        "\tlen_prenoms.append(len(len_name))\n",
        "\ten_prenoms"
      ],
      "outputs": [],
      "execution_count": null,
      "metadata": {}
    },
    {
      "cell_type": "markdown",
      "source": [
        "## The while loops.\n",
        "\n",
        "Another classic programming, while lets you run a series of commands in a loop as long as a condition is true.\n",
        "\n",
        "In example 1 below, the code for the while block is executed by looping which condition is true, ie as long as the variable_num is less than or equal to 10:\n",
        "\n",
        "```python\n",
        "# Example 1 - taken from \"Python Crash Course\"\n",
        "current_num = 1\n",
        "while current_num <= 10: # the while loop stops when current_num = 10\n",
        "\tprint (current_num )\n",
        "\tcurrent_num + = 1\n",
        "```  \n",
        "\n",
        "You will notice the use of + = 1, which is a compact way to increment the variable of 1 at the end of each loop.\n",
        "\n",
        "\n",
        "Notes: - You can also leave a while loop (as well as a for loop) using the statement break - try to replace a line in example 3 above with break\n",
        "without changing the operation of the program. - The statement continues to complete the current iteration and move on to the next, both in a while loop and a for loop."
      ],
      "metadata": {}
    }
  ],
  "metadata": {
    "kernelspec": {
      "name": "python3",
      "language": "python",
      "display_name": "Python 3"
    },
    "kernel_info": {
      "name": "python3"
    },
    "language_info": {
      "name": "python",
      "version": "3.7.4",
      "mimetype": "text/x-python",
      "codemirror_mode": {
        "name": "ipython",
        "version": 3
      },
      "pygments_lexer": "ipython3",
      "nbconvert_exporter": "python",
      "file_extension": ".py"
    },
    "nteract": {
      "version": "0.15.0"
    }
  },
  "nbformat": 4,
  "nbformat_minor": 2
}