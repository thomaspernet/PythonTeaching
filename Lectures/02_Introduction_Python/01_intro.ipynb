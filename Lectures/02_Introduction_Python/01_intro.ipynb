{
  "cells": [
    {
      "cell_type": "markdown",
      "source": [
        "# Python\n",
        "\n",
        "## Hello Wold\n",
        "\n",
        "\n",
        "`print ()` is a function. In Python, a function is always written in the form `my_function`.\n",
        "\n",
        "Brackets are empty. It is not always the case. We will see later how to change that!"
      ],
      "metadata": {
        "Collapsed": "false"
      }
    },
    {
      "cell_type": "code",
      "source": [
        "1 # The print command displays a value on the screen\n",
        "print (\"Hello world !\")"
      ],
      "outputs": [],
      "execution_count": null,
      "metadata": {
        "Collapsed": "false"
      }
    },
    {
      "cell_type": "markdown",
      "source": [
        "# Variables\n",
        "\n",
        "One assigns a variable by using the equal sign (=), which then makes it possible to use it to refer to its contents:"
      ],
      "metadata": {
        "Collapsed": "false"
      }
    },
    {
      "cell_type": "code",
      "source": [
        "my_var = 12\n",
        "my_var"
      ],
      "outputs": [],
      "execution_count": null,
      "metadata": {
        "Collapsed": "false"
      }
    },
    {
      "cell_type": "markdown",
      "source": [
        "If the variable does not exist, it is created when it is assigned. If it already existed, then it will see its value replaced by the new one:"
      ],
      "metadata": {
        "Collapsed": "false"
      }
    },
    {
      "cell_type": "code",
      "source": [
        "my_var = 33\n",
        "my_var"
      ],
      "outputs": [],
      "execution_count": null,
      "metadata": {
        "Collapsed": "false"
      }
    },
    {
      "cell_type": "markdown",
      "source": [
        "Note: we will see that we should not confuse the use of the equal sign (=) to assign a variable with that of the double equal (==) to check a tie.\n",
        "\n",
        "\n",
        "The name of a variable must be composed only of lowercase letters, possibly separated by `_`\"\" it improves readability.\n",
        "\n",
        "## Hello world 2.0\n",
        "\n",
        "Assigning the message to the variable of the same name"
      ],
      "metadata": {
        "Collapsed": "false"
      }
    },
    {
      "cell_type": "code",
      "source": [
        "message = \"Hello again world !\"\n",
        "print(message)"
      ],
      "outputs": [],
      "execution_count": null,
      "metadata": {
        "Collapsed": "false"
      }
    },
    {
      "cell_type": "markdown",
      "source": [
        "Talk about how to print values\n",
        "\n",
        "## Data types\n",
        "\n",
        "\n",
        "In Python, variables can contain several types of data - these are the main ones:\n",
        "\n",
        "### Integer"
      ],
      "metadata": {
        "Collapsed": "false"
      }
    },
    {
      "cell_type": "code",
      "source": [
        "i = 3\n",
        "i ** 2"
      ],
      "outputs": [],
      "execution_count": null,
      "metadata": {
        "Collapsed": "false"
      }
    },
    {
      "cell_type": "code",
      "source": [
        "x = i -2\n",
        "x"
      ],
      "outputs": [],
      "execution_count": null,
      "metadata": {
        "Collapsed": "false"
      }
    },
    {
      "cell_type": "markdown",
      "source": [
        "### Float"
      ],
      "metadata": {
        "Collapsed": "false"
      }
    },
    {
      "cell_type": "code",
      "source": [
        "f = 82\n",
        "f"
      ],
      "outputs": [],
      "execution_count": null,
      "metadata": {
        "Collapsed": "false"
      }
    },
    {
      "cell_type": "code",
      "source": [
        "f = 82.\n",
        "f "
      ],
      "outputs": [],
      "execution_count": null,
      "metadata": {
        "Collapsed": "false"
      }
    },
    {
      "cell_type": "markdown",
      "source": [
        "### String"
      ],
      "metadata": {
        "Collapsed": "false"
      }
    },
    {
      "cell_type": "code",
      "source": [
        "s1 = \"this is a string of characters or string\"\n",
        "s1"
      ],
      "outputs": [],
      "execution_count": null,
      "metadata": {
        "Collapsed": "false"
      }
    },
    {
      "cell_type": "code",
      "source": [
        "s2= 'this is a string of characters or string'\n",
        "s2"
      ],
      "outputs": [],
      "execution_count": null,
      "metadata": {
        "Collapsed": "false"
      }
    },
    {
      "cell_type": "code",
      "source": [
        "s1 == s2"
      ],
      "outputs": [],
      "execution_count": null,
      "metadata": {
        "Collapsed": "false"
      }
    },
    {
      "cell_type": "markdown",
      "source": [
        "Note: Single ('...') or double (\"...\") quotes can both be used with strings, but use the same type at the beginning and at the end of the string, under penalty of error.\n",
        "\n",
        "If you need to include a single quote (apostrophe) within the string, then use the double quotes to surround the characters. Example: \"What's your name?\n",
        "\n",
        "#### Concatenate string"
      ],
      "metadata": {
        "Collapsed": "false"
      }
    },
    {
      "cell_type": "code",
      "source": [
        "s2 = \" in english.\""
      ],
      "outputs": [],
      "execution_count": null,
      "metadata": {
        "Collapsed": "false"
      }
    },
    {
      "cell_type": "code",
      "source": [
        "s3 = s1 + s2\n",
        "s3"
      ],
      "outputs": [],
      "execution_count": null,
      "metadata": {
        "Collapsed": "false"
      }
    },
    {
      "cell_type": "markdown",
      "source": [
        "they can also be multiplied to repeat them (but not\n",
        "to divide)"
      ],
      "metadata": {
        "Collapsed": "false"
      }
    },
    {
      "cell_type": "code",
      "source": [
        "s4 = \"I love Python! \"\n",
        "s4 * 10"
      ],
      "outputs": [],
      "execution_count": null,
      "metadata": {
        "Collapsed": "false"
      }
    },
    {
      "cell_type": "markdown",
      "source": [
        "#### Upper case"
      ],
      "metadata": {
        "Collapsed": "false"
      }
    },
    {
      "cell_type": "code",
      "source": [
        "s3.upper()"
      ],
      "outputs": [],
      "execution_count": null,
      "metadata": {
        "Collapsed": "false"
      }
    },
    {
      "cell_type": "markdown",
      "source": [
        "#### Lower case"
      ],
      "metadata": {
        "Collapsed": "false"
      }
    },
    {
      "cell_type": "code",
      "source": [
        "s5 = \"PYTHON'S ROCKS\"\n",
        "s5.lower()"
      ],
      "outputs": [],
      "execution_count": null,
      "metadata": {
        "Collapsed": "false"
      }
    },
    {
      "cell_type": "markdown",
      "source": [
        "## List\n",
        "\n",
        "\n",
        "Lists are containers for storing a set of objects of heterogeneous types in an orderly fashion (i.e. each element corresponds to an index).\n",
        "\n",
        "A list can contain a string, an integer and a float, as in the example below:"
      ],
      "metadata": {
        "Collapsed": "false"
      }
    },
    {
      "cell_type": "code",
      "source": [
        "my_list = [\"text\", 12, 154.5]\n",
        "my_list"
      ],
      "outputs": [],
      "execution_count": null,
      "metadata": {
        "Collapsed": "false"
      }
    },
    {
      "cell_type": "markdown",
      "source": [
        "### Empty list"
      ],
      "metadata": {
        "Collapsed": "false"
      }
    },
    {
      "cell_type": "code",
      "source": [
        "my_list = []\n",
        "my_list"
      ],
      "outputs": [],
      "execution_count": null,
      "metadata": {
        "Collapsed": "false"
      }
    },
    {
      "cell_type": "markdown",
      "source": [
        "### Append to list"
      ],
      "metadata": {
        "Collapsed": "false"
      }
    },
    {
      "cell_type": "code",
      "source": [
        "my_list = []\n",
        "my_list"
      ],
      "outputs": [],
      "execution_count": null,
      "metadata": {
        "Collapsed": "false"
      }
    },
    {
      "cell_type": "code",
      "source": [
        "my_list.append(\"A\")\n",
        "my_list"
      ],
      "outputs": [],
      "execution_count": null,
      "metadata": {
        "Collapsed": "false"
      }
    },
    {
      "cell_type": "code",
      "source": [
        "my_list.append(\"B\")\n",
        "my_list.append(\"C\")\n",
        "my_list.append(\"D\")\n",
        "my_list.append(\"E\")\n",
        "my_list"
      ],
      "outputs": [],
      "execution_count": null,
      "metadata": {
        "Collapsed": "false"
      }
    },
    {
      "cell_type": "markdown",
      "source": [
        "### Index"
      ],
      "metadata": {
        "Collapsed": "false"
      }
    },
    {
      "cell_type": "code",
      "source": [
        "my_list[0]"
      ],
      "outputs": [],
      "execution_count": null,
      "metadata": {
        "Collapsed": "false"
      }
    },
    {
      "cell_type": "code",
      "source": [
        "my_list[-1]"
      ],
      "outputs": [],
      "execution_count": null,
      "metadata": {
        "Collapsed": "false"
      }
    },
    {
      "cell_type": "code",
      "source": [
        "my_list[-3:]"
      ],
      "outputs": [],
      "execution_count": null,
      "metadata": {
        "Collapsed": "false"
      }
    },
    {
      "cell_type": "code",
      "source": [
        "my_list[2:4]"
      ],
      "outputs": [],
      "execution_count": null,
      "metadata": {
        "Collapsed": "false"
      }
    },
    {
      "cell_type": "code",
      "source": [
        "my_list[0] = \"First element\"\n",
        "my_list"
      ],
      "outputs": [],
      "execution_count": null,
      "metadata": {
        "Collapsed": "false"
      }
    },
    {
      "cell_type": "code",
      "source": [
        "my_list.remove(\"First element\")\n",
        "my_list"
      ],
      "outputs": [],
      "execution_count": null,
      "metadata": {
        "Collapsed": "false"
      }
    },
    {
      "cell_type": "code",
      "source": [
        "my_list.reverse()\n",
        "my_list"
      ],
      "outputs": [],
      "execution_count": null,
      "metadata": {
        "Collapsed": "false"
      }
    },
    {
      "cell_type": "code",
      "source": [
        "len(my_list)"
      ],
      "outputs": [],
      "execution_count": null,
      "metadata": {
        "Collapsed": "false"
      }
    },
    {
      "cell_type": "code",
      "source": [
        "my_list.index(\"E\")"
      ],
      "outputs": [],
      "execution_count": null,
      "metadata": {
        "Collapsed": "false"
      }
    },
    {
      "cell_type": "code",
      "source": [
        "my_list_2 = [0, 1, 2, 3, 4]\n",
        "list_of_lists = [my_list, my_list_2]\n",
        "list_of_lists"
      ],
      "outputs": [],
      "execution_count": null,
      "metadata": {
        "Collapsed": "false"
      }
    },
    {
      "cell_type": "code",
      "source": [
        "list_of_lists[0]"
      ],
      "outputs": [],
      "execution_count": null,
      "metadata": {
        "Collapsed": "false"
      }
    },
    {
      "cell_type": "code",
      "source": [
        "list_of_lists[1]"
      ],
      "outputs": [],
      "execution_count": null,
      "metadata": {
        "Collapsed": "false"
      }
    },
    {
      "cell_type": "code",
      "source": [
        "list_of_lists[0][0]"
      ],
      "outputs": [],
      "execution_count": null,
      "metadata": {
        "Collapsed": "false"
      }
    },
    {
      "cell_type": "code",
      "source": [
        "my_list_2"
      ],
      "outputs": [],
      "execution_count": null,
      "metadata": {
        "Collapsed": "false"
      }
    },
    {
      "cell_type": "code",
      "source": [
        "my_list_3 = [5, 6, 7, 8, 9]\n",
        "my_list_2.extend(my_list_3)\n",
        "my_list_2"
      ],
      "outputs": [],
      "execution_count": null,
      "metadata": {
        "Collapsed": "false"
      }
    },
    {
      "cell_type": "code",
      "source": [
        "my_list_2.append(my_list_3)\n",
        "my_list_2"
      ],
      "outputs": [],
      "execution_count": null,
      "metadata": {
        "Collapsed": "false"
      }
    },
    {
      "cell_type": "markdown",
      "source": [
        "## Dictionary\n",
        "\n",
        "A Python dictionary is a set of keys / values, in the form:\n",
        "\n",
        "{'Key1': 'value', 'key2': 'value'}\n",
        "\n",
        "Note that where the lists use the [], the dictionaries use them {}.\n",
        "\n",
        "As for lists, we can create an empty dictionary very simply: empty_dict = {}\n",
        "\n",
        "Example: https://api.stocktwits.com/api/2/streams/symbol/AAPL.json\n",
        "\n",
        "From: https://stocktwits.com/symbol/AAPL\n",
        "\n",
        "Pretifier:\n",
        "\n",
        "https://jsonformatter.curiousconcept.com/"
      ],
      "metadata": {
        "Collapsed": "false"
      }
    },
    {
      "cell_type": "code",
      "source": [
        "my_dict = {\"First_name\": \"John\",\n",
        "           \"age\": 45,\n",
        "           \"city\": \"Paris\"}\n",
        "my_dict"
      ],
      "outputs": [],
      "execution_count": null,
      "metadata": {
        "Collapsed": "false"
      }
    },
    {
      "cell_type": "code",
      "source": [
        "my_dict['First_name']"
      ],
      "outputs": [],
      "execution_count": null,
      "metadata": {
        "Collapsed": "false"
      }
    },
    {
      "cell_type": "code",
      "source": [
        "{\n",
        "    \"First_name\": \"John\",\n",
        "           \"age\": 45,\n",
        "           \"city\": \"Paris\"\n",
        "    \n",
        "}"
      ],
      "outputs": [],
      "execution_count": null,
      "metadata": {
        "Collapsed": "false"
      }
    },
    {
      "cell_type": "markdown",
      "source": [
        "Like lists, dictionaries are also containers. But unlike lists, dictionaries do not have an orderly structure. Thus, to access the objects contained in a dictionary, we will not use indexes but keys (each corresponding to a value):"
      ],
      "metadata": {
        "Collapsed": "false"
      }
    },
    {
      "cell_type": "markdown",
      "source": [
        "```python\n",
        "my_dict['Family_name'] = 'Snow'\n",
        "my_dict\n",
        "```"
      ],
      "metadata": {
        "Collapsed": "false"
      }
    }
  ],
  "metadata": {
    "kernelspec": {
      "name": "python3",
      "language": "python",
      "display_name": "Python 3"
    },
    "language_info": {
      "name": "python",
      "version": "3.7.4",
      "mimetype": "text/x-python",
      "codemirror_mode": {
        "name": "ipython",
        "version": 3
      },
      "pygments_lexer": "ipython3",
      "nbconvert_exporter": "python",
      "file_extension": ".py"
    },
    "kernel_info": {
      "name": "python3"
    },
    "nteract": {
      "version": "0.15.0"
    }
  },
  "nbformat": 4,
  "nbformat_minor": 4
}